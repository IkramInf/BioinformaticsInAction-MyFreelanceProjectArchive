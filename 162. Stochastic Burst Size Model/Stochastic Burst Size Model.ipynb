{
 "cells": [
  {
   "cell_type": "code",
   "execution_count": 1,
   "id": "d0e90bcd",
   "metadata": {},
   "outputs": [],
   "source": [
    "import numpy as np\n",
    "import pandas as pd\n",
    "import seaborn as sns\n",
    "import matplotlib.pyplot as plt"
   ]
  },
  {
   "cell_type": "markdown",
   "id": "ab703ca5",
   "metadata": {},
   "source": [
    "## Read Data"
   ]
  },
  {
   "cell_type": "code",
   "execution_count": 2,
   "id": "a242f04d",
   "metadata": {},
   "outputs": [
    {
     "data": {
      "text/html": [
       "<div>\n",
       "<style scoped>\n",
       "    .dataframe tbody tr th:only-of-type {\n",
       "        vertical-align: middle;\n",
       "    }\n",
       "\n",
       "    .dataframe tbody tr th {\n",
       "        vertical-align: top;\n",
       "    }\n",
       "\n",
       "    .dataframe thead th {\n",
       "        text-align: right;\n",
       "    }\n",
       "</style>\n",
       "<table border=\"1\" class=\"dataframe\">\n",
       "  <thead>\n",
       "    <tr style=\"text-align: right;\">\n",
       "      <th></th>\n",
       "      <th>Bacteria</th>\n",
       "      <th>Attenuated</th>\n",
       "      <th>Virulent</th>\n",
       "    </tr>\n",
       "  </thead>\n",
       "  <tbody>\n",
       "    <tr>\n",
       "      <th>0</th>\n",
       "      <td>1</td>\n",
       "      <td>608</td>\n",
       "      <td>570</td>\n",
       "    </tr>\n",
       "    <tr>\n",
       "      <th>1</th>\n",
       "      <td>2</td>\n",
       "      <td>200</td>\n",
       "      <td>218</td>\n",
       "    </tr>\n",
       "    <tr>\n",
       "      <th>2</th>\n",
       "      <td>3</td>\n",
       "      <td>49</td>\n",
       "      <td>81</td>\n",
       "    </tr>\n",
       "    <tr>\n",
       "      <th>3</th>\n",
       "      <td>4</td>\n",
       "      <td>35</td>\n",
       "      <td>84</td>\n",
       "    </tr>\n",
       "    <tr>\n",
       "      <th>4</th>\n",
       "      <td>5</td>\n",
       "      <td>20</td>\n",
       "      <td>53</td>\n",
       "    </tr>\n",
       "    <tr>\n",
       "      <th>5</th>\n",
       "      <td>6</td>\n",
       "      <td>17</td>\n",
       "      <td>36</td>\n",
       "    </tr>\n",
       "    <tr>\n",
       "      <th>6</th>\n",
       "      <td>7</td>\n",
       "      <td>3</td>\n",
       "      <td>13</td>\n",
       "    </tr>\n",
       "    <tr>\n",
       "      <th>7</th>\n",
       "      <td>8</td>\n",
       "      <td>8</td>\n",
       "      <td>29</td>\n",
       "    </tr>\n",
       "    <tr>\n",
       "      <th>8</th>\n",
       "      <td>9</td>\n",
       "      <td>6</td>\n",
       "      <td>8</td>\n",
       "    </tr>\n",
       "    <tr>\n",
       "      <th>9</th>\n",
       "      <td>10</td>\n",
       "      <td>2</td>\n",
       "      <td>18</td>\n",
       "    </tr>\n",
       "    <tr>\n",
       "      <th>10</th>\n",
       "      <td>11</td>\n",
       "      <td>5</td>\n",
       "      <td>4</td>\n",
       "    </tr>\n",
       "    <tr>\n",
       "      <th>11</th>\n",
       "      <td>12</td>\n",
       "      <td>3</td>\n",
       "      <td>11</td>\n",
       "    </tr>\n",
       "    <tr>\n",
       "      <th>12</th>\n",
       "      <td>13</td>\n",
       "      <td>2</td>\n",
       "      <td>5</td>\n",
       "    </tr>\n",
       "    <tr>\n",
       "      <th>13</th>\n",
       "      <td>14</td>\n",
       "      <td>3</td>\n",
       "      <td>1</td>\n",
       "    </tr>\n",
       "    <tr>\n",
       "      <th>14</th>\n",
       "      <td>15</td>\n",
       "      <td>0</td>\n",
       "      <td>6</td>\n",
       "    </tr>\n",
       "    <tr>\n",
       "      <th>15</th>\n",
       "      <td>16</td>\n",
       "      <td>0</td>\n",
       "      <td>3</td>\n",
       "    </tr>\n",
       "    <tr>\n",
       "      <th>16</th>\n",
       "      <td>17</td>\n",
       "      <td>1</td>\n",
       "      <td>2</td>\n",
       "    </tr>\n",
       "    <tr>\n",
       "      <th>17</th>\n",
       "      <td>18</td>\n",
       "      <td>2</td>\n",
       "      <td>0</td>\n",
       "    </tr>\n",
       "    <tr>\n",
       "      <th>18</th>\n",
       "      <td>19</td>\n",
       "      <td>1</td>\n",
       "      <td>1</td>\n",
       "    </tr>\n",
       "    <tr>\n",
       "      <th>19</th>\n",
       "      <td>20</td>\n",
       "      <td>0</td>\n",
       "      <td>4</td>\n",
       "    </tr>\n",
       "    <tr>\n",
       "      <th>20</th>\n",
       "      <td>21</td>\n",
       "      <td>0</td>\n",
       "      <td>0</td>\n",
       "    </tr>\n",
       "    <tr>\n",
       "      <th>21</th>\n",
       "      <td>22</td>\n",
       "      <td>0</td>\n",
       "      <td>0</td>\n",
       "    </tr>\n",
       "    <tr>\n",
       "      <th>22</th>\n",
       "      <td>23</td>\n",
       "      <td>0</td>\n",
       "      <td>0</td>\n",
       "    </tr>\n",
       "    <tr>\n",
       "      <th>23</th>\n",
       "      <td>24</td>\n",
       "      <td>1</td>\n",
       "      <td>0</td>\n",
       "    </tr>\n",
       "    <tr>\n",
       "      <th>24</th>\n",
       "      <td>25</td>\n",
       "      <td>0</td>\n",
       "      <td>1</td>\n",
       "    </tr>\n",
       "    <tr>\n",
       "      <th>25</th>\n",
       "      <td>26</td>\n",
       "      <td>0</td>\n",
       "      <td>0</td>\n",
       "    </tr>\n",
       "    <tr>\n",
       "      <th>26</th>\n",
       "      <td>27</td>\n",
       "      <td>0</td>\n",
       "      <td>0</td>\n",
       "    </tr>\n",
       "    <tr>\n",
       "      <th>27</th>\n",
       "      <td>28</td>\n",
       "      <td>0</td>\n",
       "      <td>0</td>\n",
       "    </tr>\n",
       "    <tr>\n",
       "      <th>28</th>\n",
       "      <td>29</td>\n",
       "      <td>0</td>\n",
       "      <td>1</td>\n",
       "    </tr>\n",
       "  </tbody>\n",
       "</table>\n",
       "</div>"
      ],
      "text/plain": [
       "    Bacteria  Attenuated  Virulent\n",
       "0          1         608       570\n",
       "1          2         200       218\n",
       "2          3          49        81\n",
       "3          4          35        84\n",
       "4          5          20        53\n",
       "5          6          17        36\n",
       "6          7           3        13\n",
       "7          8           8        29\n",
       "8          9           6         8\n",
       "9         10           2        18\n",
       "10        11           5         4\n",
       "11        12           3        11\n",
       "12        13           2         5\n",
       "13        14           3         1\n",
       "14        15           0         6\n",
       "15        16           0         3\n",
       "16        17           1         2\n",
       "17        18           2         0\n",
       "18        19           1         1\n",
       "19        20           0         4\n",
       "20        21           0         0\n",
       "21        22           0         0\n",
       "22        23           0         0\n",
       "23        24           1         0\n",
       "24        25           0         1\n",
       "25        26           0         0\n",
       "26        27           0         0\n",
       "27        28           0         0\n",
       "28        29           0         1"
      ]
     },
     "execution_count": 2,
     "metadata": {},
     "output_type": "execute_result"
    }
   ],
   "source": [
    "data = pd.read_csv(\"Brown_2006_data.csv\")\n",
    "data"
   ]
  },
  {
   "cell_type": "code",
   "execution_count": null,
   "id": "f3af9bcb",
   "metadata": {},
   "outputs": [],
   "source": []
  },
  {
   "cell_type": "markdown",
   "id": "4a0991c7",
   "metadata": {},
   "source": [
    "Probability of bursting of i bacteria = $\\delta_i$ <br>\n",
    "Probability of surviving of i bacteria = $1 - \\delta_i$ <br>\n",
    "Bacterial division rate $ \\alpha_i = r (1 - \\delta_i) $ <br>\n",
    "Burst rate $ \\mu_i = ir\\delta_i $\n",
    "\n",
    "$ \\frac{dM_1}{dt} = -rM_1 + \\Sigma_{i \\geq 1} (i+1)ir\\delta_iM_i $ <br>\n",
    "$ \\forall i > 1, \\frac{dM_1}{dt} = (i - 1)(1 - \\delta_{i-1}) r M_{i-1} -i r M_i $"
   ]
  },
  {
   "cell_type": "markdown",
   "id": "2a1abad3",
   "metadata": {},
   "source": [
    "## 3(a)\n",
    "\n",
    "Stationary distribution $ \\pi_i = \\frac {\\Sigma_{n \\geq i} B_n} {C i(i+1)} $    ----- (i) <br>\n",
    "Stationary distribution with finite sum $ \\pi_i = \\frac {1 - \\Sigma_{0 \\leq n < i} B_n} {C i(i+1)} $    ----- (ii) <br>\n",
    "Burst probabilities $ \\delta_i = \\frac {B_i} {\\Sigma_{n \\geq i} B_n} $          ----- (iii) <br>\n",
    "$ B_n = P(N_b = n) = \\delta_n \\prod_{i < n} (1 - \\delta_i) $   ----- (iv) <br>\n",
    "\n",
    "From (i) & (iii): <br>\n",
    "Stationary distribution $ \\pi_i = \\frac {B_i} {\\delta_i C i(i+1)} $ \n",
    "\n",
    "From (ii) & (iv): <br>\n",
    "Stationary distribution $ \\pi_i = \\frac {1 - \\Sigma_{0 \\leq n < i} \\delta_n \\prod_{i < n} (1 - \\delta_i)} {C i(i+1)} $ "
   ]
  },
  {
   "cell_type": "code",
   "execution_count": 3,
   "id": "be0d729c",
   "metadata": {},
   "outputs": [
    {
     "data": {
      "text/plain": [
       "0.1"
      ]
     },
     "execution_count": 3,
     "metadata": {},
     "output_type": "execute_result"
    }
   ],
   "source": [
    "def get_Bn(delta, n):\n",
    "    product = 1\n",
    "    for i in range(n):\n",
    "        product *= (1 - delta[i])\n",
    "    Bn = delta[n] * product\n",
    "    return Bn\n",
    "\n",
    "delta = np.array([0.1, 0.2, 0.3, 0.4])\n",
    "get_Bn(delta, 0)"
   ]
  },
  {
   "cell_type": "code",
   "execution_count": 4,
   "id": "2cb69c9b",
   "metadata": {},
   "outputs": [
    {
     "data": {
      "text/plain": [
       "[0, 0.45, 0.12, 0.042]"
      ]
     },
     "execution_count": 4,
     "metadata": {},
     "output_type": "execute_result"
    }
   ],
   "source": [
    "def stat_B(delta, N):\n",
    "    C = 1.0\n",
    "    pi = [0] * N\n",
    "    for i in range(1, N):\n",
    "        Bn = sum([get_Bn(delta, n) for n in range(i)])\n",
    "        pi[i] = (1 - Bn) / (C * i * (i+1))\n",
    "        #C += pi[i]\n",
    "    return pi\n",
    "\n",
    "delta = np.array([0.1, 0.2, 0.3, 0.4])\n",
    "N = 4\n",
    "pi = stat_B(delta, N)\n",
    "pi"
   ]
  },
  {
   "cell_type": "code",
   "execution_count": null,
   "id": "898e184d",
   "metadata": {},
   "outputs": [],
   "source": []
  },
  {
   "cell_type": "code",
   "execution_count": 5,
   "id": "20a99ed4",
   "metadata": {},
   "outputs": [
    {
     "data": {
      "image/png": "[encoded data removed]",
      "text/plain": [
       "<Figure size 640x480 with 1 Axes>"
      ]
     },
     "metadata": {},
     "output_type": "display_data"
    }
   ],
   "source": [
    "delta_0 = 0\n",
    "delta_N = 1\n",
    "N = 100\n",
    "delta = np.linspace(delta_0, delta_N, N)\n",
    "pi = stat_B(delta, N)\n",
    "\n",
    "# Plot the mean number of intracellular bacteria as a function of delta for N=100\n",
    "plt.plot(delta, pi)\n",
    "plt.xlabel('Delta')\n",
    "plt.ylabel('Mean number of intracellular bacteria')\n",
    "plt.title('Plot of mean number of intracellular bacteria as a function of delta')\n",
    "plt.grid(True)\n",
    "plt.show()\n"
   ]
  },
  {
   "cell_type": "code",
   "execution_count": null,
   "id": "adb87dd2",
   "metadata": {},
   "outputs": [],
   "source": []
  },
  {
   "cell_type": "markdown",
   "id": "b328edef",
   "metadata": {},
   "source": [
    "## 3(b)\n",
    "\n",
    "$ L(\\pi) = X! \\prod_{n \\geq 1} \\frac {\\pi_n ^ {X_n}} {X_n!} $  ,  with $ X = \\sum_{n \\geq 1} X_n $ <br>\n",
    "$ \\log(L(\\pi)) = \\log(X!) + \\log(\\prod_{n \\geq 1} \\frac {\\pi_n ^ {X_n}} {X_n!}) $ <br>\n",
    "or, $ \\log(L(\\pi)) = \\log(X!) + \\sum_{n \\geq 1} \\log(\\frac {\\pi_n ^ {X_n}} {X_n!}) $ <br>\n",
    "or, $ \\log(L(\\pi)) = \\log(X!) + \\sum_{n \\geq 1} X_n \\log(\\pi_n) - \\log(X_n!)) $\n",
    "\n",
    "Since n! = 1 × 2 × 3 × … × n, <br>\n",
    "log(n!) = log(1) + log(2) + log(3) + … + log(n)."
   ]
  },
  {
   "cell_type": "code",
   "execution_count": 6,
   "id": "24e5cf1a",
   "metadata": {},
   "outputs": [
    {
     "data": {
      "text/plain": [
       "13206.524350513806"
      ]
     },
     "execution_count": 6,
     "metadata": {},
     "output_type": "execute_result"
    }
   ],
   "source": [
    "def log_factorial(n):\n",
    "    log_n_factorial = np.sum([np.log(i) for i in range(1, n+1)])\n",
    "    return log_n_factorial\n",
    "\n",
    "log_factorial(2000)"
   ]
  },
  {
   "cell_type": "code",
   "execution_count": 7,
   "id": "14a8dbf0",
   "metadata": {},
   "outputs": [
    {
     "data": {
      "text/plain": [
       "-30.302374642590827"
      ]
     },
     "execution_count": 7,
     "metadata": {},
     "output_type": "execute_result"
    }
   ],
   "source": [
    "def log_lik(pi, obs):\n",
    "    X = obs[:, 1]\n",
    "    Xn = np.sum(X)\n",
    "    X_factorial = log_factorial(Xn)\n",
    "\n",
    "    summation = 0\n",
    "    for n in range(len(pi)):\n",
    "        if pi[n] > 0:\n",
    "            summation += (np.log(pi[n]) * X[n]) - log_factorial(X[n])\n",
    "        elif pi[n] == 0:\n",
    "            summation += 1\n",
    "        else:\n",
    "            continue\n",
    "\n",
    "    L = X_factorial + summation\n",
    "    return L\n",
    "\n",
    "pi = [0, 0.45, 0.05399999999999999, 0.0010205999999999998]\n",
    "obs = np.array([[2, 3],\n",
    "               [3, 2],\n",
    "               [4, 7],\n",
    "               [3, 4]])\n",
    "\n",
    "log_lik(pi, obs)"
   ]
  },
  {
   "cell_type": "code",
   "execution_count": 8,
   "id": "673eb13c",
   "metadata": {},
   "outputs": [
    {
     "name": "stdout",
     "output_type": "stream",
     "text": [
      "[3848.6858472102736, 3657.5577477383963]\n"
     ]
    }
   ],
   "source": [
    "delta = np.linspace(0, 0.25, 29)\n",
    "N = 29\n",
    "pi = stat_B(delta, N)\n",
    "\n",
    "strains = ['Attenuated', 'Virulent']\n",
    "likelihoods = []\n",
    "for strain in strains:\n",
    "    obs = data[['Bacteria', strain]].values\n",
    "    likelihoods.append(log_lik(pi, obs))\n",
    "\n",
    "print(likelihoods)"
   ]
  },
  {
   "cell_type": "code",
   "execution_count": 9,
   "id": "72d2e25f",
   "metadata": {},
   "outputs": [
    {
     "data": {
      "text/plain": [
       "8.255227167914956"
      ]
     },
     "execution_count": 9,
     "metadata": {},
     "output_type": "execute_result"
    }
   ],
   "source": [
    "np.log(3847.6858472102736)"
   ]
  },
  {
   "cell_type": "code",
   "execution_count": 10,
   "id": "b57156d1",
   "metadata": {},
   "outputs": [
    {
     "data": {
      "image/png": "[encoded data removed]",
      "text/plain": [
       "<Figure size 640x480 with 1 Axes>"
      ]
     },
     "metadata": {},
     "output_type": "display_data"
    }
   ],
   "source": [
    "plt.bar(strains, likelihoods, color=['blue', 'green'])\n",
    "plt.xlabel('Strain')\n",
    "plt.ylabel('Log Likelihood')\n",
    "plt.title('Log Likelihood of Different Strains')\n",
    "plt.show()\n"
   ]
  },
  {
   "cell_type": "code",
   "execution_count": 11,
   "id": "6834726c",
   "metadata": {},
   "outputs": [],
   "source": [
    "from scipy.optimize import minimize"
   ]
  },
  {
   "cell_type": "code",
   "execution_count": 12,
   "id": "64005aa7",
   "metadata": {},
   "outputs": [
    {
     "data": {
      "text/plain": [
       "array([0.00000000e+00, 1.00000000e+02, 8.09375000e+00, 2.83900670e+00,\n",
       "       9.47301214e-01, 5.17632449e-01, 6.23349400e-02, 1.17991136e-01,\n",
       "       6.45264028e-02, 1.59779664e-02, 3.00559555e-02, 1.36861940e-02,\n",
       "       6.96216188e-03, 7.99227767e-03, 0.00000000e+00, 0.00000000e+00,\n",
       "       1.19407259e-03, 1.81953919e-03, 6.90450137e-04, 0.00000000e+00,\n",
       "       0.00000000e+00, 0.00000000e+00, 0.00000000e+00, 1.59886489e-04,\n",
       "       0.00000000e+00, 0.00000000e+00, 0.00000000e+00, 0.00000000e+00,\n",
       "       0.00000000e+00])"
      ]
     },
     "execution_count": 12,
     "metadata": {},
     "output_type": "execute_result"
    }
   ],
   "source": [
    "delta = np.linspace(0, 0.25, 29)\n",
    "N = 29\n",
    "pi = stat_B(delta, N)\n",
    "\n",
    "# Negative log likelihood\n",
    "def neg_log_likelihood(pi, obs):\n",
    "    return -log_lik(pi, obs)\n",
    "\n",
    "# Calculate MLE for each strain\n",
    "def calculate_MLE(pi, strain_data):\n",
    "    initial_guess = pi * strain_data[:, 1]  # Initial guess for theta\n",
    "    #print(initial_guess)\n",
    "    result = minimize(neg_log_likelihood, initial_guess, args=(strain_data,))\n",
    "    return result.x\n",
    "\n",
    "strain_data = data[['Bacteria', 'Attenuated']].values\n",
    "theta_mle = calculate_MLE(pi, strain_data)\n",
    "theta_mle"
   ]
  },
  {
   "cell_type": "code",
   "execution_count": 13,
   "id": "bc91b7f6",
   "metadata": {},
   "outputs": [
    {
     "data": {
      "text/plain": [
       "array([0.00000000e+00, 1.09000000e+02, 1.33794643e+01, 6.81361607e+00,\n",
       "       2.51034822e+00, 1.09616283e+00, 2.70118073e-01, 4.27717870e-01,\n",
       "       8.60352037e-02, 1.43801698e-01, 2.40447644e-02, 5.01827114e-02,\n",
       "       1.74054047e-02, 2.66409256e-03, 1.22453111e-02, 4.68765817e-03,\n",
       "       2.38814518e-03, 0.00000000e+00, 6.90450137e-04, 2.08614577e-03,\n",
       "       0.00000000e+00, 0.00000000e+00, 0.00000000e+00, 0.00000000e+00,\n",
       "       1.16888444e-04, 0.00000000e+00, 0.00000000e+00, 0.00000000e+00,\n",
       "       3.07194906e-05])"
      ]
     },
     "execution_count": 13,
     "metadata": {},
     "output_type": "execute_result"
    }
   ],
   "source": [
    "delta = np.linspace(0, 0.25, 29)\n",
    "N = 29\n",
    "pi = stat_B(delta, N)\n",
    "\n",
    "# Negative log likelihood\n",
    "def neg_log_likelihood(pi, obs):\n",
    "    return -log_lik(pi, obs)\n",
    "\n",
    "# Calculate MLE for each strain\n",
    "def calculate_MLE(pi, strain_data):\n",
    "    initial_guess = pi * strain_data[:, 1]  # Initial guess for theta\n",
    "    #print(initial_guess)\n",
    "    result = minimize(neg_log_likelihood, initial_guess, args=(strain_data,))\n",
    "    return result.x\n",
    "\n",
    "strain_data = data[['Bacteria', 'Virulent']].values\n",
    "theta_mle = calculate_MLE(pi, strain_data)\n",
    "theta_mle"
   ]
  },
  {
   "cell_type": "code",
   "execution_count": null,
   "id": "3bd9574a",
   "metadata": {},
   "outputs": [],
   "source": []
  },
  {
   "cell_type": "markdown",
   "id": "2177ef87",
   "metadata": {},
   "source": [
    "## 4(a)\n",
    "\n",
    "$ B_n = \\frac {e ^ {-\\theta} \\theta ^ {n}} {n!} , 0 \\leq n < N $ <br>\n",
    "or, $ \\log(B_n) = -\\theta \\log(e) + n\\log(\\theta) - log(n!) $ <br>\n",
    "$ B_N = 1 - \\sum_{0 \\leq n < N} B_n $ <br>\n",
    "$ B_0 = e ^ {-\\theta} > 0 $"
   ]
  },
  {
   "cell_type": "code",
   "execution_count": 14,
   "id": "454209c1",
   "metadata": {},
   "outputs": [
    {
     "data": {
      "text/plain": [
       "[-1.5, -1.583709268125845, -1.6876212435692093, -1.779527278899233]"
      ]
     },
     "execution_count": 14,
     "metadata": {},
     "output_type": "execute_result"
    }
   ],
   "source": [
    "def log_likelihood(theta, N):\n",
    "    Bn = [0] * N\n",
    "    for n in range(N):\n",
    "        Bn[n] = -theta[n] + n*np.log(theta[n]) - log_factorial(n)\n",
    "    return Bn\n",
    "\n",
    "# Test case\n",
    "theta = [1.5, 2.5, 3.5, 4.5]  # Sample value for theta\n",
    "N = 4  # Sample value for N\n",
    "\n",
    "# Calculate log likelihood\n",
    "likelihood_values = log_likelihood(theta, N)\n",
    "likelihood_values"
   ]
  },
  {
   "cell_type": "code",
   "execution_count": 15,
   "id": "ffa74120",
   "metadata": {},
   "outputs": [
    {
     "data": {
      "text/plain": [
       "6.5508577905942875"
      ]
     },
     "execution_count": 15,
     "metadata": {},
     "output_type": "execute_result"
    }
   ],
   "source": [
    "# Negative log likelihood\n",
    "def neg_log_likelihood(theta, N):\n",
    "    return -np.sum(log_likelihood(theta, N))\n",
    "\n",
    "neg_log_likelihood(theta, N)\n"
   ]
  },
  {
   "cell_type": "code",
   "execution_count": null,
   "id": "15ca88ec",
   "metadata": {},
   "outputs": [],
   "source": []
  },
  {
   "cell_type": "code",
   "execution_count": 16,
   "id": "d5c68520",
   "metadata": {},
   "outputs": [
    {
     "name": "stderr",
     "output_type": "stream",
     "text": [
      "No artists with labels found to put in legend.  Note that artists whose label start with an underscore are ignored when legend() is called with no argument.\n"
     ]
    },
    {
     "data": {
      "image/png": "[encoded data removed]",
      "text/plain": [
       "<Figure size 1000x600 with 1 Axes>"
      ]
     },
     "metadata": {},
     "output_type": "display_data"
    }
   ],
   "source": [
    "def log_likelihood(theta, N):\n",
    "    Bn = np.zeros(N)\n",
    "    for n in range(N):\n",
    "        if theta[n] == 0:\n",
    "            Bn[n] = 1\n",
    "        elif theta[n] > 0:\n",
    "            Bn[n] = -theta[n] + n*np.log(theta[n]) - log_factorial(n)\n",
    "        else:\n",
    "            continue\n",
    "    return Bn\n",
    "\n",
    "# Negative log likelihood\n",
    "def neg_log_likelihood(theta, N):\n",
    "    return -np.sum(log_likelihood(theta, N))\n",
    "\n",
    "# Calculate MLE for each strain\n",
    "def calculate_MLE(strain_data, N=100):\n",
    "    initial_guess = np.ones(N)  # Initial guess for theta\n",
    "    result = minimize(neg_log_likelihood, strain_data, args=(N,))\n",
    "    return result.x\n",
    "\n",
    "strain_data = data['Attenuated']\n",
    "theta_mle = calculate_MLE(strain_data, N=29)\n",
    "\n",
    "# Plot likelihood function and confidence interval\n",
    "plt.figure(figsize=(10, 6))\n",
    "# create regression plot\n",
    "ax = sns.regplot(x = data['Bacteria'], y = theta_mle, ci = 95, \n",
    "                 marker=\"o\", color=\".7\", line_kws=dict(color=\"orange\"))\n",
    "plt.xlabel('Burst size (n)')\n",
    "plt.ylabel('MLE of Mean Burst Size (θ)')\n",
    "plt.title('Likelihood Function and 95% Confidence Intervals')\n",
    "plt.legend()\n",
    "plt.grid(True)\n",
    "plt.show()\n"
   ]
  },
  {
   "cell_type": "code",
   "execution_count": 17,
   "id": "ee679301",
   "metadata": {},
   "outputs": [
    {
     "name": "stderr",
     "output_type": "stream",
     "text": [
      "No artists with labels found to put in legend.  Note that artists whose label start with an underscore are ignored when legend() is called with no argument.\n"
     ]
    },
    {
     "data": {
      "image/png": "[encoded data removed]",
      "text/plain": [
       "<Figure size 1000x600 with 1 Axes>"
      ]
     },
     "metadata": {},
     "output_type": "display_data"
    }
   ],
   "source": [
    "strain_data = data['Virulent']\n",
    "theta_mle = calculate_MLE(strain_data, N=29)\n",
    "\n",
    "# Plot likelihood function and confidence interval\n",
    "plt.figure(figsize=(10, 6))\n",
    "# create regression plot\n",
    "ax = sns.regplot(x = data['Bacteria'], y = theta_mle, ci = 95, \n",
    "                 marker=\"o\", color=\".7\", line_kws=dict(color=\"orange\"))\n",
    "plt.xlabel('Burst size (n)')\n",
    "plt.ylabel('MLE of Mean Burst Size (θ)')\n",
    "plt.title('Likelihood Function and 95% Confidence Intervals')\n",
    "plt.legend()\n",
    "plt.grid(True)\n",
    "plt.show()\n"
   ]
  },
  {
   "cell_type": "code",
   "execution_count": null,
   "id": "096fd347",
   "metadata": {},
   "outputs": [],
   "source": []
  },
  {
   "cell_type": "markdown",
   "id": "67e11a91",
   "metadata": {},
   "source": [
    "## 4(b)"
   ]
  },
  {
   "cell_type": "code",
   "execution_count": 18,
   "id": "e31d48a3",
   "metadata": {},
   "outputs": [],
   "source": [
    "from scipy.stats import poisson"
   ]
  },
  {
   "cell_type": "code",
   "execution_count": 19,
   "id": "3ed30c8b",
   "metadata": {},
   "outputs": [
    {
     "name": "stdout",
     "output_type": "stream",
     "text": [
      "AIC values for Model B: [-123677.53798386248, -147107.5406361999]\n",
      "AIC values for Model C: [4158.233471445906, 3873.9940868320527]\n"
     ]
    }
   ],
   "source": [
    "# Define the AIC function\n",
    "def calculate_aic(n, k, ll):\n",
    "    return 2 * k - 2 * ll + (2 * k * (k + 1)) / (n - k - 1)\n",
    "\n",
    "# Define the log-likelihood function for Model B\n",
    "def log_likelihood_model_b(params, data):\n",
    "    delta = params\n",
    "    ll = np.sum(np.log(delta) * data)\n",
    "    return -ll\n",
    "\n",
    "# Define the log-likelihood function for Model C\n",
    "def log_likelihood_model_c(params, data):\n",
    "    theta = params\n",
    "    ll = np.sum(poisson.logpmf(data, theta))\n",
    "    return -ll\n",
    "\n",
    "# Example data for observed intracellular bacteria\n",
    "observed_data = {'Attenuated': data['Attenuated'].values,\n",
    "                 'Virulent' : data['Virulent'].values}\n",
    "\n",
    "# Initialize lists to store AIC values\n",
    "aic_model_b = []\n",
    "aic_model_c = []\n",
    "\n",
    "# Calculate AIC for each strain\n",
    "for strain, data in observed_data.items():\n",
    "    # Model B (uniform bursting probability)\n",
    "    res_model_b = minimize(log_likelihood_model_b, x0=[0.1], args=(data,), method='Nelder-Mead')\n",
    "    ll_model_b = -res_model_b.fun\n",
    "    aic_model_b.append(calculate_aic(len(data), 1, ll_model_b))\n",
    "    \n",
    "    # Model C (Poisson-distributed burst size)\n",
    "    res_model_c = minimize(log_likelihood_model_c, x0=[np.mean(data)], args=(data,), method='Nelder-Mead')\n",
    "    ll_model_c = -res_model_c.fun\n",
    "    aic_model_c.append(calculate_aic(len(data), 1, ll_model_c))\n",
    "\n",
    "# Print AIC values\n",
    "print(\"AIC values for Model B:\", aic_model_b)\n",
    "print(\"AIC values for Model C:\", aic_model_c)\n"
   ]
  },
  {
   "cell_type": "code",
   "execution_count": null,
   "id": "7b72e585",
   "metadata": {},
   "outputs": [],
   "source": []
  }
 ],
 "metadata": {
  "kernelspec": {
   "display_name": "Python 3 (ipykernel)",
   "language": "python",
   "name": "python3"
  },
  "language_info": {
   "codemirror_mode": {
    "name": "ipython",
    "version": 3
   },
   "file_extension": ".py",
   "mimetype": "text/x-python",
   "name": "python",
   "nbconvert_exporter": "python",
   "pygments_lexer": "ipython3",
   "version": "3.11.4"
  }
 },
 "nbformat": 4,
 "nbformat_minor": 5
}
