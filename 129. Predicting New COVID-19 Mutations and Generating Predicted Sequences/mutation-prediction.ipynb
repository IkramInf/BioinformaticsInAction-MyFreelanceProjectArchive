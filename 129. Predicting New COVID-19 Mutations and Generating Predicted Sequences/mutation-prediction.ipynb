{
 "cells": [
  {
   "cell_type": "code",
   "execution_count": 1,
   "metadata": {
    "_cell_guid": "b1076dfc-b9ad-4769-8c92-a6c4dae69d19",
    "_uuid": "8f2839f25d086af736a60e9eeb907d3b93b6e0e5",
    "execution": {
     "iopub.execute_input": "2023-08-19T16:49:31.607814Z",
     "iopub.status.busy": "2023-08-19T16:49:31.607465Z",
     "iopub.status.idle": "2023-08-19T16:49:42.000526Z",
     "shell.execute_reply": "2023-08-19T16:49:41.999442Z",
     "shell.execute_reply.started": "2023-08-19T16:49:31.607783Z"
    }
   },
   "outputs": [
    {
     "name": "stderr",
     "output_type": "stream",
     "text": [
      "/opt/conda/lib/python3.10/site-packages/scipy/__init__.py:146: UserWarning: A NumPy version >=1.16.5 and <1.23.0 is required for this version of SciPy (detected version 1.23.5\n",
      "  warnings.warn(f\"A NumPy version >={np_minversion} and <{np_maxversion}\"\n",
      "/opt/conda/lib/python3.10/site-packages/tensorflow_io/python/ops/__init__.py:98: UserWarning: unable to load libtensorflow_io_plugins.so: unable to open file: libtensorflow_io_plugins.so, from paths: ['/opt/conda/lib/python3.10/site-packages/tensorflow_io/python/ops/libtensorflow_io_plugins.so']\n",
      "caused by: ['/opt/conda/lib/python3.10/site-packages/tensorflow_io/python/ops/libtensorflow_io_plugins.so: undefined symbol: _ZN3tsl6StatusC1EN10tensorflow5error4CodeESt17basic_string_viewIcSt11char_traitsIcEENS_14SourceLocationE']\n",
      "  warnings.warn(f\"unable to load libtensorflow_io_plugins.so: {e}\")\n",
      "/opt/conda/lib/python3.10/site-packages/tensorflow_io/python/ops/__init__.py:104: UserWarning: file system plugins are not loaded: unable to open file: libtensorflow_io.so, from paths: ['/opt/conda/lib/python3.10/site-packages/tensorflow_io/python/ops/libtensorflow_io.so']\n",
      "caused by: ['/opt/conda/lib/python3.10/site-packages/tensorflow_io/python/ops/libtensorflow_io.so: undefined symbol: _ZTVN10tensorflow13GcsFileSystemE']\n",
      "  warnings.warn(f\"file system plugins are not loaded: {e}\")\n"
     ]
    }
   ],
   "source": [
    "import os  # interacting with the operating system\n",
    "import numpy as np  # arithmetic calculations\n",
    "import pandas as pd  # handling data using dataframes\n",
    "import matplotlib.pyplot as plt  # plotting data\n",
    "from Bio import SeqIO  # working with biological sequences\n",
    "from sklearn.model_selection import train_test_split  # splitting data into train and test sets\n",
    "from sklearn.feature_extraction.text import TfidfVectorizer  # encoding text data\n",
    "from sklearn.preprocessing import MinMaxScaler  # data normalization\n",
    "\n",
    "from tensorflow.keras.models import Sequential  # creating neural network models\n",
    "# various layers for building neural networks\n",
    "from tensorflow.keras.layers import LSTM, Dense, Dropout, BatchNormalization, ActivityRegularization\n",
    "from tensorflow.keras.optimizers import Adam  # Adam optimizer for training the model\n",
    "from tensorflow.keras.callbacks import EarlyStopping  # early stopping during training\n"
   ]
  },
  {
   "cell_type": "code",
   "execution_count": 2,
   "metadata": {
    "execution": {
     "iopub.execute_input": "2023-08-19T16:49:42.004604Z",
     "iopub.status.busy": "2023-08-19T16:49:42.001819Z",
     "iopub.status.idle": "2023-08-19T16:49:50.789689Z",
     "shell.execute_reply": "2023-08-19T16:49:50.788497Z",
     "shell.execute_reply.started": "2023-08-19T16:49:42.004570Z"
    }
   },
   "outputs": [
    {
     "name": "stdout",
     "output_type": "stream",
     "text": [
      "Total Number of sequences: 13990\n",
      "Number of bases in reference sequence: 29903\n"
     ]
    }
   ],
   "source": [
    "sequence_path = \"covid19/covid_sequences.fasta\"\n",
    "refseq_path = \"covid19/reference.fasta\"\n",
    "sequences = {record.id: str(record.seq.lower()) for record in SeqIO.parse(sequence_path, 'fasta')}\n",
    "refseq = str(SeqIO.read(refseq_path, 'fasta').seq)\n",
    "print(f\"Total Number of sequences: {len(sequences.keys())}\")\n",
    "print(f\"Number of bases in reference sequence: {len(refseq)}\")"
   ]
  },
  {
   "cell_type": "code",
   "execution_count": 3,
   "metadata": {
    "execution": {
     "iopub.execute_input": "2023-08-19T16:49:50.791463Z",
     "iopub.status.busy": "2023-08-19T16:49:50.791121Z",
     "iopub.status.idle": "2023-08-19T16:49:50.828959Z",
     "shell.execute_reply": "2023-08-19T16:49:50.827648Z",
     "shell.execute_reply.started": "2023-08-19T16:49:50.791434Z"
    }
   },
   "outputs": [
    {
     "data": {
      "text/html": [
       "<div>\n",
       "<style scoped>\n",
       "    .dataframe tbody tr th:only-of-type {\n",
       "        vertical-align: middle;\n",
       "    }\n",
       "\n",
       "    .dataframe tbody tr th {\n",
       "        vertical-align: top;\n",
       "    }\n",
       "\n",
       "    .dataframe thead th {\n",
       "        text-align: right;\n",
       "    }\n",
       "</style>\n",
       "<table border=\"1\" class=\"dataframe\">\n",
       "  <thead>\n",
       "    <tr style=\"text-align: right;\">\n",
       "      <th></th>\n",
       "      <th>seqid</th>\n",
       "      <th>sequences</th>\n",
       "    </tr>\n",
       "  </thead>\n",
       "  <tbody>\n",
       "    <tr>\n",
       "      <th>0</th>\n",
       "      <td>ON191588.1</td>\n",
       "      <td>tctaaacgaactttaaaatctgtgtggctgtcactcggctgcatgc...</td>\n",
       "    </tr>\n",
       "    <tr>\n",
       "      <th>1</th>\n",
       "      <td>ON191589.1</td>\n",
       "      <td>tctaaacgaactttaaaatctgtgtggctgtcactcggctgcatgc...</td>\n",
       "    </tr>\n",
       "    <tr>\n",
       "      <th>2</th>\n",
       "      <td>ON191590.1</td>\n",
       "      <td>tctaaacgaactttaaaatctgtgtggctgtcactcggctgcatgc...</td>\n",
       "    </tr>\n",
       "    <tr>\n",
       "      <th>3</th>\n",
       "      <td>ON191591.1</td>\n",
       "      <td>tctaaacgaactttaaaatctgtgtggctgtcactcggctgcatgc...</td>\n",
       "    </tr>\n",
       "    <tr>\n",
       "      <th>4</th>\n",
       "      <td>ON191592.1</td>\n",
       "      <td>tctaaacgaactttaaaatctgtgtggctgtcactcggctgcatgc...</td>\n",
       "    </tr>\n",
       "    <tr>\n",
       "      <th>...</th>\n",
       "      <td>...</td>\n",
       "      <td>...</td>\n",
       "    </tr>\n",
       "    <tr>\n",
       "      <th>13985</th>\n",
       "      <td>OX397935.1</td>\n",
       "      <td>nnnnnnnnnnnnnnnnnnnnnnnnnnnnnnnnnnnnnnnnnnnnnn...</td>\n",
       "    </tr>\n",
       "    <tr>\n",
       "      <th>13986</th>\n",
       "      <td>OX397936.1</td>\n",
       "      <td>nnnnnnnnnnnnnnnnnnnnnnnnnnnnnnnnnnnnnnnnnnnnnn...</td>\n",
       "    </tr>\n",
       "    <tr>\n",
       "      <th>13987</th>\n",
       "      <td>OX397937.1</td>\n",
       "      <td>nnnnnnnnnnnnnnnnnnnnnnnnnnnnnnnnnnnnnnnnnnnnnn...</td>\n",
       "    </tr>\n",
       "    <tr>\n",
       "      <th>13988</th>\n",
       "      <td>OX397938.1</td>\n",
       "      <td>nnnnnnnnnnnnnnnnnnnnnnnnnnnnnnnnnnnnnnnnnnnnnn...</td>\n",
       "    </tr>\n",
       "    <tr>\n",
       "      <th>13989</th>\n",
       "      <td>OX397939.1</td>\n",
       "      <td>nnnnnnnnnnnnnnnnnnnnnnnnnnnnnnnnnnnnnnnnnnnnnn...</td>\n",
       "    </tr>\n",
       "  </tbody>\n",
       "</table>\n",
       "<p>13990 rows × 2 columns</p>\n",
       "</div>"
      ],
      "text/plain": [
       "            seqid                                          sequences\n",
       "0      ON191588.1  tctaaacgaactttaaaatctgtgtggctgtcactcggctgcatgc...\n",
       "1      ON191589.1  tctaaacgaactttaaaatctgtgtggctgtcactcggctgcatgc...\n",
       "2      ON191590.1  tctaaacgaactttaaaatctgtgtggctgtcactcggctgcatgc...\n",
       "3      ON191591.1  tctaaacgaactttaaaatctgtgtggctgtcactcggctgcatgc...\n",
       "4      ON191592.1  tctaaacgaactttaaaatctgtgtggctgtcactcggctgcatgc...\n",
       "...           ...                                                ...\n",
       "13985  OX397935.1  nnnnnnnnnnnnnnnnnnnnnnnnnnnnnnnnnnnnnnnnnnnnnn...\n",
       "13986  OX397936.1  nnnnnnnnnnnnnnnnnnnnnnnnnnnnnnnnnnnnnnnnnnnnnn...\n",
       "13987  OX397937.1  nnnnnnnnnnnnnnnnnnnnnnnnnnnnnnnnnnnnnnnnnnnnnn...\n",
       "13988  OX397938.1  nnnnnnnnnnnnnnnnnnnnnnnnnnnnnnnnnnnnnnnnnnnnnn...\n",
       "13989  OX397939.1  nnnnnnnnnnnnnnnnnnnnnnnnnnnnnnnnnnnnnnnnnnnnnn...\n",
       "\n",
       "[13990 rows x 2 columns]"
      ]
     },
     "execution_count": 3,
     "metadata": {},
     "output_type": "execute_result"
    }
   ],
   "source": [
    "covid_df = pd.DataFrame.from_dict({'seqid':sequences.keys(), 'sequences':sequences.values()})\n",
    "covid_df"
   ]
  },
  {
   "cell_type": "code",
   "execution_count": 4,
   "metadata": {
    "execution": {
     "iopub.execute_input": "2023-08-19T16:49:50.833288Z",
     "iopub.status.busy": "2023-08-19T16:49:50.832757Z",
     "iopub.status.idle": "2023-08-19T16:49:50.839779Z",
     "shell.execute_reply": "2023-08-19T16:49:50.838534Z",
     "shell.execute_reply.started": "2023-08-19T16:49:50.833253Z"
    }
   },
   "outputs": [],
   "source": [
    "def kmers(sequence, size=6):\n",
    "    return \" \".join([sequence[x:x+size] for x in range(len(sequence) - size + 1)])"
   ]
  },
  {
   "cell_type": "code",
   "execution_count": 5,
   "metadata": {
    "execution": {
     "iopub.execute_input": "2023-08-19T16:49:50.842026Z",
     "iopub.status.busy": "2023-08-19T16:49:50.841585Z",
     "iopub.status.idle": "2023-08-19T16:51:40.578392Z",
     "shell.execute_reply": "2023-08-19T16:51:40.577171Z",
     "shell.execute_reply.started": "2023-08-19T16:49:50.841988Z"
    }
   },
   "outputs": [
    {
     "data": {
      "text/html": [
       "<div>\n",
       "<style scoped>\n",
       "    .dataframe tbody tr th:only-of-type {\n",
       "        vertical-align: middle;\n",
       "    }\n",
       "\n",
       "    .dataframe tbody tr th {\n",
       "        vertical-align: top;\n",
       "    }\n",
       "\n",
       "    .dataframe thead th {\n",
       "        text-align: right;\n",
       "    }\n",
       "</style>\n",
       "<table border=\"1\" class=\"dataframe\">\n",
       "  <thead>\n",
       "    <tr style=\"text-align: right;\">\n",
       "      <th></th>\n",
       "      <th>seqid</th>\n",
       "      <th>sequences</th>\n",
       "      <th>kmers</th>\n",
       "    </tr>\n",
       "  </thead>\n",
       "  <tbody>\n",
       "    <tr>\n",
       "      <th>0</th>\n",
       "      <td>ON191588.1</td>\n",
       "      <td>tctaaacgaactttaaaatctgtgtggctgtcactcggctgcatgc...</td>\n",
       "      <td>tctaaa ctaaac taaacg aaacga aacgaa acgaac cgaa...</td>\n",
       "    </tr>\n",
       "    <tr>\n",
       "      <th>1</th>\n",
       "      <td>ON191589.1</td>\n",
       "      <td>tctaaacgaactttaaaatctgtgtggctgtcactcggctgcatgc...</td>\n",
       "      <td>tctaaa ctaaac taaacg aaacga aacgaa acgaac cgaa...</td>\n",
       "    </tr>\n",
       "    <tr>\n",
       "      <th>2</th>\n",
       "      <td>ON191590.1</td>\n",
       "      <td>tctaaacgaactttaaaatctgtgtggctgtcactcggctgcatgc...</td>\n",
       "      <td>tctaaa ctaaac taaacg aaacga aacgaa acgaac cgaa...</td>\n",
       "    </tr>\n",
       "    <tr>\n",
       "      <th>3</th>\n",
       "      <td>ON191591.1</td>\n",
       "      <td>tctaaacgaactttaaaatctgtgtggctgtcactcggctgcatgc...</td>\n",
       "      <td>tctaaa ctaaac taaacg aaacga aacgaa acgaac cgaa...</td>\n",
       "    </tr>\n",
       "    <tr>\n",
       "      <th>4</th>\n",
       "      <td>ON191592.1</td>\n",
       "      <td>tctaaacgaactttaaaatctgtgtggctgtcactcggctgcatgc...</td>\n",
       "      <td>tctaaa ctaaac taaacg aaacga aacgaa acgaac cgaa...</td>\n",
       "    </tr>\n",
       "    <tr>\n",
       "      <th>...</th>\n",
       "      <td>...</td>\n",
       "      <td>...</td>\n",
       "      <td>...</td>\n",
       "    </tr>\n",
       "    <tr>\n",
       "      <th>13985</th>\n",
       "      <td>OX397935.1</td>\n",
       "      <td>nnnnnnnnnnnnnnnnnnnnnnnnnnnnnnnnnnnnnnnnnnnnnn...</td>\n",
       "      <td>nnnnnn nnnnnn nnnnnn nnnnnn nnnnnn nnnnnn nnnn...</td>\n",
       "    </tr>\n",
       "    <tr>\n",
       "      <th>13986</th>\n",
       "      <td>OX397936.1</td>\n",
       "      <td>nnnnnnnnnnnnnnnnnnnnnnnnnnnnnnnnnnnnnnnnnnnnnn...</td>\n",
       "      <td>nnnnnn nnnnnn nnnnnn nnnnnn nnnnnn nnnnnn nnnn...</td>\n",
       "    </tr>\n",
       "    <tr>\n",
       "      <th>13987</th>\n",
       "      <td>OX397937.1</td>\n",
       "      <td>nnnnnnnnnnnnnnnnnnnnnnnnnnnnnnnnnnnnnnnnnnnnnn...</td>\n",
       "      <td>nnnnnn nnnnnn nnnnnn nnnnnn nnnnnn nnnnnn nnnn...</td>\n",
       "    </tr>\n",
       "    <tr>\n",
       "      <th>13988</th>\n",
       "      <td>OX397938.1</td>\n",
       "      <td>nnnnnnnnnnnnnnnnnnnnnnnnnnnnnnnnnnnnnnnnnnnnnn...</td>\n",
       "      <td>nnnnnn nnnnnn nnnnnn nnnnnn nnnnnn nnnnnn nnnn...</td>\n",
       "    </tr>\n",
       "    <tr>\n",
       "      <th>13989</th>\n",
       "      <td>OX397939.1</td>\n",
       "      <td>nnnnnnnnnnnnnnnnnnnnnnnnnnnnnnnnnnnnnnnnnnnnnn...</td>\n",
       "      <td>nnnnnn nnnnnn nnnnnn nnnnnn nnnnnn nnnnnn nnnn...</td>\n",
       "    </tr>\n",
       "  </tbody>\n",
       "</table>\n",
       "<p>13990 rows × 3 columns</p>\n",
       "</div>"
      ],
      "text/plain": [
       "            seqid                                          sequences  \\\n",
       "0      ON191588.1  tctaaacgaactttaaaatctgtgtggctgtcactcggctgcatgc...   \n",
       "1      ON191589.1  tctaaacgaactttaaaatctgtgtggctgtcactcggctgcatgc...   \n",
       "2      ON191590.1  tctaaacgaactttaaaatctgtgtggctgtcactcggctgcatgc...   \n",
       "3      ON191591.1  tctaaacgaactttaaaatctgtgtggctgtcactcggctgcatgc...   \n",
       "4      ON191592.1  tctaaacgaactttaaaatctgtgtggctgtcactcggctgcatgc...   \n",
       "...           ...                                                ...   \n",
       "13985  OX397935.1  nnnnnnnnnnnnnnnnnnnnnnnnnnnnnnnnnnnnnnnnnnnnnn...   \n",
       "13986  OX397936.1  nnnnnnnnnnnnnnnnnnnnnnnnnnnnnnnnnnnnnnnnnnnnnn...   \n",
       "13987  OX397937.1  nnnnnnnnnnnnnnnnnnnnnnnnnnnnnnnnnnnnnnnnnnnnnn...   \n",
       "13988  OX397938.1  nnnnnnnnnnnnnnnnnnnnnnnnnnnnnnnnnnnnnnnnnnnnnn...   \n",
       "13989  OX397939.1  nnnnnnnnnnnnnnnnnnnnnnnnnnnnnnnnnnnnnnnnnnnnnn...   \n",
       "\n",
       "                                                   kmers  \n",
       "0      tctaaa ctaaac taaacg aaacga aacgaa acgaac cgaa...  \n",
       "1      tctaaa ctaaac taaacg aaacga aacgaa acgaac cgaa...  \n",
       "2      tctaaa ctaaac taaacg aaacga aacgaa acgaac cgaa...  \n",
       "3      tctaaa ctaaac taaacg aaacga aacgaa acgaac cgaa...  \n",
       "4      tctaaa ctaaac taaacg aaacga aacgaa acgaac cgaa...  \n",
       "...                                                  ...  \n",
       "13985  nnnnnn nnnnnn nnnnnn nnnnnn nnnnnn nnnnnn nnnn...  \n",
       "13986  nnnnnn nnnnnn nnnnnn nnnnnn nnnnnn nnnnnn nnnn...  \n",
       "13987  nnnnnn nnnnnn nnnnnn nnnnnn nnnnnn nnnnnn nnnn...  \n",
       "13988  nnnnnn nnnnnn nnnnnn nnnnnn nnnnnn nnnnnn nnnn...  \n",
       "13989  nnnnnn nnnnnn nnnnnn nnnnnn nnnnnn nnnnnn nnnn...  \n",
       "\n",
       "[13990 rows x 3 columns]"
      ]
     },
     "execution_count": 5,
     "metadata": {},
     "output_type": "execute_result"
    }
   ],
   "source": [
    "covid_df['kmers'] = covid_df['sequences'].apply(kmers)\n",
    "covid_df"
   ]
  },
  {
   "cell_type": "code",
   "execution_count": 6,
   "metadata": {
    "execution": {
     "iopub.execute_input": "2023-08-19T16:51:40.581133Z",
     "iopub.status.busy": "2023-08-19T16:51:40.580053Z",
     "iopub.status.idle": "2023-08-19T16:51:40.593506Z",
     "shell.execute_reply": "2023-08-19T16:51:40.591902Z",
     "shell.execute_reply.started": "2023-08-19T16:51:40.581097Z"
    }
   },
   "outputs": [],
   "source": [
    "stop_codons = ['TAA', 'TAG', 'TGA']\n",
    "kmer_length = 6\n",
    "\n",
    "def generate_kmers_with_stop_codons(kmer_length, stop_codons):\n",
    "    kmers = []\n",
    "    bases = 'ACGT'\n",
    "\n",
    "    for first_base in bases:\n",
    "        for second_base in bases:\n",
    "            for third_base in bases:\n",
    "                for fourth_base in bases:\n",
    "                    for fifth_base in bases:\n",
    "                        for sixth_base in bases:\n",
    "                            kmer = first_base + second_base + third_base + fourth_base + fifth_base + sixth_base\n",
    "                            if kmer[:3] in stop_codons or kmer[-3:] in stop_codons:\n",
    "                                kmers.append(kmer)\n",
    "\n",
    "    return kmers\n",
    "\n",
    "stop_words = generate_kmers_with_stop_codons(kmer_length, stop_codons)"
   ]
  },
  {
   "cell_type": "code",
   "execution_count": 7,
   "metadata": {
    "execution": {
     "iopub.execute_input": "2023-08-19T16:51:40.595583Z",
     "iopub.status.busy": "2023-08-19T16:51:40.595043Z",
     "iopub.status.idle": "2023-08-19T16:58:30.596557Z",
     "shell.execute_reply": "2023-08-19T16:58:30.595311Z",
     "shell.execute_reply.started": "2023-08-19T16:51:40.595551Z"
    }
   },
   "outputs": [],
   "source": [
    "# Merge 'english' and custom stop words into a single list\n",
    "stop_words = list(TfidfVectorizer(stop_words='english').get_stop_words()) + stop_words\n",
    "# Create a TF-IDF vectorizer\n",
    "tfidf_vectorizer = TfidfVectorizer(max_features=4984)\n",
    "\n",
    "# Fit and transform the abstracts to obtain TF-IDF matrix\n",
    "tfidf_matrix = tfidf_vectorizer.fit_transform(covid_df['kmers'])\n",
    "# Get the feature names (words) from the vectorizer\n",
    "feature_names = tfidf_vectorizer.get_feature_names_out()"
   ]
  },
  {
   "cell_type": "code",
   "execution_count": 8,
   "metadata": {
    "execution": {
     "iopub.execute_input": "2023-08-19T16:58:30.598299Z",
     "iopub.status.busy": "2023-08-19T16:58:30.597898Z",
     "iopub.status.idle": "2023-08-19T16:58:31.573140Z",
     "shell.execute_reply": "2023-08-19T16:58:31.572177Z",
     "shell.execute_reply.started": "2023-08-19T16:58:30.598270Z"
    }
   },
   "outputs": [
    {
     "data": {
      "text/html": [
       "<div>\n",
       "<style scoped>\n",
       "    .dataframe tbody tr th:only-of-type {\n",
       "        vertical-align: middle;\n",
       "    }\n",
       "\n",
       "    .dataframe tbody tr th {\n",
       "        vertical-align: top;\n",
       "    }\n",
       "\n",
       "    .dataframe thead th {\n",
       "        text-align: right;\n",
       "    }\n",
       "</style>\n",
       "<table border=\"1\" class=\"dataframe\">\n",
       "  <thead>\n",
       "    <tr style=\"text-align: right;\">\n",
       "      <th></th>\n",
       "      <th>aaaaaa</th>\n",
       "      <th>aaaaac</th>\n",
       "      <th>aaaaag</th>\n",
       "      <th>aaaaan</th>\n",
       "      <th>aaaaat</th>\n",
       "      <th>aaaaca</th>\n",
       "      <th>aaaacc</th>\n",
       "      <th>aaaacg</th>\n",
       "      <th>aaaacn</th>\n",
       "      <th>aaaact</th>\n",
       "      <th>...</th>\n",
       "      <th>ttttgg</th>\n",
       "      <th>ttttgn</th>\n",
       "      <th>ttttgt</th>\n",
       "      <th>ttttnn</th>\n",
       "      <th>ttttta</th>\n",
       "      <th>tttttc</th>\n",
       "      <th>tttttg</th>\n",
       "      <th>tttttn</th>\n",
       "      <th>tttttt</th>\n",
       "      <th>ycacag</th>\n",
       "    </tr>\n",
       "  </thead>\n",
       "  <tbody>\n",
       "    <tr>\n",
       "      <th>0</th>\n",
       "      <td>0.003196</td>\n",
       "      <td>0.025532</td>\n",
       "      <td>0.035110</td>\n",
       "      <td>0.0</td>\n",
       "      <td>0.025534</td>\n",
       "      <td>0.044682</td>\n",
       "      <td>0.019149</td>\n",
       "      <td>0.003192</td>\n",
       "      <td>0.0</td>\n",
       "      <td>0.027128</td>\n",
       "      <td>...</td>\n",
       "      <td>0.036703</td>\n",
       "      <td>0.0</td>\n",
       "      <td>0.054256</td>\n",
       "      <td>0.0</td>\n",
       "      <td>0.027130</td>\n",
       "      <td>0.027157</td>\n",
       "      <td>0.035145</td>\n",
       "      <td>0.0</td>\n",
       "      <td>0.014377</td>\n",
       "      <td>0.0</td>\n",
       "    </tr>\n",
       "    <tr>\n",
       "      <th>1</th>\n",
       "      <td>0.000742</td>\n",
       "      <td>0.005928</td>\n",
       "      <td>0.007781</td>\n",
       "      <td>0.0</td>\n",
       "      <td>0.005558</td>\n",
       "      <td>0.009633</td>\n",
       "      <td>0.004446</td>\n",
       "      <td>0.000371</td>\n",
       "      <td>0.0</td>\n",
       "      <td>0.005928</td>\n",
       "      <td>...</td>\n",
       "      <td>0.008521</td>\n",
       "      <td>0.0</td>\n",
       "      <td>0.012226</td>\n",
       "      <td>0.0</td>\n",
       "      <td>0.005928</td>\n",
       "      <td>0.006676</td>\n",
       "      <td>0.008160</td>\n",
       "      <td>0.0</td>\n",
       "      <td>0.002225</td>\n",
       "      <td>0.0</td>\n",
       "    </tr>\n",
       "    <tr>\n",
       "      <th>2</th>\n",
       "      <td>0.002813</td>\n",
       "      <td>0.022473</td>\n",
       "      <td>0.030902</td>\n",
       "      <td>0.0</td>\n",
       "      <td>0.022474</td>\n",
       "      <td>0.039327</td>\n",
       "      <td>0.016855</td>\n",
       "      <td>0.002809</td>\n",
       "      <td>0.0</td>\n",
       "      <td>0.023877</td>\n",
       "      <td>...</td>\n",
       "      <td>0.033709</td>\n",
       "      <td>0.0</td>\n",
       "      <td>0.047755</td>\n",
       "      <td>0.0</td>\n",
       "      <td>0.021070</td>\n",
       "      <td>0.023903</td>\n",
       "      <td>0.032339</td>\n",
       "      <td>0.0</td>\n",
       "      <td>0.012655</td>\n",
       "      <td>0.0</td>\n",
       "    </tr>\n",
       "    <tr>\n",
       "      <th>3</th>\n",
       "      <td>0.002086</td>\n",
       "      <td>0.016664</td>\n",
       "      <td>0.022915</td>\n",
       "      <td>0.0</td>\n",
       "      <td>0.016665</td>\n",
       "      <td>0.028121</td>\n",
       "      <td>0.012498</td>\n",
       "      <td>0.002083</td>\n",
       "      <td>0.0</td>\n",
       "      <td>0.017706</td>\n",
       "      <td>...</td>\n",
       "      <td>0.023955</td>\n",
       "      <td>0.0</td>\n",
       "      <td>0.035411</td>\n",
       "      <td>0.0</td>\n",
       "      <td>0.015624</td>\n",
       "      <td>0.017725</td>\n",
       "      <td>0.023980</td>\n",
       "      <td>0.0</td>\n",
       "      <td>0.009384</td>\n",
       "      <td>0.0</td>\n",
       "    </tr>\n",
       "    <tr>\n",
       "      <th>4</th>\n",
       "      <td>0.001453</td>\n",
       "      <td>0.011609</td>\n",
       "      <td>0.015963</td>\n",
       "      <td>0.0</td>\n",
       "      <td>0.010884</td>\n",
       "      <td>0.020315</td>\n",
       "      <td>0.007256</td>\n",
       "      <td>0.001451</td>\n",
       "      <td>0.0</td>\n",
       "      <td>0.011609</td>\n",
       "      <td>...</td>\n",
       "      <td>0.017413</td>\n",
       "      <td>0.0</td>\n",
       "      <td>0.024669</td>\n",
       "      <td>0.0</td>\n",
       "      <td>0.011610</td>\n",
       "      <td>0.011621</td>\n",
       "      <td>0.016706</td>\n",
       "      <td>0.0</td>\n",
       "      <td>0.006537</td>\n",
       "      <td>0.0</td>\n",
       "    </tr>\n",
       "    <tr>\n",
       "      <th>...</th>\n",
       "      <td>...</td>\n",
       "      <td>...</td>\n",
       "      <td>...</td>\n",
       "      <td>...</td>\n",
       "      <td>...</td>\n",
       "      <td>...</td>\n",
       "      <td>...</td>\n",
       "      <td>...</td>\n",
       "      <td>...</td>\n",
       "      <td>...</td>\n",
       "      <td>...</td>\n",
       "      <td>...</td>\n",
       "      <td>...</td>\n",
       "      <td>...</td>\n",
       "      <td>...</td>\n",
       "      <td>...</td>\n",
       "      <td>...</td>\n",
       "      <td>...</td>\n",
       "      <td>...</td>\n",
       "      <td>...</td>\n",
       "      <td>...</td>\n",
       "    </tr>\n",
       "    <tr>\n",
       "      <th>13985</th>\n",
       "      <td>0.002960</td>\n",
       "      <td>0.023651</td>\n",
       "      <td>0.032522</td>\n",
       "      <td>0.0</td>\n",
       "      <td>0.025131</td>\n",
       "      <td>0.042867</td>\n",
       "      <td>0.017738</td>\n",
       "      <td>0.004435</td>\n",
       "      <td>0.0</td>\n",
       "      <td>0.025129</td>\n",
       "      <td>...</td>\n",
       "      <td>0.032520</td>\n",
       "      <td>0.0</td>\n",
       "      <td>0.048779</td>\n",
       "      <td>0.0</td>\n",
       "      <td>0.025131</td>\n",
       "      <td>0.028115</td>\n",
       "      <td>0.034034</td>\n",
       "      <td>0.0</td>\n",
       "      <td>0.008878</td>\n",
       "      <td>0.0</td>\n",
       "    </tr>\n",
       "    <tr>\n",
       "      <th>13986</th>\n",
       "      <td>0.002960</td>\n",
       "      <td>0.023653</td>\n",
       "      <td>0.032525</td>\n",
       "      <td>0.0</td>\n",
       "      <td>0.022176</td>\n",
       "      <td>0.041392</td>\n",
       "      <td>0.017739</td>\n",
       "      <td>0.004435</td>\n",
       "      <td>0.0</td>\n",
       "      <td>0.025131</td>\n",
       "      <td>...</td>\n",
       "      <td>0.034001</td>\n",
       "      <td>0.0</td>\n",
       "      <td>0.050262</td>\n",
       "      <td>0.0</td>\n",
       "      <td>0.025133</td>\n",
       "      <td>0.028118</td>\n",
       "      <td>0.035517</td>\n",
       "      <td>0.0</td>\n",
       "      <td>0.008879</td>\n",
       "      <td>0.0</td>\n",
       "    </tr>\n",
       "    <tr>\n",
       "      <th>13987</th>\n",
       "      <td>0.001305</td>\n",
       "      <td>0.010423</td>\n",
       "      <td>0.014333</td>\n",
       "      <td>0.0</td>\n",
       "      <td>0.011075</td>\n",
       "      <td>0.018240</td>\n",
       "      <td>0.007817</td>\n",
       "      <td>0.001954</td>\n",
       "      <td>0.0</td>\n",
       "      <td>0.011074</td>\n",
       "      <td>...</td>\n",
       "      <td>0.014331</td>\n",
       "      <td>0.0</td>\n",
       "      <td>0.020846</td>\n",
       "      <td>0.0</td>\n",
       "      <td>0.011075</td>\n",
       "      <td>0.012390</td>\n",
       "      <td>0.014347</td>\n",
       "      <td>0.0</td>\n",
       "      <td>0.003261</td>\n",
       "      <td>0.0</td>\n",
       "    </tr>\n",
       "    <tr>\n",
       "      <th>13988</th>\n",
       "      <td>0.001337</td>\n",
       "      <td>0.010016</td>\n",
       "      <td>0.014692</td>\n",
       "      <td>0.0</td>\n",
       "      <td>0.010685</td>\n",
       "      <td>0.018030</td>\n",
       "      <td>0.008013</td>\n",
       "      <td>0.002003</td>\n",
       "      <td>0.0</td>\n",
       "      <td>0.011352</td>\n",
       "      <td>...</td>\n",
       "      <td>0.015359</td>\n",
       "      <td>0.0</td>\n",
       "      <td>0.021368</td>\n",
       "      <td>0.0</td>\n",
       "      <td>0.010685</td>\n",
       "      <td>0.012701</td>\n",
       "      <td>0.016044</td>\n",
       "      <td>0.0</td>\n",
       "      <td>0.004011</td>\n",
       "      <td>0.0</td>\n",
       "    </tr>\n",
       "    <tr>\n",
       "      <th>13989</th>\n",
       "      <td>0.002959</td>\n",
       "      <td>0.023644</td>\n",
       "      <td>0.032513</td>\n",
       "      <td>0.0</td>\n",
       "      <td>0.025124</td>\n",
       "      <td>0.042855</td>\n",
       "      <td>0.017733</td>\n",
       "      <td>0.004434</td>\n",
       "      <td>0.0</td>\n",
       "      <td>0.025122</td>\n",
       "      <td>...</td>\n",
       "      <td>0.032510</td>\n",
       "      <td>0.0</td>\n",
       "      <td>0.047288</td>\n",
       "      <td>0.0</td>\n",
       "      <td>0.026601</td>\n",
       "      <td>0.028107</td>\n",
       "      <td>0.032545</td>\n",
       "      <td>0.0</td>\n",
       "      <td>0.011835</td>\n",
       "      <td>0.0</td>\n",
       "    </tr>\n",
       "  </tbody>\n",
       "</table>\n",
       "<p>13990 rows × 4984 columns</p>\n",
       "</div>"
      ],
      "text/plain": [
       "         aaaaaa    aaaaac    aaaaag  aaaaan    aaaaat    aaaaca    aaaacc  \\\n",
       "0      0.003196  0.025532  0.035110     0.0  0.025534  0.044682  0.019149   \n",
       "1      0.000742  0.005928  0.007781     0.0  0.005558  0.009633  0.004446   \n",
       "2      0.002813  0.022473  0.030902     0.0  0.022474  0.039327  0.016855   \n",
       "3      0.002086  0.016664  0.022915     0.0  0.016665  0.028121  0.012498   \n",
       "4      0.001453  0.011609  0.015963     0.0  0.010884  0.020315  0.007256   \n",
       "...         ...       ...       ...     ...       ...       ...       ...   \n",
       "13985  0.002960  0.023651  0.032522     0.0  0.025131  0.042867  0.017738   \n",
       "13986  0.002960  0.023653  0.032525     0.0  0.022176  0.041392  0.017739   \n",
       "13987  0.001305  0.010423  0.014333     0.0  0.011075  0.018240  0.007817   \n",
       "13988  0.001337  0.010016  0.014692     0.0  0.010685  0.018030  0.008013   \n",
       "13989  0.002959  0.023644  0.032513     0.0  0.025124  0.042855  0.017733   \n",
       "\n",
       "         aaaacg  aaaacn    aaaact  ...    ttttgg  ttttgn    ttttgt  ttttnn  \\\n",
       "0      0.003192     0.0  0.027128  ...  0.036703     0.0  0.054256     0.0   \n",
       "1      0.000371     0.0  0.005928  ...  0.008521     0.0  0.012226     0.0   \n",
       "2      0.002809     0.0  0.023877  ...  0.033709     0.0  0.047755     0.0   \n",
       "3      0.002083     0.0  0.017706  ...  0.023955     0.0  0.035411     0.0   \n",
       "4      0.001451     0.0  0.011609  ...  0.017413     0.0  0.024669     0.0   \n",
       "...         ...     ...       ...  ...       ...     ...       ...     ...   \n",
       "13985  0.004435     0.0  0.025129  ...  0.032520     0.0  0.048779     0.0   \n",
       "13986  0.004435     0.0  0.025131  ...  0.034001     0.0  0.050262     0.0   \n",
       "13987  0.001954     0.0  0.011074  ...  0.014331     0.0  0.020846     0.0   \n",
       "13988  0.002003     0.0  0.011352  ...  0.015359     0.0  0.021368     0.0   \n",
       "13989  0.004434     0.0  0.025122  ...  0.032510     0.0  0.047288     0.0   \n",
       "\n",
       "         ttttta    tttttc    tttttg  tttttn    tttttt  ycacag  \n",
       "0      0.027130  0.027157  0.035145     0.0  0.014377     0.0  \n",
       "1      0.005928  0.006676  0.008160     0.0  0.002225     0.0  \n",
       "2      0.021070  0.023903  0.032339     0.0  0.012655     0.0  \n",
       "3      0.015624  0.017725  0.023980     0.0  0.009384     0.0  \n",
       "4      0.011610  0.011621  0.016706     0.0  0.006537     0.0  \n",
       "...         ...       ...       ...     ...       ...     ...  \n",
       "13985  0.025131  0.028115  0.034034     0.0  0.008878     0.0  \n",
       "13986  0.025133  0.028118  0.035517     0.0  0.008879     0.0  \n",
       "13987  0.011075  0.012390  0.014347     0.0  0.003261     0.0  \n",
       "13988  0.010685  0.012701  0.016044     0.0  0.004011     0.0  \n",
       "13989  0.026601  0.028107  0.032545     0.0  0.011835     0.0  \n",
       "\n",
       "[13990 rows x 4984 columns]"
      ]
     },
     "execution_count": 8,
     "metadata": {},
     "output_type": "execute_result"
    }
   ],
   "source": [
    "X = pd.DataFrame(tfidf_matrix.toarray(), columns=list(feature_names))\n",
    "X"
   ]
  },
  {
   "cell_type": "code",
   "execution_count": 9,
   "metadata": {
    "execution": {
     "iopub.execute_input": "2023-08-19T16:58:31.574778Z",
     "iopub.status.busy": "2023-08-19T16:58:31.574430Z",
     "iopub.status.idle": "2023-08-19T16:58:31.580449Z",
     "shell.execute_reply": "2023-08-19T16:58:31.579308Z",
     "shell.execute_reply.started": "2023-08-19T16:58:31.574745Z"
    }
   },
   "outputs": [],
   "source": [
    "del sequences, covid_df"
   ]
  },
  {
   "cell_type": "code",
   "execution_count": 10,
   "metadata": {
    "execution": {
     "iopub.execute_input": "2023-08-19T16:58:31.583051Z",
     "iopub.status.busy": "2023-08-19T16:58:31.581955Z",
     "iopub.status.idle": "2023-08-19T16:58:31.843073Z",
     "shell.execute_reply": "2023-08-19T16:58:31.841924Z",
     "shell.execute_reply.started": "2023-08-19T16:58:31.583010Z"
    }
   },
   "outputs": [
    {
     "data": {
      "text/html": [
       "<div>\n",
       "<style scoped>\n",
       "    .dataframe tbody tr th:only-of-type {\n",
       "        vertical-align: middle;\n",
       "    }\n",
       "\n",
       "    .dataframe tbody tr th {\n",
       "        vertical-align: top;\n",
       "    }\n",
       "\n",
       "    .dataframe thead th {\n",
       "        text-align: right;\n",
       "    }\n",
       "</style>\n",
       "<table border=\"1\" class=\"dataframe\">\n",
       "  <thead>\n",
       "    <tr style=\"text-align: right;\">\n",
       "      <th></th>\n",
       "      <th>aaaaaa</th>\n",
       "      <th>aaaaac</th>\n",
       "      <th>aaaaag</th>\n",
       "      <th>aaaaan</th>\n",
       "      <th>aaaaat</th>\n",
       "      <th>aaaaca</th>\n",
       "      <th>aaaacc</th>\n",
       "      <th>aaaacg</th>\n",
       "      <th>aaaacn</th>\n",
       "      <th>aaaact</th>\n",
       "      <th>...</th>\n",
       "      <th>ttttgg</th>\n",
       "      <th>ttttgn</th>\n",
       "      <th>ttttgt</th>\n",
       "      <th>ttttnn</th>\n",
       "      <th>ttttta</th>\n",
       "      <th>tttttc</th>\n",
       "      <th>tttttg</th>\n",
       "      <th>tttttn</th>\n",
       "      <th>tttttt</th>\n",
       "      <th>ycacag</th>\n",
       "    </tr>\n",
       "  </thead>\n",
       "  <tbody>\n",
       "    <tr>\n",
       "      <th>0</th>\n",
       "      <td>0.000742</td>\n",
       "      <td>0.005928</td>\n",
       "      <td>0.007781</td>\n",
       "      <td>0.0</td>\n",
       "      <td>0.005558</td>\n",
       "      <td>0.009633</td>\n",
       "      <td>0.004446</td>\n",
       "      <td>0.000371</td>\n",
       "      <td>0.0</td>\n",
       "      <td>0.005928</td>\n",
       "      <td>...</td>\n",
       "      <td>0.008521</td>\n",
       "      <td>0.0</td>\n",
       "      <td>0.012226</td>\n",
       "      <td>0.0</td>\n",
       "      <td>0.005928</td>\n",
       "      <td>0.006676</td>\n",
       "      <td>0.008160</td>\n",
       "      <td>0.0</td>\n",
       "      <td>0.002225</td>\n",
       "      <td>0.0</td>\n",
       "    </tr>\n",
       "    <tr>\n",
       "      <th>1</th>\n",
       "      <td>0.002813</td>\n",
       "      <td>0.022473</td>\n",
       "      <td>0.030902</td>\n",
       "      <td>0.0</td>\n",
       "      <td>0.022474</td>\n",
       "      <td>0.039327</td>\n",
       "      <td>0.016855</td>\n",
       "      <td>0.002809</td>\n",
       "      <td>0.0</td>\n",
       "      <td>0.023877</td>\n",
       "      <td>...</td>\n",
       "      <td>0.033709</td>\n",
       "      <td>0.0</td>\n",
       "      <td>0.047755</td>\n",
       "      <td>0.0</td>\n",
       "      <td>0.021070</td>\n",
       "      <td>0.023903</td>\n",
       "      <td>0.032339</td>\n",
       "      <td>0.0</td>\n",
       "      <td>0.012655</td>\n",
       "      <td>0.0</td>\n",
       "    </tr>\n",
       "    <tr>\n",
       "      <th>2</th>\n",
       "      <td>0.002086</td>\n",
       "      <td>0.016664</td>\n",
       "      <td>0.022915</td>\n",
       "      <td>0.0</td>\n",
       "      <td>0.016665</td>\n",
       "      <td>0.028121</td>\n",
       "      <td>0.012498</td>\n",
       "      <td>0.002083</td>\n",
       "      <td>0.0</td>\n",
       "      <td>0.017706</td>\n",
       "      <td>...</td>\n",
       "      <td>0.023955</td>\n",
       "      <td>0.0</td>\n",
       "      <td>0.035411</td>\n",
       "      <td>0.0</td>\n",
       "      <td>0.015624</td>\n",
       "      <td>0.017725</td>\n",
       "      <td>0.023980</td>\n",
       "      <td>0.0</td>\n",
       "      <td>0.009384</td>\n",
       "      <td>0.0</td>\n",
       "    </tr>\n",
       "    <tr>\n",
       "      <th>3</th>\n",
       "      <td>0.001453</td>\n",
       "      <td>0.011609</td>\n",
       "      <td>0.015963</td>\n",
       "      <td>0.0</td>\n",
       "      <td>0.010884</td>\n",
       "      <td>0.020315</td>\n",
       "      <td>0.007256</td>\n",
       "      <td>0.001451</td>\n",
       "      <td>0.0</td>\n",
       "      <td>0.011609</td>\n",
       "      <td>...</td>\n",
       "      <td>0.017413</td>\n",
       "      <td>0.0</td>\n",
       "      <td>0.024669</td>\n",
       "      <td>0.0</td>\n",
       "      <td>0.011610</td>\n",
       "      <td>0.011621</td>\n",
       "      <td>0.016706</td>\n",
       "      <td>0.0</td>\n",
       "      <td>0.006537</td>\n",
       "      <td>0.0</td>\n",
       "    </tr>\n",
       "    <tr>\n",
       "      <th>4</th>\n",
       "      <td>0.003192</td>\n",
       "      <td>0.025502</td>\n",
       "      <td>0.035067</td>\n",
       "      <td>0.0</td>\n",
       "      <td>0.025503</td>\n",
       "      <td>0.044628</td>\n",
       "      <td>0.019126</td>\n",
       "      <td>0.003188</td>\n",
       "      <td>0.0</td>\n",
       "      <td>0.027095</td>\n",
       "      <td>...</td>\n",
       "      <td>0.039846</td>\n",
       "      <td>0.0</td>\n",
       "      <td>0.052597</td>\n",
       "      <td>0.0</td>\n",
       "      <td>0.025503</td>\n",
       "      <td>0.030316</td>\n",
       "      <td>0.035102</td>\n",
       "      <td>0.0</td>\n",
       "      <td>0.009573</td>\n",
       "      <td>0.0</td>\n",
       "    </tr>\n",
       "    <tr>\n",
       "      <th>...</th>\n",
       "      <td>...</td>\n",
       "      <td>...</td>\n",
       "      <td>...</td>\n",
       "      <td>...</td>\n",
       "      <td>...</td>\n",
       "      <td>...</td>\n",
       "      <td>...</td>\n",
       "      <td>...</td>\n",
       "      <td>...</td>\n",
       "      <td>...</td>\n",
       "      <td>...</td>\n",
       "      <td>...</td>\n",
       "      <td>...</td>\n",
       "      <td>...</td>\n",
       "      <td>...</td>\n",
       "      <td>...</td>\n",
       "      <td>...</td>\n",
       "      <td>...</td>\n",
       "      <td>...</td>\n",
       "      <td>...</td>\n",
       "      <td>...</td>\n",
       "    </tr>\n",
       "    <tr>\n",
       "      <th>13985</th>\n",
       "      <td>0.002960</td>\n",
       "      <td>0.023653</td>\n",
       "      <td>0.032525</td>\n",
       "      <td>0.0</td>\n",
       "      <td>0.022176</td>\n",
       "      <td>0.041392</td>\n",
       "      <td>0.017739</td>\n",
       "      <td>0.004435</td>\n",
       "      <td>0.0</td>\n",
       "      <td>0.025131</td>\n",
       "      <td>...</td>\n",
       "      <td>0.034001</td>\n",
       "      <td>0.0</td>\n",
       "      <td>0.050262</td>\n",
       "      <td>0.0</td>\n",
       "      <td>0.025133</td>\n",
       "      <td>0.028118</td>\n",
       "      <td>0.035517</td>\n",
       "      <td>0.0</td>\n",
       "      <td>0.008879</td>\n",
       "      <td>0.0</td>\n",
       "    </tr>\n",
       "    <tr>\n",
       "      <th>13986</th>\n",
       "      <td>0.001305</td>\n",
       "      <td>0.010423</td>\n",
       "      <td>0.014333</td>\n",
       "      <td>0.0</td>\n",
       "      <td>0.011075</td>\n",
       "      <td>0.018240</td>\n",
       "      <td>0.007817</td>\n",
       "      <td>0.001954</td>\n",
       "      <td>0.0</td>\n",
       "      <td>0.011074</td>\n",
       "      <td>...</td>\n",
       "      <td>0.014331</td>\n",
       "      <td>0.0</td>\n",
       "      <td>0.020846</td>\n",
       "      <td>0.0</td>\n",
       "      <td>0.011075</td>\n",
       "      <td>0.012390</td>\n",
       "      <td>0.014347</td>\n",
       "      <td>0.0</td>\n",
       "      <td>0.003261</td>\n",
       "      <td>0.0</td>\n",
       "    </tr>\n",
       "    <tr>\n",
       "      <th>13987</th>\n",
       "      <td>0.001337</td>\n",
       "      <td>0.010016</td>\n",
       "      <td>0.014692</td>\n",
       "      <td>0.0</td>\n",
       "      <td>0.010685</td>\n",
       "      <td>0.018030</td>\n",
       "      <td>0.008013</td>\n",
       "      <td>0.002003</td>\n",
       "      <td>0.0</td>\n",
       "      <td>0.011352</td>\n",
       "      <td>...</td>\n",
       "      <td>0.015359</td>\n",
       "      <td>0.0</td>\n",
       "      <td>0.021368</td>\n",
       "      <td>0.0</td>\n",
       "      <td>0.010685</td>\n",
       "      <td>0.012701</td>\n",
       "      <td>0.016044</td>\n",
       "      <td>0.0</td>\n",
       "      <td>0.004011</td>\n",
       "      <td>0.0</td>\n",
       "    </tr>\n",
       "    <tr>\n",
       "      <th>13988</th>\n",
       "      <td>0.002959</td>\n",
       "      <td>0.023644</td>\n",
       "      <td>0.032513</td>\n",
       "      <td>0.0</td>\n",
       "      <td>0.025124</td>\n",
       "      <td>0.042855</td>\n",
       "      <td>0.017733</td>\n",
       "      <td>0.004434</td>\n",
       "      <td>0.0</td>\n",
       "      <td>0.025122</td>\n",
       "      <td>...</td>\n",
       "      <td>0.032510</td>\n",
       "      <td>0.0</td>\n",
       "      <td>0.047288</td>\n",
       "      <td>0.0</td>\n",
       "      <td>0.026601</td>\n",
       "      <td>0.028107</td>\n",
       "      <td>0.032545</td>\n",
       "      <td>0.0</td>\n",
       "      <td>0.011835</td>\n",
       "      <td>0.0</td>\n",
       "    </tr>\n",
       "    <tr>\n",
       "      <th>13989</th>\n",
       "      <td>0.003196</td>\n",
       "      <td>0.025532</td>\n",
       "      <td>0.035110</td>\n",
       "      <td>0.0</td>\n",
       "      <td>0.025534</td>\n",
       "      <td>0.044682</td>\n",
       "      <td>0.019149</td>\n",
       "      <td>0.003192</td>\n",
       "      <td>0.0</td>\n",
       "      <td>0.027128</td>\n",
       "      <td>...</td>\n",
       "      <td>0.036703</td>\n",
       "      <td>0.0</td>\n",
       "      <td>0.054256</td>\n",
       "      <td>0.0</td>\n",
       "      <td>0.027130</td>\n",
       "      <td>0.027157</td>\n",
       "      <td>0.035145</td>\n",
       "      <td>0.0</td>\n",
       "      <td>0.014377</td>\n",
       "      <td>0.0</td>\n",
       "    </tr>\n",
       "  </tbody>\n",
       "</table>\n",
       "<p>13990 rows × 4984 columns</p>\n",
       "</div>"
      ],
      "text/plain": [
       "         aaaaaa    aaaaac    aaaaag  aaaaan    aaaaat    aaaaca    aaaacc  \\\n",
       "0      0.000742  0.005928  0.007781     0.0  0.005558  0.009633  0.004446   \n",
       "1      0.002813  0.022473  0.030902     0.0  0.022474  0.039327  0.016855   \n",
       "2      0.002086  0.016664  0.022915     0.0  0.016665  0.028121  0.012498   \n",
       "3      0.001453  0.011609  0.015963     0.0  0.010884  0.020315  0.007256   \n",
       "4      0.003192  0.025502  0.035067     0.0  0.025503  0.044628  0.019126   \n",
       "...         ...       ...       ...     ...       ...       ...       ...   \n",
       "13985  0.002960  0.023653  0.032525     0.0  0.022176  0.041392  0.017739   \n",
       "13986  0.001305  0.010423  0.014333     0.0  0.011075  0.018240  0.007817   \n",
       "13987  0.001337  0.010016  0.014692     0.0  0.010685  0.018030  0.008013   \n",
       "13988  0.002959  0.023644  0.032513     0.0  0.025124  0.042855  0.017733   \n",
       "13989  0.003196  0.025532  0.035110     0.0  0.025534  0.044682  0.019149   \n",
       "\n",
       "         aaaacg  aaaacn    aaaact  ...    ttttgg  ttttgn    ttttgt  ttttnn  \\\n",
       "0      0.000371     0.0  0.005928  ...  0.008521     0.0  0.012226     0.0   \n",
       "1      0.002809     0.0  0.023877  ...  0.033709     0.0  0.047755     0.0   \n",
       "2      0.002083     0.0  0.017706  ...  0.023955     0.0  0.035411     0.0   \n",
       "3      0.001451     0.0  0.011609  ...  0.017413     0.0  0.024669     0.0   \n",
       "4      0.003188     0.0  0.027095  ...  0.039846     0.0  0.052597     0.0   \n",
       "...         ...     ...       ...  ...       ...     ...       ...     ...   \n",
       "13985  0.004435     0.0  0.025131  ...  0.034001     0.0  0.050262     0.0   \n",
       "13986  0.001954     0.0  0.011074  ...  0.014331     0.0  0.020846     0.0   \n",
       "13987  0.002003     0.0  0.011352  ...  0.015359     0.0  0.021368     0.0   \n",
       "13988  0.004434     0.0  0.025122  ...  0.032510     0.0  0.047288     0.0   \n",
       "13989  0.003192     0.0  0.027128  ...  0.036703     0.0  0.054256     0.0   \n",
       "\n",
       "         ttttta    tttttc    tttttg  tttttn    tttttt  ycacag  \n",
       "0      0.005928  0.006676  0.008160     0.0  0.002225     0.0  \n",
       "1      0.021070  0.023903  0.032339     0.0  0.012655     0.0  \n",
       "2      0.015624  0.017725  0.023980     0.0  0.009384     0.0  \n",
       "3      0.011610  0.011621  0.016706     0.0  0.006537     0.0  \n",
       "4      0.025503  0.030316  0.035102     0.0  0.009573     0.0  \n",
       "...         ...       ...       ...     ...       ...     ...  \n",
       "13985  0.025133  0.028118  0.035517     0.0  0.008879     0.0  \n",
       "13986  0.011075  0.012390  0.014347     0.0  0.003261     0.0  \n",
       "13987  0.010685  0.012701  0.016044     0.0  0.004011     0.0  \n",
       "13988  0.026601  0.028107  0.032545     0.0  0.011835     0.0  \n",
       "13989  0.027130  0.027157  0.035145     0.0  0.014377     0.0  \n",
       "\n",
       "[13990 rows x 4984 columns]"
      ]
     },
     "execution_count": 10,
     "metadata": {},
     "output_type": "execute_result"
    }
   ],
   "source": [
    "Y = pd.concat([X.iloc[1:, :], X.iloc[[0], :]], axis=0)\n",
    "Y.index = range(Y.shape[0])\n",
    "Y"
   ]
  },
  {
   "cell_type": "code",
   "execution_count": 11,
   "metadata": {
    "execution": {
     "iopub.execute_input": "2023-08-19T16:58:31.845611Z",
     "iopub.status.busy": "2023-08-19T16:58:31.844632Z",
     "iopub.status.idle": "2023-08-19T16:58:32.355475Z",
     "shell.execute_reply": "2023-08-19T16:58:32.354178Z",
     "shell.execute_reply.started": "2023-08-19T16:58:31.845575Z"
    }
   },
   "outputs": [],
   "source": [
    "X_train, X_test, y_train, y_test = train_test_split(X, Y, test_size=0.20, random_state=1)"
   ]
  },
  {
   "cell_type": "code",
   "execution_count": 12,
   "metadata": {
    "execution": {
     "iopub.execute_input": "2023-08-19T16:58:32.358618Z",
     "iopub.status.busy": "2023-08-19T16:58:32.357641Z",
     "iopub.status.idle": "2023-08-19T16:58:32.365303Z",
     "shell.execute_reply": "2023-08-19T16:58:32.364154Z",
     "shell.execute_reply.started": "2023-08-19T16:58:32.358583Z"
    }
   },
   "outputs": [
    {
     "data": {
      "text/plain": [
       "(11192, 4984)"
      ]
     },
     "execution_count": 12,
     "metadata": {},
     "output_type": "execute_result"
    }
   ],
   "source": [
    "X_train.shape"
   ]
  },
  {
   "cell_type": "code",
   "execution_count": 13,
   "metadata": {
    "execution": {
     "iopub.execute_input": "2023-08-19T16:58:32.372112Z",
     "iopub.status.busy": "2023-08-19T16:58:32.371641Z",
     "iopub.status.idle": "2023-08-19T16:58:33.200736Z",
     "shell.execute_reply": "2023-08-19T16:58:33.199457Z",
     "shell.execute_reply.started": "2023-08-19T16:58:32.372080Z"
    }
   },
   "outputs": [],
   "source": [
    "# Normalize the data for better LSTM performance\n",
    "scaler = MinMaxScaler()\n",
    "X_train_scaled = scaler.fit_transform(X_train)\n",
    "X_test_scaled = scaler.transform(X_test)"
   ]
  },
  {
   "cell_type": "code",
   "execution_count": 14,
   "metadata": {
    "execution": {
     "iopub.execute_input": "2023-08-19T16:58:33.202545Z",
     "iopub.status.busy": "2023-08-19T16:58:33.202185Z",
     "iopub.status.idle": "2023-08-19T16:58:33.209760Z",
     "shell.execute_reply": "2023-08-19T16:58:33.208638Z",
     "shell.execute_reply.started": "2023-08-19T16:58:33.202514Z"
    }
   },
   "outputs": [
    {
     "data": {
      "text/plain": [
       "(11192, 4984)"
      ]
     },
     "execution_count": 14,
     "metadata": {},
     "output_type": "execute_result"
    }
   ],
   "source": [
    "X_train_scaled.shape"
   ]
  },
  {
   "cell_type": "code",
   "execution_count": 15,
   "metadata": {
    "execution": {
     "iopub.execute_input": "2023-08-19T16:58:33.211690Z",
     "iopub.status.busy": "2023-08-19T16:58:33.211260Z",
     "iopub.status.idle": "2023-08-19T16:58:33.221978Z",
     "shell.execute_reply": "2023-08-19T16:58:33.220781Z",
     "shell.execute_reply.started": "2023-08-19T16:58:33.211652Z"
    }
   },
   "outputs": [
    {
     "data": {
      "text/plain": [
       "(2798, 4984)"
      ]
     },
     "execution_count": 15,
     "metadata": {},
     "output_type": "execute_result"
    }
   ],
   "source": [
    "X_test_scaled.shape"
   ]
  },
  {
   "cell_type": "code",
   "execution_count": 16,
   "metadata": {
    "execution": {
     "iopub.execute_input": "2023-08-19T16:58:33.224101Z",
     "iopub.status.busy": "2023-08-19T16:58:33.223686Z",
     "iopub.status.idle": "2023-08-19T16:58:33.233908Z",
     "shell.execute_reply": "2023-08-19T16:58:33.232780Z",
     "shell.execute_reply.started": "2023-08-19T16:58:33.224063Z"
    }
   },
   "outputs": [],
   "source": [
    "# Reshape the data for LSTM input (samples, timesteps, features)\n",
    "# Assuming your sequences have a fixed length, e.g., 10 time steps\n",
    "seq_length = 1\n",
    "num_features = X_train.shape[1]  # Number of features in your original data\n",
    "\n",
    "X_train_reshaped = X_train_scaled.reshape(-1, seq_length, num_features)\n",
    "X_test_reshaped = X_test_scaled.reshape(-1, seq_length, num_features)"
   ]
  },
  {
   "cell_type": "code",
   "execution_count": 17,
   "metadata": {
    "execution": {
     "iopub.execute_input": "2023-08-19T16:58:33.237196Z",
     "iopub.status.busy": "2023-08-19T16:58:33.236834Z",
     "iopub.status.idle": "2023-08-19T16:58:34.182170Z",
     "shell.execute_reply": "2023-08-19T16:58:34.181246Z",
     "shell.execute_reply.started": "2023-08-19T16:58:33.237167Z"
    }
   },
   "outputs": [],
   "source": [
    "# Build an efficient LSTM model\n",
    "model = Sequential()\n",
    "model.add(LSTM(units=64, input_shape=(seq_length, X_train.shape[1]), activation='relu', return_sequences=True))\n",
    "model.add(BatchNormalization())\n",
    "model.add(Dropout(0.2))\n",
    "\n",
    "model.add(LSTM(units=32, activation='relu', return_sequences=True, kernel_regularizer='l2'))\n",
    "model.add(BatchNormalization())\n",
    "model.add(Dropout(0.2))\n",
    "\n",
    "model.add(LSTM(units=16, activation='relu', return_sequences=True, kernel_regularizer='l2'))\n",
    "model.add(BatchNormalization())\n",
    "model.add(Dropout(0.2))\n",
    "\n",
    "model.add(LSTM(units=8, activation='relu', kernel_regularizer='l2'))\n",
    "model.add(Dense(X_train.shape[1], activation='linear'))  # Output layer\n"
   ]
  },
  {
   "cell_type": "code",
   "execution_count": 18,
   "metadata": {
    "execution": {
     "iopub.execute_input": "2023-08-19T16:58:34.184027Z",
     "iopub.status.busy": "2023-08-19T16:58:34.183607Z",
     "iopub.status.idle": "2023-08-19T16:58:34.224526Z",
     "shell.execute_reply": "2023-08-19T16:58:34.223385Z",
     "shell.execute_reply.started": "2023-08-19T16:58:34.183987Z"
    }
   },
   "outputs": [
    {
     "name": "stdout",
     "output_type": "stream",
     "text": [
      "Model: \"sequential\"\n",
      "_________________________________________________________________\n",
      " Layer (type)                Output Shape              Param #   \n",
      "=================================================================\n",
      " lstm (LSTM)                 (None, 1, 64)             1292544   \n",
      "                                                                 \n",
      " batch_normalization (BatchN  (None, 1, 64)            256       \n",
      " ormalization)                                                   \n",
      "                                                                 \n",
      " dropout (Dropout)           (None, 1, 64)             0         \n",
      "                                                                 \n",
      " lstm_1 (LSTM)               (None, 1, 32)             12416     \n",
      "                                                                 \n",
      " batch_normalization_1 (Batc  (None, 1, 32)            128       \n",
      " hNormalization)                                                 \n",
      "                                                                 \n",
      " dropout_1 (Dropout)         (None, 1, 32)             0         \n",
      "                                                                 \n",
      " lstm_2 (LSTM)               (None, 1, 16)             3136      \n",
      "                                                                 \n",
      " batch_normalization_2 (Batc  (None, 1, 16)            64        \n",
      " hNormalization)                                                 \n",
      "                                                                 \n",
      " dropout_2 (Dropout)         (None, 1, 16)             0         \n",
      "                                                                 \n",
      " lstm_3 (LSTM)               (None, 8)                 800       \n",
      "                                                                 \n",
      " dense (Dense)               (None, 4984)              44856     \n",
      "                                                                 \n",
      "=================================================================\n",
      "Total params: 1,354,200\n",
      "Trainable params: 1,353,976\n",
      "Non-trainable params: 224\n",
      "_________________________________________________________________\n"
     ]
    }
   ],
   "source": [
    "model.summary()"
   ]
  },
  {
   "cell_type": "code",
   "execution_count": 19,
   "metadata": {
    "execution": {
     "iopub.execute_input": "2023-08-19T16:58:34.226349Z",
     "iopub.status.busy": "2023-08-19T16:58:34.225930Z",
     "iopub.status.idle": "2023-08-19T16:58:34.254200Z",
     "shell.execute_reply": "2023-08-19T16:58:34.252922Z",
     "shell.execute_reply.started": "2023-08-19T16:58:34.226310Z"
    }
   },
   "outputs": [],
   "source": [
    "# Compile the model with adjusted learning rate and metrics\n",
    "optimizer = Adam(learning_rate=0.001)\n",
    "model.compile(optimizer=optimizer, loss='mean_squared_error', metrics=['accuracy', 'mae'])\n",
    "\n",
    "# Implement early stopping\n",
    "early_stopping = EarlyStopping(monitor='val_loss', patience=25, restore_best_weights=True)"
   ]
  },
  {
   "cell_type": "code",
   "execution_count": 20,
   "metadata": {
    "execution": {
     "iopub.execute_input": "2023-08-19T16:58:34.256173Z",
     "iopub.status.busy": "2023-08-19T16:58:34.255745Z",
     "iopub.status.idle": "2023-08-19T17:03:36.035113Z",
     "shell.execute_reply": "2023-08-19T17:03:36.033995Z",
     "shell.execute_reply.started": "2023-08-19T16:58:34.256135Z"
    }
   },
   "outputs": [
    {
     "name": "stdout",
     "output_type": "stream",
     "text": [
      "Epoch 1/500\n",
      "350/350 [==============================] - 16s 25ms/step - loss: 0.2891 - accuracy: 0.2691 - mae: 0.0028 - val_loss: 0.0085 - val_accuracy: 0.2913 - val_mae: 0.0020\n",
      "Epoch 2/500\n",
      "350/350 [==============================] - 8s 22ms/step - loss: 0.0017 - accuracy: 0.2943 - mae: 0.0021 - val_loss: 8.1996e-05 - val_accuracy: 0.2913 - val_mae: 0.0022\n",
      "Epoch 3/500\n",
      "350/350 [==============================] - 8s 22ms/step - loss: 4.8824e-05 - accuracy: 0.2943 - mae: 0.0021 - val_loss: 4.2273e-05 - val_accuracy: 0.2913 - val_mae: 0.0022\n",
      "Epoch 4/500\n",
      "350/350 [==============================] - 8s 22ms/step - loss: 4.2537e-05 - accuracy: 0.2943 - mae: 0.0021 - val_loss: 4.2156e-05 - val_accuracy: 0.2913 - val_mae: 0.0022\n",
      "Epoch 5/500\n",
      "350/350 [==============================] - 8s 23ms/step - loss: 4.2521e-05 - accuracy: 0.2943 - mae: 0.0021 - val_loss: 4.2133e-05 - val_accuracy: 0.2913 - val_mae: 0.0020\n",
      "Epoch 6/500\n",
      "350/350 [==============================] - 8s 23ms/step - loss: 4.2542e-05 - accuracy: 0.2943 - mae: 0.0021 - val_loss: 4.2333e-05 - val_accuracy: 0.2913 - val_mae: 0.0019\n",
      "Epoch 7/500\n",
      "350/350 [==============================] - 8s 23ms/step - loss: 4.2556e-05 - accuracy: 0.2943 - mae: 0.0021 - val_loss: 4.2124e-05 - val_accuracy: 0.2913 - val_mae: 0.0021\n",
      "Epoch 8/500\n",
      "350/350 [==============================] - 8s 22ms/step - loss: 4.2523e-05 - accuracy: 0.2943 - mae: 0.0021 - val_loss: 4.2259e-05 - val_accuracy: 0.2913 - val_mae: 0.0022\n",
      "Epoch 9/500\n",
      "350/350 [==============================] - 8s 23ms/step - loss: 4.2557e-05 - accuracy: 0.2943 - mae: 0.0021 - val_loss: 4.2262e-05 - val_accuracy: 0.2913 - val_mae: 0.0022\n",
      "Epoch 10/500\n",
      "350/350 [==============================] - 8s 22ms/step - loss: 4.2547e-05 - accuracy: 0.2943 - mae: 0.0021 - val_loss: 4.2380e-05 - val_accuracy: 0.2913 - val_mae: 0.0019\n",
      "Epoch 11/500\n",
      "350/350 [==============================] - 8s 22ms/step - loss: 4.2588e-05 - accuracy: 0.2943 - mae: 0.0021 - val_loss: 4.2114e-05 - val_accuracy: 0.2913 - val_mae: 0.0020\n",
      "Epoch 12/500\n",
      "350/350 [==============================] - 8s 23ms/step - loss: 4.2552e-05 - accuracy: 0.2943 - mae: 0.0021 - val_loss: 4.2104e-05 - val_accuracy: 0.2913 - val_mae: 0.0021\n",
      "Epoch 13/500\n",
      "350/350 [==============================] - 8s 23ms/step - loss: 4.2562e-05 - accuracy: 0.2943 - mae: 0.0021 - val_loss: 4.2171e-05 - val_accuracy: 0.2913 - val_mae: 0.0020\n",
      "Epoch 14/500\n",
      "350/350 [==============================] - 8s 22ms/step - loss: 4.2560e-05 - accuracy: 0.2943 - mae: 0.0021 - val_loss: 4.2122e-05 - val_accuracy: 0.2913 - val_mae: 0.0020\n",
      "Epoch 15/500\n",
      "350/350 [==============================] - 8s 23ms/step - loss: 4.2593e-05 - accuracy: 0.2943 - mae: 0.0021 - val_loss: 4.2117e-05 - val_accuracy: 0.2913 - val_mae: 0.0021\n",
      "Epoch 16/500\n",
      "350/350 [==============================] - 8s 23ms/step - loss: 4.2557e-05 - accuracy: 0.2943 - mae: 0.0021 - val_loss: 4.2109e-05 - val_accuracy: 0.2913 - val_mae: 0.0021\n",
      "Epoch 17/500\n",
      "350/350 [==============================] - 8s 23ms/step - loss: 4.2575e-05 - accuracy: 0.2943 - mae: 0.0021 - val_loss: 4.2203e-05 - val_accuracy: 0.2913 - val_mae: 0.0021\n",
      "Epoch 18/500\n",
      "350/350 [==============================] - 8s 23ms/step - loss: 4.2515e-05 - accuracy: 0.2943 - mae: 0.0021 - val_loss: 4.2276e-05 - val_accuracy: 0.2913 - val_mae: 0.0019\n",
      "Epoch 19/500\n",
      "350/350 [==============================] - 8s 23ms/step - loss: 4.2558e-05 - accuracy: 0.2943 - mae: 0.0021 - val_loss: 4.2191e-05 - val_accuracy: 0.2913 - val_mae: 0.0022\n",
      "Epoch 20/500\n",
      "350/350 [==============================] - 8s 23ms/step - loss: 4.2608e-05 - accuracy: 0.2943 - mae: 0.0021 - val_loss: 4.2213e-05 - val_accuracy: 0.2913 - val_mae: 0.0020\n",
      "Epoch 21/500\n",
      "350/350 [==============================] - 8s 23ms/step - loss: 4.2510e-05 - accuracy: 0.2943 - mae: 0.0021 - val_loss: 4.2141e-05 - val_accuracy: 0.2913 - val_mae: 0.0020\n",
      "Epoch 22/500\n",
      "350/350 [==============================] - 8s 23ms/step - loss: 4.2521e-05 - accuracy: 0.2943 - mae: 0.0021 - val_loss: 4.2289e-05 - val_accuracy: 0.2913 - val_mae: 0.0020\n",
      "Epoch 23/500\n",
      "350/350 [==============================] - 8s 23ms/step - loss: 4.2570e-05 - accuracy: 0.2943 - mae: 0.0021 - val_loss: 4.2122e-05 - val_accuracy: 0.2913 - val_mae: 0.0021\n",
      "Epoch 24/500\n",
      "350/350 [==============================] - 8s 23ms/step - loss: 4.2542e-05 - accuracy: 0.2943 - mae: 0.0021 - val_loss: 4.2194e-05 - val_accuracy: 0.2913 - val_mae: 0.0020\n",
      "Epoch 25/500\n",
      "350/350 [==============================] - 8s 23ms/step - loss: 4.2517e-05 - accuracy: 0.2943 - mae: 0.0021 - val_loss: 4.2132e-05 - val_accuracy: 0.2913 - val_mae: 0.0021\n",
      "Epoch 26/500\n",
      "350/350 [==============================] - 8s 22ms/step - loss: 4.2556e-05 - accuracy: 0.2943 - mae: 0.0021 - val_loss: 4.2143e-05 - val_accuracy: 0.2913 - val_mae: 0.0020\n",
      "Epoch 27/500\n",
      "350/350 [==============================] - 8s 22ms/step - loss: 4.2547e-05 - accuracy: 0.2943 - mae: 0.0021 - val_loss: 4.2145e-05 - val_accuracy: 0.2913 - val_mae: 0.0022\n",
      "Epoch 28/500\n",
      "350/350 [==============================] - 8s 22ms/step - loss: 4.2616e-05 - accuracy: 0.2943 - mae: 0.0021 - val_loss: 4.2107e-05 - val_accuracy: 0.2913 - val_mae: 0.0021\n",
      "Epoch 29/500\n",
      "350/350 [==============================] - 8s 23ms/step - loss: 4.2540e-05 - accuracy: 0.2943 - mae: 0.0021 - val_loss: 4.2112e-05 - val_accuracy: 0.2913 - val_mae: 0.0021\n",
      "Epoch 30/500\n",
      "350/350 [==============================] - 8s 22ms/step - loss: 4.2570e-05 - accuracy: 0.2943 - mae: 0.0021 - val_loss: 4.2267e-05 - val_accuracy: 0.2913 - val_mae: 0.0022\n",
      "Epoch 31/500\n",
      "350/350 [==============================] - 8s 22ms/step - loss: 4.2609e-05 - accuracy: 0.2943 - mae: 0.0021 - val_loss: 4.2488e-05 - val_accuracy: 0.2913 - val_mae: 0.0023\n",
      "Epoch 32/500\n",
      "350/350 [==============================] - 8s 23ms/step - loss: 4.2629e-05 - accuracy: 0.2943 - mae: 0.0021 - val_loss: 4.2215e-05 - val_accuracy: 0.2913 - val_mae: 0.0021\n",
      "Epoch 33/500\n",
      "350/350 [==============================] - 8s 23ms/step - loss: 4.2531e-05 - accuracy: 0.2943 - mae: 0.0021 - val_loss: 4.2108e-05 - val_accuracy: 0.2913 - val_mae: 0.0021\n",
      "Epoch 34/500\n",
      "350/350 [==============================] - 8s 22ms/step - loss: 4.2531e-05 - accuracy: 0.2943 - mae: 0.0021 - val_loss: 4.2119e-05 - val_accuracy: 0.2913 - val_mae: 0.0020\n",
      "Epoch 35/500\n",
      "350/350 [==============================] - 8s 23ms/step - loss: 4.2515e-05 - accuracy: 0.2943 - mae: 0.0021 - val_loss: 4.2636e-05 - val_accuracy: 0.2913 - val_mae: 0.0018\n",
      "Epoch 36/500\n",
      "350/350 [==============================] - 8s 22ms/step - loss: 4.2576e-05 - accuracy: 0.2943 - mae: 0.0021 - val_loss: 4.2131e-05 - val_accuracy: 0.2913 - val_mae: 0.0020\n",
      "Epoch 37/500\n",
      "350/350 [==============================] - 8s 23ms/step - loss: 4.2579e-05 - accuracy: 0.2943 - mae: 0.0021 - val_loss: 4.2402e-05 - val_accuracy: 0.2913 - val_mae: 0.0023\n"
     ]
    }
   ],
   "source": [
    "# Train the model\n",
    "history = model.fit(X_train_reshaped, y_train, epochs=500, batch_size=32, validation_data=(X_test_reshaped, y_test), callbacks=[early_stopping])"
   ]
  },
  {
   "cell_type": "code",
   "execution_count": 21,
   "metadata": {
    "execution": {
     "iopub.execute_input": "2023-08-19T17:03:36.036915Z",
     "iopub.status.busy": "2023-08-19T17:03:36.036378Z",
     "iopub.status.idle": "2023-08-19T17:03:36.429681Z",
     "shell.execute_reply": "2023-08-19T17:03:36.428325Z",
     "shell.execute_reply.started": "2023-08-19T17:03:36.036884Z"
    }
   },
   "outputs": [
    {
     "data": {
      "image/png": "[encoded data removed]",
      "text/plain": [
       "<Figure size 1000x600 with 1 Axes>"
      ]
     },
     "metadata": {},
     "output_type": "display_data"
    }
   ],
   "source": [
    "# Access the loss values from model.history\n",
    "loss = history.history['loss']\n",
    "val_loss = history.history['val_loss']\n",
    "\n",
    "# Plot the loss values\n",
    "plt.figure(figsize=(10, 6))\n",
    "plt.plot(loss, label='Training Loss')\n",
    "plt.plot(val_loss, label='Validation Loss')\n",
    "plt.title('Loss Curves')\n",
    "plt.xlabel('Epochs')\n",
    "plt.ylabel('Loss')\n",
    "plt.legend()\n",
    "plt.show()"
   ]
  },
  {
   "cell_type": "code",
   "execution_count": 22,
   "metadata": {
    "execution": {
     "iopub.execute_input": "2023-08-19T17:03:36.431529Z",
     "iopub.status.busy": "2023-08-19T17:03:36.431170Z",
     "iopub.status.idle": "2023-08-19T17:03:36.787790Z",
     "shell.execute_reply": "2023-08-19T17:03:36.786430Z",
     "shell.execute_reply.started": "2023-08-19T17:03:36.431496Z"
    }
   },
   "outputs": [
    {
     "data": {
      "image/png": "[encoded data removed]",
      "text/plain": [
       "<Figure size 1000x600 with 1 Axes>"
      ]
     },
     "metadata": {},
     "output_type": "display_data"
    }
   ],
   "source": [
    "mae = history.history['mae']\n",
    "val_mae = history.history['val_mae']\n",
    "\n",
    "plt.figure(figsize=(10, 6))\n",
    "plt.plot(mae, label='Training MAE')\n",
    "plt.plot(val_mae, label='Validation MAE')\n",
    "plt.title('Mean Absolute Error Curves')\n",
    "plt.xlabel('Epochs')\n",
    "plt.ylabel('MAE')\n",
    "plt.legend()\n",
    "plt.show()\n"
   ]
  },
  {
   "cell_type": "code",
   "execution_count": 23,
   "metadata": {
    "execution": {
     "iopub.execute_input": "2023-08-19T17:03:36.790440Z",
     "iopub.status.busy": "2023-08-19T17:03:36.789393Z",
     "iopub.status.idle": "2023-08-19T17:03:37.140230Z",
     "shell.execute_reply": "2023-08-19T17:03:37.139263Z",
     "shell.execute_reply.started": "2023-08-19T17:03:36.790394Z"
    }
   },
   "outputs": [
    {
     "data": {
      "image/png": "[encoded data removed]",
      "text/plain": [
       "<Figure size 1000x600 with 1 Axes>"
      ]
     },
     "metadata": {},
     "output_type": "display_data"
    }
   ],
   "source": [
    "# Access the accuracy and val_accuracy values from history\n",
    "accuracy = history.history['accuracy']\n",
    "val_accuracy = history.history['val_accuracy']\n",
    "\n",
    "# Plot the accuracy values\n",
    "plt.figure(figsize=(10, 6))\n",
    "plt.plot(accuracy, label='Training Accuracy')\n",
    "plt.plot(val_accuracy, label='Validation Accuracy')\n",
    "plt.title('Accuracy Curves')\n",
    "plt.xlabel('Epochs')\n",
    "plt.ylabel('Accuracy')\n",
    "plt.legend()\n",
    "plt.show()"
   ]
  },
  {
   "cell_type": "code",
   "execution_count": 24,
   "metadata": {
    "execution": {
     "iopub.execute_input": "2023-08-19T17:03:37.143004Z",
     "iopub.status.busy": "2023-08-19T17:03:37.142248Z",
     "iopub.status.idle": "2023-08-19T17:03:38.502875Z",
     "shell.execute_reply": "2023-08-19T17:03:38.501784Z",
     "shell.execute_reply.started": "2023-08-19T17:03:37.142961Z"
    }
   },
   "outputs": [
    {
     "name": "stdout",
     "output_type": "stream",
     "text": [
      "88/88 [==============================] - 1s 5ms/step\n"
     ]
    }
   ],
   "source": [
    "# Predict on new sequences (assuming you have X_test_reshaped as your new input data)\n",
    "predicted_sequences = model.predict(X_test_reshaped)"
   ]
  },
  {
   "cell_type": "code",
   "execution_count": 25,
   "metadata": {
    "execution": {
     "iopub.execute_input": "2023-08-19T17:03:38.505161Z",
     "iopub.status.busy": "2023-08-19T17:03:38.504695Z",
     "iopub.status.idle": "2023-08-19T17:03:38.513621Z",
     "shell.execute_reply": "2023-08-19T17:03:38.512326Z",
     "shell.execute_reply.started": "2023-08-19T17:03:38.505118Z"
    }
   },
   "outputs": [
    {
     "data": {
      "text/plain": [
       "array([[ 6.5395306e-03,  2.1726115e-02,  2.9878480e-02, ...,\n",
       "        -1.5790334e-04,  8.9958087e-03,  5.9316597e-05],\n",
       "       [ 6.5395306e-03,  2.1726115e-02,  2.9878480e-02, ...,\n",
       "        -1.5790334e-04,  8.9958087e-03,  5.9316597e-05],\n",
       "       [ 6.5395306e-03,  2.1726115e-02,  2.9878480e-02, ...,\n",
       "        -1.5790334e-04,  8.9958087e-03,  5.9316597e-05],\n",
       "       ...,\n",
       "       [ 6.5395306e-03,  2.1726115e-02,  2.9878480e-02, ...,\n",
       "        -1.5790334e-04,  8.9958087e-03,  5.9316597e-05],\n",
       "       [ 6.5395306e-03,  2.1726115e-02,  2.9878480e-02, ...,\n",
       "        -1.5790334e-04,  8.9958087e-03,  5.9316597e-05],\n",
       "       [ 6.5395306e-03,  2.1726115e-02,  2.9878480e-02, ...,\n",
       "        -1.5790334e-04,  8.9958087e-03,  5.9316597e-05]], dtype=float32)"
      ]
     },
     "execution_count": 25,
     "metadata": {},
     "output_type": "execute_result"
    }
   ],
   "source": [
    "predicted_sequences"
   ]
  },
  {
   "cell_type": "code",
   "execution_count": 26,
   "metadata": {
    "execution": {
     "iopub.execute_input": "2023-08-19T17:03:38.515754Z",
     "iopub.status.busy": "2023-08-19T17:03:38.515299Z",
     "iopub.status.idle": "2023-08-19T17:03:38.610266Z",
     "shell.execute_reply": "2023-08-19T17:03:38.609154Z",
     "shell.execute_reply.started": "2023-08-19T17:03:38.515697Z"
    }
   },
   "outputs": [],
   "source": [
    "# Reshape predicted_sequences to match the shape of the original sequences\n",
    "predicted_sequences_reshaped = predicted_sequences.reshape(X_test_scaled.shape)\n",
    "\n",
    "# Inverse transform the scaled predicted values to the original scale\n",
    "predicted_sequences_original_scale = scaler.inverse_transform(predicted_sequences_reshaped)"
   ]
  },
  {
   "cell_type": "code",
   "execution_count": 27,
   "metadata": {
    "execution": {
     "iopub.execute_input": "2023-08-19T17:03:38.612256Z",
     "iopub.status.busy": "2023-08-19T17:03:38.611845Z",
     "iopub.status.idle": "2023-08-19T17:03:38.622178Z",
     "shell.execute_reply": "2023-08-19T17:03:38.620804Z",
     "shell.execute_reply.started": "2023-08-19T17:03:38.612219Z"
    }
   },
   "outputs": [
    {
     "data": {
      "text/plain": [
       "array([[ 3.5318156e-04,  1.4095649e-03,  1.1000787e-03, ...,\n",
       "        -1.3833766e-06,  1.8673044e-04,  5.1362781e-07],\n",
       "       [ 3.5318156e-04,  1.4095649e-03,  1.1000787e-03, ...,\n",
       "        -1.3833766e-06,  1.8673044e-04,  5.1362781e-07],\n",
       "       [ 3.5318156e-04,  1.4095649e-03,  1.1000787e-03, ...,\n",
       "        -1.3833766e-06,  1.8673044e-04,  5.1362781e-07],\n",
       "       ...,\n",
       "       [ 3.5318156e-04,  1.4095649e-03,  1.1000787e-03, ...,\n",
       "        -1.3833766e-06,  1.8673044e-04,  5.1362781e-07],\n",
       "       [ 3.5318156e-04,  1.4095649e-03,  1.1000787e-03, ...,\n",
       "        -1.3833766e-06,  1.8673044e-04,  5.1362781e-07],\n",
       "       [ 3.5318156e-04,  1.4095649e-03,  1.1000787e-03, ...,\n",
       "        -1.3833766e-06,  1.8673044e-04,  5.1362781e-07]], dtype=float32)"
      ]
     },
     "execution_count": 27,
     "metadata": {},
     "output_type": "execute_result"
    }
   ],
   "source": [
    "predicted_sequences_original_scale"
   ]
  },
  {
   "cell_type": "code",
   "execution_count": 28,
   "metadata": {
    "execution": {
     "iopub.execute_input": "2023-08-19T17:03:38.624660Z",
     "iopub.status.busy": "2023-08-19T17:03:38.624268Z",
     "iopub.status.idle": "2023-08-19T17:03:38.635327Z",
     "shell.execute_reply": "2023-08-19T17:03:38.634142Z",
     "shell.execute_reply.started": "2023-08-19T17:03:38.624628Z"
    }
   },
   "outputs": [
    {
     "data": {
      "text/plain": [
       "4984"
      ]
     },
     "execution_count": 28,
     "metadata": {},
     "output_type": "execute_result"
    }
   ],
   "source": [
    "num_features"
   ]
  },
  {
   "cell_type": "code",
   "execution_count": 29,
   "metadata": {
    "execution": {
     "iopub.execute_input": "2023-08-19T17:03:38.637295Z",
     "iopub.status.busy": "2023-08-19T17:03:38.636901Z",
     "iopub.status.idle": "2023-08-19T17:03:39.141392Z",
     "shell.execute_reply": "2023-08-19T17:03:39.140158Z",
     "shell.execute_reply.started": "2023-08-19T17:03:38.637262Z"
    }
   },
   "outputs": [],
   "source": [
    "predicted_sequences_words = tfidf_vectorizer.inverse_transform(predicted_sequences_original_scale)"
   ]
  },
  {
   "cell_type": "code",
   "execution_count": 30,
   "metadata": {
    "execution": {
     "iopub.execute_input": "2023-08-19T17:03:39.143267Z",
     "iopub.status.busy": "2023-08-19T17:03:39.142885Z",
     "iopub.status.idle": "2023-08-19T17:03:46.055154Z",
     "shell.execute_reply": "2023-08-19T17:03:46.054044Z",
     "shell.execute_reply.started": "2023-08-19T17:03:39.143235Z"
    }
   },
   "outputs": [],
   "source": [
    "reconstructed_sequences = [\"\".join(word) for word in predicted_sequences_words]"
   ]
  },
  {
   "cell_type": "code",
   "execution_count": 34,
   "metadata": {
    "execution": {
     "iopub.execute_input": "2023-08-19T17:16:51.060226Z",
     "iopub.status.busy": "2023-08-19T17:16:51.059803Z",
     "iopub.status.idle": "2023-08-19T17:16:51.066753Z",
     "shell.execute_reply": "2023-08-19T17:16:51.065534Z",
     "shell.execute_reply.started": "2023-08-19T17:16:51.060193Z"
    }
   },
   "outputs": [
    {
     "name": "stdout",
     "output_type": "stream",
     "text": [
      "aaaaaaaaaaacaaaaagaaaaanaaaaataaaacaaaaaccaaaacgaaaacnaaaactaaaagaaaaagcaaaaggaaaagnaaaagtaaaannaaaataaaaatcaaaatgaaaatnaaaattaaacaaaaacacaaacagaaacanaaacataaaccaaaacccaaaccgaaaccnaaacctaaacgaaaacgcaaacggaaacgtaaacnnaaactaaaactcaaactgaaactnaaacttaaagaaaaagacaaagagaaaganaaagataaagcaaaagccaaagctaaaggaaaaggcaaagggaaaggnaaaggtaaagnnaaagtaaaagtcaaagtgaaagtnaaagttaaannnaaataaaaatacaaatagaaatanaaatataaatcaaaatccaaatcgaaatctaaatgaaaatgcaaatggaaatgnaaatgtaaatnnaaattaaaattcaaattgaaattnaaatttaacaaaaacaacaacaagaacaanaacaataacacaaacaccaacacgaacacnaacactaacagaaacagcaacaggaacagnaacagtaacannaacataaacatcaacatgaacatnaacattaaccaaaaccacaaccagaaccanaaccataacccaaacccgaaccctaaccgaaaccgcaaccggaaccgtaaccnnaacctaaacctcaacctgaacctnaaccttaacgaaaacgagaacgataacgcaaacgccaacgctaacggaaacggcaacgggaacggtaacgnnaacgtaaacgtcaacgtgaacgttaacnnnaactaaaactacaactagaactataactcaaactccaactcgaactcnaactctaactgaaactgcaactggaactgtaactnnaacttaaacttcaacttgaacttnaactttaagaaaaagaacaagaagaagaanaagaataagacaaagaccaagacgaagactaagagaaagagcaagaggaagagnaagagtaagannaagataaagatcaagatgaagatnaagattaagcaaaagcacaagcagaagcataagccaaagcccaagccgaagcctaagcgcaagcggaagcgtaagcnnaagctaaagctcaagctgaagcttaaggaaaaggacaaggagaaggataaggcaaaggccaaggcgaaggctaagggaaagggcaaggggaagggtaaggnnaaggtaaaggtcaaggtgaaggtnaaggttaagnnnaagtaaaagtacaagtagaagtataagtcaaagtccaagtcgaagtctaagtgaaagtgcaagtggaagtgtaagtnnaagttaaagttcaagttgaagttnaagtttaannnaaannnnaataaaaataacaataagaataanaataataatacaaataccaatacgaatacnaatactaatagaaatagcaataggaatagnaatagtaatannaatataaatatcaatatgaatatnaatattaatcaaaatcacaatcagaatcataatccaaatcccaatccgaatcctaatcgaaatcgcaatcggaatcgtaatcnnaatctaaatctcaatctgaatcttaatgaaaatgacaatgagaatgataatgcaaatgccaatgcgaatgcnaatgctaatggaaatggcaatgggaatggnaatggtaatgnnaatgtaaatgtcaatgtgaatgtnaatgttaatnngaatnnnaattaaaattacaattagaattanaattataattcaaattccaattcgaattcnaattctaattgaaattgcaattggaattgnaattgtaattnnaatttaaatttcaatttgaatttnaattttacaaaaacaaacacaaagacaaanacaaatacaacaacaaccacaacgacaacnacaactacaagaacaagcacaaggacaagnacaagtacaannacaataacaatcacaatgacaatnacaattacacaaacacacacacagacacanacacatacaccaacacccacaccgacaccnacacctacacgaacacgcacacggacacgtacacnnacactaacactcacactgacacttacagaaacagacacagagacaganacagatacagcaacagccacagcgacagctacaggaacaggcacagggacaggnacaggtacagnnacagtaacagtcacagtgacagttacannnacataaacatacacatagacatatacatcaacatccacatcgacatctacatgaacatgcacatggacatgnacatgtacatnnacattaacattcacattgacattnacatttaccaaaaccaacaccaagaccaataccacaaccaccaccacgaccactaccagaaccagcaccaggaccagtaccannaccataaccatcaccatgaccattacccaaacccacacccagacccataccccaacccccaccccgacccgcacccggacccgtacccnnaccctaaccctcaccctgacccttaccgaaaccgacaccgagaccgataccgcaaccgccaccgctaccggaaccggcaccgggaccggtaccgtaaccgtcaccgtgaccgttaccnnnacctaaacctacacctagacctatacctcaacctccacctcgacctctacctgaacctgcacctggacctgtacctnnaccttaaccttcaccttgacctttacgaaaacgaacacgaagacgaatacgacaacgaccacgacgacgactacgagaacgagcacgaggacgagtacgataacgatcacgatgacgattacgcaaacgcacacgcagacgcatacgccaacgcccacgcctacgcgaacgcgcacgcggacgcgtacgctaacgctcacgctgacgcttacggaaacggacacggagacggatacggcaacggccacggcgacgggcacgggtacggtaacggtcacggtgacggttacgnnnacgtaaacgtacacgtagacgtatacgtcaacgtccacgtcgacgtctacgtgaacgtgcacgtggacgtgtacgttaacgttcacgttgacgtttacnnnnactaaaactaacactaagactaatactacaactaccactacgactactactagaactagcactaggactagnactagtactannactataactatcactatgactattactcaaactcacactcagactcanactcatactccaactcccactccgactcctactcgaactcgcactcggactcgtactcnnactctaactctcactctgactcttactgaaactgacactgagactgatactgcaactgccactgcgactgctactggaactggcactgggactggtactgnnactgtaactgtcactgtgactgtnactgttactnnnacttaaacttacacttagacttatacttcaacttccacttcgacttcnacttctacttgaacttgcacttggacttgtacttnnactttaactttcactttgactttnacttttagaaaaagaaacagaaagagaaanagaaatagaacaagaaccagaacgagaactagaagaagaagcagaaggagaagnagaagtagaannagaataagaatcagaatgagaatnagaattagacaaagacacagacagagacatagaccaagacccagaccgagaccnagacctagacgaagacggagacgtagacnnagactaagactcagactgagacttagagaaagagacagagagagaganagagatagagcaagagccagagcgagagctagaggaagaggcagagggagaggnagaggtagagnnagagtaagagtcagagtgagagttagannnagataaagatacagatagagatatagatcaagatccagatcgagatctagatgaagatgcagatggagatgnagatgtagatnnagattaagattcagattgagattnagatttagcaaaagcaacagcaagagcaatagcacaagcaccagcacgagcactagcagaagcagcagcaggagcagtagcannagcataagcatcagcatgagcattagccaaagccacagccagagccatagccccagcccgagccctagccgaagccgcagccgtagcctaagcctcagcctgagccttagcgaaagcgatagcgcaagcgctagcggaagcggcagcgggagcgtaagcgtcagcgtgagcgttagcnnnagctaaagctacagctagagctatagctcaagctccagctcgagctctagctgaagctgcagctggagctgtagctnnagcttaagcttcagcttgagctttaggaaaaggaacaggaagaggaataggacaaggaccaggacgaggactaggagaaggagcaggaggaggagtaggannaggataaggatcaggatgaggattaggcaaaggcacaggcagaggcataggccaaggcccaggccgaggcctaggcgaaggcggaggcgtaggcnnaggctaaggctcaggctgaggctnaggcttagggaaagggacagggagaggganagggatagggcaagggccagggcgagggctaggggaaggggcaggggtagggnnagggtaagggtgagggttaggnnnaggtaaaggtacaggtagaggtataggtcaaggtccaggtctaggtgaaggtgcaggtggaggtgnaggtgtaggtnnaggttaaggttcaggttgaggtttagnnnnagnnntagtaaaagtaacagtaagagtaatagtacaagtaccagtacgagtacnagtactagtagaagtagcagtaggagtagtagtannagtataagtatcagtatgagtattagtcaaagtcacagtcagagtcatagtccaagtcccagtcctagtcgaagtcgcagtcggagtcgtagtcnnagtctaagtctcagtctgagtcttagtgaaagtgacagtgagagtgatagtgcaagtgccagtgcgagtgctagtggaagtggcagtgggagtggtagtgnnagtgtaagtgtcagtgtgagtgttagtnnnagttaaagttacagttagagttatagttcaagttccagttcgagttctagttgaagttgcagttggagttgtagttnnagtttaagtttcagtttgagttttanannnannnaaannnacannncaannnnaannnncannnngannnnnannnntannnttantnnnataaaaataaacataaagataaanataaatataacaataaccataacgataacnataactataagaataagcataaggataagtataannataataataatcataatgataatnataattatacaaatacacatacagatacatataccaatacccataccgataccnatacctatacgaatacgcatacgtatacnnatactaatactcatactgatacttatagaaatagacatagagatagatatagcaatagccatagcgatagctataggaataggcatagggataggtatagnnatagtaatagtcatagtgatagttatannnatataaatatacatatagatatatatatcaatatccatatcgatatctatatgaatatgcatatggatatgtatatnnatattaatattcatattgatattnatatttatcaaaatcaacatcaagatcaatatcacaatcaccatcacgatcactatcagaatcagcatcaggatcagtatcannatcataatcatcatcatgatcattatccaaatccacatccagatccatatcccaatccccatccctatccgaatccggatccgtatccnnatcctaatcctcatcctgatcctnatccttatcgacatcgagatcgatatcgcaatcgccatcgctatcggaatcggcatcggtatcgtaatcgtcatcgtgatcgttatcnnnatctaaatctacatctagatctatatctcaatctccatctcgatctctatctgaatctgcatctggatctgnatctgtatctnnatcttaatcttcatcttgatctttatgaaaatgaacatgaagatgaatatgacaatgaccatgacgatgacnatgactatgagaatgagcatgaggatgagtatgannatgataatgatcatgatgatgatnatgattatgcaaatgcacatgcagatgcatatgccaatgcccatgccgatgccnatgcctatgcgaatgcgcatgcggatgcgtatgcnnatgctaatgctcatgctgatgctnatgcttatggaaatggacatggagatggatatggcaatggccatggcgatggcnatggctatgggaatgggcatggggatgggtatggnnatggtaatggtcatggtgatggtnatggttatgnnnatgtaaatgtacatgtagatgtatatgtcaatgtccatgtcgatgtctatgtgaatgtgcatgtggatgtgnatgtgtatgtnnatgttaatgttcatgttgatgttnatgtttatnnngatnnnnattaaaattaacattaagattaanattaatattacaattaccattacgattacnattactattagaattagcattaggattagtattannattataattatcattatgattatnattattattcaaattcacattcagattcatattccaattcccattccgattcctattcgaattcgtattcnnattctaattctcattctgattctnattcttattgaaattgacattgagattgatattgcaattgccattgcgattgctattggaattggcattgggattggtattgnnattgtaattgtcattgtgattgtnattgttattnnnatttaaatttacatttagatttanatttatatttcaatttccatttcgatttctatttgaatttgcatttggatttgnatttgtatttnnattttaattttcattttgattttnatttttcaaaaacaaaaccaaaagcaaaancaaaatcaaacacaaacccaaacgcaaacncaaactcaaagacaaagccaaaggcaaagtcaaanncaaatacaaatccaaatgcaaatncaaattcaacaacaacaccaacagcaacatcaaccacaaccccaaccgcaacctcaacgacaacggcaacgtcaacnncaactacaactccaactgcaacttcaagaacaagaccaagagcaagatcaagcacaagcccaagcgcaagctcaaggacaaggccaagggcaaggtcaagnncaagtacaagtccaagtgcaagttcaannncaataacaataccaatagcaatatcaatcacaatcccaatcgcaatctcaatgacaatgccaatggcaatgtcaatnncaattacaattccaattgcaattncaatttcacaaacacaaccacaagcacaatcacacacacacccacacgcacacncacactcacagacacagccacaggcacagtcacanncacatacacatccacatgcacattcaccaacaccaccaccagcaccatcacccacacccccacccgcaccctcaccgacaccgccaccggcaccgtcaccnncacctacacctccacctgcaccttcacgaacacgaccacgagcacgatcacgcacacgcccacgcgcacgctcacggacacggccacggtcacgtacacgtccacgtgcacgttcacnnncactaacactaccactagcactatcactcacactcccactcgcactctcactgacactgccactggcactgtcactnncacttacacttccacttgcactttcagaaacagaaccagaagcagaancagaatcagacacagacccagacgcagactcagagacagagccagaggcagagtcaganncagatacagatccagatgcagattcagcaacagcaccagcagcagcatcagccacagccccagccgcagcctcagcgacagcgccagcgtcagcnncagctacagctccagctgcagcttcaggaacaggaccaggagcaggatcaggcacaggcccaggctcagggacagggccagggtcaggnncaggtacaggtccaggtgcaggttcagnnncagtaacagtaccagtagcagtatcagtcacagtcccagtcgcagtctcagtgacagtgccagtggcagtgtcagtnncagttacagttccagttgcagtttcannnncataaacataaccataagcataatcatacacatacccatacgcatactcatagacatagccataggcatagtcatatacatatccatatgcatattcatcaacatcaccatcagcatcatcatccacatccccatccgcatcctcatcgacatcggcatcgtcatcnncatctacatctccatctgcatcttcatgaacatgaccatgagcatgatcatgcacatgcccatgcgcatgctcatggacatggccatgggcatggtcatgnncatgtacatgtccatgtgcatgttcatnnncattaacattaccattagcattancattatcattcacattcccattcgcattctcattgacattgccattggcattgtcattnncatttacatttccatttgcatttncattttccaaaaccaaacccaaagccaaanccaaatccaacaccaaccccaacgccaactccaagaccaagcccaaggccaagtccaannccaataccaatcccaatgccaattccacaaccacacccacagccacatccaccaccacccccaccgccacctccacgaccacgcccacgtccacnnccactaccactcccactgccacttccagaaccagacccagagccagatccagcaccagcgccagctccaggaccaggcccagggccaggtccagnnccagtaccagtcccagtgccagtnccagttccannnccataaccatacccatagccatatccatcaccatccccatctccatgaccatgcccatggccatgtccatnnccattaccattcccattgccatttcccaaacccaaccccaagcccaatcccacacccacccccactcccagacccagccccaggcccagtcccatacccatccccatgcccattccccaaccccagccccatcccccaccccctccccgaccccgcccccgtcccctacccctgccccttcccgatcccgcacccgcgcccggacccgggcccggtcccgtacccgtccccgtgcccgttcccnnnccctaaccctacccctagccctatccctcaccctccccctcgccctctccctgaccctgcccctggccctgtcccttacccttccccttgccctttccgaaaccgaacccgaagccgaatccgaccccgacgccgactccgaggccgataccgatcccgattccgcaaccgcacccgcagccgcatccgccaccgcctccgcgaccgctaccgctcccgctgccgcttccggaaccggagccggctccgggtccggtaccggtgccggttccgnnnccgtaaccgtagccgtatccgtccccgtctccgtgaccgtgcccgtggccgtgtccgttaccgttcccgttgccgtttccnnnnccnnntcctaaacctaaccctaagcctaatcctacacctacccctacgcctactcctagacctagccctaggcctagtcctanncctatacctatccctatgcctattcctcaacctcaccctcagcctcatcctccacctcctcctcgacctcggcctcgtcctctacctctccctctgcctcttcctgaacctgaccctgagcctgatcctgcacctgcccctgcgcctgctcctggacctggccctggtcctgnncctgtacctgtccctgtgcctgttcctnnnccttaaccttacccttagccttatccttcaccttccccttcgccttctccttgaccttgcccttggccttgtccttnncctttacctttccctttgccttttcgaaaacgaaagcgaaatcgaacacgaacccgaacgcgaacncgaactcgaagacgaaggcgaagtcgaatacgaatgcgaattcgacaacgacagcgacatcgaccacgaccccgacgacgacggcgacgtcgactacgactccgagaacgagagcgagatcgagctcgaggacgaggccgagggcgaggtcgagtacgagtgcgataacgataccgatagcgatatcgatcacgatcgcgatctcgatgccgatggcgatgtcgattacgattccgattgcgatttcgcaaacgcaaccgcaagcgcaatcgcacacgcacccgcactcgcagacgcagccgcaggcgcagtcgcatacgcatccgcatgcgcattcgccaacgccaccgccagcgccatcgccctcgccgacgcctacgcctccgcctgcgcgaacgcgaccgcgatcgcgcacgcgctcgcggacgcgtacgcgtccgcgttcgcnnncgctaacgctaccgctagcgctatcgctcacgctcccgctctcgctgacgctgccgctgtcgcttacgcttccgcttgcgctttcggaaacggaaccggaagcggaatcggacacggactcggagccggaggcggagtcggatgcggattcggcaacggcaccggcagcggcatcggccacggccccggcctcggcgccggcggcggcgtcggctacggctgcggcttcgggaacgggcacgggcgcgggctcgggtacgggtccgggtgcgggttcggnnncggtaacggtaccggtagcggtancggtatcggtcgcggtctcggtgacggtgccggtggcggtgtcggttacggttccggttgcggtttcgnnnncgtaaacgtaaccgtaagcgtaatcgtacccgtacgcgtactcgtagacgtagccgtaggcgtagtcgtatacgtatgcgtattcgtcaacgtcaccgtcatcgtccacgtccgcgtcctcgtcggcgtctacgtctgcgtcttcgtgaacgtgaccgtgagcgtgatcgtgcacgtgcccgtgcgcgtgcncgtgctcgtggacgtggccgtggtcgtgtacgtgtccgtgtgcgtgttcgtnnncgttaacgttagcgttatcgttcccgttcgcgttctcgttgacgttgccgttggcgttgtcgtttacgtttccgtttgcgttttcnnnnacnnnnccnnnngcnnnnncnnnntcnnntacnnntgctaaaactaaacctaaagctaaanctaaatctaacactaaccctaactctaagactaagcctaaggctaagtctaannctaatactaatcctaatgctaatnctaattctacaactacacctacagctacatctaccactacccctaccgctacctctacgactacgcctacggctacgtctacnnctactactactcctactgctacttctagaactagacctagagctagatctagcactagccctagcgctagctctaggactaggcctagggctaggtctagnnctagtactagtcctagtgctagttctannnctataactatacctatagctatanctatatctatcactatccctatcgctatctctatgactatgcctatggctatgtctatnnctattactattcctattgctattnctatttctcaaactcaacctcaagctcaanctcaatctcacactcaccctcacgctcactctcagactcagcctcaggctcagtctcannctcatactcatcctcatgctcattctccaactccacctccagctccanctccatctcccactcccgctccctctccgcctccgtctccnnctcctactcctcctcctgctccttctcgaactcgacctcgagctcgatctcgcactcgctctcggactcggcctcggtctcgtactcgtcctcgtgctcgttctcnnnctctaactctacctctagctctatctctcactctccctctcgctctctctctgactctgcctctggctctgtctctnnctcttactcttcctcttgctctttctgaaactgaacctgaagctgaatctgacactgaccctgacgctgactctgagactgagcctgaggctgagtctgannctgatactgatcctgatgctgattctgcaactgcacctgcagctgcanctgcatctgccactgcccctgccgctgcctctgcgactgcgcctgcggctgcgtctgcnnctgctactgctcctgctgctgctnctgcttctggaactggacctggagctggatctggcactggccctggcgctggctctgggactgggcctgggtctggnnctggtactggtcctggtgctggtnctggttctgnnnctgtaactgtacctgtagctgtatctgtcactgtccctgtcgctgtctctgtgactgtgcctgtggctgtgnctgtgtctgtnnctgttactgttcctgttgctgttnctgtttctnnnncttaaacttaaccttaagcttaatcttacacttacccttacgcttacncttactcttagacttagccttaggcttagtcttanncttatacttatccttatgcttattcttcaacttcaccttcagcttcatcttccacttccccttcctcttcgacttcgccttcggcttcgtcttcnncttctacttctccttctgcttctncttcttcttgaacttgaccttgagcttgatcttgcacttgcccttgcgcttgctcttggacttggccttgggcttggtcttgnncttgtacttgtccttgtgcttgtncttgttcttnnnctttaactttacctttagctttanctttatctttcactttccctttcgctttctctttgactttgcctttggctttgnctttgtctttnncttttacttttccttttgcttttnctttttcycacagaaaaagaaaacgaaaaggaaaangaaaatgaaacagaaaccgaaacggaaacngaaactgaaagagaaagcgaaagggaaagtgaaanngaaatagaaatcgaaatggaaatngaaattgaacaagaacacgaacaggaacatgaaccagaacccgaaccggaacctgaacgagaacgcgaacgggaacgtgaacnngaactagaactcgaactggaacttgaagaagaagacgaagaggaagangaagatgaagcagaagccgaagcggaagctgaaggagaaggcgaaggggaaggtgaagnngaagtagaagtcgaagtggaagttgaannngaataagaatacgaataggaatangaatatgaatcagaatccgaatctgaatgagaatgcgaatgggaatgtgaatnngaattagaattcgaattggaattngaatttgacaaagacaacgacaaggacaangacaatgacacagacaccgacacggacactgacagagacagcgacagggacagtgacanngacatagacatcgacatggacatngacattgaccaagaccacgaccaggaccatgacccagaccccgacccggaccctgaccgagaccgcgaccgtgaccnngacctagacctcgacctggaccttgacgaagacgacgacgaggacgatgacgcagacgcggacgctgacggcgacggggacggtgacgtagacgtggacgttgacnnngactaagactacgactaggactatgactcagactccgactctgactgagactgggactgtgactnngacttagacttcgacttggactttgagaaagagaacgagaaggagaatgagacagagaccgagacggagactgagagagagagcgagagggagagtgaganngagatagagatcgagatggagattgagcaagagcacgagcaggagcatgagccagagcccgagccggagcctgagcgcgagcgtgagctagagctcgagctggagcttgaggaagaggacgaggaggaggatgaggcagaggccgaggcggaggctgagggagagggcgagggggagggtgaggnngaggtagaggtcgaggtggaggttgagnnngagtaagagtacgagtaggagtatgagtcagagtccgagtcggagtctgagtgagagtgcgagtgggagtgtgagtnngagttagagttcgagttggagttngagtttgannnngataaagataacgataaggataatgatacagataccgatactgatagagatagcgatagggatagtgatanngatatagatatcgatatggatattgatcaagatcacgatcaggatcatgatccagatcctgatcgagatcgcgatcnngatctagatctcgatctggatcttgatgaagatgacgatgaggatgatgatgcagatgccgatgcggatgctgatggagatggcgatggggatggtgatgnngatgtagatgtcgatgtggatgttgatnnngattaagattacgattaggattatgattcagattccgattcggattctgattgagattgcgattgggattgtgattnngatttagatttcgatttggattttgcaaaagcaaacgcaaaggcaaatgcaacagcaaccgcaacggcaactgcaagagcaagcgcaagggcaagtgcaanngcaatagcaatcgcaatggcaatngcaattgcacaagcacacgcacaggcacatgcaccagcacccgcaccggcacctgcacgagcacgcgcacgggcacgtgcacnngcactagcactcgcactggcacttgcagaagcagacgcagaggcagangcagatgcagcagcagccgcagcggcagctgcaggagcaggcgcaggggcaggtgcagnngcagtagcagtcgcagtggcagttgcannngcataagcatacgcataggcatatgcatcagcatcggcatctgcatgagcatgcgcatgggcatgtgcatnngcattagcattcgcattggcatttgccaaagccaacgccaaggccaatgccacagccaccgccacggccactgccagagccagcgccagggccagtgccatagccatcgccatggccattgcccaagcccatgccccagcccccgccccggcccctgcccgtgccctagccctcgccctggcccttgccgaagccgacgccgatgccgcagccgccgccgctgccggcgccggtgccgtagccgtggccgttgccnnngcctaagcctacgcctaggcctatgcctcagcctcggcctctgcctgagcctgcgcctgggcctgtgcctnngccttagccttcgccttggcctttgcgaaagcgaacgcgaaggcgaatgcgaccgcgacggcgagagcgagcgcgatagcgatcgcgattgcgcaagcgcacgcgcaggcgcatgcgccggcgcgagcgcgtgcgcnngcgctagcgctggcgcttgcggaagcggacgcggaggcggcagcggctgcgggcgcgggtgcggnngcggtagcggtggcggttgcgtaagcgtacgcgtaggcgtatgcgtcagcgtctgcgtgagcgtgcgcgtgggcgtgtgcgttagcgttcgcgttggcgtttgcnnnngctaaagctaacgctaaggctaatgctacagctaccgctacggctactgctagagctagcgctagggctagtgctanngctatagctatcgctatggctattgctcaagctcacgctcaggctcatgctccagctcctgctcgagctcgcgctcgggctcgtgctctagctctcgctctggctctngctcttgctgaagctgacgctgaggctgatgctgcagctgccgctgcggctgcngctgctgctggagctggcgctggtgctgnngctgtagctgtcgctgtggctgttgctnnngcttaagcttacgcttaggcttatgcttcagcttccgcttcggcttctgcttgagcttgcgcttgggcttgngcttgtgcttnngctttagctttcgctttggctttngcttttgcycacggaaaaggaaacggaaagggaaanggaaatggaacaggaaccggaacgggaactggaagaggaagcggaaggggaagtggaannggaataggaatcggaatgggaatnggaattggacaaggacacggacagggacatggaccaggacccggacctggacgaggacgcggacgtggacnnggactaggactcggactgggacttggagaaggagacggagagggagatggagcaggagccggagctggaggaggaggcggagggggaggtggagnnggagtaggagtcggagtgggagttggannnggataaggatacggatagggatatggatcaggatccggatctggatgaggatgcggatggggatgtggattaggattgggatttggcaaaggcaacggcaagggcaatggcacaggcaccggcacgggcactggcagaggcagcggcaggggcagtggcannggcataggcatcggcatgggcattggccaaggccacggccagggccatggcccaggccccggccctggccgcggccggggcctaggcctcggccttggcgaaggcgacggcgatggcgccggcgcgggcggcggcgggggcggnggcggtggcgtaggcgtgggcgttggcnnnggctaaggctacggctagggctatggctcaggctctggctgaggctgcggctggggctgnggctgtggctnnggcttaggcttcggcttgggctttgggaaagggaacgggaaggggaatgggacagggaccgggactgggagagggagcgggaggggganngggatagggatcgggattgggcaagggcacgggcaggggcatgggccagggcccgggccggggcgagggcgcgggcgtgggcnngggctagggctcgggctggggcttggggaaggggacggggagggggcaggggccggggcgggggctgggggaggggtaggggtgggggttgggnnngggtaagggtacgggtaggggtangggtatgggtcagggtgagggtgcgggtgggggtgtgggttagggttcgggttggggtttggnnnnggtaaaggtaacggtaagggtaatggtacaggtaccggtacgggtactggtagaggtagcggtaggggtagtggtannggtataggtatgggtattggtcaaggtcacggtcagggtcatggtccaggtcccggtcctggtcgcggtcgtggtctaggtcttggtgaaggtgacggtgagggtgatggtgcaggtgccggtgcgggtgctggtggaggtggcggtgggggtggnggtggtggtgnnggtgtaggtgtcggtgtgggtgttggtnnnggttaaggttacggttagggttatggttcaggttccggttcgggttctggttgaggttgcggttggggttgtggttnnggtttaggtttcggtttgggtttnggttttgnnnnagnnnncgnnnnggnnnnngnnnntgnnnttgtaaaagtaaacgtaaaggtaaatgtaacagtaaccgtaactgtaagagtaagcgtaagggtaagtgtaanngtaatagtaatcgtaatggtaattgtacaagtacacgtacaggtacatgtaccagtacccgtaccggtacctgtacgagtacgcgtacgggtacgtgtacnngtactagtactcgtactggtacttgtagaagtagacgtagaggtagatgtagcagtagccgtagcggtagctgtaggagtaggcgtaggggtaggtgtagnngtagtagtagtcgtagtggtagttgtannngtataagtatacgtataggtatatgtatcagtatctgtatgagtatgcgtatgggtatgtgtatnngtattagtattcgtattggtatttgtcaaagtcaacgtcaaggtcaatgtcacagtcaccgtcacggtcactgtcagagtcagcgtcagggtcagngtcagtgtcanngtcatagtcatcgtcatggtcattgtccaagtccacgtccaggtccatgtcccagtccctgtccgagtccgcgtccgggtccgtgtcctagtcctcgtcctggtccttgtcgaagtcgaggtcgatgtcgcagtcgcggtcgctgtcggagtcggcgtcggtgtcgtagtcgtggtcgttgtcnnngtctaagtctacgtctaggtctatgtctcagtctccgtctctgtctgagtctgcgtctgggtctgtgtctnngtcttagtcttcgtcttggtctttgtgaaagtgaacgtgaaggtgaatgtgacagtgaccgtgacggtgactgtgagagtgagcgtgagggtgagtgtganngtgatagtgatcgtgatggtgattgtgcaagtgcacgtgcaggtgcatgtgccagtgcccgtgcctgtgcgagtgcgcgtgcgggtgcgtgtgcnngtgctagtgctcgtgctggtgctngtgcttgtggaagtggacgtggaggtggatgtggcagtggccgtggcggtggcngtggctgtgggagtgggcgtgggggtgggtgtggnngtggtagtggtcgtggtggtggttgtgnnngtgtaagtgtacgtgtaggtgtatgtgtcagtgtccgtgtcggtgtctgtgtgagtgtgcgtgtgggtgtgngtgtgtgtgtnngtgttagtgttcgtgttggtgttngtgtttgtnnnngttaaagttaacgttaaggttaatgttacagttaccgttacggttactgttagagttagcgttagggttagtgttanngttatagttatcgttatggttattgttcaagttcacgttcaggttcatgttccagttcccgttccggttcctgttcgagttcgcgttcgggttcgtgttcnngttctagttctcgttctggttcttgttgaagttgacgttgaggttgatgttgcagttgccgttgcggttgctgttggagttggcgttggggttggtgttgnngttgtagttgtcgttgtggttgttgttnnngtttaagtttacgtttaggtttangtttatgtttcagtttccgtttcggtttcngtttctgtttgagtttgcgtttgggtttgngtttgtgtttnngttttagttttcgttttggttttngtttttnaaaaanaaaacnaaaagnaaaatnaaacanaaaccnaaaganaaagtnaaannnaaatanaaatgnaaattnaacaanaacagnaacatnaaccanaactgnaacttnaagaanaagagnaannnnaataanaatatnaatctnaatganaatgtnaatnnnaattanaatttnacaaanacaacnacaatnacacanacaganacagtnacatanacatgnacattnaccaanaccatnacnnnnactaanactcanactgtnacttanactttnagaaanagaatnagactnagatgnagattnagcacnagctanagcttnaggcanaggttnagnnnnagttgnagtttnannnnnataaanataatnatacanatatanatatgnatattnatcagnatcatnatctanatcttnatgaanatggcnatgtanatgtgnatgttnatnnnnattaanattatnattcanattctnattgcnattgtnattnnnatttanatttcnatttgnattttncaaaancaaatncaacancaactncaagancaatancacagncacatncacttncagaancagacncaggcncaggtncagnnncagttncannnncatcancatctncatttnccactnccnnnncctttncggccncnnnnnctaaanctaatnctactnctattnctcaanctgctnctgttnctnnnncttaancttatncttctncttgancttgcncttgtnctttanctttcnctttgncttttngaaaangaaatngaacgngaagangaaggngaatangagctngagttngannnngatacngatggngattangattgngatttngcagtngccttngcnnnngctgcngctgtngcttangcttgngctttnggaacnggacanggctanggcttnggnnnnggtganggttcnggtttngnnnnngtaaangtaacngtacangtactngtatangtattngtcttngtgaangtgacngtgatngtgctngtggtngtgtangtgttngtnnnngttaangttacngttatngttctngttgtngtttangtttgngttttnnaaaannaaacnnaaagnnaaannnaaatnnaacannaaccnnaactnnaagannaaggnnaagtnnaannnnaatannaatcnnaatgnnaatnnnaattnnacaannacacnnacagnnacatnnaccannacctnnacnnnnactannactcnnactgnnacttnnagaannagacnnagagnnagatnnagcannagctnnaggannaggcnnaggtnnagnnnnagtannagtcnnagtgnnagttnnannnnnataannatacnnatagnnatatnnatcannatctnnatgannatgcnnatggnnatgtnnatnnnnattannattcnnattgnnattnnnatttnncaaanncaacnncaagnncaatnncacanncaccnncactnncaganncagcnncaggnncagnnncagtnncannnncatanncatcnncatgnncattnnccaannccacnnccagnnccatnnccctnnccnnnncctanncctgnnccttnncggcnncnnnnnctaannctacnnctagnnctatnnctcannctccnnctctnnctgannctgcnnctggnnctgtnnctnnnncttanncttcnncttgnnctttnngaaanngaacnngaagnngaatnngacanngactnngaganngagcnngaggnngagtnngannnngatanngatcnngatgnngattnngcaanngcacnngcagnngcatnngccanngcctnngcgtnngcnnnngctanngctcnngctgnngcttnnggaannggacnnggagnnggatnnggcannggccnnggctnnggnnnnggtannggtgnnggttnngnnnnngtaanngtacnngtagnngtatnngtcanngtccnngtctnngtganngtgcnngtggnngtgtnngtnnnngttanngttcnngttgnngtttnnnaaannnaacnnnaagnnnaannnnaatnnnacannnaccnnnacgnnnacnnnnactnnnagannnagcnnnaggnnnagnnnnagtnnnannnnnatannnatcnnnatgnnnatnnnnattnnncaannncacnnncagnnncannnncatnnnccannncccnnnccgnnnccnnnncctnnncgannncgcnnncggnnncgtnnncnnnnnctannnctcnnnctgnnnctnnnncttnnngaannngacnnngagnnngannnngatnnngcannngccnnngcgnnngcnnnngctnnnggannnggcnnngggnnnggnnnnggtnnngnnnnngtannngtcnnngtgnnngtnnnngttnnnnaannnnacnnnnagnnnnannnnnatnnnncannnnccnnnncgnnnncnnnnnctnnnngannnngcnnnnggnnnngnnnnngtnnnnnannnnncnnnnngnnnnnnnnnnntnnnntannnntcnnnntgnnnntnnnnnttnnntaannntacnnntagnnntannnntatnnntcannntccnnntcgnnntcnnnntctnnntgannntgcnnntggnnntgnnnntgtnnntnannntnnnnntntnnnttannnttcnnnttgnnnttnnnntttnntaaanntaacnntaatnntacanntaccnntactnntaganntagcnntaggnntagtnntannnntatanntatcnntatgnntattnntcaanntcacnntcagnntcatnntccanntcctnntcgtnntcnnnntctanntctcnntctgnntcttnntgaanntgacnntgagnntgatnntgcanntgccnntgctnntgganntggcnntggtnntgnnnntgtanntgtcnntgtgnntgttnntnnnnnttaannttacnnttagnnttannnttatnnttcannttccnnttctnnttgannttgcnnttggnnttgtnnttnnnntttanntttcnntttgnntttnnnttttntaaaantaaatntaacantaatantaatgntaattntacaantacagntacttntagaantagatntaggtntagttntannnntataantatctntatgtntattantatttntcattntccaantcgtantcnnnntctgtntctttntgaaantgaacntgaagntgacantgatantgatgntgattntgcctntgctgntgcttntggaantggctntggtantggtgntggttntgnnnntgtacntgtcantgtctntgttantgttgntgtttntnnnnnttaaanttaacnttaatnttacanttactnttagtnttatanttatgnttattnttcacnttcagnttctanttctgnttcttnttgaanttgccnttgctnttgganttgtanttgttnttnnnntttaantttacntttatntttctntttgcntttggntttgtntttnnnttttanttttgnttttttaaaaataaaactaaaagtaaaantaaaattaaacataaacctaaacgtaaacntaaacttaaagataaagctaaaggtaaagntaaagttaaanntaaatataaatctaaatgtaaatntaaatttaacaataacactaacagtaacantaacattaaccataaccctaaccgtaaccttaacgataacgctaacggtaacgttaacnntaactataactctaactgtaactttaagaataagactaagagtaagantaagattaagcataagcctaagcgtaagcttaaggataaggctaagggtaaggntaaggttaagnntaagtataagtctaagtgtaagtttaannntaataataatactaatagtaatantaatattaatcataatcctaatcgtaatcttaatgataatgctaatggtaatgntaatgttaatnntaattataattctaattgtaattntaattttacaaatacaactacaagtacaantacaattacacatacacctacacgtacacntacacttacagatacagctacaggtacagntacagttacanntacatatacatctacatgtacatntacatttaccaataccactaccagtaccantaccattacccatacccctacccgtacccntacccttaccgataccgctaccggtaccgttaccnntacctatacctctacctgtacctttacgaatacgactacgagtacgattacgcatacgcctacgcgtacgcttacggatacggctacgggtacggttacgnntacgtatacgtctacgtgtacgtttacnnntactaatactactactagtactattactcatactcctactcttactgatactgctactggtactgntactgttactnntacttatacttctacttgtacttntacttttagaaatagaactagaagtagaattagacatagacctagacgtagacttagagatagagctagaggtagagntagagttaganntagatatagatctagatgtagatttagcaatagcactagcagtagcattagccatagccctagccgtagccttagcgatagcgctagcggtagcgttagcnntagctatagctctagctgtagctttaggaataggactaggagtaggattaggcataggcgtaggcttagggatagggctaggggtagggntagggttaggnntaggtataggtctaggtgtaggtttagnnntagtaatagtactagtagtagtantagtattagtcatagtcctagtcgtagtcttagtgatagtgctagtggtagtgttagtnntagttatagttctagttgtagttttannnntataaatataactataagtataantataattatacatatacctatacgtatacntatacttatagatatagctataggtatagttatanntatatatatatctatatgtatatttatcaatatcactatcagtatcattatccatatccctatccgtatccntatccttatcgctatcggtatcgttatcnntatctatatctctatctgtatctntatctttatgaatatgactatgagtatgattatgcatatgcctatgcgtatgcttatggatatggctatgggtatggttatgnntatgtatatgtctatgtgtatgtttatnnntattaatattactattagtattantattattattcatattcctattcttattgatattgctattggtattgntattgttattnntatttatatttctatttgtatttntatttttcaaaatcaaactcaaagtcaaantcaaattcaacatcaacctcaacgtcaacntcaacttcaagatcaagctcaaggtcaagttcaanntcaatatcaatctcaatgtcaatttcacaatcacactcacagtcacattcaccatcaccctcaccgtcaccntcaccttcacgatcacgctcacggtcacgttcacnntcactatcactctcactgtcactttcagaatcagactcagagtcagattcagcatcagcctcagcgtcagcttcaggatcaggctcagggtcaggttcagnntcagtatcagtctcagtgtcagtttcannntcataatcatactcatagtcatattcatcatcatcctcatcgtcatcttcatgatcatgctcatggtcatgttcatnntcattatcattctcattgtcattntcattttccaaatccaactccaagtccaattccacatccacctccacgtccacttccagatccagctccaggtccagttccanntccatatccatctccatgtccatttcccaatcccactcccagtcccattccccatccccttcccgctccctatccctctccctgtccctttccgaatccgactccgattccgcatccgcgtccggatccgggtccgtatccgtgtccgtttccnnntcctaatcctactcctagtcctattcctcatcctcgtcctcttcctgatcctgctcctggtcctgttcctnntccttatccttctccttgtccttntccttttcgaaatcgaactcgaagtcgaattcgacatcgacgtcgagatcgaggtcgagttcgatatcgatctcgatgtcgatttcgcaatcgcactcgcagtcgcattcgccatcgccttcgcgatcgcgctcgctatcgctctcgctgtcgctttcggaatcggagtcggattcggcatcggcctcggcgtcggcttcgggatcggtatcggtgtcggtttcgnnntcgtaatcgtactcgtagtcgtattcgtcatcgtcctcgtcgtcgtcttcgtgatcgtgctcgtggtcgtgttcgttatcgttctcgttgtcgttttcnnnntctaaatctaactctaagtctaantctaattctacatctacctctacgtctacntctacttctagatctagctctaggtctagntctagttctanntctatatctatctctatgtctatntctatttctcaatctcactctcagtctcantctcattctccatctccctctccntctccttctcgatctcgctctcgttctcnntctctatctctctctctgtctctttctgaatctgactctgagtctgattctgcatctgcctctgcgtctgcttctggatctggctctgggtctggttctgnntctgtatctgtctctgtgtctgtntctgtttctnnntcttaatcttactcttagtcttantcttattcttcatcttcctcttcgtcttcttcttgatcttgctcttggtcttgntcttgttcttnntctttatctttctctttgtctttntctttttgaaaatgaaactgaaagtgaaantgaaattgaacatgaacctgaacgtgaacttgaagatgaagctgaaggtgaagntgaagttgaanntgaatatgaatctgaatgtgaatntgaatttgacaatgacactgacagtgacattgaccatgaccctgaccgtgaccntgaccttgacgatgacgctgacggtgacgttgacnntgactatgactctgactgtgactttgagaatgagactgagagtgagattgagcatgagcctgagcgtgagcttgaggatgaggctgagggtgaggttgagnntgagtatgagtctgagtgtgagtttgannntgataatgatactgatagtgatantgatattgatcatgatcctgatcgtgatcttgatgatgatgctgatggtgatgntgatgttgatnntgattatgattctgattgtgattntgattttgcaaatgcaactgcaagtgcaantgcaattgcacatgcacctgcacgtgcacttgcagatgcagctgcaggtgcagntgcagttgcanntgcatatgcatctgcatgtgcatttgccaatgccactgccagtgccattgcccatgcccctgcccgtgcccttgccgatgccgctgccggtgccgttgccnntgcctatgcctctgcctgtgcctntgcctttgcgaatgcgagtgcgcatgcgcgtgcgcntgcgcttgcggatgcggctgcggttgcgtatgcgtctgcgtgtgcgtttgcnnntgctaatgctactgctagtgctantgctattgctcatgctcctgctcgtgctcttgctgatgctgctgctggtgctgntgctgttgctnntgcttatgcttctgcttgtgcttntgcttttgcycatggaaatggaactggaagtggaantggaattggacatggacctggacgtggacntggacttggagatggagctggaggtggagttgganntggatatggatctggatgtggatttggcaatggcactggcagtggcantggcattggccatggccctggccgtggccttggcgatggcggtggcgttggcnntggctatggctctggctgtggctntggctttgggaatgggactgggagtgggattgggcatgggcctgggcgtgggcttggggatggggctgggggtggggttgggtatgggtgtgggtttggnnntggtaatggtactggtagtggtattggtcatggtcctggtcgtggtcttggtgatggtgctggtggtggtgntggtgttggtnntggttatggttctggttgtggttntggttttgnnnatgnnnntgnnnttgtaaatgtaactgtaagtgtaattgtacatgtacctgtacgtgtacntgtacttgtagatgtagctgtaggtgtagntgtagttgtanntgtatatgtatctgtatgtgtatttgtcaatgtcactgtcagtgtcantgtcattgtccatgtccctgtccgtgtccttgtcgatgtcgctgtcggtgtcgttgtcnntgtctatgtctctgtctgtgtctntgtctttgtgaatgtgactgtgagtgtgantgtgattgtgcatgtgcctgtgcgtgtgcntgtgcttgtggatgtggctgtgggtgtggntgtggttgtgnntgtgtatgtgtctgtgtgtgtgtntgtgtttgtnnntgttaatgttactgttagtgttantgttattgttcatgttcctgttcgtgttcntgttcttgttgatgttgctgttggtgttgntgttgttgttnntgtttatgtttctgtttgtgtttntgtttttnnaaatnnnaatnnnattnnngctnnnnatnnnnctnnnngtnnnnntnnnnttnnntttntnnnttaaaattaaacttaaagttaaanttaaatttaacattaaccttaacgttaacnttaactttaagattaagcttaaggttaagnttaagtttaannttaatattaatcttaatgttaatnttaattttacaattacacttacagttacanttacatttaccattacccttaccgttaccnttacctttacgattacgcttacggttacgtttacnnttactattactcttactgttactnttacttttagaattagacttagagttagatttagcattagccttagcgttagctttaggattaggcttagggttaggtttagnnttagtattagtcttagtgttagttttannnttataattatacttatagttatatttatcattatccttatcgttatctttatgattatgcttatggttatgnttatgtttatnnttattattattcttattgttattnttatttttcaaattcaacttcaagttcaanttcaatttcacattcaccttcacgttcacnttcactttcagattcagcttcaggttcagtttcannttcatattcatcttcatgttcatnttcattttccaattccacttccagttccatttcccattccccttccctttccgattccgcttccgtttccnnttcctattcctcttcctgttccttttcgaattcgatttcgcattcgccttcgcgttcgctttcggattcggcttcgggttcggtttcgtattcgtcttcgtgttcgttttcnnnttctaattctacttctagttctanttctatttctcattctccttctcgttctctttctgattctgcttctggttctgnttctgtttctnnttcttattcttcttcttgttcttnttctttttgaaattgaacttgaagttgaanttgaatttgacattgaccttgacgttgactttgagattgagcttgaggttgagtttgannttgatattgatcttgatgttgatnttgattttgcaattgcacttgcagttgcanttgcatttgccattgcccttgccgttgcctttgcgattgcgcttgcggttgcgtttgcnnttgctattgctcttgctgttgctnttgcttttgcycttggaattggacttggagttgganttggatttggcattggccttggcgttggctttgggattgggcttggggttgggtttggnnttggtattggtcttggtgttggttttgnnnttgtaattgtacttgtagttgtatttgtcattgtccttgtcgttgtctttgtgattgtgcttgtggttgtgnttgtgtttgtnnttgttattgttcttgttgttgttnttgtttttnnnattnnngttnnnnttnnnttttaaatttaactttaagtttaantttaattttacatttacctttacgtttacntttacttttagatttagctttaggtttagntttagttttanntttatatttatctttatgtttatntttatttttcaatttcactttcagtttcantttcattttccatttccctttccgtttccttttcgatttcgctttcggtttcgttttcnntttctatttctctttctgtttctttttgaatttgactttgagtttgantttgattttgcatttgcctttgcgtttgcntttgcttttgcytttggatttggctttgggtttggntttggttttgnntttgtatttgtctttgtgtttgtntttgtttttnnnttttaattttacttttagttttanttttatttttcattttccttttcgttttcnttttctttttgattttgcttttggttttgnttttgtttttnntttttatttttctttttgtttttnttttttycacag\n"
     ]
    }
   ],
   "source": [
    "print(reconstructed_sequences[1])"
   ]
  },
  {
   "cell_type": "code",
   "execution_count": 33,
   "metadata": {
    "execution": {
     "iopub.execute_input": "2023-08-19T17:16:33.046177Z",
     "iopub.status.busy": "2023-08-19T17:16:33.045747Z",
     "iopub.status.idle": "2023-08-19T17:16:33.052845Z",
     "shell.execute_reply": "2023-08-19T17:16:33.052014Z",
     "shell.execute_reply.started": "2023-08-19T17:16:33.046142Z"
    }
   },
   "outputs": [
    {
     "data": {
      "text/plain": [
       "29904"
      ]
     },
     "execution_count": 33,
     "metadata": {},
     "output_type": "execute_result"
    }
   ],
   "source": [
    "len(reconstructed_sequences[0])"
   ]
  },
  {
   "cell_type": "code",
   "execution_count": null,
   "metadata": {},
   "outputs": [],
   "source": []
  }
 ],
 "metadata": {
  "kernelspec": {
   "display_name": "Python 3 (ipykernel)",
   "language": "python",
   "name": "python3"
  },
  "language_info": {
   "codemirror_mode": {
    "name": "ipython",
    "version": 3
   },
   "file_extension": ".py",
   "mimetype": "text/x-python",
   "name": "python",
   "nbconvert_exporter": "python",
   "pygments_lexer": "ipython3",
   "version": "3.12.2"
  }
 },
 "nbformat": 4,
 "nbformat_minor": 4
}
