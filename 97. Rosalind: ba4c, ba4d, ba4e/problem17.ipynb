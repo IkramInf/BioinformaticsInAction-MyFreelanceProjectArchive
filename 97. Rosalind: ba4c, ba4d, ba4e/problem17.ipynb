{
 "cells": [
  {
   "cell_type": "markdown",
   "id": "40d0da8a",
   "metadata": {},
   "source": [
    "https://rosalind.info/problems/ba4b/"
   ]
  },
  {
   "cell_type": "markdown",
   "id": "8198891d",
   "metadata": {},
   "source": [
    "class PeptideEncoding : find out all substrings in dna encoding with a peptide sequence<br>\n",
    "- init(): input a dna string and a amino acid string and initialize instance variables\n",
    "- reverse_complement(): reverse complement of dna sequence\n",
    "- kmers(): calculate k-mers in a dna sequence\n",
    "- translate(): find out all substrings encoded with peptide"
   ]
  },
  {
   "cell_type": "code",
   "execution_count": 4,
   "id": "2c6c2dd3",
   "metadata": {},
   "outputs": [
    {
     "name": "stdout",
     "output_type": "stream",
     "text": [
      "Enter Filename: rosalind_ba4b.txt\n"
     ]
    }
   ],
   "source": [
    "class PeptideEncoding:\n",
    "    def __init__(self, dna, peptide):\n",
    "        # a dna string\n",
    "        self.dna = dna\n",
    "        # a amino acid string\n",
    "        self.peptide = peptide\n",
    "        # length of substrings in dna\n",
    "        self.n = len(peptide)*3\n",
    "        # codon table to translate codons into proteins\n",
    "        self.codonTable = {'TTT': 'F', 'CTT': 'L', 'ATT': 'I', 'GTT': 'V',\n",
    "                          'TTC': 'F', 'CTC': 'L', 'ATC': 'I', 'GTC': 'V',\n",
    "                          'TTA': 'L', 'CTA': 'L', 'ATA': 'I', 'GTA': 'V',\n",
    "                          'TTG': 'L', 'CTG': 'L', 'ATG': 'M', 'GTG': 'V',\n",
    "                          'TCT': 'S', 'CCT': 'P', 'ACT': 'T', 'GCT': 'A',\n",
    "                          'TCC': 'S', 'CCC': 'P', 'ACC': 'T', 'GCC': 'A',\n",
    "                          'TCA': 'S', 'CCA': 'P', 'ACA': 'T', 'GCA': 'A',\n",
    "                          'TCG': 'S', 'CCG': 'P', 'ACG': 'T', 'GCG': 'A',\n",
    "                          'TAT': 'Y', 'CAT': 'H', 'AAT': 'N', 'GAT': 'D',\n",
    "                          'TAC': 'Y', 'CAC': 'H', 'AAC': 'N', 'GAC': 'D',\n",
    "                          'TAA': '*', 'CAA': 'Q', 'AAA': 'K', 'GAA': 'E',\n",
    "                          'TAG': '*', 'CAG': 'Q', 'AAG': 'K', 'GAG': 'E',\n",
    "                          'TGT': 'C', 'CGT': 'R', 'AGT': 'S', 'GGT': 'G',\n",
    "                          'TGC': 'C', 'CGC': 'R', 'AGC': 'S', 'GGC': 'G',\n",
    "                          'TGA': '*', 'CGA': 'R', 'AGA': 'R', 'GGA': 'G',\n",
    "                          'TGG': 'W', 'CGG': 'R', 'AGG': 'R', 'GGG': 'G'}\n",
    "        \n",
    "    def reverse_complement(self, dna):\n",
    "        complement_pair = {'A':'T', 'C':'G', 'G':'C', 'T':'A'}\n",
    "        # reverse complement of a dna\n",
    "        return \"\".join([complement_pair[base] for base in dna])[::-1]\n",
    "    \n",
    "    def kmers(self, seq, k):\n",
    "        # all k-mers in dna\n",
    "        return [seq[i:i+k] for i in range(len(seq)-k+1)]\n",
    "\n",
    "    def translate(self):\n",
    "        substrs = []  # to store all substrings\n",
    "        # iterate over all k-mers of dna\n",
    "        for kmer in self.kmers(self.dna, self.n):\n",
    "            # search peptide in forward kmer strand\n",
    "            protein = \"\".join([self.codonTable[kmer[i:i+3]] for i in range(0, self.n-2, 3)])\n",
    "            if protein == self.peptide:\n",
    "                substrs.append(kmer)\n",
    "                \n",
    "            # search peptide in reverse kmer strand\n",
    "            kmer = self.reverse_complement(kmer)    \n",
    "            protein = \"\".join([self.codonTable[kmer[i:i+3]] for i in range(0, self.n-2, 3)])\n",
    "            if protein == self.peptide:\n",
    "                substrs.append(self.reverse_complement(kmer))\n",
    "\n",
    "        return substrs\n",
    "    \n",
    "if __name__ == \"__main__\":\n",
    "    # input filename and read it\n",
    "    filename = input(\"Enter Filename: \")\n",
    "    with open(filename, \"r\") as f:\n",
    "        dna, peptide = f.read().strip().split(\"\\n\")\n",
    "        \n",
    "    # create object for PeptideEncoding class\n",
    "    pepenc = PeptideEncoding(dna, peptide)\n",
    "    # find out all substrings encoded peptide\n",
    "    substrs = pepenc.translate()\n",
    "    # write result to a file object\n",
    "    with open(filename+\".out\", \"w\") as ofile:\n",
    "        print(\"\\n\".join(substrs), file=ofile)"
   ]
  },
  {
   "cell_type": "code",
   "execution_count": null,
   "id": "8c4ecb4d",
   "metadata": {},
   "outputs": [],
   "source": []
  }
 ],
 "metadata": {
  "kernelspec": {
   "display_name": "Python 3 (ipykernel)",
   "language": "python",
   "name": "python3"
  },
  "language_info": {
   "codemirror_mode": {
    "name": "ipython",
    "version": 3
   },
   "file_extension": ".py",
   "mimetype": "text/x-python",
   "name": "python",
   "nbconvert_exporter": "python",
   "pygments_lexer": "ipython3",
   "version": "3.9.12"
  }
 },
 "nbformat": 4,
 "nbformat_minor": 5
}
