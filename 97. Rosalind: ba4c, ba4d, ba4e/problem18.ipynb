{
 "cells": [
  {
   "cell_type": "markdown",
   "id": "b68336a3",
   "metadata": {},
   "source": [
    "https://rosalind.info/problems/ba4e/"
   ]
  },
  {
   "cell_type": "markdown",
   "id": "7b186673",
   "metadata": {},
   "source": [
    "class CyclopeptideSequencing : find out every amino acid string that satisfies Cyclospectrum(Peptide) equal to given Spectrum <br>\n",
    "- init(): input a dna string and a amino acid string and initialize instance variables\n",
    "- reverse_complement(): reverse complement of dna sequence\n",
    "- kmers(): calculate k-mers in a dna sequence\n",
    "- translate(): find out all substrings encoded with peptide"
   ]
  },
  {
   "cell_type": "code",
   "execution_count": 1,
   "id": "725ccfc3",
   "metadata": {},
   "outputs": [
    {
     "name": "stdout",
     "output_type": "stream",
     "text": [
      "Enter Filename: rosalind_ba4e.txt\n"
     ]
    }
   ],
   "source": [
    "import itertools  # works on iterator\n",
    "\n",
    "class CyclopeptideSequencing:\n",
    "    def __init__(self, spectrum):\n",
    "        self.__massTable = {'G': 57, 'A': 71, 'S': 87, 'P': 97, 'V': 99, 'T': 101, 'C': 103, 'I': 113,\n",
    "                   'L': 113, 'N': 114, 'D': 115, 'K': 128, 'Q': 128, 'E': 129, 'M': 131,\n",
    "                   'H': 137, 'F': 147, 'R': 156, 'Y': 163, 'W': 186}\n",
    "        # all interger masses in ascending order\n",
    "        self.masses = sorted(set(self.__massTable.values()))\n",
    "        # ideal experimental spectrum\n",
    "        self.spectrum = spectrum\n",
    "\n",
    "    def expand(self, peptides):\n",
    "        # return expanded peptides with interger mass\n",
    "        return [peptide+[mass] for peptide in peptides for mass in self.masses]\n",
    "\n",
    "    def remove(self, peptide, peptides):\n",
    "        # remove inconsistent peptide from peptides\n",
    "        return [element for element in peptides if element != peptide]\n",
    "    \n",
    "    def isconsistent(self, peptide):\n",
    "        # check if peptide consistent and or\n",
    "        # return consistent if true otherwise false\n",
    "        n = len(peptide)\n",
    "        if sum(peptide)+self.masses[0] > self.spectrum[-1]:\n",
    "            return False\n",
    "        # cummulative sum of peptide\n",
    "        cum_mass = list(itertools.accumulate([0]+peptide))\n",
    "        # linear spectrum in peptide\n",
    "        spectrum1 = sorted([0]+[cum_mass[j]-cum_mass[i] for i in range(n) for j in range(i+1, n+1)])\n",
    "        # if mass not in given experimental spectrum, return false\n",
    "        for mass in spectrum1:\n",
    "            if mass not in self.spectrum:\n",
    "                return False\n",
    "        return True\n",
    "    \n",
    "    def cyclospectrum(self, peptide):\n",
    "        # calculate cyclospectrum of peptide\n",
    "        n = len(peptide)\n",
    "        extended_pep = peptide + peptide\n",
    "        return sorted([0,sum(peptide)]+[sum(extended_pep[i:i + k]) for k in range(1, n) for i in range(n)])\n",
    "\n",
    "    def cyclopeptide_sequencing(self):\n",
    "        # cyclopeptide sequencing based on spectrum\n",
    "        sequence, peptides = set(), [[]]  \n",
    "        while peptides:\n",
    "            peptides = self.expand(peptides)  # expand peptides\n",
    "            # iterate over all peptides\n",
    "            for peptide in peptides:\n",
    "                if sum(peptide) == self.spectrum[-1]:\n",
    "                    # if cyclospectrum(peptide) == given spectrum, add to sequence\n",
    "                    if self.cyclospectrum(peptide) == self.spectrum:\n",
    "                        sequence.add(\"-\".join(map(str, peptide)))\n",
    "                    # remove this peptide\n",
    "                    peptides = self.remove(peptide, peptides)\n",
    "                elif not self.isconsistent(peptide):\n",
    "                    # if any peptide is inconsistent remove it\n",
    "                    peptides = self.remove(peptide, peptides)\n",
    "        return sequence\n",
    "\n",
    "\n",
    "if __name__ == \"__main__\":\n",
    "    # input filename and read it\n",
    "    filename = input(\"Enter Filename: \")\n",
    "    with open(filename, \"r\") as f:\n",
    "        spectrum = list(map(int, f.read().strip().split()))\n",
    "    \n",
    "    # create object for CyclopeptideSequencing class\n",
    "    cyc_seq = CyclopeptideSequencing(spectrum)\n",
    "    # all peptides satisfied Cyclospectrum(Peptide) == Given Spectrum\n",
    "    sequence = cyc_seq.cyclopeptide_sequencing()\n",
    "    # write result to a file object\n",
    "    with open(filename+\".out\", \"w\") as ofile:\n",
    "        print(\" \".join(sequence), file=ofile)"
   ]
  },
  {
   "cell_type": "code",
   "execution_count": null,
   "id": "328bc88e",
   "metadata": {},
   "outputs": [],
   "source": []
  }
 ],
 "metadata": {
  "kernelspec": {
   "display_name": "Python 3 (ipykernel)",
   "language": "python",
   "name": "python3"
  },
  "language_info": {
   "codemirror_mode": {
    "name": "ipython",
    "version": 3
   },
   "file_extension": ".py",
   "mimetype": "text/x-python",
   "name": "python",
   "nbconvert_exporter": "python",
   "pygments_lexer": "ipython3",
   "version": "3.9.12"
  }
 },
 "nbformat": 4,
 "nbformat_minor": 5
}
