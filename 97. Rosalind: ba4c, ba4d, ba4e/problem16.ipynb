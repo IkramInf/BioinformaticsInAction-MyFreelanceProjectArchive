{
 "cells": [
  {
   "cell_type": "markdown",
   "id": "aa6978c9",
   "metadata": {},
   "source": [
    "https://rosalind.info/problems/ba4c/"
   ]
  },
  {
   "cell_type": "markdown",
   "id": "bc8b6663",
   "metadata": {},
   "source": [
    "class Peptides : find out cyclospectrum of a peptide sequence<br>\n",
    "- init(): input a peptide amino acid string and initialize instance variables\n",
    "- cycloSpectrum : find out all linear and cyclic spectrum in peptide\n",
    "- calculateMass: calculate total integer mass for spectrum"
   ]
  },
  {
   "cell_type": "code",
   "execution_count": 2,
   "id": "fa150da2",
   "metadata": {},
   "outputs": [
    {
     "name": "stdout",
     "output_type": "stream",
     "text": [
      "Enter Filename: rosalind_ba4c.txt\n"
     ]
    }
   ],
   "source": [
    "class Peptides:\n",
    "    def __init__(self, peptide):\n",
    "        # amino acid string\n",
    "        self.peptide = peptide\n",
    "        # interger mass table\n",
    "        self.mass_table = {'G': 57, 'A': 71, 'S': 87, 'P': 97, 'V': 99, 'T': 101, 'C': 103, 'I': 113,\n",
    "                           'L': 113, 'N': 114, 'D': 115, 'K': 128, 'Q': 128, 'E': 129, 'M': 131,\n",
    "                           'H': 137, 'F': 147, 'R': 156, 'Y': 163, 'W': 186}\n",
    "\n",
    "    def cycloSpectrum(self):\n",
    "        n = len(self.peptide)\n",
    "        # find out linear spectrum only\n",
    "        linear = [self.peptide[i:j+1] for i in range(n) for j in range(i, n)]\n",
    "        # find out cyclic spectrum only\n",
    "        cyclic = [self.peptide[i:n] + self.peptide[:j+1] for i in range(2, n) for j in range(i-1)]\n",
    "        # return all spectrums\n",
    "        return linear + cyclic\n",
    "\n",
    "\n",
    "    def calculateMass(self):\n",
    "        # get all spectrums\n",
    "        spectrums = self.cycloSpectrum()\n",
    "        # calculate mass for each spectrum\n",
    "        results = {i : sum([self.mass_table[k] for k in spectrum]) for i, spectrum in enumerate(spectrums)}\n",
    "        return dict(sorted(results.items(), key=lambda x:x[1]))\n",
    "    \n",
    "if __name__ == \"__main__\":    \n",
    "    # input filename and read it\n",
    "    filename = input(\"Enter Filename: \")\n",
    "    with open(filename, \"r\") as f:\n",
    "        peptide = f.read().strip()\n",
    "    \n",
    "    # create object for Peptides class\n",
    "    pep = Peptides(peptide)\n",
    "    # find out cyclospectrum(peptide)\n",
    "    spectrums = pep.calculateMass()\n",
    "    with open(filename+\".out\", \"w\") as ofile:\n",
    "        print(\"0\", end=\" \", file=ofile)\n",
    "        print(\" \".join(map(str, spectrums.values())), file=ofile)"
   ]
  },
  {
   "cell_type": "code",
   "execution_count": null,
   "id": "359fcd99",
   "metadata": {},
   "outputs": [],
   "source": []
  }
 ],
 "metadata": {
  "kernelspec": {
   "display_name": "Python 3 (ipykernel)",
   "language": "python",
   "name": "python3"
  },
  "language_info": {
   "codemirror_mode": {
    "name": "ipython",
    "version": 3
   },
   "file_extension": ".py",
   "mimetype": "text/x-python",
   "name": "python",
   "nbconvert_exporter": "python",
   "pygments_lexer": "ipython3",
   "version": "3.9.12"
  }
 },
 "nbformat": 4,
 "nbformat_minor": 5
}
