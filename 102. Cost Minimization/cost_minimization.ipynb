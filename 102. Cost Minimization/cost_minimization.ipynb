{
 "cells": [
  {
   "cell_type": "code",
   "execution_count": 1,
   "id": "70290a1b",
   "metadata": {},
   "outputs": [],
   "source": [
    "# Libraries imports\n",
    "import math\n",
    "from math import sin\n",
    "import numpy as np\n",
    "from pymoo.core.problem import ElementwiseProblem\n",
    "from pymoo.problems.functional import FunctionalProblem\n",
    "from pymoo.core.problem import Problem\n",
    "from pymoo.algorithms.moo.nsga2 import NSGA2\n",
    "from pymoo.operators.crossover.sbx import SBX\n",
    "from pymoo.operators.mutation.pm import PM\n",
    "from pymoo.operators.sampling.rnd import FloatRandomSampling\n",
    "from pymoo.optimize import minimize\n",
    "from pymoo.termination import get_termination\n",
    "#from scipy.optimize import minimize\n",
    "from scipy.spatial.distance import cdist\n",
    "import matplotlib.pyplot as plt\n",
    "# Necessary to keep figure inside the notebook\n",
    "%matplotlib inline"
   ]
  },
  {
   "cell_type": "code",
   "execution_count": 2,
   "id": "54fe32c7",
   "metadata": {},
   "outputs": [],
   "source": [
    "x1, y1 = 4, 4  # raw materials shop\n",
    "x2, y2 = 2, 2  # cutting ws\n",
    "x3, y3 = 2, 2  # welding ws\n",
    "x4, y4 = 2, 3  # painting ws\n",
    "x5, y5 = 2, 3  # tools stock\n",
    "x6, y6 = 3, 3  # end product stock\n",
    "\n",
    "#points = [(x1, y1), (x2, y2), (x3, y3), (x4, y4), (x5, y5), (x6, y6)]\n",
    "points = [x1, y1, x2, y2, x3, y3, x4, y4, x5, y5, x6, y6]"
   ]
  },
  {
   "cell_type": "code",
   "execution_count": 3,
   "id": "2d395c44",
   "metadata": {},
   "outputs": [],
   "source": [
    "d1 = [0, 1.5]  # reception door coordinate\n",
    "d2 = [0, 6.5]  # shipment door coordinate"
   ]
  },
  {
   "cell_type": "code",
   "execution_count": 4,
   "id": "e8e6d387",
   "metadata": {},
   "outputs": [
    {
     "data": {
      "text/plain": [
       "14.155189919420936"
      ]
     },
     "execution_count": 4,
     "metadata": {},
     "output_type": "execute_result"
    }
   ],
   "source": [
    "def F1(points, d1=[0, 1.5], d2=[0, 6.5]):\n",
    "    points = list(points)\n",
    "    # points = [d1] + points + [d2]\n",
    "    points = [d1] + [points[i:i+2] for i in range(0, len(points), 2)] + [d2]\n",
    "    return sum([math.dist(points[i], points[i+1]) for i in range(len(points)-1)])\n",
    "\n",
    "F1(points, d1, d2)"
   ]
  },
  {
   "cell_type": "code",
   "execution_count": 5,
   "id": "21379207",
   "metadata": {},
   "outputs": [
    {
     "data": {
      "text/plain": [
       "20.371630891611243"
      ]
     },
     "execution_count": 5,
     "metadata": {},
     "output_type": "execute_result"
    }
   ],
   "source": [
    "def F2(points):\n",
    "    points = list(points)\n",
    "    points = [points[i:i+2] for i in range(0, len(points), 2)]\n",
    "    return cdist(points, points).sum()/2.0\n",
    "\n",
    "F2(points)"
   ]
  },
  {
   "cell_type": "code",
   "execution_count": 6,
   "id": "f9e9ee8e",
   "metadata": {},
   "outputs": [],
   "source": [
    "xl = [x1, y1, x2, y2, x3, y3, x4, y4, x5, y5, x6, y6]\n",
    "xu = [20-x1, 12-y1, 20-x2, 12-y2, 20-x3, 12-y3, 20-x4, 12-y4, 20-x5, 12-y5, 20-x6, 12-y6]\n",
    "\n",
    "#xl = [(x1, y1), (x2, y2), (x3, y3), (x4, y4), (x5, y5), (x6, y6)]\n",
    "#xu = [(20-x1, 12-y1), (20-x2, 12-y2), (20-x3, 12-y3), (20-x4, 12-y4), (20-x5, 12-y5), (20-x6, 12-y6)]"
   ]
  },
  {
   "cell_type": "code",
   "execution_count": 7,
   "id": "18b886f5",
   "metadata": {},
   "outputs": [
    {
     "name": "stdout",
     "output_type": "stream",
     "text": [
      "==========================================================\n",
      "n_gen  |  n_eval  | n_nds  |      eps      |   indicator  \n",
      "==========================================================\n",
      "     1 |      100 |      2 |             - |             -\n",
      "     2 |      150 |      3 |  0.5452031167 |         ideal\n",
      "     3 |      200 |      1 |  5.7968650683 |         ideal\n",
      "     4 |      250 |      1 |  9.3407764145 |         ideal\n",
      "     5 |      300 |      1 |  0.000000E+00 |             f\n",
      "     6 |      350 |      1 |  0.000000E+00 |             f\n",
      "     7 |      400 |      1 |  0.000000E+00 |             f\n",
      "     8 |      450 |      1 |  6.9264828172 |         ideal\n",
      "     9 |      500 |      4 |  0.5614806300 |         ideal\n",
      "    10 |      550 |      4 |  0.2234909287 |         ideal\n",
      "    11 |      600 |      6 |  0.2384918934 |         ideal\n",
      "    12 |      650 |      7 |  0.0901321519 |         ideal\n",
      "    13 |      700 |      7 |  0.0783288823 |         ideal\n",
      "    14 |      750 |      8 |  0.0827174834 |         ideal\n",
      "    15 |      800 |      3 |  0.7640552900 |         ideal\n",
      "    16 |      850 |      3 |  0.0050974626 |             f\n",
      "    17 |      900 |      5 |  0.0410849491 |         ideal\n",
      "    18 |      950 |      5 |  0.0307842080 |         ideal\n",
      "    19 |     1000 |      8 |  0.0201469811 |         ideal\n",
      "    20 |     1050 |      5 |  0.3500805757 |         ideal\n",
      "    21 |     1100 |      7 |  0.0560744003 |             f\n",
      "    22 |     1150 |      7 |  0.000000E+00 |             f\n",
      "    23 |     1200 |      7 |  0.0436425787 |         ideal\n",
      "    24 |     1250 |      2 |  0.2292462318 |         ideal\n",
      "    25 |     1300 |      3 |  0.1417862580 |         ideal\n",
      "    26 |     1350 |      3 |  0.000000E+00 |             f\n",
      "    27 |     1400 |      5 |  0.1016802610 |             f\n",
      "    28 |     1450 |      7 |  0.0641833320 |         ideal\n",
      "    29 |     1500 |      8 |  0.0271856133 |             f\n",
      "    30 |     1550 |      9 |  0.0018909817 |             f\n",
      "    31 |     1600 |      6 |  0.0524367011 |             f\n",
      "    32 |     1650 |      6 |  0.0057876967 |             f\n",
      "    33 |     1700 |      5 |  0.0520348122 |         ideal\n",
      "    34 |     1750 |      6 |  0.0297460129 |             f\n",
      "    35 |     1800 |      4 |  0.2916146787 |         ideal\n",
      "    36 |     1850 |      5 |  0.2322270074 |             f\n",
      "    37 |     1900 |      5 |  0.000000E+00 |             f\n",
      "    38 |     1950 |      4 |  0.1145575736 |         ideal\n",
      "    39 |     2000 |      4 |  0.000000E+00 |             f\n",
      "    40 |     2050 |      5 |  0.3068332140 |         ideal\n",
      "    41 |     2100 |      7 |  0.0208240735 |         ideal\n",
      "    42 |     2150 |      7 |  0.0013769247 |             f\n",
      "    43 |     2200 |      8 |  0.0734027933 |         ideal\n",
      "    44 |     2250 |      7 |  0.0139463581 |             f\n",
      "    45 |     2300 |      7 |  0.0268007360 |             f\n",
      "    46 |     2350 |      8 |  0.0184349217 |         ideal\n",
      "    47 |     2400 |      9 |  0.0220292621 |         ideal\n",
      "    48 |     2450 |     11 |  0.0515917235 |         ideal\n",
      "    49 |     2500 |     12 |  0.0017169768 |             f\n",
      "    50 |     2550 |     12 |  0.0048429079 |             f\n",
      "    51 |     2600 |     10 |  0.2632603454 |         ideal\n",
      "    52 |     2650 |     12 |  0.0043222829 |             f\n",
      "    53 |     2700 |      9 |  0.0800399981 |         ideal\n",
      "    54 |     2750 |      7 |  0.0304703914 |             f\n",
      "    55 |     2800 |      6 |  0.2025912705 |         nadir\n",
      "    56 |     2850 |      4 |  0.0189278207 |         ideal\n",
      "    57 |     2900 |      5 |  0.0209993716 |             f\n",
      "    58 |     2950 |      5 |  0.0405033880 |         ideal\n",
      "    59 |     3000 |      6 |  0.0040838228 |         ideal\n",
      "    60 |     3050 |      7 |  0.0328105804 |             f\n",
      "    61 |     3100 |      4 |  0.0180473535 |         ideal\n",
      "    62 |     3150 |      5 |  0.0035250313 |             f\n",
      "    63 |     3200 |      7 |  0.1511885325 |         ideal\n",
      "    64 |     3250 |     10 |  0.0206090764 |             f\n",
      "    65 |     3300 |     12 |  0.0127004761 |             f\n",
      "    66 |     3350 |     13 |  0.0034441446 |             f\n",
      "    67 |     3400 |     12 |  0.0241602021 |             f\n",
      "    68 |     3450 |     11 |  0.0077012156 |             f\n",
      "    69 |     3500 |     13 |  0.0055621154 |             f\n",
      "    70 |     3550 |     14 |  0.0336645082 |         ideal\n",
      "    71 |     3600 |     15 |  0.0029057066 |             f\n",
      "    72 |     3650 |     16 |  0.0076902709 |             f\n",
      "    73 |     3700 |     12 |  0.0611105510 |         ideal\n",
      "    74 |     3750 |     13 |  0.0064849688 |             f\n",
      "    75 |     3800 |     14 |  0.0154348162 |         ideal\n",
      "    76 |     3850 |     17 |  0.0160472166 |             f\n",
      "    77 |     3900 |     13 |  0.0063641449 |             f\n",
      "    78 |     3950 |     15 |  0.0145372115 |             f\n",
      "    79 |     4000 |      9 |  0.0199244747 |             f\n",
      "    80 |     4050 |     12 |  0.0099110934 |             f\n",
      "    81 |     4100 |     12 |  0.0011551375 |             f\n",
      "    82 |     4150 |     13 |  0.0030323541 |             f\n",
      "    83 |     4200 |     14 |  0.0561062571 |         ideal\n",
      "    84 |     4250 |      7 |  0.0097382606 |         ideal\n",
      "    85 |     4300 |      8 |  0.0182952248 |             f\n",
      "    86 |     4350 |      8 |  0.000000E+00 |             f\n",
      "    87 |     4400 |      8 |  0.0160102184 |             f\n",
      "    88 |     4450 |     11 |  0.0692045855 |         nadir\n",
      "    89 |     4500 |     10 |  0.0830858727 |         nadir\n",
      "    90 |     4550 |     10 |  0.000000E+00 |             f\n",
      "    91 |     4600 |     11 |  0.0005824218 |             f\n",
      "    92 |     4650 |      6 |  0.0043602506 |         ideal\n",
      "    93 |     4700 |      8 |  0.2266056596 |         ideal\n",
      "    94 |     4750 |      9 |  0.0134292006 |             f\n",
      "    95 |     4800 |     11 |  0.0100475599 |         ideal\n",
      "    96 |     4850 |     11 |  0.000000E+00 |             f\n",
      "    97 |     4900 |      6 |  0.0433229745 |             f\n",
      "    98 |     4950 |      6 |  0.0274462854 |         ideal\n",
      "    99 |     5000 |      8 |  0.0123653436 |             f\n",
      "   100 |     5050 |      8 |  0.0291357321 |         ideal\n"
     ]
    }
   ],
   "source": [
    "class Workshop(ElementwiseProblem):\n",
    "    def __init__(self):\n",
    "        super().__init__(n_var=12,\n",
    "                         n_obj=2,\n",
    "                         n_ieq_constr=0,\n",
    "                         xl=np.array(xl),\n",
    "                         xu=np.array(xu))\n",
    "    \n",
    "    def _evaluate(self, x, out, *args, **kwargs):\n",
    "        f1 = F1(x)\n",
    "        f2 = F2(x)\n",
    "        \n",
    "        out[\"F\"] = [f1, f2]\n",
    "        out[\"G\"] = []\n",
    "        \n",
    "problem = Workshop()\n",
    "\n",
    "algorithm = NSGA2(\n",
    "    pop_size=100,\n",
    "    n_offsprings=50,\n",
    "    sampling=FloatRandomSampling(),\n",
    "    crossover=SBX(prob=0.9, eta=15),\n",
    "    mutation=PM(eta=20),\n",
    "    eliminate_duplicates=True\n",
    ")\n",
    "\n",
    "termination = get_termination(\"n_gen\",100)\n",
    "\n",
    "res = minimize(problem,\n",
    "               algorithm,\n",
    "               termination,\n",
    "               seed=1,\n",
    "               save_history=True,\n",
    "               verbose=True)\n",
    "\n",
    "X = res.X\n",
    "F = res.F"
   ]
  },
  {
   "cell_type": "code",
   "execution_count": 8,
   "id": "6425d00c",
   "metadata": {},
   "outputs": [
    {
     "name": "stdout",
     "output_type": "stream",
     "text": [
      "[[4.05403149 4.00737109 4.06169951 3.9969661  4.25855898 4.0334398\n",
      "  4.22054824 4.04265137 4.209974   4.08392991 4.07201537 4.41002977]\n",
      " [4.05148116 4.00750712 4.05209818 3.99740946 4.25811222 4.03343763\n",
      "  4.22440471 4.04264526 4.209974   4.08383183 3.59378363 4.40889923]\n",
      " [4.05529074 4.00622693 4.05970318 3.99505665 4.25835595 3.94550833\n",
      "  4.24459021 4.04278715 4.15626282 4.12762133 3.97576232 4.11225128]\n",
      " [4.05148116 4.00732852 4.19677001 3.99745354 4.25726249 4.03343763\n",
      "  4.27667498 4.04264526 4.209974   4.08383183 3.98280446 4.4055008 ]\n",
      " [4.05157776 4.00732852 4.06683756 3.99745354 4.25674467 4.03343763\n",
      "  4.27667498 4.04214902 4.209974   4.08383183 3.97269533 4.40642181]\n",
      " [4.05403149 4.01949847 4.06169951 4.05743717 4.25855898 4.0334398\n",
      "  4.23806389 4.04265137 4.209974   4.08363417 4.07201537 4.41002977]\n",
      " [4.05529074 4.00622693 3.99973134 3.99490509 4.25835595 4.02849213\n",
      "  4.23602966 4.04277362 4.15626282 4.12692251 3.97576232 4.12597422]\n",
      " [4.05529074 4.00622693 4.05970318 3.99505665 4.27417317 4.04520061\n",
      "  4.2451359  4.04262786 4.19959707 4.139205   4.29824418 4.11225128]]\n"
     ]
    }
   ],
   "source": [
    "print(res.X)"
   ]
  },
  {
   "cell_type": "code",
   "execution_count": 9,
   "id": "d4206ba3",
   "metadata": {},
   "outputs": [
    {
     "data": {
      "image/png": "[encoded data removed]",
      "text/plain": [
       "<Figure size 504x360 with 1 Axes>"
      ]
     },
     "metadata": {
      "needs_background": "light"
     },
     "output_type": "display_data"
    }
   ],
   "source": [
    "xl, xu = problem.bounds()\n",
    "plt.figure(figsize=(7, 5))\n",
    "plt.scatter(X[:, 0], X[:, 1], s=30, facecolors='none', edgecolors='r')\n",
    "plt.xlim(xl[0], xu[0])\n",
    "plt.ylim(xl[1], xu[1])\n",
    "plt.title(\"Design Space\")\n",
    "plt.show()"
   ]
  },
  {
   "cell_type": "code",
   "execution_count": 10,
   "id": "b0cc3b67",
   "metadata": {},
   "outputs": [
    {
     "data": {
      "image/png": "[encoded data removed]",
      "text/plain": [
       "<Figure size 504x360 with 1 Axes>"
      ]
     },
     "metadata": {
      "needs_background": "light"
     },
     "output_type": "display_data"
    }
   ],
   "source": [
    "plt.figure(figsize=(7, 5))\n",
    "plt.scatter(F[:, 0], F[:, 1], s=30, facecolors='none', edgecolors='blue')\n",
    "plt.title(\"Objective Space\")\n",
    "plt.show()"
   ]
  }
 ],
 "metadata": {
  "kernelspec": {
   "display_name": "Python 3 (ipykernel)",
   "language": "python",
   "name": "python3"
  },
  "language_info": {
   "codemirror_mode": {
    "name": "ipython",
    "version": 3
   },
   "file_extension": ".py",
   "mimetype": "text/x-python",
   "name": "python",
   "nbconvert_exporter": "python",
   "pygments_lexer": "ipython3",
   "version": "3.9.12"
  }
 },
 "nbformat": 4,
 "nbformat_minor": 5
}
