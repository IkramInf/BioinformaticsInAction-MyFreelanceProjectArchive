{
 "cells": [
  {
   "cell_type": "markdown",
   "metadata": {
    "id": "Q2NQxAdimxS5"
   },
   "source": [
    "# Q1"
   ]
  },
  {
   "cell_type": "code",
   "execution_count": 5,
   "metadata": {
    "id": "elr5QRyj2zTq"
   },
   "outputs": [],
   "source": [
    "import pandas as pd"
   ]
  },
  {
   "cell_type": "code",
   "execution_count": 6,
   "metadata": {
    "colab": {
     "base_uri": "https://localhost:8080/",
     "height": 332
    },
    "id": "gLaieKL22ziv",
    "outputId": "89ea5a82-dc3b-4b91-9302-c7d09da01d96"
   },
   "outputs": [
    {
     "data": {
      "text/html": [
       "\n",
       "  <div id=\"df-b3a2bf4c-44fa-49cf-964a-ba6f478f5180\">\n",
       "    <div class=\"colab-df-container\">\n",
       "      <div>\n",
       "<style scoped>\n",
       "    .dataframe tbody tr th:only-of-type {\n",
       "        vertical-align: middle;\n",
       "    }\n",
       "\n",
       "    .dataframe tbody tr th {\n",
       "        vertical-align: top;\n",
       "    }\n",
       "\n",
       "    .dataframe thead th {\n",
       "        text-align: right;\n",
       "    }\n",
       "</style>\n",
       "<table border=\"1\" class=\"dataframe\">\n",
       "  <thead>\n",
       "    <tr style=\"text-align: right;\">\n",
       "      <th></th>\n",
       "      <th>Species</th>\n",
       "      <th>sequence</th>\n",
       "      <th>gene_name</th>\n",
       "      <th>expression_level</th>\n",
       "    </tr>\n",
       "  </thead>\n",
       "  <tbody>\n",
       "    <tr>\n",
       "      <th>0</th>\n",
       "      <td>Drosophila melanogaster</td>\n",
       "      <td>atatatatatcgcgtatatatacgactatatgcattaattatagca...</td>\n",
       "      <td>kdy647</td>\n",
       "      <td>264</td>\n",
       "    </tr>\n",
       "    <tr>\n",
       "      <th>1</th>\n",
       "      <td>Drosophila melanogaster</td>\n",
       "      <td>actgtgacgtgtactgtacgactatcgatacgtagtactgatcgct...</td>\n",
       "      <td>jdg766</td>\n",
       "      <td>185</td>\n",
       "    </tr>\n",
       "    <tr>\n",
       "      <th>2</th>\n",
       "      <td>Drosophila simulans</td>\n",
       "      <td>atcgatcatgtcgatcgatgatgcatccgactatcgtcgatcgtga...</td>\n",
       "      <td>kdy533</td>\n",
       "      <td>485</td>\n",
       "    </tr>\n",
       "    <tr>\n",
       "      <th>3</th>\n",
       "      <td>Drosophila simulans</td>\n",
       "      <td>atcgGGCTCGAatcatgtcgatcgatgGCTAGCatgcatccgacta...</td>\n",
       "      <td>kdy566</td>\n",
       "      <td>520</td>\n",
       "    </tr>\n",
       "    <tr>\n",
       "      <th>4</th>\n",
       "      <td>Drosophila yakuba</td>\n",
       "      <td>cgcgcgctcgcgcatacggcctaatgcgcgcgctagcgatgc</td>\n",
       "      <td>hdt739</td>\n",
       "      <td>85</td>\n",
       "    </tr>\n",
       "    <tr>\n",
       "      <th>5</th>\n",
       "      <td>Drosophila yakuba</td>\n",
       "      <td>gcgcttcgctgacgctgctggcacgcgcgctcgcgcatacggccta...</td>\n",
       "      <td>hdt776</td>\n",
       "      <td>185</td>\n",
       "    </tr>\n",
       "    <tr>\n",
       "      <th>6</th>\n",
       "      <td>Drosophila ananassae</td>\n",
       "      <td>ttacgatcgatcgatcgatcgatcgtcgatcgtcgatgctacatcg...</td>\n",
       "      <td>hdu045</td>\n",
       "      <td>356</td>\n",
       "    </tr>\n",
       "    <tr>\n",
       "      <th>7</th>\n",
       "      <td>Drosophila ananassae</td>\n",
       "      <td>gcatcgatcgatcgcggcgcatcgatcgcgatcatcgatcatacgc...</td>\n",
       "      <td>teg436</td>\n",
       "      <td>222</td>\n",
       "    </tr>\n",
       "    <tr>\n",
       "      <th>8</th>\n",
       "      <td>Drosophila ananassae</td>\n",
       "      <td>ggcgctgccgcgaaactctcgctcatcgatcgatcgcggcgccccg...</td>\n",
       "      <td>teg276</td>\n",
       "      <td>120</td>\n",
       "    </tr>\n",
       "  </tbody>\n",
       "</table>\n",
       "</div>\n",
       "      <button class=\"colab-df-convert\" onclick=\"convertToInteractive('df-b3a2bf4c-44fa-49cf-964a-ba6f478f5180')\"\n",
       "              title=\"Convert this dataframe to an interactive table.\"\n",
       "              style=\"display:none;\">\n",
       "        \n",
       "  <svg xmlns=\"http://www.w3.org/2000/svg\" height=\"24px\"viewBox=\"0 0 24 24\"\n",
       "       width=\"24px\">\n",
       "    <path d=\"M0 0h24v24H0V0z\" fill=\"none\"/>\n",
       "    <path d=\"M18.56 5.44l.94 2.06.94-2.06 2.06-.94-2.06-.94-.94-2.06-.94 2.06-2.06.94zm-11 1L8.5 8.5l.94-2.06 2.06-.94-2.06-.94L8.5 2.5l-.94 2.06-2.06.94zm10 10l.94 2.06.94-2.06 2.06-.94-2.06-.94-.94-2.06-.94 2.06-2.06.94z\"/><path d=\"M17.41 7.96l-1.37-1.37c-.4-.4-.92-.59-1.43-.59-.52 0-1.04.2-1.43.59L10.3 9.45l-7.72 7.72c-.78.78-.78 2.05 0 2.83L4 21.41c.39.39.9.59 1.41.59.51 0 1.02-.2 1.41-.59l7.78-7.78 2.81-2.81c.8-.78.8-2.07 0-2.86zM5.41 20L4 18.59l7.72-7.72 1.47 1.35L5.41 20z\"/>\n",
       "  </svg>\n",
       "      </button>\n",
       "      \n",
       "  <style>\n",
       "    .colab-df-container {\n",
       "      display:flex;\n",
       "      flex-wrap:wrap;\n",
       "      gap: 12px;\n",
       "    }\n",
       "\n",
       "    .colab-df-convert {\n",
       "      background-color: #E8F0FE;\n",
       "      border: none;\n",
       "      border-radius: 50%;\n",
       "      cursor: pointer;\n",
       "      display: none;\n",
       "      fill: #1967D2;\n",
       "      height: 32px;\n",
       "      padding: 0 0 0 0;\n",
       "      width: 32px;\n",
       "    }\n",
       "\n",
       "    .colab-df-convert:hover {\n",
       "      background-color: #E2EBFA;\n",
       "      box-shadow: 0px 1px 2px rgba(60, 64, 67, 0.3), 0px 1px 3px 1px rgba(60, 64, 67, 0.15);\n",
       "      fill: #174EA6;\n",
       "    }\n",
       "\n",
       "    [theme=dark] .colab-df-convert {\n",
       "      background-color: #3B4455;\n",
       "      fill: #D2E3FC;\n",
       "    }\n",
       "\n",
       "    [theme=dark] .colab-df-convert:hover {\n",
       "      background-color: #434B5C;\n",
       "      box-shadow: 0px 1px 3px 1px rgba(0, 0, 0, 0.15);\n",
       "      filter: drop-shadow(0px 1px 2px rgba(0, 0, 0, 0.3));\n",
       "      fill: #FFFFFF;\n",
       "    }\n",
       "  </style>\n",
       "\n",
       "      <script>\n",
       "        const buttonEl =\n",
       "          document.querySelector('#df-b3a2bf4c-44fa-49cf-964a-ba6f478f5180 button.colab-df-convert');\n",
       "        buttonEl.style.display =\n",
       "          google.colab.kernel.accessAllowed ? 'block' : 'none';\n",
       "\n",
       "        async function convertToInteractive(key) {\n",
       "          const element = document.querySelector('#df-b3a2bf4c-44fa-49cf-964a-ba6f478f5180');\n",
       "          const dataTable =\n",
       "            await google.colab.kernel.invokeFunction('convertToInteractive',\n",
       "                                                     [key], {});\n",
       "          if (!dataTable) return;\n",
       "\n",
       "          const docLinkHtml = 'Like what you see? Visit the ' +\n",
       "            '<a target=\"_blank\" href=https://colab.research.google.com/notebooks/data_table.ipynb>data table notebook</a>'\n",
       "            + ' to learn more about interactive tables.';\n",
       "          element.innerHTML = '';\n",
       "          dataTable['output_type'] = 'display_data';\n",
       "          await google.colab.output.renderOutput(dataTable, element);\n",
       "          const docLink = document.createElement('div');\n",
       "          docLink.innerHTML = docLinkHtml;\n",
       "          element.appendChild(docLink);\n",
       "        }\n",
       "      </script>\n",
       "    </div>\n",
       "  </div>\n",
       "  "
      ],
      "text/plain": [
       "                   Species                                           sequence  \\\n",
       "0  Drosophila melanogaster  atatatatatcgcgtatatatacgactatatgcattaattatagca...   \n",
       "1  Drosophila melanogaster  actgtgacgtgtactgtacgactatcgatacgtagtactgatcgct...   \n",
       "2      Drosophila simulans  atcgatcatgtcgatcgatgatgcatccgactatcgtcgatcgtga...   \n",
       "3      Drosophila simulans  atcgGGCTCGAatcatgtcgatcgatgGCTAGCatgcatccgacta...   \n",
       "4        Drosophila yakuba         cgcgcgctcgcgcatacggcctaatgcgcgcgctagcgatgc   \n",
       "5        Drosophila yakuba  gcgcttcgctgacgctgctggcacgcgcgctcgcgcatacggccta...   \n",
       "6     Drosophila ananassae  ttacgatcgatcgatcgatcgatcgtcgatcgtcgatgctacatcg...   \n",
       "7     Drosophila ananassae  gcatcgatcgatcgcggcgcatcgatcgcgatcatcgatcatacgc...   \n",
       "8     Drosophila ananassae  ggcgctgccgcgaaactctcgctcatcgatcgatcgcggcgccccg...   \n",
       "\n",
       "  gene_name  expression_level  \n",
       "0    kdy647               264  \n",
       "1    jdg766               185  \n",
       "2    kdy533               485  \n",
       "3    kdy566               520  \n",
       "4    hdt739                85  \n",
       "5    hdt776               185  \n",
       "6    hdu045               356  \n",
       "7    teg436               222  \n",
       "8    teg276               120  "
      ]
     },
     "execution_count": 6,
     "metadata": {},
     "output_type": "execute_result"
    }
   ],
   "source": [
    "df = pd.read_csv(\"Python_assess_dataset.csv\")\n",
    "df"
   ]
  },
  {
   "cell_type": "markdown",
   "metadata": {
    "id": "LoCYwfXwm6sJ"
   },
   "source": [
    "## a. Several Species"
   ]
  },
  {
   "cell_type": "code",
   "execution_count": 7,
   "metadata": {
    "colab": {
     "base_uri": "https://localhost:8080/"
    },
    "id": "4K9wlg482zxa",
    "outputId": "55575aa2-d49c-4713-99fc-b6e15a2b9c28"
   },
   "outputs": [
    {
     "name": "stdout",
     "output_type": "stream",
     "text": [
      "kdy647\n",
      "jdg766\n"
     ]
    }
   ],
   "source": [
    "dm_genes = df.loc[df[\"Species\"].isin([\"Drosophila melanogaster\"])][\"gene_name\"]\n",
    "print(\"\\n\".join(list(dm_genes)))"
   ]
  },
  {
   "cell_type": "markdown",
   "metadata": {
    "id": "V7GxP8GKnBZ4"
   },
   "source": [
    "## b. Length Range"
   ]
  },
  {
   "cell_type": "code",
   "execution_count": 8,
   "metadata": {
    "colab": {
     "base_uri": "https://localhost:8080/"
    },
    "id": "zeZGuozZ20Hg",
    "outputId": "a467862e-9614-4a1c-e751-1a4b497c407a"
   },
   "outputs": [
    {
     "name": "stdout",
     "output_type": "stream",
     "text": [
      "kdy647\n",
      "jdg766\n",
      "kdy533\n",
      "kdy566\n",
      "hdt739\n",
      "hdt776\n",
      "hdu045\n",
      "teg436\n",
      "teg276\n"
     ]
    }
   ],
   "source": [
    "len_genes = df.loc[df[\"sequence\"].apply(lambda s: len(s)>=90 & len(s)<=110)][\"gene_name\"]\n",
    "print(\"\\n\".join(list(len_genes)))"
   ]
  },
  {
   "cell_type": "markdown",
   "metadata": {
    "id": "rGDwxSzPnHOx"
   },
   "source": [
    "## c. AT Content"
   ]
  },
  {
   "cell_type": "code",
   "execution_count": 9,
   "metadata": {
    "id": "sWhVeLcy20Rg"
   },
   "outputs": [],
   "source": [
    "def AT(seq):\n",
    "    seq = seq.lower()\n",
    "    a = seq.count(\"a\")\n",
    "    t = seq.count(\"t\")\n",
    "    return (a+t)/len(seq)"
   ]
  },
  {
   "cell_type": "code",
   "execution_count": 10,
   "metadata": {
    "colab": {
     "base_uri": "https://localhost:8080/"
    },
    "id": "TeJzEOQT20aL",
    "outputId": "c08f5b20-00c0-4a42-fdf3-743f46da4a61"
   },
   "outputs": [
    {
     "name": "stdout",
     "output_type": "stream",
     "text": [
      "kdy566\n",
      "teg436\n"
     ]
    }
   ],
   "source": [
    "at_genes = [df.iloc[r, 2] for r in range(df.shape[0]) if AT(df.iloc[r, 1])<0.5 and df.iloc[r, 3]>200]\n",
    "print(\"\\n\".join(at_genes))"
   ]
  },
  {
   "cell_type": "markdown",
   "metadata": {
    "id": "wZ0bpCLznU8J"
   },
   "source": [
    "## d. Complex Condition"
   ]
  },
  {
   "cell_type": "code",
   "execution_count": 11,
   "metadata": {
    "colab": {
     "base_uri": "https://localhost:8080/"
    },
    "id": "HebspIFO20hd",
    "outputId": "b95b0153-2e47-4b6a-b0c5-dacb82fd2de1"
   },
   "outputs": [
    {
     "name": "stdout",
     "output_type": "stream",
     "text": [
      "kdy533\n",
      "kdy566\n",
      "hdt739\n",
      "hdt776\n",
      "hdu045\n"
     ]
    }
   ],
   "source": [
    "kh_genes = [df.iloc[r,2] for r in range(df.shape[0]) if (df.iloc[r,2][0] in ['k', 'h']) and (df.iloc[r,0] != \"Drosophila melanogaster\")]\n",
    "print(\"\\n\".join(kh_genes))"
   ]
  },
  {
   "cell_type": "code",
   "execution_count": 11,
   "metadata": {
    "id": "ifhWtLg5hw_M"
   },
   "outputs": [],
   "source": []
  },
  {
   "cell_type": "markdown",
   "metadata": {
    "id": "Wb9HXbKsh_PU"
   },
   "source": [
    "## e. High Low Medium"
   ]
  },
  {
   "cell_type": "code",
   "execution_count": 12,
   "metadata": {
    "id": "Zi3b4a4A20px"
   },
   "outputs": [],
   "source": [
    "def high_low_mid_at(seq):\n",
    "    at = AT(seq.lower())\n",
    "    if at > 0.65:\n",
    "        flag = \"high\"\n",
    "    elif at < 0.45:\n",
    "        flag = \"low\"\n",
    "    else:\n",
    "        flag = \"medium\"\n",
    "    return flag"
   ]
  },
  {
   "cell_type": "code",
   "execution_count": 13,
   "metadata": {
    "colab": {
     "base_uri": "https://localhost:8080/"
    },
    "id": "z0p_1b-v205W",
    "outputId": "68dc172a-fef3-4ce0-82b8-a31c8101fb0a"
   },
   "outputs": [
    {
     "name": "stdout",
     "output_type": "stream",
     "text": [
      "kdy647: high\n",
      "jdg766: medium\n",
      "kdy533: medium\n",
      "kdy566: medium\n",
      "hdt739: low\n",
      "hdt776: low\n",
      "hdu045: medium\n",
      "teg436: medium\n",
      "teg276: low\n"
     ]
    }
   ],
   "source": [
    "for r in range(df.shape[0]):\n",
    "    gene, seq = df.iloc[r,2], df.iloc[r,1]\n",
    "    print(f\"{gene}: {high_low_mid_at(seq)}\")"
   ]
  },
  {
   "cell_type": "code",
   "execution_count": 13,
   "metadata": {
    "id": "PDUad07c21CL"
   },
   "outputs": [],
   "source": []
  },
  {
   "cell_type": "markdown",
   "metadata": {
    "id": "xRhFg-sfn4E8"
   },
   "source": [
    "# Q2"
   ]
  },
  {
   "cell_type": "markdown",
   "metadata": {
    "id": "WqPapoAqhUGL"
   },
   "source": [
    "#### print all the combinations of numbers from two dice"
   ]
  },
  {
   "cell_type": "code",
   "execution_count": 14,
   "metadata": {
    "id": "M4Spiis321NB"
   },
   "outputs": [],
   "source": [
    "from itertools import product"
   ]
  },
  {
   "cell_type": "code",
   "execution_count": 15,
   "metadata": {
    "colab": {
     "base_uri": "https://localhost:8080/"
    },
    "id": "L5jtsMPp21U6",
    "outputId": "8baf90b1-a8f3-46f1-a57f-4065afc9e4cb"
   },
   "outputs": [
    {
     "name": "stdout",
     "output_type": "stream",
     "text": [
      "[(1, 1), (1, 2), (1, 3), (1, 4), (1, 5), (1, 6), (2, 1), (2, 2), (2, 3), (2, 4), (2, 5), (2, 6), (3, 1), (3, 2), (3, 3), (3, 4), (3, 5), (3, 6), (4, 1), (4, 2), (4, 3), (4, 4), (4, 5), (4, 6), (5, 1), (5, 2), (5, 3), (5, 4), (5, 5), (5, 6), (6, 1), (6, 2), (6, 3), (6, 4), (6, 5), (6, 6)]\n"
     ]
    }
   ],
   "source": [
    "all_nums = list(product(range(1,7), range(1,7)))\n",
    "print(all_nums)"
   ]
  },
  {
   "cell_type": "markdown",
   "metadata": {
    "id": "YkWrAHQphl7w"
   },
   "source": [
    "#### make your own function to calculate the average value of all the sum of combinations"
   ]
  },
  {
   "cell_type": "code",
   "execution_count": 16,
   "metadata": {
    "colab": {
     "base_uri": "https://localhost:8080/"
    },
    "id": "gVzVaIZd21oI",
    "outputId": "17e279bf-c7db-4a1f-de8b-4815a3c1962f"
   },
   "outputs": [
    {
     "name": "stdout",
     "output_type": "stream",
     "text": [
      "7.0\n"
     ]
    }
   ],
   "source": [
    "def average(all_nums):\n",
    "    res = sum([p[0]+p[1] for p in all_nums])\n",
    "    return res/len(all_nums)\n",
    "\n",
    "print(average(all_nums))"
   ]
  },
  {
   "cell_type": "markdown",
   "metadata": {
    "id": "I8XOWQUNhxZG"
   },
   "source": [
    "#### make your own function to find the maximum value of all the sum of combinations"
   ]
  },
  {
   "cell_type": "code",
   "execution_count": 17,
   "metadata": {
    "colab": {
     "base_uri": "https://localhost:8080/"
    },
    "id": "fFPSokw-szvA",
    "outputId": "4a9b38b6-0ded-4312-f29b-9284036c3e02"
   },
   "outputs": [
    {
     "name": "stdout",
     "output_type": "stream",
     "text": [
      "12\n"
     ]
    }
   ],
   "source": [
    "def maximum(all_nums):\n",
    "    res = [p[0]+p[1] for p in all_nums]\n",
    "    return max(res)\n",
    "\n",
    "print(maximum(all_nums))"
   ]
  },
  {
   "cell_type": "markdown",
   "metadata": {
    "id": "VwEfGiHMh9u0"
   },
   "source": [
    "#### calculate the possibility of getting a sum of six"
   ]
  },
  {
   "cell_type": "code",
   "execution_count": 18,
   "metadata": {
    "colab": {
     "base_uri": "https://localhost:8080/"
    },
    "id": "2LQGHkIJs0I0",
    "outputId": "f777de13-3584-46dc-ea67-7c73542e8690"
   },
   "outputs": [
    {
     "name": "stdout",
     "output_type": "stream",
     "text": [
      "0.1388888888888889\n"
     ]
    }
   ],
   "source": [
    "sum_six = [p for p in all_nums if p[0]+p[1]==6]\n",
    "P_6 = len(sum_six)/len(all_nums)\n",
    "print(P_6)"
   ]
  },
  {
   "cell_type": "markdown",
   "metadata": {
    "id": "vH9S-OxtiGcn"
   },
   "source": [
    "#### calculate the possibility of getting a sum bigger than six"
   ]
  },
  {
   "cell_type": "code",
   "execution_count": 19,
   "metadata": {
    "colab": {
     "base_uri": "https://localhost:8080/"
    },
    "id": "ILe6wEiHuQH7",
    "outputId": "07e710d4-79c2-4a25-d0bb-c25e805ab9ed"
   },
   "outputs": [
    {
     "name": "stdout",
     "output_type": "stream",
     "text": [
      "0.5833333333333334\n"
     ]
    }
   ],
   "source": [
    "sum_gt_six = [p for p in all_nums if p[0]+p[1]>6]\n",
    "P_gt_6 = len(sum_gt_six)/len(all_nums)\n",
    "print(P_gt_6)"
   ]
  },
  {
   "cell_type": "code",
   "execution_count": 19,
   "metadata": {
    "id": "oCsliVdquQTH"
   },
   "outputs": [],
   "source": []
  },
  {
   "cell_type": "markdown",
   "metadata": {
    "id": "8N6sdpvevlpG"
   },
   "source": [
    "# Q3"
   ]
  },
  {
   "cell_type": "markdown",
   "metadata": {
    "id": "FHkDm3E4kO8F"
   },
   "source": [
    "#### Write your own translation function to conduct the translation by using dictionary"
   ]
  },
  {
   "cell_type": "code",
   "execution_count": 20,
   "metadata": {
    "id": "GqUPbmfKh-vC"
   },
   "outputs": [],
   "source": [
    "Codons = {'TTT':'F', 'TTC':'F', 'TTA':'L', 'TTG':'L',\n",
    "          'TCT':'S', 'TCC':'S', 'TCA':'S', 'TCG':'S',\n",
    "          'TAT':'Y', 'TAC':'Y', 'TAA':'*', 'TAG':'*',\n",
    "          'TGT':'C', 'TGC':'C', 'TGA':'*', 'TGG':'W',\n",
    "          'CTT':'L', 'CTC':'L', 'CTA':'L', 'CTG':'L',\n",
    "          'CCT':'P', 'CCC':'P', 'CCA':'P', 'CCG':'P',\n",
    "          'CAT':'H', 'CAC':'H', 'CAA':'Q', 'CAG':'Q',\n",
    "          'CGT':'R', 'CGC':'R', 'CGA':'R', 'CGG':'R',\n",
    "          'ATT':'I', 'ATC':'I', 'ATA':'I', 'ATG':'M',\n",
    "          'ACT':'T', 'ACC':'T', 'ACA':'T', 'ACG':'T',\n",
    "          'AAT':'N', 'AAC':'N', 'AAA':'K', 'AAG':'K',\n",
    "          'AGT':'S', 'AGC':'S', 'AGA':'R', 'AGG':'R',\n",
    "          'GTT':'V', 'GTC':'V', 'GTA':'V', 'GTG':'V',\n",
    "          'GCT':'A', 'GCC':'A', 'GCA':'A', 'GCG':'A',\n",
    "          'GAT':'D', 'GAC':'D', 'GAA':'E', 'GAG':'E',\n",
    "          'GGT':'G', 'GGC':'G', 'GGA':'G', 'GGG':'G'}"
   ]
  },
  {
   "cell_type": "code",
   "execution_count": 21,
   "metadata": {
    "colab": {
     "base_uri": "https://localhost:8080/"
    },
    "id": "fim6pNpGh-4B",
    "outputId": "d611615f-25d6-4804-9901-e4a17ae927c3"
   },
   "outputs": [
    {
     "name": "stdout",
     "output_type": "stream",
     "text": [
      "VSTLTDLQPYHATVRGSPAGDLAR*GDAVSHRA\n"
     ]
    }
   ],
   "source": [
    "def translation(dna):\n",
    "    return \"\".join([Codons[dna[i:i+3]] for i in range(0, len(dna)-2, 3)])\n",
    "\n",
    "\n",
    "dna = \"GTCTCTACCTTGACAGACCTCCAGCCGTATCATGCGACAGTTCGTGGCTCACCTGCAGGAGACCTAGCCCGCTGAGGAGATGCCGTCAGTCATCGAGCAG\"\n",
    "print(translation(dna))"
   ]
  },
  {
   "cell_type": "markdown",
   "metadata": {
    "id": "6Yh5pVuUkdqD"
   },
   "source": [
    "#### Conduct 3-frame translation (forward) using both your own function and biopython method"
   ]
  },
  {
   "cell_type": "code",
   "execution_count": 22,
   "metadata": {
    "colab": {
     "base_uri": "https://localhost:8080/"
    },
    "id": "Z2r2kFoDlqtp",
    "outputId": "e204dab3-7133-4777-b833-9143a24fe6db"
   },
   "outputs": [
    {
     "name": "stdout",
     "output_type": "stream",
     "text": [
      "VSTLTDLQPYHATVRGSPAGDLAR*GDAVSHRA\n",
      "SLP*QTSSRIMRQFVAHLQET*PAEEMPSVIEQ\n",
      "LYLDRPPAVSCDSSWLTCRRPSPLRRCRQSSS\n"
     ]
    }
   ],
   "source": [
    "for i in range(3):\n",
    "    seq = dna[i:]\n",
    "    print(translation(seq))"
   ]
  },
  {
   "cell_type": "code",
   "execution_count": 23,
   "metadata": {
    "colab": {
     "base_uri": "https://localhost:8080/"
    },
    "id": "6Bt9NwXflq1M",
    "outputId": "72121e58-e073-48ec-eddf-7f62733b70e3"
   },
   "outputs": [
    {
     "name": "stdout",
     "output_type": "stream",
     "text": [
      "VSTLTDLQPYHATVRGSPAGDLAR*GDAVSHRA\n",
      "SLP*QTSSRIMRQFVAHLQET*PAEEMPSVIEQ\n",
      "LYLDRPPAVSCDSSWLTCRRPSPLRRCRQSSS\n"
     ]
    },
    {
     "name": "stderr",
     "output_type": "stream",
     "text": [
      "/usr/local/lib/python3.8/dist-packages/Bio/Seq.py:3482: BiopythonWarning: Partial codon, len(sequence) not a multiple of three. Explicitly trim the sequence or add trailing N before translation. This may become an error in future.\n",
      "  warnings.warn(\n"
     ]
    }
   ],
   "source": [
    "from Bio.Seq import translate \n",
    "\n",
    "for i in range(3):\n",
    "    seq = dna[i:]\n",
    "    print(translate(seq, table=1))"
   ]
  },
  {
   "cell_type": "markdown",
   "metadata": {
    "id": "NiMsOQ_IknUe"
   },
   "source": [
    "#### Conduct 3-frame translation (reverse complement) using both your own function and biopython method"
   ]
  },
  {
   "cell_type": "code",
   "execution_count": 24,
   "metadata": {
    "colab": {
     "base_uri": "https://localhost:8080/"
    },
    "id": "3Airky5O7blg",
    "outputId": "e5b9b8b8-dce4-418d-ea57-78ed8571e757"
   },
   "outputs": [
    {
     "name": "stdout",
     "output_type": "stream",
     "text": [
      "LLDD*RHLLSGLGLLQVSHELSHDTAGGLSR*R\n",
      "CSMTDGISSAG*VSCR*ATNCRMIRLEVCQGRD\n",
      "AR*LTASPQRARSPAGEPRTVA*YGWRSVKVE\n"
     ]
    }
   ],
   "source": [
    "\n",
    "from Bio.Seq import reverse_complement\n",
    "\n",
    "rev_dna = reverse_complement(dna)\n",
    "for i in range(3):\n",
    "    seq = rev_dna[i:]\n",
    "    print(translation(seq))"
   ]
  },
  {
   "cell_type": "code",
   "execution_count": 25,
   "metadata": {
    "colab": {
     "base_uri": "https://localhost:8080/"
    },
    "id": "v18d8THq7byO",
    "outputId": "35b72918-1839-42d7-e50c-bdd2672eeac8"
   },
   "outputs": [
    {
     "name": "stdout",
     "output_type": "stream",
     "text": [
      "LLDD*RHLLSGLGLLQVSHELSHDTAGGLSR*R\n",
      "CSMTDGISSAG*VSCR*ATNCRMIRLEVCQGRD\n",
      "AR*LTASPQRARSPAGEPRTVA*YGWRSVKVE\n"
     ]
    }
   ],
   "source": [
    "\n",
    "from Bio.Seq import translate\n",
    "\n",
    "for i in range(3):\n",
    "    seq = rev_dna[i:]\n",
    "    print(translate(seq, table=1))"
   ]
  },
  {
   "cell_type": "markdown",
   "metadata": {
    "id": "nephpbxhk94R"
   },
   "source": [
    "#### NM_198253.3_sequence.fasta file includes multilines DNA sequence of human TERT gene, one exon starts from position 2734 to 2922 (inclusive), translate this exon’s DNA sequence to amino acid sequence"
   ]
  },
  {
   "cell_type": "code",
   "execution_count": 26,
   "metadata": {
    "id": "3Gib4EenBuDN"
   },
   "outputs": [],
   "source": [
    "with open(\"NM_198253.3_sequence.txt\", \"r\") as f:\n",
    "    header = f.readline()\n",
    "    sequence = f.read().replace(\"\\n\", \"\")"
   ]
  },
  {
   "cell_type": "code",
   "execution_count": 27,
   "metadata": {
    "colab": {
     "base_uri": "https://localhost:8080/"
    },
    "id": "kAPP36UODXW9",
    "outputId": "3b4f63ef-7c6d-4465-d128-b4383a9fe833"
   },
   "outputs": [
    {
     "name": "stdout",
     "output_type": "stream",
     "text": [
      "LSSRREFQAALRPAAHVGSPGPGHPRDAARSPLPSRALPAAQPLPRGAAAGHVRAAPGAPGLAAGAARGPGGFPRAGGPVPGVRALGRTAAPRRPLLPPGVLPEGAGGPSAAEAVRARREERAGLRLRAAGRGPRGPPRGLHHQRAQLPAQHGDRRTAGERGVGAAAAPRGRRRAGSPAGTLRALCAGGSQLRLPGVRAAAVPARRCHSGPAPATR*WTPKASGMRTGLEP*RQGGRGPPGPASPGCEEARGQCQPKSAVAQEAQAWRCP*AGADARWAGVLGPPGQDAWTE*PWFLCGVTCQTRRRSHLFGGCALWHAPLPPIRGPPAPRGPPIHIAATTSLGHALSPGVRRDQALPLLLRRQGAAAALLPTQLSEAQPDWRSEARGDHLSGFQALDARDSPQVAPPAPALLANAAPVSGAAWEPRAVPLRGAPQDALPAASCGHPSSRCLCPGEAPGLCGGPRGGGHRPPSPGAAAPPAQQPLAGVRLRAGLPAPAGAPRPLGLQAQRTPLPQEHQEVHLPGEACQALAAGADVEDERAGLRLAAQEPRGWLCSGRRAPSA*GDPGQVPALADECVRRRAAQVFLLCHGDHVSKEQALFLPEECLEQVAKHWNQTALEEGAAAGAVGSRGQAASGSQARPADVQTPLHPQA*RAAADCEHGLRRGSQNVPQRKEGRASHLEGEGTVQRAQLRAGAAPRPPGRLCAGPGRYPQGLAHLRAACAGPGPAA*AVLCQGGCDGRVRHHPPGQAHGGHRQHHQTPEHVLRASVCRGPEGRPWARPQGLQEPRLYLDRPPAVHATVRGSPAGDQPAEGCRRHRAELLPE*GQQWPLRRLPTLHVPPRRAHQGQVLRPVPGDPAGLHPLHAALQPVLRRHGEQAVCGDSAGRAAPAFGG*FLVGDTSPHPRENLPQDPGPRCP*VWLRGELAEDSGELPCRRRGPGWHGFCSDAGPRPIPLVRPAAGYPDPGGAERLLQLCPDLHQSQSHLQPRLQGWEEHASQTLWGLAAEVSQPVSGFAGEQPPDGVHQHLQDPPAAGVQVSRMCAAAPISSASLEEPHIFPARHL*HGLPLLLHPESQERRDVAGGQGRRRPSALRGRAVAVPPSIPAQADSTPCHLRATPGVTQDSPDAAESEAPGDDADCPGGRSQPGTALRLQDHPGLMATRPQPGREQTPAALSRRALRPREGGAAHTQARTAGSLRPE*VFGRGLHVRLKAECPAEA*ASVQPRAECPAHLPSSLPHRLALGSTPGPAFPHQEPGFHSPHRNSPSPDSPLFTPRPALLCLPPPPSRWRP*EGPWELWEFGVTKGVPCTQARTLHLDGGPCGSNWGEVLWE*NTEYMSFSVLKK\n"
     ]
    }
   ],
   "source": [
    "print(translation(sequence))"
   ]
  },
  {
   "cell_type": "code",
   "execution_count": 27,
   "metadata": {
    "id": "iJ0KBNZSDXqA"
   },
   "outputs": [],
   "source": []
  },
  {
   "cell_type": "markdown",
   "metadata": {
    "id": "D90zQNw8ESRS"
   },
   "source": [
    "# Q4"
   ]
  },
  {
   "cell_type": "code",
   "execution_count": 28,
   "metadata": {
    "id": "0dxF5XS1ECdu"
   },
   "outputs": [],
   "source": [
    "from Bio import SeqIO"
   ]
  },
  {
   "cell_type": "code",
   "execution_count": 29,
   "metadata": {
    "id": "jyDqVPF2ECnx"
   },
   "outputs": [],
   "source": [
    "sequences = {record.id:str(record.seq) for record in SeqIO.parse(\"Covid19_6files.txt\", \"fasta\")}"
   ]
  },
  {
   "cell_type": "code",
   "execution_count": 30,
   "metadata": {
    "id": "3lnG5Q15FRvi"
   },
   "outputs": [],
   "source": [
    "def AT(seq):\n",
    "    seq = seq.lower()\n",
    "    a = seq.count(\"a\")\n",
    "    t = seq.count(\"t\")\n",
    "    return round(((a+t)/len(seq))*100, 2)"
   ]
  },
  {
   "cell_type": "code",
   "execution_count": 31,
   "metadata": {
    "colab": {
     "base_uri": "https://localhost:8080/"
    },
    "id": "Cec6y9BxE8bN",
    "outputId": "2b8c86ec-37c7-41e5-97d7-fe9a6add7342"
   },
   "outputs": [
    {
     "name": "stdout",
     "output_type": "stream",
     "text": [
      "NC_045512.2, length = 29903, AT_content = 62.03%\n",
      "LR757995.1, length = 29872, AT_content = 62.0%\n",
      "LR757996.1, length = 29868, AT_content = 62.0%\n",
      "LR757998.1, length = 29866, AT_content = 62.01%\n",
      "MW181765.1, length = 29782, AT_content = 58.62%\n",
      "MW181750.1, length = 29782, AT_content = 61.53%\n"
     ]
    }
   ],
   "source": [
    "for Id, seq in sequences.items():\n",
    "    print(f\"{Id}, length = {len(seq)}, AT_content = {AT(seq)}%\")"
   ]
  },
  {
   "cell_type": "code",
   "execution_count": 31,
   "metadata": {
    "id": "EUfDKuUME8je"
   },
   "outputs": [],
   "source": []
  },
  {
   "cell_type": "markdown",
   "metadata": {
    "id": "fjD1Mh8WKdQJ"
   },
   "source": [
    "# Q5"
   ]
  },
  {
   "cell_type": "code",
   "execution_count": 32,
   "metadata": {
    "id": "29SpDhZpE8qP"
   },
   "outputs": [],
   "source": [
    "with open(\"genomic_dna.txt\", \"r\") as f:\n",
    "    genome = f.read().replace(\"\\n\", \"\")\n",
    "\n",
    "with open(\"exons.txt\", \"r\") as f:\n",
    "    exons = [list(map(int, l.strip().split(\",\"))) for l in f.readlines()]"
   ]
  },
  {
   "cell_type": "code",
   "execution_count": 33,
   "metadata": {
    "id": "BW7z4uf4NUsp"
   },
   "outputs": [],
   "source": [
    "def GC(seq):\n",
    "    seq = seq.lower()\n",
    "    g = seq.count(\"g\")\n",
    "    c = seq.count(\"c\")\n",
    "    return round(((g+c)/len(seq))*100, 2)"
   ]
  },
  {
   "cell_type": "code",
   "execution_count": 34,
   "metadata": {
    "colab": {
     "base_uri": "https://localhost:8080/"
    },
    "id": "nWcKR2d_E8wb",
    "outputId": "93ca7794-bc36-49c8-b665-699a56dba20f"
   },
   "outputs": [
    {
     "name": "stdout",
     "output_type": "stream",
     "text": [
      "CGTACCGTCGACGATGCTACGATCGTCGATCGTAGTCGATCATCGATCGATCG, length = 53, GC_content = 54.72%\n",
      "CGATCGATCGATATCGATCGATATCATCGATGCATCGATCATCGATCGATCGATCGATCGA, length = 61, GC_content = 45.9%\n",
      "CGATCGATCGATCGTAGCTAGCTAGCTAGTGGGCGTATCGATCATCATCGTAGCTAGCTCGACTAGCTACGTACGATCGATGCATC, length = 86, GC_content = 51.16%\n",
      "CTAGCTAGCTACGATCGATCGATCGATCGATCGATCGATCGATCGATCGATCGTAGCT, length = 58, GC_content = 50.0%\n"
     ]
    }
   ],
   "source": [
    "for pos in exons:\n",
    "    segment = genome[pos[0]:pos[1]]\n",
    "    print(f\"{segment}, length = {len(segment)}, GC_content = {GC(segment)}%\")"
   ]
  },
  {
   "cell_type": "code",
   "execution_count": 34,
   "metadata": {
    "id": "J3CFeRJcE81-"
   },
   "outputs": [],
   "source": []
  }
 ],
 "metadata": {
  "colab": {
   "provenance": []
  },
  "kernelspec": {
   "display_name": "Python 3 (ipykernel)",
   "language": "python",
   "name": "python3"
  },
  "language_info": {
   "codemirror_mode": {
    "name": "ipython",
    "version": 3
   },
   "file_extension": ".py",
   "mimetype": "text/x-python",
   "name": "python",
   "nbconvert_exporter": "python",
   "pygments_lexer": "ipython3",
   "version": "3.12.2"
  }
 },
 "nbformat": 4,
 "nbformat_minor": 4
}
