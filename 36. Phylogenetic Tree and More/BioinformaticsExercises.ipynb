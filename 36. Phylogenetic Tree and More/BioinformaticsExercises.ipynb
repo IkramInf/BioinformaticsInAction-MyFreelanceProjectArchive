{
 "cells": [
  {
   "cell_type": "markdown",
   "metadata": {
    "id": "rxxeYBAd3sxx"
   },
   "source": [
    "# Exercise 4"
   ]
  },
  {
   "cell_type": "code",
   "execution_count": 72,
   "metadata": {
    "colab": {
     "base_uri": "https://localhost:8080/"
    },
    "executionInfo": {
     "elapsed": 425,
     "status": "ok",
     "timestamp": 1639937909913,
     "user": {
      "displayName": "Ikram Inf",
      "photoUrl": "https://lh3.googleusercontent.com/a-/AOh14Gj6pKU84qBPjl2btIGgEanDIWoTGOpazGJjyY8MWA=s64",
      "userId": "11802072329520947006"
     },
     "user_tz": -360
    },
    "id": "l3YReeG02Pnp",
    "outputId": "e2019535-b2d1-4cbd-d946-080dc8f9689a"
   },
   "outputs": [
    {
     "name": "stdout",
     "output_type": "stream",
     "text": [
      "ACGACACAGCATCGCG AATTCCCATCGCATTATGATTGA\n"
     ]
    }
   ],
   "source": [
    "def EcoRI(dna):\n",
    "  dna = dna.split(\"GAATTC\")\n",
    "  return dna[0]+\"G\", \"AATTC\"+dna[1]\n",
    "\n",
    "part1, part2 = EcoRI(\"ACGACACAGCATCGCGAATTCCCATCGCATTATGATTGA\")\n",
    "print(part1, part2)"
   ]
  },
  {
   "cell_type": "markdown",
   "metadata": {
    "id": "DydcC1CapmRZ"
   },
   "source": [
    "# Exercise 5"
   ]
  },
  {
   "cell_type": "code",
   "execution_count": 73,
   "metadata": {
    "colab": {
     "base_uri": "https://localhost:8080/"
    },
    "executionInfo": {
     "elapsed": 3582,
     "status": "ok",
     "timestamp": 1639937914092,
     "user": {
      "displayName": "Ikram Inf",
      "photoUrl": "https://lh3.googleusercontent.com/a-/AOh14Gj6pKU84qBPjl2btIGgEanDIWoTGOpazGJjyY8MWA=s64",
      "userId": "11802072329520947006"
     },
     "user_tz": -360
    },
    "id": "Yp74bmtTp9nk",
    "outputId": "98249eb4-1714-446e-8208-6efdb141fc89"
   },
   "outputs": [
    {
     "name": "stdout",
     "output_type": "stream",
     "text": [
      "Requirement already satisfied: biopython in /usr/local/lib/python3.7/dist-packages (1.79)\n",
      "Requirement already satisfied: numpy in /usr/local/lib/python3.7/dist-packages (from biopython) (1.19.5)\n"
     ]
    }
   ],
   "source": [
    "!pip install biopython"
   ]
  },
  {
   "cell_type": "code",
   "execution_count": 74,
   "metadata": {
    "colab": {
     "base_uri": "https://localhost:8080/"
    },
    "executionInfo": {
     "elapsed": 34,
     "status": "ok",
     "timestamp": 1639937914093,
     "user": {
      "displayName": "Ikram Inf",
      "photoUrl": "https://lh3.googleusercontent.com/a-/AOh14Gj6pKU84qBPjl2btIGgEanDIWoTGOpazGJjyY8MWA=s64",
      "userId": "11802072329520947006"
     },
     "user_tz": -360
    },
    "id": "VyCrmQz-ppUy",
    "outputId": "1516efd6-cc08-46c0-fa26-3d669d0595e2"
   },
   "outputs": [
    {
     "name": "stdout",
     "output_type": "stream",
     "text": [
      "File ‘multipleSeqs.fa’ already there; not retrieving.\n",
      "\n"
     ]
    }
   ],
   "source": [
    "!wget -nc https://gitlab.uoclabs.uoc.es/prog_bioinf/data/-/raw/master/Unidad4/multipleSeqs.fa --no-check-certificate"
   ]
  },
  {
   "cell_type": "code",
   "execution_count": 75,
   "metadata": {
    "colab": {
     "base_uri": "https://localhost:8080/"
    },
    "executionInfo": {
     "elapsed": 28,
     "status": "ok",
     "timestamp": 1639937914094,
     "user": {
      "displayName": "Ikram Inf",
      "photoUrl": "https://lh3.googleusercontent.com/a-/AOh14Gj6pKU84qBPjl2btIGgEanDIWoTGOpazGJjyY8MWA=s64",
      "userId": "11802072329520947006"
     },
     "user_tz": -360
    },
    "id": "pbFGzREfppYO",
    "outputId": "5ca2b6a4-30f7-4299-da98-9229b29ab3cb"
   },
   "outputs": [
    {
     "name": "stdout",
     "output_type": "stream",
     "text": [
      "ID: \" NT_033779.5 \" - longitud:  134\n",
      "ID: \" NC_004353.4 \" - longitud:  125\n",
      "ID: \" AM711902.1 \" - longitud:  140\n",
      "ID: \" NC_024512.1 \" - longitud:  81\n",
      "ID: \" NC_019843.3 \" - longitud:  300\n",
      "ID: \" NC_001802.1 \" - longitud:  557\n"
     ]
    }
   ],
   "source": [
    "from Bio import SeqIO\n",
    "\n",
    "records = SeqIO.parse(\"multipleSeqs.fa\", \"fasta\")\n",
    "for seq_record in records:\n",
    "  # For each sequence we Will print the ID and length\n",
    "  print('ID: \"', seq_record.id, '\" - longitud: ', len(seq_record))"
   ]
  },
  {
   "cell_type": "code",
   "execution_count": 76,
   "metadata": {
    "colab": {
     "base_uri": "https://localhost:8080/"
    },
    "executionInfo": {
     "elapsed": 24,
     "status": "ok",
     "timestamp": 1639937914095,
     "user": {
      "displayName": "Ikram Inf",
      "photoUrl": "https://lh3.googleusercontent.com/a-/AOh14Gj6pKU84qBPjl2btIGgEanDIWoTGOpazGJjyY8MWA=s64",
      "userId": "11802072329520947006"
     },
     "user_tz": -360
    },
    "id": "uiOr3eI3ppb5",
    "outputId": "202b5350-1ed8-442d-c48a-4f2cd3068222"
   },
   "outputs": [
    {
     "name": "stdout",
     "output_type": "stream",
     "text": [
      "Secuencia 0:\n",
      "Número de A's: 39\n",
      "Número de C's: 26\n",
      "Número de G's: 29\n",
      "Número de T's: 40\n",
      "\n",
      "Secuencia 1:\n",
      "Número de A's: 46\n",
      "Número de C's: 0\n",
      "Número de G's: 0\n",
      "Número de T's: 79\n",
      "\n",
      "Secuencia 2:\n",
      "Número de A's: 45\n",
      "Número de C's: 33\n",
      "Número de G's: 26\n",
      "Número de T's: 36\n",
      "\n",
      "Secuencia 3:\n",
      "Número de A's: 32\n",
      "Número de C's: 17\n",
      "Número de G's: 10\n",
      "Número de T's: 22\n",
      "\n",
      "Secuencia 4:\n",
      "Número de A's: 63\n",
      "Número de C's: 62\n",
      "Número de G's: 70\n",
      "Número de T's: 105\n",
      "\n",
      "Secuencia 5:\n",
      "Número de A's: 165\n",
      "Número de C's: 114\n",
      "Número de G's: 166\n",
      "Número de T's: 112\n",
      "\n"
     ]
    }
   ],
   "source": [
    "records = SeqIO.parse(\"multipleSeqs.fa\", \"fasta\")\n",
    "\n",
    "for i, record in enumerate(records):\n",
    "    counts = {'A' : 0, 'G' : 0, 'C' : 0, 'T' : 0}\n",
    "    for seq in record.seq:\n",
    "        counts[seq] = counts.get(seq, 0) + 1\n",
    "    print(f\"Secuencia {i}:\\nNúmero de A's: {counts['A']}\\nNúmero de C's: {counts['C']}\\nNúmero de G's: {counts['G']}\\nNúmero de T's: {counts['T']}\\n\")"
   ]
  },
  {
   "cell_type": "code",
   "execution_count": 76,
   "metadata": {
    "executionInfo": {
     "elapsed": 20,
     "status": "ok",
     "timestamp": 1639937914095,
     "user": {
      "displayName": "Ikram Inf",
      "photoUrl": "https://lh3.googleusercontent.com/a-/AOh14Gj6pKU84qBPjl2btIGgEanDIWoTGOpazGJjyY8MWA=s64",
      "userId": "11802072329520947006"
     },
     "user_tz": -360
    },
    "id": "LlgBSVyjppfx"
   },
   "outputs": [],
   "source": []
  },
  {
   "cell_type": "markdown",
   "metadata": {
    "id": "h7FyA0kcDCGg"
   },
   "source": [
    "# Exercise 6"
   ]
  },
  {
   "cell_type": "code",
   "execution_count": 77,
   "metadata": {
    "executionInfo": {
     "elapsed": 20,
     "status": "ok",
     "timestamp": 1639937914095,
     "user": {
      "displayName": "Ikram Inf",
      "photoUrl": "https://lh3.googleusercontent.com/a-/AOh14Gj6pKU84qBPjl2btIGgEanDIWoTGOpazGJjyY8MWA=s64",
      "userId": "11802072329520947006"
     },
     "user_tz": -360
    },
    "id": "9_nG5AmgDHg-"
   },
   "outputs": [],
   "source": [
    "def buscar_motivo(t, s):\n",
    "  l = len(s)\n",
    "  reason_found = [i+1 for i in range(len(t))  if t[i:i+l] == s]\n",
    "  \n",
    "  if reason_found:\n",
    "    return reason_found\n",
    "  else:\n",
    "    return -1\n"
   ]
  },
  {
   "cell_type": "code",
   "execution_count": 78,
   "metadata": {
    "colab": {
     "base_uri": "https://localhost:8080/"
    },
    "executionInfo": {
     "elapsed": 21,
     "status": "ok",
     "timestamp": 1639937914097,
     "user": {
      "displayName": "Ikram Inf",
      "photoUrl": "https://lh3.googleusercontent.com/a-/AOh14Gj6pKU84qBPjl2btIGgEanDIWoTGOpazGJjyY8MWA=s64",
      "userId": "11802072329520947006"
     },
     "user_tz": -360
    },
    "id": "zsfQYkJT4LJ3",
    "outputId": "ef70bdc8-2c53-4347-aaeb-17ce727c9fdd"
   },
   "outputs": [
    {
     "name": "stdout",
     "output_type": "stream",
     "text": [
      "[2, 4, 10]\n",
      "[16]\n",
      "[4, 16]\n",
      "[10, 27, 31, 35, 40]\n",
      "[14, 21]\n",
      "[29, 35, 41]\n",
      "-1\n"
     ]
    }
   ],
   "source": [
    "t = \"GATATATGCATATACTT\"\n",
    "s = \"ATAT\"\n",
    "print(buscar_motivo(t, s))\n",
    "t = 'AUGCUUCAGAAAGGUCUUACGUGCUUUA'\n",
    "s = 'CUUA'\n",
    "print(buscar_motivo(t, s))\n",
    "t = 'AUGCUUCAGTAAGGUCUUACGUUUAGTCGATUUATCGAGTUU'\n",
    "s = 'CUU'\n",
    "print(buscar_motivo(t, s))\n",
    "t = 'AUGCUUCAGTAAGGUCUUACGUUUAGTCGATUUATCGAGTUU'\n",
    "s = 'T'\n",
    "print(buscar_motivo(t, s))\n",
    "t = 'AUGCUUCAGAAAGGUCUUACGU'\n",
    "s = 'GU'\n",
    "print(buscar_motivo(t, s))\n",
    "t = 'GCGTAGTAGGTTCGCCTAGTTCCGCCGAAAGACAAAGGAGAAGGGAATGCTCCTAGTAGTTTCAGTCTAGCAAACATGTTATAACGCTAACTGTGTGCTGCA'\n",
    "s = 'AAG'\n",
    "print(buscar_motivo(t, s))\n",
    "t = 'GCGTAGTAGGTTCGCCTAGTTCCGCCGAAAGACAAAGGAGAAGGGAATGCTCCTAGTAGTTTCAGTATAGCAAACATGTTATAACGCTAACTGTGTGCTGCA'\n",
    "s = 'AGTC'\n",
    "print(buscar_motivo(t, s))"
   ]
  },
  {
   "cell_type": "markdown",
   "metadata": {
    "id": "DdB56ziQFfMk"
   },
   "source": [
    "# Exercise 7"
   ]
  },
  {
   "cell_type": "code",
   "execution_count": 79,
   "metadata": {
    "executionInfo": {
     "elapsed": 19,
     "status": "ok",
     "timestamp": 1639937914098,
     "user": {
      "displayName": "Ikram Inf",
      "photoUrl": "https://lh3.googleusercontent.com/a-/AOh14Gj6pKU84qBPjl2btIGgEanDIWoTGOpazGJjyY8MWA=s64",
      "userId": "11802072329520947006"
     },
     "user_tz": -360
    },
    "id": "QB5xkQSeESn8"
   },
   "outputs": [],
   "source": [
    "def rel_trans(s1, s2):\n",
    "  transitions, transversions = 0, 0\n",
    "\n",
    "  for i, j in zip(s1, s2):\n",
    "    if i != j:\n",
    "      if (i=='A' and j=='G') or (i=='G' and j=='A') or (i=='C' and j=='T') or (i=='T' and j=='C'):\n",
    "        transitions += 1\n",
    "      else:\n",
    "        transversions += 1\n",
    "\n",
    "  R = transitions/transversions\n",
    "  return R\n"
   ]
  },
  {
   "cell_type": "code",
   "execution_count": 80,
   "metadata": {
    "colab": {
     "base_uri": "https://localhost:8080/"
    },
    "executionInfo": {
     "elapsed": 19,
     "status": "ok",
     "timestamp": 1639937914098,
     "user": {
      "displayName": "Ikram Inf",
      "photoUrl": "https://lh3.googleusercontent.com/a-/AOh14Gj6pKU84qBPjl2btIGgEanDIWoTGOpazGJjyY8MWA=s64",
      "userId": "11802072329520947006"
     },
     "user_tz": -360
    },
    "id": "gX7CfUClJk3W",
    "outputId": "f71768b4-b6f0-4b7b-9b05-3f6074845012"
   },
   "outputs": [
    {
     "name": "stdout",
     "output_type": "stream",
     "text": [
      "1.2142857142857142\n",
      "0.5236842105263158\n"
     ]
    }
   ],
   "source": [
    "s1 = \"GCAACGCACAACGAAAACCCTTAGGGACTGGATTATTTCGTGATCGTTGTAGTTATTGGAAGTACGGGCATCAACCCAGTT\"\n",
    "s2 = \"TTATCTGACAAAGAAAGCCGTCAACGGCTGGATAATTTCGCGATCGTGCTGGTTACTGGCGGTACGAGTGTTCCTTTGGGT\"\n",
    "print(rel_trans(s1, s2))\n",
    "\n",
    "s1 = \"TTTTGTCATTTTGCCTCGTCGTCAGGAATATTGGGACGAATTGGACTCTACTTCTGTGGGCTGAGCCGGTTCACCCATTGACGAGTGCTAGTCACAGATGAATTACAATGAA\\\n",
    "CGCTCGAGAAAGTGCTAATAAACGAACAGCACTAACATATGGGGGCGCGGCTGCCGGGCGACATGGCCGATTTAAAACACGACTGTAAGGACTGATAAACGTGTAGCATTTTCAAGTCTC\\\n",
    "GTCGCGATGTACAAATATCGTGTTCCCTAGCTCAGGGCGCACGCTAAGGACAAACGGTGTCACCGAATTTTCCAACGGAACACACATCAACGTGCGAGATTTCGTATGTACCCCCAT\\\n",
    "TGTATTGAGATGGCATCTGCTCCGAACGTTGAGATCACGCCAGCACTTACAGAACATTCCTAGTGTGGATCTATTAATAGACGGACTGAAACATTAGGGTGGGAAGTGAGCTATGGCTCA\\\n",
    "CACCAAGCATCGGTTTCTTCTTGGACGGTGTCCCCACCATTTGTTATTGTGCTCTAGAAACACTATAAAGCCTTTAATAAATTCACCGCTGTCGTATCCAAAAGCCGGGTCTGCCTC\\\n",
    "CTGATGCGTCTCGCGGCTATGGCTGGGTCACACCCCGACAGTCCAGTACCGTCGGTGCCGGAGATAGTGTCGCAGGCGTTCTATGGAGATGGACGGCCATCCATACCCAGTCAGCAAAAC\\\n",
    "TACCGATCTCTCGGATATCTGTAGGTGGAGCTATTGTCGATAGCTATAAACCAGACTCGGAGAGTAATATGAAATGGAAGTGAGTGCTGGCGAGGCTTTGTGTACTTGTCTGATTTTGTGTTGATTTA\"\n",
    "s2 = \"CCTTGTAAGTACGCGTAGCCTCCAGGAACTTTTAGGCGAATTGTACGTCACCTCCGGGAGCCGGGCCGGTTGATCCTTTGACAAGTCCTCACAGATGTGTCACAACCAA\\\n",
    "CCCTTGGAAGGGTGCCAGTTAACAAGCGGTAGCAGGACATGAGGACGCGACTGCCGGAAGACATGACCAGCTTAAAACACAACTGTCGGGACGGAACGTACTGTATCCTTGAATCTC\\\n",
    "GTCGCAGTGTAGAAAAGGCGTTCTCCCTGGTTCAGGGCGCATGCTAGGGATAAACGGTGTAGTTAAAGATGACGAGGGAAGACGCATCGATGCATGTGACTCCGGATGTACCTCGGT\\\n",
    "TATATTGAGAGGGTATCCGCTCGAGACGTTAAAATCCCGTTAGTATTCTCTGGACATTCTTGACGTGGATCTTTGGCGCGGACTATAGTGGTAGGGCGGGGAGCGACCTATGACTCA\\\n",
    "CATCAAGCATCAGCTTTCACTTGGACAGAACTGCGTACACATATCGTTACCGCACTTTGAAAACATTAGGGAGCTCTTAGTAGATTAGGCGCTGTCGTATCTAAAGGCCAGATCTGTCCT\\\n",
    "TTGCTGAATCTCGCGGCCATGTCCGTGTGAAGCCCCGACGACTTAAGGTTAGTGGCGCGAAAGATAGGGTCGTAGGCGATCGATGGAGATGGATAGCTATGCGTATCCGTTCTGTGGTAT\\\n",
    "GCTAAATCTCATAGATAGCTGTGGGTGAAGTTCATATAGACAGCTCTAAGCCACACCCGGGGAATAATATGGAGTGGGAATGAGAGCTGTCGTGGCTTTGTGCACCTGTCGGATCTCCTATTGATCTG\"\n",
    "print(rel_trans(s1, s2))"
   ]
  },
  {
   "cell_type": "code",
   "execution_count": 80,
   "metadata": {
    "executionInfo": {
     "elapsed": 16,
     "status": "ok",
     "timestamp": 1639937914098,
     "user": {
      "displayName": "Ikram Inf",
      "photoUrl": "https://lh3.googleusercontent.com/a-/AOh14Gj6pKU84qBPjl2btIGgEanDIWoTGOpazGJjyY8MWA=s64",
      "userId": "11802072329520947006"
     },
     "user_tz": -360
    },
    "id": "7TbWBOCNpc2i"
   },
   "outputs": [],
   "source": []
  },
  {
   "cell_type": "markdown",
   "metadata": {
    "id": "w2gAbvhTPadY"
   },
   "source": [
    "# Exercise 8"
   ]
  },
  {
   "cell_type": "code",
   "execution_count": 81,
   "metadata": {
    "executionInfo": {
     "elapsed": 794,
     "status": "ok",
     "timestamp": 1639937914876,
     "user": {
      "displayName": "Ikram Inf",
      "photoUrl": "https://lh3.googleusercontent.com/a-/AOh14Gj6pKU84qBPjl2btIGgEanDIWoTGOpazGJjyY8MWA=s64",
      "userId": "11802072329520947006"
     },
     "user_tz": -360
    },
    "id": "yD97G8RXKe9Y"
   },
   "outputs": [],
   "source": [
    "import Bio\n",
    "from Bio import Phylo"
   ]
  },
  {
   "cell_type": "markdown",
   "metadata": {
    "id": "n7tbScvEICZn"
   },
   "source": [
    "## XML Format"
   ]
  },
  {
   "cell_type": "code",
   "execution_count": 82,
   "metadata": {
    "executionInfo": {
     "elapsed": 11,
     "status": "ok",
     "timestamp": 1639937914877,
     "user": {
      "displayName": "Ikram Inf",
      "photoUrl": "https://lh3.googleusercontent.com/a-/AOh14Gj6pKU84qBPjl2btIGgEanDIWoTGOpazGJjyY8MWA=s64",
      "userId": "11802072329520947006"
     },
     "user_tz": -360
    },
    "id": "UAKV8Cs1dPTN"
   },
   "outputs": [],
   "source": [
    "# write xml file\n",
    "with open(\"apaf.xml\", \"w\") as f:\n",
    "  f.write(\"\"\"<phyloxml xmlns:xsi=\"http://www.w3.org/2001/XMLSchema-instance\" xmlns=\"http://www.phyloxml.org\" xsi:schemaLocation=\"http://www.phyloxml.org http://www.phyloxml.org/1.10/phyloxml.xsd\"> <phylogeny rooted=\"true\"> <name>Apaf</name> <clade> <clade> <branch_length>0.18105</branch_length> <confidence type=\"unknown\">89.0</confidence> <clade> <branch_length>0.07466</branch_length> <confidence type=\"unknown\">32.0</confidence> <clade> <branch_length>0.26168</branch_length> <confidence type=\"unknown\">100.0</confidence> <clade> <branch_length>0.22058</branch_length> <confidence type=\"unknown\">89.0</confidence> <clade> <branch_length>0.28901</branch_length> <confidence type=\"unknown\">100.0</confidence> <clade> <branch_length>0.06584</branch_length> <confidence type=\"unknown\">100.0</confidence> <clade> <branch_length>0.02309</branch_length> <confidence type=\"unknown\">43.0</confidence> <clade> <branch_length>0.0746</branch_length> <confidence type=\"unknown\">100.0</confidence> <clade> <branch_length>0.02365</branch_length> <confidence type=\"unknown\">88.0</confidence> <clade> <name>22_MOUSE</name> <branch_length>0.05998</branch_length> <taxonomy> <code>MOUSE</code> </taxonomy> <sequence> <domain_architecture length=\"1249\"> <domain from=\"6\" to=\"90\" confidence=\"7.0E-26\">CARD</domain> <domain from=\"109\" to=\"414\" confidence=\"7.2E-117\">NB-ARC</domain> <domain from=\"605\" to=\"643\" confidence=\"2.4E-6\">WD40</domain> <domain from=\"647\" to=\"685\" confidence=\"1.1E-12\">WD40</domain> <domain from=\"689\" to=\"729\" confidence=\"2.4E-7\">WD40</domain> <domain from=\"733\" to=\"771\" confidence=\"4.7E-14\">WD40</domain> <domain from=\"872\" to=\"910\" confidence=\"2.5E-8\">WD40</domain> <domain from=\"993\" to=\"1031\" confidence=\"4.6E-6\">WD40</domain> <domain from=\"1075\" to=\"1113\" confidence=\"6.3E-7\">WD40</domain> <domain from=\"1117\" to=\"1155\" confidence=\"1.4E-7\">WD40</domain> <domain from=\"1168\" to=\"1204\" confidence=\"0.3\">WD40</domain> </domain_architecture> </sequence> </clade> <clade> <name>Apaf-1_HUMAN</name> <branch_length>0.01825</branch_length> <taxonomy> <code>HUMAN</code> </taxonomy> <sequence> <domain_architecture length=\"1248\"> <domain from=\"6\" to=\"90\" confidence=\"1.1E-25\">CARD</domain> <domain from=\"109\" to=\"414\" confidence=\"3.0E-134\">NB-ARC</domain> <domain from=\"605\" to=\"643\" confidence=\"8.5E-6\">WD40</domain> <domain from=\"647\" to=\"685\" confidence=\"2.5E-11\">WD40</domain> <domain from=\"689\" to=\"729\" confidence=\"2.4E-8\">WD40</domain> <domain from=\"733\" to=\"771\" confidence=\"3.6E-14\">WD40</domain> <domain from=\"872\" to=\"910\" confidence=\"3.8E-8\">WD40</domain> <domain from=\"1075\" to=\"1113\" confidence=\"4.0E-7\">WD40</domain> <domain from=\"1117\" to=\"1155\" confidence=\"5.9E-8\">WD40</domain> </domain_architecture> </sequence> </clade> </clade> <clade> <name>12_CANFA</name> <branch_length>0.04683</branch_length> <taxonomy> <code>CANFA</code> </taxonomy> <sequence> <domain_architecture length=\"1153\"> <domain from=\"6\" to=\"90\" confidence=\"4.5E-22\">CARD</domain> <domain from=\"110\" to=\"415\" confidence=\"4.0E-119\">NB-ARC</domain> <domain from=\"597\" to=\"635\" confidence=\"3.9E-5\">WD40</domain> <domain from=\"639\" to=\"677\" confidence=\"2.5E-11\">WD40</domain> <domain from=\"681\" to=\"721\" confidence=\"1.8E-7\">WD40</domain> <domain from=\"725\" to=\"763\" confidence=\"9.4E-13\">WD40</domain> <domain from=\"889\" to=\"927\" confidence=\"1.1E-6\">WD40</domain> <domain from=\"971\" to=\"1009\" confidence=\"1.7E-7\">WD40</domain> <domain from=\"1013\" to=\"1051\" confidence=\"1.9E-7\">WD40</domain> </domain_architecture> </sequence> </clade> </clade> <clade> <name>11_CHICK</name> <branch_length>0.15226</branch_length> <taxonomy> <code>CHICK</code> </taxonomy> <sequence> <domain_architecture length=\"1207\"> <domain from=\"6\" to=\"90\" confidence=\"3.6E-21\">CARD</domain> <domain from=\"109\" to=\"414\" confidence=\"3.6E-109\">NB-ARC</domain> <domain from=\"603\" to=\"641\" confidence=\"1.6E-4\">WD40</domain> <domain from=\"645\" to=\"683\" confidence=\"8.2E-11\">WD40</domain> <domain from=\"687\" to=\"727\" confidence=\"6.2E-10\">WD40</domain> <domain from=\"731\" to=\"769\" confidence=\"1.8E-11\">WD40</domain> <domain from=\"828\" to=\"866\" confidence=\"1.8\">WD40</domain> <domain from=\"993\" to=\"1030\" confidence=\"2.9E-4\">WD40</domain> <domain from=\"1034\" to=\"1072\" confidence=\"1.7E-8\">WD40</domain> <domain from=\"1076\" to=\"1114\" confidence=\"7.5E-9\">WD40</domain> <domain from=\"1127\" to=\"1163\" confidence=\"0.044\">WD40</domain> </domain_architecture> </sequence> </clade> </clade> <clade> <name>16_XENLA</name> <branch_length>0.4409</branch_length> <taxonomy> <code>XENLA</code> </taxonomy> <sequence> <domain_architecture length=\"1362\"> <domain from=\"6\" to=\"90\" confidence=\"4.0E-20\">CARD</domain> <domain from=\"109\" to=\"410\" confidence=\"3.1E-56\">NB-ARC</domain> <domain from=\"148\" to=\"298\" confidence=\"0.8\">NACHT</domain> <domain from=\"729\" to=\"767\" confidence=\"7.0E-6\">WD40</domain> <domain from=\"771\" to=\"809\" confidence=\"2.3E-11\">WD40</domain> <domain from=\"813\" to=\"853\" confidence=\"1.1E-8\">WD40</domain> <domain from=\"857\" to=\"895\" confidence=\"1.1E-10\">WD40</domain> <domain from=\"992\" to=\"1030\" confidence=\"8.4E-9\">WD40</domain> <domain from=\"1116\" to=\"1154\" confidence=\"7.3E-11\">WD40</domain> <domain from=\"1158\" to=\"1196\" confidence=\"1.6E-8\">WD40</domain> <domain from=\"1200\" to=\"1238\" confidence=\"1.2E-7\">WD40</domain> </domain_architecture> </sequence> </clade> </clade> <clade> <branch_length>0.17031</branch_length> <confidence type=\"unknown\">100.0</confidence> <clade> <branch_length>0.10929</branch_length> <confidence type=\"unknown\">100.0</confidence> <clade> <name>14_FUGRU</name> <branch_length>0.02255</branch_length> <taxonomy> <code>FUGRU</code> </taxonomy> <sequence> <domain_architecture length=\"1258\"> <domain from=\"8\" to=\"92\" confidence=\"4.6E-24\">CARD</domain> <domain from=\"111\" to=\"418\" confidence=\"7.0E-74\">NB-ARC</domain> <domain from=\"609\" to=\"647\" confidence=\"2.8E-4\">WD40</domain> <domain from=\"651\" to=\"689\" confidence=\"2.3E-12\">WD40</domain> <domain from=\"740\" to=\"778\" confidence=\"1.8E-6\">WD40</domain> <domain from=\"874\" to=\"912\" confidence=\"1.6E-9\">WD40</domain> <domain from=\"998\" to=\"1036\" confidence=\"9.8E-13\">WD40</domain> <domain from=\"1040\" to=\"1080\" confidence=\"1.6E-4\">WD40</domain> <domain from=\"1084\" to=\"1122\" confidence=\"1.5E-9\">WD40</domain> <domain from=\"1126\" to=\"1164\" confidence=\"6.2E-9\">WD40</domain> </domain_architecture> </sequence> </clade> <clade> <name>15_TETNG</name> <branch_length>0.09478</branch_length> <taxonomy> <code>TETNG</code> </taxonomy> <sequence> <domain_architecture length=\"621\"> <domain from=\"8\" to=\"92\" confidence=\"2.5E-24\">CARD</domain> <domain from=\"104\" to=\"308\" confidence=\"9.8E-11\">NB-ARC</domain> <domain from=\"366\" to=\"404\" confidence=\"1.2E-12\">WD40</domain> <domain from=\"455\" to=\"493\" confidence=\"1.0E-10\">WD40</domain> <domain from=\"537\" to=\"575\" confidence=\"4.1E-10\">WD40</domain> </domain_architecture> </sequence> </clade> </clade> <clade> <name>17_BRARE</name> <branch_length>0.1811</branch_length> <taxonomy> <code>BRARE</code> </taxonomy> <sequence> <domain_architecture length=\"1260\"> <domain from=\"6\" to=\"90\" confidence=\"3.9E-23\">CARD</domain> <domain from=\"137\" to=\"444\" confidence=\"1.7E-72\">NB-ARC</domain> <domain from=\"635\" to=\"673\" confidence=\"1.6\">WD40</domain> <domain from=\"694\" to=\"732\" confidence=\"5.3E-12\">WD40</domain> <domain from=\"783\" to=\"821\" confidence=\"2.0E-8\">WD40</domain> <domain from=\"1040\" to=\"1078\" confidence=\"2.4E-8\">WD40</domain> <domain from=\"1081\" to=\"1121\" confidence=\"6.6E-4\">WD40</domain> <domain from=\"1125\" to=\"1163\" confidence=\"5.1E-8\">WD40</domain> <domain from=\"1167\" to=\"1205\" confidence=\"1.3E-7\">WD40</domain> </domain_architecture> </sequence> </clade> </clade> </clade> <clade> <branch_length>0.01594</branch_length> <confidence type=\"unknown\">53.0</confidence> <clade> <branch_length>0.10709</branch_length> <confidence type=\"unknown\">68.0</confidence> <clade> <name>1_BRAFL</name> <branch_length>0.26131</branch_length> <taxonomy> <code>BRAFL</code> </taxonomy> <sequence> <domain_architecture length=\"1238\"> <domain from=\"6\" to=\"89\" confidence=\"5.7E-19\">CARD</domain> <domain from=\"111\" to=\"413\" confidence=\"4.2E-48\">NB-ARC</domain> <domain from=\"600\" to=\"638\" confidence=\"3.2E-8\">WD40</domain> <domain from=\"642\" to=\"680\" confidence=\"1.5E-10\">WD40</domain> <domain from=\"730\" to=\"768\" confidence=\"9.6E-11\">WD40</domain> <domain from=\"857\" to=\"895\" confidence=\"3.7E-10\">WD40</domain> <domain from=\"984\" to=\"1022\" confidence=\"6.7E-10\">WD40</domain> <domain from=\"1025\" to=\"1064\" confidence=\"3.1E-6\">WD40</domain> <domain from=\"1069\" to=\"1107\" confidence=\"1.5E-4\">WD40</domain> <domain from=\"1111\" to=\"1149\" confidence=\"7.9E-7\">WD40</domain> </domain_architecture> </sequence> </clade> <clade> <name>18_NEMVE</name> <branch_length>0.38014</branch_length> <taxonomy> <code>NEMVE</code> </taxonomy> <sequence> <domain_architecture length=\"1290\"> <domain from=\"7\" to=\"90\" confidence=\"1.5E-13\">CARD</domain> <domain from=\"117\" to=\"200\" confidence=\"5.4E-14\">CARD</domain> <domain from=\"216\" to=\"517\" confidence=\"1.5E-50\">NB-ARC</domain> <domain from=\"711\" to=\"749\" confidence=\"1.0E-7\">WD40</domain> <domain from=\"753\" to=\"791\" confidence=\"8.5E-12\">WD40</domain> <domain from=\"795\" to=\"833\" confidence=\"4.3E-11\">WD40</domain> <domain from=\"837\" to=\"875\" confidence=\"1.0E-12\">WD40</domain> <domain from=\"920\" to=\"957\" confidence=\"2.0E-4\">WD40</domain> <domain from=\"961\" to=\"999\" confidence=\"3.0E-6\">WD40</domain> <domain from=\"1085\" to=\"1123\" confidence=\"4.4E-6\">WD40</domain> <domain from=\"1128\" to=\"1166\" confidence=\"3.0E-4\">WD40</domain> <domain from=\"1170\" to=\"1207\" confidence=\"1.7E-10\">WD40</domain> </domain_architecture> </sequence> </clade> </clade> <clade> <name>23_STRPU</name> <branch_length>0.48179</branch_length> <taxonomy> <code>STRPU</code> </taxonomy> <sequence> <domain_architecture length=\"1236\"> <domain from=\"110\" to=\"402\" confidence=\"1.0E-40\">NB-ARC</domain> <domain from=\"594\" to=\"632\" confidence=\"8.9E-4\">WD40</domain> <domain from=\"636\" to=\"673\" confidence=\"2.5E-6\">WD40</domain> <domain from=\"721\" to=\"759\" confidence=\"0.0043\">WD40</domain> <domain from=\"765\" to=\"802\" confidence=\"0.0036\">WD40</domain> <domain from=\"848\" to=\"886\" confidence=\"9.0E-10\">WD40</domain> <domain from=\"975\" to=\"1013\" confidence=\"1.9E-5\">WD40</domain> <domain from=\"1015\" to=\"1053\" confidence=\"2.4E-6\">WD40</domain> <domain from=\"1057\" to=\"1095\" confidence=\"2.7E-9\">WD40</domain> <domain from=\"1099\" to=\"1137\" confidence=\"4.9E-8\">WD40</domain> <domain from=\"1141\" to=\"1177\" confidence=\"0.011\">WD40</domain> </domain_architecture> </sequence> </clade> </clade> </clade> <clade> <branch_length>0.34475</branch_length> <confidence type=\"unknown\">100.0</confidence> <clade> <name>26_STRPU</name> <branch_length>0.36374</branch_length> <taxonomy> <code>STRPU</code> </taxonomy> <sequence> <domain_architecture length=\"1319\"> <domain from=\"18\" to=\"98\" confidence=\"3.4E-5\">Death</domain> <domain from=\"189\" to=\"481\" confidence=\"1.8E-10\">NB-ARC</domain> <domain from=\"630\" to=\"668\" confidence=\"8.2E-5\">WD40</domain> </domain_architecture> </sequence> </clade> <clade> <name>25_STRPU</name> <branch_length>0.33137</branch_length> <taxonomy> <code>STRPU</code> </taxonomy> <sequence> <domain_architecture length=\"1947\"> <domain from=\"143\" to=\"227\" confidence=\"7.4E-5\">Death</domain> <domain from=\"227\" to=\"550\" confidence=\"2.0E-13\">NB-ARC</domain> <domain from=\"697\" to=\"736\" confidence=\"7.9E-4\">WD40</domain> <domain from=\"745\" to=\"785\" confidence=\"1.5\">WD40</domain> <domain from=\"1741\" to=\"1836\" confidence=\"2.0\">Adeno_VII</domain> </domain_architecture> </sequence> </clade> </clade> </clade> <clade> <branch_length>1.31498</branch_length> <confidence type=\"unknown\">100.0</confidence> <clade> <name>CED4_CAEEL</name> <branch_length>0.13241</branch_length> <taxonomy> <code>CAEEL</code> </taxonomy> <sequence> <domain_architecture length=\"714\"> <domain from=\"7\" to=\"90\" confidence=\"9.2E-14\">CARD</domain> <domain from=\"116\" to=\"442\" confidence=\"5.8E-151\">NB-ARC</domain> </domain_architecture> </sequence> </clade> <clade> <name>31_CAEBR</name> <branch_length>0.04777</branch_length> <taxonomy> <code>CAEBR</code> </taxonomy> <sequence> <domain_architecture length=\"554\"> <domain from=\"1\" to=\"75\" confidence=\"0.0046\">CARD</domain> <domain from=\"101\" to=\"427\" confidence=\"2.1E-123\">NB-ARC</domain> </domain_architecture> </sequence> </clade> </clade> </clade> <clade> <branch_length>0.13172</branch_length> <confidence type=\"unknown\">45.0</confidence> <clade> <branch_length>0.24915</branch_length> <confidence type=\"unknown\">95.0</confidence> <clade> <branch_length>0.76898</branch_length> <confidence type=\"unknown\">100.0</confidence> <clade> <name>28_DROPS</name> <branch_length>0.1732</branch_length> <taxonomy> <code>DROPS</code> </taxonomy> <sequence> <domain_architecture length=\"535\"> <domain from=\"112\" to=\"399\" confidence=\"1.4E-5\">NB-ARC</domain> </domain_architecture> </sequence> </clade> <clade> <name>Dark_DROME</name> <branch_length>0.18863</branch_length> <taxonomy> <code>DROME</code> </taxonomy> <sequence> <domain_architecture length=\"1421\"> <domain from=\"108\" to=\"397\" confidence=\"2.1E-5\">NB-ARC</domain> </domain_architecture> </sequence> </clade> </clade> <clade> <name>29_AEDAE</name> <branch_length>0.86398</branch_length> <taxonomy> <code>AEDAE</code> </taxonomy> <sequence> <domain_architecture length=\"423\"> <domain from=\"109\" to=\"421\" confidence=\"9.3E-6\">NB-ARC</domain> </domain_architecture> </sequence> </clade> </clade> <clade> <name>30_TRICA</name> <branch_length>0.97698</branch_length> <taxonomy> <code>TRICA</code> </taxonomy> <sequence> <domain_architecture length=\"1279\"> <domain from=\"5\" to=\"81\" confidence=\"0.59\">CARD</domain> <domain from=\"92\" to=\"400\" confidence=\"9.0E-11\">NB-ARC</domain> <domain from=\"630\" to=\"668\" confidence=\"1.1E-5\">WD40</domain> </domain_architecture> </sequence> </clade> </clade> </clade> <clade> <branch_length>0.18105</branch_length> <confidence type=\"unknown\">89.0</confidence> <clade> <branch_length>0.15891</branch_length> <confidence type=\"unknown\">64.0</confidence> <clade> <branch_length>0.54836</branch_length> <confidence type=\"unknown\">100.0</confidence> <clade> <branch_length>0.09305</branch_length> <confidence type=\"unknown\">46.0</confidence> <clade> <branch_length>0.21648</branch_length> <confidence type=\"unknown\">61.0</confidence> <clade> <branch_length>0.93134</branch_length> <confidence type=\"unknown\">100.0</confidence> <clade> <name>34_BRAFL</name> <branch_length>0.093</branch_length> <taxonomy> <code>BRAFL</code> </taxonomy> <sequence> <domain_architecture length=\"752\"> <domain from=\"49\" to=\"356\" confidence=\"9.0E-6\">NB-ARC</domain> </domain_architecture> </sequence> </clade> <clade> <name>35_BRAFL</name> <branch_length>0.08226</branch_length> <taxonomy> <code>BRAFL</code> </taxonomy> <sequence> <domain_architecture length=\"753\"> <domain from=\"25\" to=\"105\" confidence=\"0.16\">DED</domain> <domain from=\"113\" to=\"409\" confidence=\"1.1E-6\">NB-ARC</domain> </domain_architecture> </sequence> </clade> </clade> <clade> <name>8_BRAFL</name> <branch_length>0.58563</branch_length> <taxonomy> <code>BRAFL</code> </taxonomy> <sequence> <domain_architecture length=\"916\"> <domain from=\"58\" to=\"369\" confidence=\"8.4E-7\">NB-ARC</domain> </domain_architecture> </sequence> </clade> </clade> <clade> <branch_length>0.28437</branch_length> <confidence type=\"unknown\">84.0</confidence> <clade> <name>20_NEMVE</name> <branch_length>0.71946</branch_length> <taxonomy> <code>NEMVE</code> </taxonomy> <sequence> <domain_architecture length=\"786\"> <domain from=\"8\" to=\"91\" confidence=\"1.7E-17\">DED</domain> <domain from=\"8\" to=\"85\" confidence=\"0.37\">PAAD_DAPIN</domain> <domain from=\"90\" to=\"388\" confidence=\"6.8E-5\">NB-ARC</domain> <domain from=\"575\" to=\"608\" confidence=\"0.27\">TPR_1</domain> <domain from=\"657\" to=\"690\" confidence=\"0.22\">TPR_2</domain> <domain from=\"698\" to=\"731\" confidence=\"4.2E-5\">TPR_2</domain> </domain_architecture> </sequence> </clade> <clade> <name>21_NEMVE</name> <branch_length>0.9571</branch_length> <taxonomy> <code>NEMVE</code> </taxonomy> <sequence> <domain_architecture length=\"1563\"> <domain from=\"234\" to=\"317\" confidence=\"2.3E-14\">CARD</domain> <domain from=\"238\" to=\"318\" confidence=\"0.5\">Death</domain> <domain from=\"329\" to=\"619\" confidence=\"0.022\">NB-ARC</domain> <domain from=\"906\" to=\"939\" confidence=\"0.17\">TPR_1</domain> <domain from=\"1326\" to=\"1555\" confidence=\"3.2E-26\">RVT_1</domain> </domain_architecture> </sequence> </clade> </clade> </clade> <clade> <name>9_BRAFL</name> <branch_length>1.09612</branch_length> <taxonomy> <code>BRAFL</code> </taxonomy> <sequence> <domain_architecture length=\"1011\"> <domain from=\"5\" to=\"321\" confidence=\"5.0E-5\">NB-ARC</domain> <domain from=\"497\" to=\"616\" confidence=\"1.6\">BTAD</domain> <domain from=\"500\" to=\"533\" confidence=\"5.6E-4\">TPR_1</domain> <domain from=\"542\" to=\"575\" confidence=\"0.43\">TPR_1</domain> <domain from=\"626\" to=\"659\" confidence=\"0.0084\">TPR_2</domain> <domain from=\"708\" to=\"741\" confidence=\"1.9E-4\">TPR_2</domain> <domain from=\"708\" to=\"739\" confidence=\"1.3\">TPR_3</domain> <domain from=\"708\" to=\"733\" confidence=\"0.16\">TPR_4</domain> <domain from=\"833\" to=\"916\" confidence=\"5.6E-14\">Death</domain> <domain from=\"846\" to=\"868\" confidence=\"0.36\">LTXXQ</domain> <domain from=\"930\" to=\"1011\" confidence=\"8.3E-17\">Death</domain> </domain_architecture> </sequence> </clade> </clade> <clade> <branch_length>0.34914</branch_length> <confidence type=\"unknown\">98.0</confidence> <clade> <branch_length>0.22189</branch_length> <confidence type=\"unknown\">95.0</confidence> <clade> <name>3_BRAFL</name> <branch_length>0.48766</branch_length> <taxonomy> <code>BRAFL</code> </taxonomy> <sequence> <domain_architecture length=\"2080\"> <domain from=\"116\" to=\"423\" confidence=\"1.4E-12\">NB-ARC</domain> <domain from=\"620\" to=\"659\" confidence=\"1.4E-6\">WD40</domain> <domain from=\"663\" to=\"701\" confidence=\"1.4E-8\">WD40</domain> <domain from=\"705\" to=\"743\" confidence=\"3.0E-11\">WD40</domain> <domain from=\"747\" to=\"785\" confidence=\"1.1E-8\">WD40</domain> <domain from=\"788\" to=\"826\" confidence=\"1.6E-5\">WD40</domain> <domain from=\"830\" to=\"870\" confidence=\"1.3E-4\">WD40</domain> <domain from=\"874\" to=\"914\" confidence=\"6.2E-9\">WD40</domain> <domain from=\"919\" to=\"957\" confidence=\"0.0011\">WD40</domain> <domain from=\"961\" to=\"1000\" confidence=\"1.8E-8\">WD40</domain> <domain from=\"1013\" to=\"1051\" confidence=\"1.3E-6\">WD40</domain> <domain from=\"1055\" to=\"1092\" confidence=\"0.096\">WD40</domain> <domain from=\"1794\" to=\"1853\" confidence=\"3.6E-4\">Collagen</domain> </domain_architecture> </sequence> </clade> <clade> <name>2_BRAFL</name> <branch_length>0.65293</branch_length> <taxonomy> <code>BRAFL</code> </taxonomy> <sequence> <domain_architecture length=\"1691\"> <domain from=\"162\" to=\"457\" confidence=\"4.4E-10\">NB-ARC</domain> <domain from=\"640\" to=\"680\" confidence=\"0.0068\">WD40</domain> <domain from=\"684\" to=\"722\" confidence=\"1.6E-8\">WD40</domain> <domain from=\"726\" to=\"764\" confidence=\"6.0E-9\">WD40</domain> <domain from=\"827\" to=\"865\" confidence=\"6.9E-10\">WD40</domain> <domain from=\"868\" to=\"906\" confidence=\"1.2E-6\">WD40</domain> <domain from=\"910\" to=\"950\" confidence=\"0.0080\">WD40</domain> <domain from=\"954\" to=\"994\" confidence=\"0.0016\">WD40</domain> <domain from=\"999\" to=\"1037\" confidence=\"4.9E-6\">WD40</domain> <domain from=\"1042\" to=\"1080\" confidence=\"6.3E-8\">WD40</domain> <domain from=\"1100\" to=\"1138\" confidence=\"1.9E-8\">WD40</domain> <domain from=\"1142\" to=\"1178\" confidence=\"1.4\">WD40</domain> <domain from=\"1577\" to=\"1615\" confidence=\"4.3E-4\">WD40</domain> </domain_architecture> </sequence> </clade> </clade> <clade> <name>19_NEMVE</name> <branch_length>0.57144</branch_length> <taxonomy> <code>NEMVE</code> </taxonomy> <sequence> <domain_architecture length=\"1649\"> <domain from=\"99\" to=\"174\" confidence=\"4.6E-7\">DED</domain> <domain from=\"181\" to=\"503\" confidence=\"8.0E-13\">NB-ARC</domain> <domain from=\"696\" to=\"734\" confidence=\"1.4E-8\">WD40</domain> <domain from=\"738\" to=\"776\" confidence=\"2.9E-9\">WD40</domain> <domain from=\"780\" to=\"818\" confidence=\"3.8E-10\">WD40</domain> <domain from=\"822\" to=\"860\" confidence=\"6.4E-9\">WD40</domain> <domain from=\"864\" to=\"902\" confidence=\"2.1E-10\">WD40</domain> <domain from=\"906\" to=\"944\" confidence=\"1.3E-8\">WD40</domain> <domain from=\"948\" to=\"986\" confidence=\"1.2E-8\">WD40</domain> <domain from=\"990\" to=\"1028\" confidence=\"9.4E-8\">WD40</domain> <domain from=\"1032\" to=\"1070\" confidence=\"6.0E-8\">WD40</domain> <domain from=\"1074\" to=\"1112\" confidence=\"2.6E-4\">WD40</domain> <domain from=\"1364\" to=\"1597\" confidence=\"1.9\">SGL</domain> <domain from=\"1442\" to=\"1480\" confidence=\"9.7E-7\">WD40</domain> <domain from=\"1527\" to=\"1565\" confidence=\"1.2\">WD40</domain> <domain from=\"1568\" to=\"1606\" confidence=\"1.1E-6\">WD40</domain> </domain_architecture> </sequence> </clade> </clade> </clade> <clade> <branch_length>0.43438</branch_length> <confidence type=\"unknown\">92.0</confidence> <clade> <branch_length>0.92214</branch_length> <confidence type=\"unknown\">100.0</confidence> <clade> <name>37_BRAFL</name> <branch_length>0.21133</branch_length> <taxonomy> <code>BRAFL</code> </taxonomy> <sequence> <domain_architecture length=\"1793\"> <domain from=\"6\" to=\"89\" confidence=\"9.6E-13\">CARD</domain> <domain from=\"118\" to=\"202\" confidence=\"4.5E-9\">CARD</domain> <domain from=\"206\" to=\"491\" confidence=\"0.0011\">NB-ARC</domain> <domain from=\"238\" to=\"388\" confidence=\"0.0043\">NACHT</domain> </domain_architecture> </sequence> </clade> <clade> <name>36_BRAFL</name> <branch_length>0.16225</branch_length> <taxonomy> <code>BRAFL</code> </taxonomy> <sequence> <domain_architecture length=\"918\"> <domain from=\"9\" to=\"93\" confidence=\"1.6E-9\">CARD</domain> <domain from=\"98\" to=\"403\" confidence=\"0.0019\">NB-ARC</domain> </domain_architecture> </sequence> </clade> </clade> <clade> <name>33_BRAFL</name> <branch_length>0.8363</branch_length> <taxonomy> <code>BRAFL</code> </taxonomy> <sequence> <domain_architecture length=\"1212\"> <domain from=\"5\" to=\"87\" confidence=\"4.7E-12\">Death</domain> <domain from=\"154\" to=\"465\" confidence=\"2.0E-6\">NB-ARC</domain> </domain_architecture> </sequence> </clade> </clade> </clade> </clade> </phylogeny> </phyloxml>\"\"\")"
   ]
  },
  {
   "cell_type": "code",
   "execution_count": 83,
   "metadata": {
    "colab": {
     "base_uri": "https://localhost:8080/",
     "height": 295
    },
    "executionInfo": {
     "elapsed": 11,
     "status": "ok",
     "timestamp": 1639937914878,
     "user": {
      "displayName": "Ikram Inf",
      "photoUrl": "https://lh3.googleusercontent.com/a-/AOh14Gj6pKU84qBPjl2btIGgEanDIWoTGOpazGJjyY8MWA=s64",
      "userId": "11802072329520947006"
     },
     "user_tz": -360
    },
    "id": "Ka9iPG6MIHkY",
    "outputId": "bcbab8cb-a4f0-488e-da95-7e0988b3dacd"
   },
   "outputs": [
    {
     "data": {
      "image/png": "[encoded data removed]",
      "text/plain": [
       "<Figure size 432x288 with 1 Axes>"
      ]
     },
     "metadata": {
      "needs_background": "light"
     },
     "output_type": "display_data"
    }
   ],
   "source": [
    "tree = Phylo.read(\"apaf.xml\", \"phyloxml\")\n",
    "\n",
    "# Flip branches so deeper clades are displayed at top\n",
    "tree.ladderize()\n",
    "Phylo.draw(tree)"
   ]
  },
  {
   "cell_type": "code",
   "execution_count": 83,
   "metadata": {
    "executionInfo": {
     "elapsed": 8,
     "status": "ok",
     "timestamp": 1639937914879,
     "user": {
      "displayName": "Ikram Inf",
      "photoUrl": "https://lh3.googleusercontent.com/a-/AOh14Gj6pKU84qBPjl2btIGgEanDIWoTGOpazGJjyY8MWA=s64",
      "userId": "11802072329520947006"
     },
     "user_tz": -360
    },
    "id": "kaOt4gEoIHnn"
   },
   "outputs": [],
   "source": []
  },
  {
   "cell_type": "markdown",
   "metadata": {
    "id": "BxuN-tf6JZsr"
   },
   "source": [
    "## PhyloXML Format"
   ]
  },
  {
   "cell_type": "code",
   "execution_count": 84,
   "metadata": {
    "executionInfo": {
     "elapsed": 9,
     "status": "ok",
     "timestamp": 1639937914880,
     "user": {
      "displayName": "Ikram Inf",
      "photoUrl": "https://lh3.googleusercontent.com/a-/AOh14Gj6pKU84qBPjl2btIGgEanDIWoTGOpazGJjyY8MWA=s64",
      "userId": "11802072329520947006"
     },
     "user_tz": -360
    },
    "id": "cTYk0l8MJeW1"
   },
   "outputs": [],
   "source": [
    "# write a msa file\n",
    "\n",
    "seqs = [('Alpha', 'AACGTGGCCACAT'),\n",
    "        ('Beta', 'AAGGTCGCCACAC'),\n",
    "        ('Delta', 'GAGATTTCCGCCT'),\n",
    "        ('Epsilon', 'GAGATCTCCGCCC'),\n",
    "        ('Gamma', 'CAGTTCGCCACAA')]\n",
    "\n",
    "with open(\"msa.phy\", 'w') as f:\n",
    "    f.write(\"{:10} {}\\n\".format(5, 13))\n",
    "    for seq in seqs:\n",
    "        f.write(\"{:10} {}\\n\".format(*seq))\n"
   ]
  },
  {
   "cell_type": "code",
   "execution_count": 85,
   "metadata": {
    "colab": {
     "base_uri": "https://localhost:8080/"
    },
    "executionInfo": {
     "elapsed": 23,
     "status": "ok",
     "timestamp": 1639937915734,
     "user": {
      "displayName": "Ikram Inf",
      "photoUrl": "https://lh3.googleusercontent.com/a-/AOh14Gj6pKU84qBPjl2btIGgEanDIWoTGOpazGJjyY8MWA=s64",
      "userId": "11802072329520947006"
     },
     "user_tz": -360
    },
    "id": "2eM6A1WTQVq1",
    "outputId": "8097785c-c520-457e-ac8e-d4f406266da3"
   },
   "outputs": [
    {
     "name": "stdout",
     "output_type": "stream",
     "text": [
      "Alignment with 5 rows and 13 columns\n",
      "AACGTGGCCACAT Alpha\n",
      "AAGGTCGCCACAC Beta\n",
      "GAGATTTCCGCCT Delta\n",
      "GAGATCTCCGCCC Epsilon\n",
      "CAGTTCGCCACAA Gamma\n"
     ]
    }
   ],
   "source": [
    "from Bio.Phylo.TreeConstruction import DistanceCalculator, DistanceTreeConstructor\n",
    "from Bio import AlignIO\n",
    "aln = AlignIO.read('msa.phy', 'phylip')\n",
    "print(aln)"
   ]
  },
  {
   "cell_type": "code",
   "execution_count": 86,
   "metadata": {
    "executionInfo": {
     "elapsed": 19,
     "status": "ok",
     "timestamp": 1639937915735,
     "user": {
      "displayName": "Ikram Inf",
      "photoUrl": "https://lh3.googleusercontent.com/a-/AOh14Gj6pKU84qBPjl2btIGgEanDIWoTGOpazGJjyY8MWA=s64",
      "userId": "11802072329520947006"
     },
     "user_tz": -360
    },
    "id": "C0CpS1bbV4sL"
   },
   "outputs": [],
   "source": [
    "constructor = DistanceTreeConstructor()\n",
    "calculator = DistanceCalculator('identity')\n",
    "dm = calculator.get_distance(aln)"
   ]
  },
  {
   "cell_type": "code",
   "execution_count": 87,
   "metadata": {
    "colab": {
     "base_uri": "https://localhost:8080/",
     "height": 279
    },
    "executionInfo": {
     "elapsed": 20,
     "status": "ok",
     "timestamp": 1639937915736,
     "user": {
      "displayName": "Ikram Inf",
      "photoUrl": "https://lh3.googleusercontent.com/a-/AOh14Gj6pKU84qBPjl2btIGgEanDIWoTGOpazGJjyY8MWA=s64",
      "userId": "11802072329520947006"
     },
     "user_tz": -360
    },
    "id": "QsbejgSOVz7K",
    "outputId": "44f85284-81aa-4968-cb39-ba30fe617837"
   },
   "outputs": [
    {
     "data": {
      "image/png": "[encoded data removed]",
      "text/plain": [
       "<Figure size 432x288 with 1 Axes>"
      ]
     },
     "metadata": {
      "needs_background": "light"
     },
     "output_type": "display_data"
    }
   ],
   "source": [
    "# draw upgma tree\n",
    "upgmatree = constructor.upgma(dm)\n",
    "Phylo.draw(upgmatree)"
   ]
  },
  {
   "cell_type": "code",
   "execution_count": 88,
   "metadata": {
    "colab": {
     "base_uri": "https://localhost:8080/",
     "height": 279
    },
    "executionInfo": {
     "elapsed": 20,
     "status": "ok",
     "timestamp": 1639937915737,
     "user": {
      "displayName": "Ikram Inf",
      "photoUrl": "https://lh3.googleusercontent.com/a-/AOh14Gj6pKU84qBPjl2btIGgEanDIWoTGOpazGJjyY8MWA=s64",
      "userId": "11802072329520947006"
     },
     "user_tz": -360
    },
    "id": "yd9I9bWCU4aJ",
    "outputId": "e9933295-6db1-49d7-b813-a3b28f0ab39c"
   },
   "outputs": [
    {
     "data": {
      "image/png": "[encoded data removed]",
      "text/plain": [
       "<Figure size 432x288 with 1 Axes>"
      ]
     },
     "metadata": {
      "needs_background": "light"
     },
     "output_type": "display_data"
    }
   ],
   "source": [
    "# draw nj tree\n",
    "njtree = constructor.nj(dm)\n",
    "Phylo.draw(njtree)"
   ]
  },
  {
   "cell_type": "code",
   "execution_count": 88,
   "metadata": {
    "executionInfo": {
     "elapsed": 20,
     "status": "ok",
     "timestamp": 1639937915738,
     "user": {
      "displayName": "Ikram Inf",
      "photoUrl": "https://lh3.googleusercontent.com/a-/AOh14Gj6pKU84qBPjl2btIGgEanDIWoTGOpazGJjyY8MWA=s64",
      "userId": "11802072329520947006"
     },
     "user_tz": -360
    },
    "id": "6rCrrRR3U4hI"
   },
   "outputs": [],
   "source": []
  },
  {
   "cell_type": "code",
   "execution_count": 88,
   "metadata": {
    "executionInfo": {
     "elapsed": 20,
     "status": "ok",
     "timestamp": 1639937915739,
     "user": {
      "displayName": "Ikram Inf",
      "photoUrl": "https://lh3.googleusercontent.com/a-/AOh14Gj6pKU84qBPjl2btIGgEanDIWoTGOpazGJjyY8MWA=s64",
      "userId": "11802072329520947006"
     },
     "user_tz": -360
    },
    "id": "aYjwxfsOJ0-F"
   },
   "outputs": [],
   "source": []
  },
  {
   "cell_type": "markdown",
   "metadata": {
    "id": "axlOubzeJ19D"
   },
   "source": [
    "## Newick Format"
   ]
  },
  {
   "cell_type": "code",
   "execution_count": 89,
   "metadata": {
    "executionInfo": {
     "elapsed": 21,
     "status": "ok",
     "timestamp": 1639937915740,
     "user": {
      "displayName": "Ikram Inf",
      "photoUrl": "https://lh3.googleusercontent.com/a-/AOh14Gj6pKU84qBPjl2btIGgEanDIWoTGOpazGJjyY8MWA=s64",
      "userId": "11802072329520947006"
     },
     "user_tz": -360
    },
    "id": "YciZR9uUTheV"
   },
   "outputs": [],
   "source": [
    "# write a newick format file\n",
    "with open(\"sample.dnd\", \"w\") as f:\n",
    "  f.write(\"(Alpha:0.18269,Beta:0.04808,((Delta:0.10256,Epsilon:0.05128):0.27885,Gamma:0.14423):0.04808);\")"
   ]
  },
  {
   "cell_type": "code",
   "execution_count": 90,
   "metadata": {
    "colab": {
     "base_uri": "https://localhost:8080/"
    },
    "executionInfo": {
     "elapsed": 21,
     "status": "ok",
     "timestamp": 1639937915740,
     "user": {
      "displayName": "Ikram Inf",
      "photoUrl": "https://lh3.googleusercontent.com/a-/AOh14Gj6pKU84qBPjl2btIGgEanDIWoTGOpazGJjyY8MWA=s64",
      "userId": "11802072329520947006"
     },
     "user_tz": -360
    },
    "id": "YqV9aMkjY4Vt",
    "outputId": "a90a24c2-f807-438d-92cb-6632cc1da09c"
   },
   "outputs": [
    {
     "name": "stdout",
     "output_type": "stream",
     "text": [
      "Tree(rooted=False, weight=1.0)\n",
      "    Clade()\n",
      "        Clade(branch_length=0.18269, name='Alpha')\n",
      "        Clade(branch_length=0.04808, name='Beta')\n",
      "        Clade(branch_length=0.04808)\n",
      "            Clade(branch_length=0.27885)\n",
      "                Clade(branch_length=0.10256, name='Delta')\n",
      "                Clade(branch_length=0.05128, name='Epsilon')\n",
      "            Clade(branch_length=0.14423, name='Gamma')\n"
     ]
    }
   ],
   "source": [
    "tree = Phylo.read(\"sample.dnd\", \"newick\")\n",
    "print(tree)"
   ]
  },
  {
   "cell_type": "code",
   "execution_count": 91,
   "metadata": {
    "colab": {
     "base_uri": "https://localhost:8080/",
     "height": 279
    },
    "executionInfo": {
     "elapsed": 742,
     "status": "ok",
     "timestamp": 1639937916465,
     "user": {
      "displayName": "Ikram Inf",
      "photoUrl": "https://lh3.googleusercontent.com/a-/AOh14Gj6pKU84qBPjl2btIGgEanDIWoTGOpazGJjyY8MWA=s64",
      "userId": "11802072329520947006"
     },
     "user_tz": -360
    },
    "id": "i56bWqFgeH5i",
    "outputId": "42ac3f44-a4eb-4618-af14-c862fa8cc637"
   },
   "outputs": [
    {
     "data": {
      "image/png": "[encoded data removed]",
      "text/plain": [
       "<Figure size 432x288 with 1 Axes>"
      ]
     },
     "metadata": {
      "needs_background": "light"
     },
     "output_type": "display_data"
    }
   ],
   "source": [
    "Phylo.draw(tree)"
   ]
  },
  {
   "cell_type": "code",
   "execution_count": 91,
   "metadata": {
    "executionInfo": {
     "elapsed": 15,
     "status": "ok",
     "timestamp": 1639937916466,
     "user": {
      "displayName": "Ikram Inf",
      "photoUrl": "https://lh3.googleusercontent.com/a-/AOh14Gj6pKU84qBPjl2btIGgEanDIWoTGOpazGJjyY8MWA=s64",
      "userId": "11802072329520947006"
     },
     "user_tz": -360
    },
    "id": "Z2cpzA2heH8Q"
   },
   "outputs": [],
   "source": []
  },
  {
   "cell_type": "markdown",
   "metadata": {
    "id": "Sfk6vJhzqP97"
   },
   "source": [
    "## Genetic Algorithm"
   ]
  },
  {
   "cell_type": "markdown",
   "metadata": {
    "id": "kk6icuLLqZbG"
   },
   "source": [
    "# Exercise 1"
   ]
  },
  {
   "cell_type": "code",
   "execution_count": 92,
   "metadata": {
    "colab": {
     "base_uri": "https://localhost:8080/"
    },
    "executionInfo": {
     "elapsed": 15,
     "status": "ok",
     "timestamp": 1639937916467,
     "user": {
      "displayName": "Ikram Inf",
      "photoUrl": "https://lh3.googleusercontent.com/a-/AOh14Gj6pKU84qBPjl2btIGgEanDIWoTGOpazGJjyY8MWA=s64",
      "userId": "11802072329520947006"
     },
     "user_tz": -360
    },
    "id": "KLC2XNABl6Gv",
    "outputId": "2e550c18-4d04-49bc-d8ca-49fd341c055b"
   },
   "outputs": [
    {
     "name": "stdout",
     "output_type": "stream",
     "text": [
      "Pasos de simulación: 5772\n",
      "\n",
      "  Fitness         ADN\n",
      "------------------------\n",
      "     0 bioinformatics_programming\n",
      "     1 bioinformatics_prngramming\n",
      "     1 bioinformatics_prngramming\n",
      "     1 bioinformatics_prngramming\n",
      "     1 bioinformatics_prngramming\n",
      "     1 bioinformatics_prngramming\n",
      "     1 bioinformatics_prngramming\n",
      "     1 bioinformatics_prngramming\n",
      "     1 bioinformatics_prngramming\n",
      "     1 bioinformatics_prngramming\n",
      "     1 bioinformatics_prngramming\n",
      "     1 bioinformatics_prngramming\n",
      "     1 bioinformatics_prngramming\n",
      "     1 bioinformatics_prngramming\n",
      "     1 bioinformatics_prngramming\n",
      "     1 bioinformatics_prngramming\n",
      "     1 bioinformatics_prngramming\n",
      "     1 bioinformatics_prngramming\n",
      "     1 bioinformatics_prngramming\n",
      "     1 bioinformatics_prngramming\n",
      "     1 bioinformatics_prngramming\n",
      "     1 bioinformatics_prngramming\n",
      "     1 bioinformatics_prngramming\n",
      "     1 bioinformatics_prngramming\n",
      "     1 bioinformatics_prngramming\n",
      "\n"
     ]
    }
   ],
   "source": [
    "# import libraries\n",
    "import random\n",
    "import string\n",
    "\n",
    "# objective string\n",
    "objetivo = \"bioinformatics_programming\"\n",
    "\n",
    "# maximum number of candidates\n",
    "GENES = 25\n",
    "# maximum number of iterations\n",
    "MAX_GENERACION = 10000\n",
    "\n",
    "\n",
    "# set adn and fitness variables of each candidate by class 'Individuo'\n",
    "class Individuo(object):\n",
    "    def __init__(self, adn, fitness):\n",
    "        self.adn = adn\n",
    "        self.fitness = fitness\n",
    "\n",
    "# function to calculate fitness between candidate and objective       \n",
    "def calcular_fitness(origen, valor_objetivo):\n",
    "    # initialize fitness with zero\n",
    "    fitness = 0\n",
    "    # iterate over candidate and add the subtraction squared value with objective to fitness\n",
    "    for i in range(0, len(origen)):\n",
    "        fitness += (ord(valor_objetivo[i]) - ord(origen[i])) ** 2\n",
    "    return fitness\n",
    "\n",
    "# calculate mutation\n",
    "def mutacion(padre1, padre2):\n",
    "    # initialize adn_hijo with padre1.adn\n",
    "    adn_hijo = padre1.adn[:]\n",
    "\n",
    "    # initialize start and end variables randomly with integer value\n",
    "    start = random.randint(0, len(padre2.adn) - 1)\n",
    "    stop = random.randint(0, len(padre2.adn) - 1)\n",
    "\n",
    "    # comparing start and stop and assign small value to start and large value to stop\n",
    "    if start > stop:\n",
    "        stop, start = start, stop\n",
    "\n",
    "    # replace start to end indices of adn_hijo with same indices of padre2.adn   \n",
    "    adn_hijo[start:stop] = padre2.adn[start:stop]\n",
    "    # take a random integer value as position \n",
    "    posicion = random.randint(0, len(adn_hijo) - 1)\n",
    "    \n",
    "    # replace position index of adn_hijo with [same, before or after] character of that position\n",
    "    adn_hijo[posicion] = chr(ord(adn_hijo[posicion]) + random.randint(-1, 1))\n",
    "    # calling calcular_fitness function with adn_hijo and objetivo\n",
    "    fitness_hijo = calcular_fitness(adn_hijo, objetivo)\n",
    "    # return adn_hijo and fitness_hijo as class object\n",
    "    return Individuo(adn_hijo, fitness_hijo)\n",
    "\n",
    "\n",
    "# function to randomly select a parent from population\n",
    "def padre_al_azar(poblacion):\n",
    "    return poblacion[int(random.random() * random.random() * (GENES - 1))]\n",
    "\n",
    "# function to write simulation result\n",
    "def escribe_generacion(generacion, poblacion):\n",
    "    print('Pasos de simulación: %d' % generacion)\n",
    "    print()\n",
    "    print('  Fitness         ADN')\n",
    "    print('------------------------')\n",
    "    \n",
    "    for candidato in poblacion:\n",
    "        print(\"%6i %15s\" % (candidato.fitness, ''.join(candidato.adn)))\n",
    "    print()\n",
    "\n",
    "# function to initialize population with candidates\n",
    "def inicializa_poblacion():\n",
    "    # create a list to store candidates\n",
    "    poblacion = []\n",
    "    # iterate over a fixed number of candidates\n",
    "    for i in range(0, GENES):\n",
    "        # randomly choice objetivo number of characters from printable characters for each candidate\n",
    "        adn = [random.choice(string.printable[:-5]) for _ in range(0, len(objetivo))]\n",
    "        # calling calcular_fitness function with adn and objetivo\n",
    "        fitness = calcular_fitness(adn, objetivo)\n",
    "        # make each candidate to class object\n",
    "        candidate = Individuo(adn, fitness)\n",
    "        # append the candidate into population\n",
    "        poblacion.append(candidate)\n",
    "    return poblacion\n",
    "\n",
    "# function to simulate genetic algorithm\n",
    "def simulacion():\n",
    "    # initialize poblacion and generacion variable\n",
    "    poblacion = inicializa_poblacion()\n",
    "    generacion = 0\n",
    "\n",
    "    # iterate untill generacion less than MAX_GENERACION\n",
    "    while True and generacion < MAX_GENERACION:\n",
    "        # add 1 with generacion\n",
    "        generacion += 1\n",
    "        # sort poblacion with the fitness value of candidate\n",
    "        poblacion.sort(key=lambda candidate: candidate.fitness)\n",
    "        \n",
    "        # checking the fitness of first candidate is zero or not\n",
    "        if poblacion[0].fitness == 0:\n",
    "            break\n",
    "        \n",
    "        # randomly select parent 1\n",
    "        padre1 = padre_al_azar(poblacion)\n",
    "        # randomly select parent 2\n",
    "        padre2 = padre_al_azar(poblacion)\n",
    "        # find out mutation between parent 1 and parent 2\n",
    "        hijo = mutacion(padre1, padre2)\n",
    "\n",
    "        # checking fitness value between hijo and maximum candidate of population, if true, assign hijo\n",
    "        if hijo.fitness < poblacion[-1].fitness:\n",
    "            poblacion[-1] = hijo\n",
    "\n",
    "    # checking generacion being equal to MAX_GENERACION\n",
    "    if generacion == MAX_GENERACION:\n",
    "        print(u'Se ha alcanzado el máximo de generaciones')\n",
    "    # write the simulation result\n",
    "    escribe_generacion(generacion, poblacion)\n",
    "\n",
    "# start simulation to get outcome\n",
    "simulacion()"
   ]
  },
  {
   "cell_type": "code",
   "execution_count": 92,
   "metadata": {
    "executionInfo": {
     "elapsed": 9,
     "status": "ok",
     "timestamp": 1639937916468,
     "user": {
      "displayName": "Ikram Inf",
      "photoUrl": "https://lh3.googleusercontent.com/a-/AOh14Gj6pKU84qBPjl2btIGgEanDIWoTGOpazGJjyY8MWA=s64",
      "userId": "11802072329520947006"
     },
     "user_tz": -360
    },
    "id": "IxLWL8dQ0m7i"
   },
   "outputs": [],
   "source": []
  },
  {
   "cell_type": "markdown",
   "metadata": {
    "id": "LYszFDCMo58Q"
   },
   "source": [
    "# Exercise 2"
   ]
  },
  {
   "cell_type": "code",
   "execution_count": 93,
   "metadata": {
    "colab": {
     "base_uri": "https://localhost:8080/"
    },
    "executionInfo": {
     "elapsed": 851,
     "status": "ok",
     "timestamp": 1639937917310,
     "user": {
      "displayName": "Ikram Inf",
      "photoUrl": "https://lh3.googleusercontent.com/a-/AOh14Gj6pKU84qBPjl2btIGgEanDIWoTGOpazGJjyY8MWA=s64",
      "userId": "11802072329520947006"
     },
     "user_tz": -360
    },
    "id": "qvzPKAuB0m-r",
    "outputId": "c6ff6218-7bd5-44fa-a297-2f818a1751d3"
   },
   "outputs": [
    {
     "name": "stdout",
     "output_type": "stream",
     "text": [
      "Pasos de simulación: 7259\n",
      "\n",
      "  Fitness         ADN\n",
      "------------------------\n",
      "     0 bioinformatics_programming\n",
      "     1 bininformatics_programming\n",
      "     1 bininformatics_programming\n",
      "     1 bininformatics_programming\n",
      "     1 bininformatics_programming\n",
      "     1 bininformatics_programming\n",
      "     1 bininformatics_programming\n",
      "     1 bininformatics_programming\n",
      "     1 bininformatics_programming\n",
      "     1 bininformatics_programming\n",
      "     1 bininformatics_programming\n",
      "     1 bininformatics_programming\n",
      "     1 bininformatics_programming\n",
      "     1 bininformatics_programming\n",
      "     1 bininformatics_programming\n",
      "     1 bininformatics_programming\n",
      "     1 bininformatics_programming\n",
      "     1 bininformatics_programming\n",
      "     1 bininformatics_programming\n",
      "     1 bininformatics_programming\n",
      "     1 bininformatics_programming\n",
      "     1 bininformatics_programming\n",
      "     1 bininformatics_programming\n",
      "     1 bininformatics_programming\n",
      "     1 bininformatics_programming\n",
      "\n"
     ]
    }
   ],
   "source": [
    "# import libraries\n",
    "import random\n",
    "import string\n",
    "import math\n",
    "\n",
    "# objective string\n",
    "objetivo = \"bioinformatics_programming\"\n",
    "\n",
    "# maximum number of candidates\n",
    "GENES = 25\n",
    "# maximum number of iterations\n",
    "MAX_GENERACION = 10000\n",
    "\n",
    "\n",
    "# set adn and fitness variables of each candidate by class 'Individuo'\n",
    "class Individuo(object):\n",
    "    def __init__(self, adn, fitness):\n",
    "        self.adn = adn\n",
    "        self.fitness = fitness\n",
    "\n",
    "# function to calculate fitness between candidate and objective       \n",
    "def calcular_fitness(origen, valor_objetivo):\n",
    "    # iterate over origen and valor_objetivo together and return fitness\n",
    "    fitness = sum([abs(ord(p)-ord(q))**2 for p, q in zip(valor_objetivo, origen)])\n",
    "    return fitness\n",
    "    \n",
    "# calculate mutation\n",
    "def mutacion(padre1, padre2):\n",
    "    # initialize adn_hijo with padre1.adn\n",
    "    adn_hijo = padre1.adn[:]\n",
    "\n",
    "    # initialize start and end variables randomly with integer value\n",
    "    start = random.randint(0, len(padre2.adn) - 1)\n",
    "    stop = random.randint(0, len(padre2.adn) - 1)\n",
    "\n",
    "    # comparing start and stop and assign small value to start and large value to stop\n",
    "    if start > stop:\n",
    "        stop, start = start, stop\n",
    "\n",
    "    # replace start to end indices of adn_hijo with same indices of padre2.adn   \n",
    "    adn_hijo[start:stop] = padre2.adn[start:stop]\n",
    "    # take a random integer value as position \n",
    "    posicion = random.randint(0, len(adn_hijo) - 1)\n",
    "    \n",
    "    # replace position index of adn_hijo with [same, before or after] character of that position\n",
    "    adn_hijo[posicion] = chr(ord(adn_hijo[posicion]) + random.randint(-1, 1))\n",
    "    # calling calcular_fitness function with adn_hijo and objetivo\n",
    "    fitness_hijo = calcular_fitness(adn_hijo, objetivo)\n",
    "    # return adn_hijo and fitness_hijo as class object\n",
    "    return Individuo(adn_hijo, fitness_hijo)\n",
    "\n",
    "\n",
    "# function to randomly select a parent from population\n",
    "def padre_al_azar(poblacion):\n",
    "    return poblacion[int(random.random() * random.random() * (GENES - 1))]\n",
    "\n",
    "# function to write simulation result\n",
    "def escribe_generacion(generacion, poblacion):\n",
    "    print('Pasos de simulación: %d' % generacion)\n",
    "    print()\n",
    "    print('  Fitness         ADN')\n",
    "    print('------------------------')\n",
    "    \n",
    "    for candidato in poblacion:\n",
    "        print(\"%6i %15s\" % (candidato.fitness, ''.join(candidato.adn)))\n",
    "    print()\n",
    "\n",
    "# function to initialize population with candidates\n",
    "def inicializa_poblacion():\n",
    "    # create a list to store candidates\n",
    "    poblacion = []\n",
    "    # iterate over a fixed number of candidates\n",
    "    for i in range(0, GENES):\n",
    "        # randomly choice objetivo number of characters from printable characters for each candidate\n",
    "        adn = [random.choice(string.printable[:-5]) for _ in range(0, len(objetivo))]\n",
    "        # calling calcular_fitness function with adn and objetivo\n",
    "        fitness = calcular_fitness(adn, objetivo)\n",
    "        # make each candidate to class object\n",
    "        candidate = Individuo(adn, fitness)\n",
    "        # append the candidate into population\n",
    "        poblacion.append(candidate)\n",
    "    return poblacion\n",
    "\n",
    "# function to simulate genetic algorithm\n",
    "def simulacion():\n",
    "    # initialize poblacion and generacion variable\n",
    "    poblacion = inicializa_poblacion()\n",
    "    generacion = 0\n",
    "\n",
    "    # iterate untill generacion less than MAX_GENERACION\n",
    "    while True and generacion < MAX_GENERACION:\n",
    "        # add 1 with generacion\n",
    "        generacion += 1\n",
    "        # sort poblacion with the fitness value of candidate\n",
    "        poblacion.sort(key=lambda candidate: candidate.fitness)\n",
    "        \n",
    "        # checking the fitness of first candidate is zero or not\n",
    "        if poblacion[0].fitness == 0:\n",
    "            break\n",
    "        \n",
    "        # randomly select parent 1\n",
    "        padre1 = padre_al_azar(poblacion)\n",
    "        # randomly select parent 2\n",
    "        padre2 = padre_al_azar(poblacion)\n",
    "        # find out mutation between parent 1 and parent 2\n",
    "        hijo = mutacion(padre1, padre2)\n",
    "\n",
    "        # checking fitness value between hijo and maximum candidate of population, if true, assign hijo\n",
    "        if hijo.fitness < poblacion[-1].fitness:\n",
    "            poblacion[-1] = hijo\n",
    "\n",
    "    # checking generacion being equal to MAX_GENERACION\n",
    "    if generacion == MAX_GENERACION:\n",
    "        print(u'Se ha alcanzado el máximo de generaciones')\n",
    "    # write the simulation result\n",
    "    escribe_generacion(generacion, poblacion)\n",
    "\n",
    "# start simulation to get outcome\n",
    "simulacion()"
   ]
  },
  {
   "cell_type": "code",
   "execution_count": 93,
   "metadata": {
    "executionInfo": {
     "elapsed": 28,
     "status": "ok",
     "timestamp": 1639937917310,
     "user": {
      "displayName": "Ikram Inf",
      "photoUrl": "https://lh3.googleusercontent.com/a-/AOh14Gj6pKU84qBPjl2btIGgEanDIWoTGOpazGJjyY8MWA=s64",
      "userId": "11802072329520947006"
     },
     "user_tz": -360
    },
    "id": "wWTn11vm0nCU"
   },
   "outputs": [],
   "source": []
  },
  {
   "cell_type": "markdown",
   "metadata": {
    "id": "hFS4XpbJpNFF"
   },
   "source": [
    "# Exercise 3"
   ]
  },
  {
   "cell_type": "code",
   "execution_count": 94,
   "metadata": {
    "colab": {
     "base_uri": "https://localhost:8080/"
    },
    "executionInfo": {
     "elapsed": 28,
     "status": "ok",
     "timestamp": 1639937917311,
     "user": {
      "displayName": "Ikram Inf",
      "photoUrl": "https://lh3.googleusercontent.com/a-/AOh14Gj6pKU84qBPjl2btIGgEanDIWoTGOpazGJjyY8MWA=s64",
      "userId": "11802072329520947006"
     },
     "user_tz": -360
    },
    "id": "Z731gCgL0nG1",
    "outputId": "8be7443d-efe2-47b4-8091-44d42a43e5b2"
   },
   "outputs": [
    {
     "name": "stdout",
     "output_type": "stream",
     "text": [
      "Pasos de simulación: 5187\n",
      "\n",
      "  Fitness         ADN\n",
      "------------------------\n",
      "     0 bioinformatics_programming\n",
      "     1 bioinformatics_programmimg\n",
      "     1 bioinformatics_programmimg\n",
      "     1 bioinformatics_programmimg\n",
      "     1 bioinformatics_programmimg\n",
      "     1 bioinformatics_programmimg\n",
      "     1 bioinformatics_programmimg\n",
      "     2 bioinformatics_progr`mmimg\n",
      "     2 bioinformatics_progr`mmimg\n",
      "     2 bioinformatics_progr`mmimg\n",
      "     2 bioinformatics_progr`mmimg\n",
      "     2 bioinformatics_progr`mmimg\n",
      "     2 bioinformatics_progr`mmimg\n",
      "     2 bioinformatics_progr`mmimg\n",
      "     2 bioinformatics_progr`mmimg\n",
      "     2 bioinformatics_progr`mmimg\n",
      "     2 bioinformatics_progr`mmimg\n",
      "     2 bioinformatics_progr`mmimg\n",
      "     2 bioinformatics_progr`mmimg\n",
      "     2 bioinformatics_progr`mmimg\n",
      "     2 bioinformatics_progr`mmimg\n",
      "     2 bioinformatics_progr`mmimg\n",
      "     2 bioinformatics_progr`mmimg\n",
      "     2 bioinformatics_progr`mmimg\n",
      "     2 bioinformatics_progr`mmimg\n",
      "\n"
     ]
    }
   ],
   "source": [
    "# import libraries\n",
    "import random\n",
    "import string\n",
    "import math\n",
    "\n",
    "# objective string\n",
    "objetivo = \"bioinformatics_programming\"\n",
    "\n",
    "# maximum number of candidates\n",
    "GENES = 25\n",
    "# maximum number of iterations\n",
    "MAX_GENERACION = 10000\n",
    "# to store fitness of all steps\n",
    "fitnesses = {}\n",
    "\n",
    "# set adn and fitness variables of each candidate by class 'Individuo'\n",
    "class Individuo(object):\n",
    "    def __init__(self, adn, fitness):\n",
    "        self.adn = adn\n",
    "        self.fitness = fitness\n",
    "\n",
    "# function to calculate fitness between candidate and objective       \n",
    "def calcular_fitness(origen, valor_objetivo):\n",
    "    # iterate over origen and valor_objetivo together and return fitness\n",
    "    fitness = sum([(ord(p)-ord(q))**2 for p, q in zip(valor_objetivo, origen)])\n",
    "    return fitness\n",
    "    \n",
    "# calculate mutation\n",
    "def mutacion(padre1, padre2):\n",
    "    # initialize adn_hijo with padre1.adn\n",
    "    adn_hijo = padre1.adn[:]\n",
    "\n",
    "    # initialize start and end variables randomly with integer value\n",
    "    start = random.randint(0, len(padre2.adn) - 1)\n",
    "    stop = random.randint(0, len(padre2.adn) - 1)\n",
    "\n",
    "    # comparing start and stop and assign small value to start and large value to stop\n",
    "    if start > stop:\n",
    "        stop, start = start, stop\n",
    "\n",
    "    # replace start to end indices of adn_hijo with same indices of padre2.adn   \n",
    "    adn_hijo[start:stop] = padre2.adn[start:stop]\n",
    "    # take a random integer value as position \n",
    "    posicion = random.randint(0, len(adn_hijo) - 1)\n",
    "    \n",
    "    # replace position index of adn_hijo with [same, before or after] character of that position\n",
    "    adn_hijo[posicion] = chr(ord(adn_hijo[posicion]) + random.randint(-1, 1))\n",
    "    # calling calcular_fitness function with adn_hijo and objetivo\n",
    "    fitness_hijo = calcular_fitness(adn_hijo, objetivo)\n",
    "    # return adn_hijo and fitness_hijo as class object\n",
    "    return Individuo(adn_hijo, fitness_hijo)\n",
    "\n",
    "\n",
    "# function to randomly select a parent from population\n",
    "def padre_al_azar(poblacion):\n",
    "    return poblacion[int(random.random() * random.random() * (GENES - 1))]\n",
    "\n",
    "# function to write simulation result\n",
    "def escribe_generacion(generacion, poblacion):\n",
    "    print('Pasos de simulación: %d' % generacion)\n",
    "    print()\n",
    "    print('  Fitness         ADN')\n",
    "    print('------------------------')\n",
    "    \n",
    "    for candidato in poblacion:\n",
    "        print(\"%6i %15s\" % (candidato.fitness, ''.join(candidato.adn)))\n",
    "    print()\n",
    "\n",
    "# function to initialize population with candidates\n",
    "def inicializa_poblacion():\n",
    "    # create a list to store candidates\n",
    "    poblacion = []\n",
    "    # iterate over a fixed number of candidates\n",
    "    for i in range(0, GENES):\n",
    "        # randomly choice objetivo number of characters from printable characters for each candidate\n",
    "        adn = [random.choice(string.printable[:-5]) for _ in range(0, len(objetivo))]\n",
    "        # calling calcular_fitness function with adn and objetivo\n",
    "        fitness = calcular_fitness(adn, objetivo)\n",
    "        # make each candidate to class object\n",
    "        candidate = Individuo(adn, fitness)\n",
    "        # append the candidate into population\n",
    "        poblacion.append(candidate)\n",
    "    return poblacion\n",
    "\n",
    "# function to simulate genetic algorithm\n",
    "def simulacion():\n",
    "    # initialize poblacion and generacion variable\n",
    "    poblacion = inicializa_poblacion()\n",
    "    generacion = 0\n",
    "    #fitnesses.update({generacion : poblacion.fitness})\n",
    "\n",
    "    # iterate untill generacion less than MAX_GENERACION\n",
    "    while True and generacion < MAX_GENERACION:\n",
    "        # add 1 with generacion\n",
    "        generacion += 1\n",
    "        # sort poblacion with the fitness value of candidate\n",
    "        poblacion.sort(key=lambda candidate: candidate.fitness)\n",
    "        \n",
    "        # checking the fitness of first candidate is zero or not\n",
    "        if poblacion[0].fitness == 0:\n",
    "            break\n",
    "        \n",
    "        # randomly select parent 1\n",
    "        padre1 = padre_al_azar(poblacion)\n",
    "        # randomly select parent 2\n",
    "        padre2 = padre_al_azar(poblacion)\n",
    "        # find out mutation between parent 1 and parent 2\n",
    "        hijo = mutacion(padre1, padre2)\n",
    "        \n",
    "        fitnesses.update({generacion : hijo.fitness})\n",
    "\n",
    "        # checking fitness value between hijo and maximum candidate of population, if true, assign hijo\n",
    "        if hijo.fitness < poblacion[-1].fitness:\n",
    "            poblacion[-1] = hijo\n",
    "\n",
    "    # checking generacion being equal to MAX_GENERACION\n",
    "    if generacion == MAX_GENERACION:\n",
    "        print(u'Se ha alcanzado el máximo de generaciones')\n",
    "    # write the simulation result\n",
    "    escribe_generacion(generacion, poblacion)\n",
    "\n",
    "# start simulation to get outcome\n",
    "simulacion()"
   ]
  },
  {
   "cell_type": "code",
   "execution_count": 95,
   "metadata": {
    "colab": {
     "base_uri": "https://localhost:8080/"
    },
    "executionInfo": {
     "elapsed": 23,
     "status": "ok",
     "timestamp": 1639937917311,
     "user": {
      "displayName": "Ikram Inf",
      "photoUrl": "https://lh3.googleusercontent.com/a-/AOh14Gj6pKU84qBPjl2btIGgEanDIWoTGOpazGJjyY8MWA=s64",
      "userId": "11802072329520947006"
     },
     "user_tz": -360
    },
    "id": "AJ1e8fnDvbm5",
    "outputId": "04ea4066-87b7-4e0b-ef94-3a8cc77f8f4f"
   },
   "outputs": [
    {
     "name": "stdout",
     "output_type": "stream",
     "text": [
      "{1: 30593, 2: 48823, 3: 42179, 4: 29804, 5: 39727, 6: 29932, 7: 24814, 8: 21555, 9: 29451, 10: 29683, 11: 27874, 12: 20915, 13: 27881, 14: 22579, 15: 21331, 16: 21430, 17: 17731, 18: 15764, 19: 19532, 20: 23438, 21: 15727, 22: 15368, 23: 15802, 24: 21362, 25: 18400, 26: 21822, 27: 14103, 28: 13570, 29: 17680, 30: 14098, 31: 14061, 32: 15663, 33: 13167, 34: 14071, 35: 16012, 36: 14091, 37: 15658, 38: 14090, 39: 17749, 40: 15763, 41: 14156, 42: 13069, 43: 13070, 44: 10826, 45: 14058, 46: 10778, 47: 13126, 48: 13069, 49: 13116, 50: 13030, 51: 13984, 52: 10778, 53: 13069, 54: 10826, 55: 13913, 56: 12998, 57: 12956, 58: 13999, 59: 14040, 60: 10789, 61: 10762, 62: 10789, 63: 10778, 64: 10762, 65: 9894, 66: 10819, 67: 10789, 68: 9894, 69: 9935, 70: 9894, 71: 9864, 72: 9846, 73: 9871, 74: 9894, 75: 9864, 76: 9928, 77: 9871, 78: 9839, 79: 10017, 80: 9893, 81: 9844, 82: 9839, 83: 9808, 84: 9839, 85: 9809, 86: 9910, 87: 9852, 88: 9986, 89: 9846, 90: 9865, 91: 9879, 92: 9922, 93: 9808, 94: 9821, 95: 9864, 96: 9904, 97: 9846, 98: 9856, 99: 9855, 100: 9808, 101: 9737, 102: 9807, 103: 9839, 104: 9809, 105: 9768, 106: 9839, 107: 9731, 108: 9825, 109: 9886, 110: 9696, 111: 9866, 112: 9733, 113: 9809, 114: 9734, 115: 9808, 116: 9809, 117: 9697, 118: 9729, 119: 9706, 120: 9694, 121: 9777, 122: 9696, 123: 9808, 124: 9807, 125: 9818, 126: 9738, 127: 9693, 128: 9696, 129: 9703, 130: 9708, 131: 9696, 132: 9758, 133: 9812, 134: 9693, 135: 9760, 136: 9697, 137: 9686, 138: 9734, 139: 9727, 140: 9686, 141: 9651, 142: 9686, 143: 9724, 144: 9734, 145: 9620, 146: 9620, 147: 9747, 148: 9617, 149: 9696, 150: 9696, 151: 9730, 152: 9693, 153: 9648, 154: 9644, 155: 9613, 156: 9622, 157: 9620, 158: 9574, 159: 9577, 160: 9613, 161: 9575, 162: 9629, 163: 9618, 164: 9574, 165: 9611, 166: 9657, 167: 9573, 168: 9524, 169: 9575, 170: 9695, 171: 9525, 172: 9595, 173: 9496, 174: 9524, 175: 9549, 176: 9547, 177: 9650, 178: 9574, 179: 9507, 180: 9525, 181: 9539, 182: 9574, 183: 9574, 184: 9525, 185: 9504, 186: 9497, 187: 9491, 188: 9530, 189: 9575, 190: 9496, 191: 9456, 192: 9497, 193: 9569, 194: 9452, 195: 9549, 196: 9547, 197: 9461, 198: 9535, 199: 9520, 200: 9521, 201: 9467, 202: 9470, 203: 9525, 204: 9503, 205: 9451, 206: 9451, 207: 9503, 208: 9452, 209: 9503, 210: 9416, 211: 9577, 212: 9419, 213: 9492, 214: 9416, 215: 9447, 216: 9429, 217: 9495, 218: 9455, 219: 9432, 220: 9455, 221: 9451, 222: 9392, 223: 9451, 224: 9478, 225: 9476, 226: 9368, 227: 9416, 228: 9393, 229: 9524, 230: 9523, 231: 9392, 232: 9363, 233: 9358, 234: 9382, 235: 9395, 236: 9423, 237: 9373, 238: 9329, 239: 9392, 240: 9294, 241: 9423, 242: 9337, 243: 9476, 244: 9333, 245: 9368, 246: 9409, 247: 9347, 248: 9363, 249: 9400, 250: 9384, 251: 9408, 252: 9318, 253: 9390, 254: 9368, 255: 9308, 256: 9419, 257: 9368, 258: 9365, 259: 9218, 260: 9227, 261: 9353, 262: 9403, 263: 9273, 264: 9208, 265: 9273, 266: 9227, 267: 9349, 268: 9208, 269: 9336, 270: 9262, 271: 9263, 272: 9318, 273: 9247, 274: 9175, 275: 9303, 276: 9176, 277: 9295, 278: 9195, 279: 9247, 280: 9125, 281: 9080, 282: 9169, 283: 9294, 284: 9155, 285: 9059, 286: 9187, 287: 9211, 288: 9172, 289: 9263, 290: 9189, 291: 9140, 292: 9220, 293: 9178, 294: 9125, 295: 9169, 296: 9262, 297: 9195, 298: 9155, 299: 9210, 300: 9054, 301: 9020, 302: 9065, 303: 9155, 304: 9065, 305: 9104, 306: 9045, 307: 9045, 308: 9065, 309: 9080, 310: 9020, 311: 9051, 312: 9091, 313: 9114, 314: 9059, 315: 9096, 316: 9080, 317: 8985, 318: 9080, 319: 8967, 320: 9020, 321: 8982, 322: 9069, 323: 8973, 324: 8976, 325: 9009, 326: 8942, 327: 9004, 328: 8915, 329: 8997, 330: 9008, 331: 8945, 332: 8982, 333: 9011, 334: 8969, 335: 8985, 336: 9004, 337: 8892, 338: 8892, 339: 8845, 340: 8831, 341: 8932, 342: 8940, 343: 8969, 344: 8932, 345: 8831, 346: 8856, 347: 8888, 348: 8831, 349: 9009, 350: 8947, 351: 8871, 352: 8874, 353: 8892, 354: 8904, 355: 8874, 356: 8784, 357: 8913, 358: 8898, 359: 8860, 360: 8776, 361: 8802, 362: 8764, 363: 8814, 364: 8814, 365: 8874, 366: 8724, 367: 8724, 368: 8804, 369: 8874, 370: 8762, 371: 8724, 372: 8823, 373: 8779, 374: 8691, 375: 8745, 376: 8819, 377: 8856, 378: 8761, 379: 8693, 380: 8693, 381: 8691, 382: 8779, 383: 8704, 384: 8691, 385: 8691, 386: 8729, 387: 8657, 388: 8690, 389: 8670, 390: 8775, 391: 8657, 392: 8664, 393: 8682, 394: 8764, 395: 8624, 396: 8687, 397: 8693, 398: 8648, 399: 8549, 400: 8673, 401: 8708, 402: 8615, 403: 8664, 404: 8556, 405: 8608, 406: 8656, 407: 8587, 408: 8549, 409: 8614, 410: 8496, 411: 8595, 412: 8577, 413: 8540, 414: 8507, 415: 8615, 416: 8630, 417: 8514, 418: 8459, 419: 8482, 420: 8426, 421: 8536, 422: 8501, 423: 8602, 424: 8493, 425: 8453, 426: 8504, 427: 8409, 428: 8515, 429: 8490, 430: 8492, 431: 8385, 432: 8458, 433: 8474, 434: 8467, 435: 8426, 436: 8350, 437: 8453, 438: 8447, 439: 8459, 440: 8426, 441: 8439, 442: 8409, 443: 8433, 444: 8432, 445: 8391, 446: 8438, 447: 8448, 448: 8452, 449: 8487, 450: 8416, 451: 8423, 452: 8453, 453: 8349, 454: 8463, 455: 8385, 456: 8258, 457: 8508, 458: 8409, 459: 8504, 460: 8380, 461: 8354, 462: 8401, 463: 8385, 464: 8321, 465: 8321, 466: 8265, 467: 8381, 468: 8319, 469: 8383, 470: 8433, 471: 8413, 472: 8375, 473: 8272, 474: 8272, 475: 8272, 476: 8301, 477: 8381, 478: 8390, 479: 8235, 480: 8337, 481: 8258, 482: 8229, 483: 8208, 484: 8208, 485: 8207, 486: 8272, 487: 8253, 488: 8215, 489: 8343, 490: 8303, 491: 8354, 492: 8232, 493: 8279, 494: 8207, 495: 8210, 496: 8228, 497: 8311, 498: 8240, 499: 8162, 500: 8265, 501: 8242, 502: 8206, 503: 8162, 504: 8262, 505: 8238, 506: 8180, 507: 8093, 508: 8149, 509: 8251, 510: 8258, 511: 8146, 512: 8126, 513: 8158, 514: 8149, 515: 8221, 516: 8057, 517: 8098, 518: 8225, 519: 8162, 520: 8130, 521: 8088, 522: 8127, 523: 8052, 524: 8121, 525: 8057, 526: 8121, 527: 8052, 528: 8124, 529: 8141, 530: 8105, 531: 8098, 532: 8093, 533: 8124, 534: 8079, 535: 8156, 536: 8091, 537: 8132, 538: 8132, 539: 8098, 540: 8181, 541: 8081, 542: 8079, 543: 8094, 544: 8023, 545: 8064, 546: 8081, 547: 8055, 548: 8091, 549: 8043, 550: 8098, 551: 8079, 552: 8052, 553: 8095, 554: 8064, 555: 8001, 556: 8054, 557: 8016, 558: 7952, 559: 8102, 560: 8079, 561: 7941, 562: 7867, 563: 8004, 564: 7996, 565: 7995, 566: 7905, 567: 8121, 568: 8067, 569: 8023, 570: 7951, 571: 7977, 572: 7868, 573: 7980, 574: 7878, 575: 7975, 576: 7994, 577: 7820, 578: 8001, 579: 7793, 580: 7861, 581: 7926, 582: 7792, 583: 7927, 584: 7851, 585: 8007, 586: 7927, 587: 7861, 588: 7768, 589: 7881, 590: 7801, 591: 7876, 592: 7954, 593: 7878, 594: 7926, 595: 7859, 596: 7886, 597: 7820, 598: 7875, 599: 7755, 600: 7792, 601: 7922, 602: 7851, 603: 7792, 604: 7821, 605: 7792, 606: 7793, 607: 7839, 608: 7826, 609: 7783, 610: 7844, 611: 7881, 612: 7820, 613: 7800, 614: 7788, 615: 7756, 616: 7810, 617: 7759, 618: 7792, 619: 7755, 620: 7788, 621: 7850, 622: 7743, 623: 7688, 624: 7717, 625: 7715, 626: 7739, 627: 7722, 628: 7643, 629: 7722, 630: 7792, 631: 7688, 632: 7663, 633: 7803, 634: 7688, 635: 7718, 636: 7665, 637: 7722, 638: 7736, 639: 7665, 640: 7683, 641: 7643, 642: 7674, 643: 7628, 644: 7684, 645: 7694, 646: 7679, 647: 7608, 648: 7643, 649: 7717, 650: 7628, 651: 7545, 652: 7660, 653: 7554, 654: 7608, 655: 7578, 656: 7635, 657: 7518, 658: 7608, 659: 7557, 660: 7572, 661: 7499, 662: 7660, 663: 7489, 664: 7470, 665: 7529, 666: 7434, 667: 7529, 668: 7516, 669: 7603, 670: 7434, 671: 7513, 672: 7429, 673: 7483, 674: 7600, 675: 7440, 676: 7487, 677: 7524, 678: 7434, 679: 7527, 680: 7490, 681: 7430, 682: 7469, 683: 7432, 684: 7494, 685: 7432, 686: 7397, 687: 7474, 688: 7475, 689: 7426, 690: 7433, 691: 7427, 692: 7289, 693: 7432, 694: 7526, 695: 7364, 696: 7275, 697: 7401, 698: 7320, 699: 7429, 700: 7462, 701: 7254, 702: 7212, 703: 7388, 704: 7292, 705: 7228, 706: 7275, 707: 7412, 708: 7169, 709: 7313, 710: 7323, 711: 7204, 712: 7338, 713: 7381, 714: 7310, 715: 7174, 716: 7313, 717: 7316, 718: 7248, 719: 7223, 720: 7218, 721: 7288, 722: 7263, 723: 7242, 724: 7179, 725: 7167, 726: 7130, 727: 7157, 728: 7208, 729: 7129, 730: 7091, 731: 7230, 732: 7129, 733: 7099, 734: 7067, 735: 7169, 736: 7167, 737: 7129, 738: 7062, 739: 7174, 740: 7058, 741: 7174, 742: 7079, 743: 7158, 744: 7056, 745: 7129, 746: 7128, 747: 7165, 748: 7113, 749: 7081, 750: 7079, 751: 7176, 752: 7096, 753: 7067, 754: 7083, 755: 7127, 756: 7065, 757: 7031, 758: 7102, 759: 7016, 760: 7098, 761: 7040, 762: 7019, 763: 7058, 764: 7067, 765: 7074, 766: 7094, 767: 7091, 768: 7074, 769: 7079, 770: 7040, 771: 7010, 772: 7084, 773: 7007, 774: 7000, 775: 7035, 776: 7034, 777: 7009, 778: 7000, 779: 6980, 780: 7031, 781: 7082, 782: 7014, 783: 7070, 784: 7079, 785: 7044, 786: 7009, 787: 6956, 788: 7000, 789: 6990, 790: 6915, 791: 7085, 792: 7009, 793: 7068, 794: 6993, 795: 6936, 796: 6988, 797: 6969, 798: 6955, 799: 6920, 800: 6943, 801: 6991, 802: 6878, 803: 6932, 804: 6884, 805: 6995, 806: 6956, 807: 6968, 808: 6975, 809: 6915, 810: 6915, 811: 6866, 812: 6890, 813: 6922, 814: 6847, 815: 6974, 816: 6884, 817: 6845, 818: 6884, 819: 6956, 820: 6885, 821: 6969, 822: 6904, 823: 6812, 824: 6847, 825: 6921, 826: 6787, 827: 6777, 828: 6898, 829: 6892, 830: 6893, 831: 6863, 832: 6908, 833: 6758, 834: 6895, 835: 6786, 836: 6753, 837: 6857, 838: 6812, 839: 6717, 840: 6808, 841: 6903, 842: 6781, 843: 6718, 844: 6787, 845: 6731, 846: 6657, 847: 6718, 848: 6884, 849: 6786, 850: 6733, 851: 6771, 852: 6696, 853: 6758, 854: 6752, 855: 6654, 856: 6763, 857: 6753, 858: 6718, 859: 6648, 860: 6815, 861: 6778, 862: 6659, 863: 6752, 864: 6736, 865: 6687, 866: 6614, 867: 6667, 868: 6665, 869: 6753, 870: 6592, 871: 6660, 872: 6638, 873: 6559, 874: 6610, 875: 6614, 876: 6512, 877: 6503, 878: 6709, 879: 6481, 880: 6515, 881: 6478, 882: 6704, 883: 6460, 884: 6497, 885: 6525, 886: 6458, 887: 6415, 888: 6484, 889: 6451, 890: 6528, 891: 6490, 892: 6453, 893: 6481, 894: 6490, 895: 6478, 896: 6445, 897: 6526, 898: 6445, 899: 6478, 900: 6379, 901: 6420, 902: 6415, 903: 6469, 904: 6445, 905: 6483, 906: 6450, 907: 6427, 908: 6516, 909: 6442, 910: 6421, 911: 6454, 912: 6467, 913: 6445, 914: 6487, 915: 6380, 916: 6355, 917: 6362, 918: 6445, 919: 6383, 920: 6365, 921: 6427, 922: 6379, 923: 6379, 924: 6415, 925: 6344, 926: 6355, 927: 6380, 928: 6392, 929: 6362, 930: 6407, 931: 6364, 932: 6422, 933: 6306, 934: 6294, 935: 6253, 936: 6380, 937: 6304, 938: 6306, 939: 6281, 940: 6365, 941: 6324, 942: 6419, 943: 6312, 944: 6265, 945: 6284, 946: 6390, 947: 6373, 948: 6253, 949: 6260, 950: 6221, 951: 6204, 952: 6253, 953: 6330, 954: 6344, 955: 6256, 956: 6272, 957: 6248, 958: 6275, 959: 6222, 960: 6214, 961: 6204, 962: 6213, 963: 6281, 964: 6272, 965: 6253, 966: 6229, 967: 6253, 968: 6292, 969: 6245, 970: 6223, 971: 6167, 972: 6222, 973: 6204, 974: 6214, 975: 6175, 976: 6248, 977: 6197, 978: 6216, 979: 6167, 980: 6192, 981: 6167, 982: 6228, 983: 6167, 984: 6162, 985: 6237, 986: 6162, 987: 6167, 988: 6137, 989: 6152, 990: 6218, 991: 6157, 992: 6166, 993: 6184, 994: 6137, 995: 6176, 996: 6205, 997: 6207, 998: 6155, 999: 6183, 1000: 6106, 1001: 6176, 1002: 6080, 1003: 6097, 1004: 6131, 1005: 6080, 1006: 6151, 1007: 6038, 1008: 6031, 1009: 6013, 1010: 6048, 1011: 6122, 1012: 6049, 1013: 6106, 1014: 6134, 1015: 6159, 1016: 6045, 1017: 6131, 1018: 6139, 1019: 6017, 1020: 6130, 1021: 6010, 1022: 6017, 1023: 6094, 1024: 6080, 1025: 6071, 1026: 6046, 1027: 6046, 1028: 6097, 1029: 6026, 1030: 6047, 1031: 5972, 1032: 6058, 1033: 6002, 1034: 6046, 1035: 6045, 1036: 6017, 1037: 6001, 1038: 6039, 1039: 5986, 1040: 6015, 1041: 6018, 1042: 6071, 1043: 5986, 1044: 6047, 1045: 6017, 1046: 6016, 1047: 6007, 1048: 5984, 1049: 6027, 1050: 5946, 1051: 5946, 1052: 5972, 1053: 5939, 1054: 5970, 1055: 5939, 1056: 5918, 1057: 5956, 1058: 5977, 1059: 5966, 1060: 6020, 1061: 5978, 1062: 6045, 1063: 5972, 1064: 5976, 1065: 5923, 1066: 5971, 1067: 6009, 1068: 5914, 1069: 6047, 1070: 5939, 1071: 5940, 1072: 5898, 1073: 5898, 1074: 5890, 1075: 5946, 1076: 5939, 1077: 5862, 1078: 5910, 1079: 5905, 1080: 5898, 1081: 5921, 1082: 5844, 1083: 5937, 1084: 5863, 1085: 5904, 1086: 5849, 1087: 5923, 1088: 5844, 1089: 5820, 1090: 5849, 1091: 5830, 1092: 5740, 1093: 5934, 1094: 5844, 1095: 5875, 1096: 5905, 1097: 5897, 1098: 5896, 1099: 5854, 1100: 5863, 1101: 5801, 1102: 5846, 1103: 5852, 1104: 5819, 1105: 5871, 1106: 5823, 1107: 5740, 1108: 5785, 1109: 5818, 1110: 5779, 1111: 5783, 1112: 5816, 1113: 5823, 1114: 5733, 1115: 5735, 1116: 5802, 1117: 5799, 1118: 5787, 1119: 5763, 1120: 5718, 1121: 5743, 1122: 5704, 1123: 5770, 1124: 5754, 1125: 5704, 1126: 5786, 1127: 5705, 1128: 5754, 1129: 5682, 1130: 5701, 1131: 5740, 1132: 5801, 1133: 5752, 1134: 5686, 1135: 5731, 1136: 5786, 1137: 5719, 1138: 5665, 1139: 5712, 1140: 5686, 1141: 5750, 1142: 5748, 1143: 5710, 1144: 5752, 1145: 5668, 1146: 5785, 1147: 5606, 1148: 5689, 1149: 5702, 1150: 5680, 1151: 5668, 1152: 5762, 1153: 5699, 1154: 5728, 1155: 5701, 1156: 5733, 1157: 5635, 1158: 5670, 1159: 5653, 1160: 5699, 1161: 5623, 1162: 5674, 1163: 5606, 1164: 5748, 1165: 5644, 1166: 5703, 1167: 5626, 1168: 5680, 1169: 5671, 1170: 5653, 1171: 5667, 1172: 5691, 1173: 5616, 1174: 5624, 1175: 5605, 1176: 5626, 1177: 5576, 1178: 5715, 1179: 5606, 1180: 5673, 1181: 5617, 1182: 5626, 1183: 5611, 1184: 5634, 1185: 5661, 1186: 5606, 1187: 5607, 1188: 5606, 1189: 5579, 1190: 5606, 1191: 5556, 1192: 5556, 1193: 5541, 1194: 5609, 1195: 5547, 1196: 5527, 1197: 5526, 1198: 5548, 1199: 5626, 1200: 5575, 1201: 5533, 1202: 5491, 1203: 5471, 1204: 5470, 1205: 5471, 1206: 5509, 1207: 5421, 1208: 5470, 1209: 5521, 1210: 5556, 1211: 5469, 1212: 5567, 1213: 5511, 1214: 5509, 1215: 5497, 1216: 5531, 1217: 5509, 1218: 5514, 1219: 5493, 1220: 5526, 1221: 5521, 1222: 5497, 1223: 5463, 1224: 5529, 1225: 5419, 1226: 5398, 1227: 5418, 1228: 5448, 1229: 5457, 1230: 5434, 1231: 5415, 1232: 5379, 1233: 5412, 1234: 5462, 1235: 5417, 1236: 5430, 1237: 5374, 1238: 5358, 1239: 5421, 1240: 5418, 1241: 5427, 1242: 5327, 1243: 5355, 1244: 5411, 1245: 5379, 1246: 5467, 1247: 5449, 1248: 5348, 1249: 5369, 1250: 5327, 1251: 5350, 1252: 5332, 1253: 5409, 1254: 5375, 1255: 5396, 1256: 5327, 1257: 5374, 1258: 5327, 1259: 5305, 1260: 5348, 1261: 5356, 1262: 5353, 1263: 5405, 1264: 5322, 1265: 5306, 1266: 5257, 1267: 5289, 1268: 5279, 1269: 5328, 1270: 5289, 1271: 5303, 1272: 5279, 1273: 5296, 1274: 5238, 1275: 5259, 1276: 5249, 1277: 5360, 1278: 5332, 1279: 5284, 1280: 5259, 1281: 5220, 1282: 5296, 1283: 5282, 1284: 5328, 1285: 5222, 1286: 5249, 1287: 5221, 1288: 5196, 1289: 5259, 1290: 5237, 1291: 5246, 1292: 5251, 1293: 5220, 1294: 5196, 1295: 5225, 1296: 5161, 1297: 5221, 1298: 5201, 1299: 5305, 1300: 5236, 1301: 5196, 1302: 5193, 1303: 5199, 1304: 5209, 1305: 5242, 1306: 5189, 1307: 5220, 1308: 5161, 1309: 5232, 1310: 5182, 1311: 5168, 1312: 5168, 1313: 5168, 1314: 5196, 1315: 5188, 1316: 5145, 1317: 5141, 1318: 5166, 1319: 5149, 1320: 5197, 1321: 5197, 1322: 5197, 1323: 5150, 1324: 5177, 1325: 5178, 1326: 5169, 1327: 5144, 1328: 5166, 1329: 5156, 1330: 5142, 1331: 5191, 1332: 5185, 1333: 5139, 1334: 5162, 1335: 5125, 1336: 5109, 1337: 5189, 1338: 5162, 1339: 5165, 1340: 5142, 1341: 5162, 1342: 5102, 1343: 5134, 1344: 5114, 1345: 5142, 1346: 5211, 1347: 5109, 1348: 5102, 1349: 5119, 1350: 5158, 1351: 5064, 1352: 5089, 1353: 5099, 1354: 5178, 1355: 5131, 1356: 5121, 1357: 5126, 1358: 5073, 1359: 5152, 1360: 5081, 1361: 5138, 1362: 5099, 1363: 5090, 1364: 5121, 1365: 5102, 1366: 5146, 1367: 5093, 1368: 5106, 1369: 5137, 1370: 5095, 1371: 5081, 1372: 5121, 1373: 5093, 1374: 5081, 1375: 5109, 1376: 5103, 1377: 5091, 1378: 5081, 1379: 5120, 1380: 5073, 1381: 5100, 1382: 5048, 1383: 5073, 1384: 5084, 1385: 5056, 1386: 5067, 1387: 5061, 1388: 5118, 1389: 5053, 1390: 5084, 1391: 5059, 1392: 5106, 1393: 5056, 1394: 5043, 1395: 5067, 1396: 5104, 1397: 5056, 1398: 5056, 1399: 5090, 1400: 5051, 1401: 5082, 1402: 5051, 1403: 5106, 1404: 5075, 1405: 5056, 1406: 5011, 1407: 5034, 1408: 5046, 1409: 5077, 1410: 5043, 1411: 5001, 1412: 5093, 1413: 5064, 1414: 5049, 1415: 5063, 1416: 5056, 1417: 5050, 1418: 5016, 1419: 5072, 1420: 5083, 1421: 5042, 1422: 4986, 1423: 5027, 1424: 5043, 1425: 5066, 1426: 5104, 1427: 5018, 1428: 5021, 1429: 5027, 1430: 5006, 1431: 5052, 1432: 4931, 1433: 5012, 1434: 4932, 1435: 5056, 1436: 5002, 1437: 4931, 1438: 5019, 1439: 4991, 1440: 5070, 1441: 4945, 1442: 5006, 1443: 4987, 1444: 5008, 1445: 4975, 1446: 4997, 1447: 4997, 1448: 4961, 1449: 4910, 1450: 4947, 1451: 4914, 1452: 5004, 1453: 4952, 1454: 5031, 1455: 4892, 1456: 4921, 1457: 4842, 1458: 4876, 1459: 4916, 1460: 4869, 1461: 4896, 1462: 4944, 1463: 4921, 1464: 4953, 1465: 4901, 1466: 4975, 1467: 4814, 1468: 4798, 1469: 4824, 1470: 4781, 1471: 4903, 1472: 4917, 1473: 4814, 1474: 4790, 1475: 4960, 1476: 4914, 1477: 4829, 1478: 4798, 1479: 4798, 1480: 4827, 1481: 4850, 1482: 4791, 1483: 4879, 1484: 4771, 1485: 4807, 1486: 4774, 1487: 4814, 1488: 4790, 1489: 4733, 1490: 4768, 1491: 4742, 1492: 4742, 1493: 4811, 1494: 4701, 1495: 4706, 1496: 4706, 1497: 4734, 1498: 4812, 1499: 4747, 1500: 4680, 1501: 4734, 1502: 4767, 1503: 4742, 1504: 4680, 1505: 4661, 1506: 4646, 1507: 4701, 1508: 4653, 1509: 4762, 1510: 4737, 1511: 4742, 1512: 4627, 1513: 4779, 1514: 4656, 1515: 4698, 1516: 4679, 1517: 4594, 1518: 4627, 1519: 4742, 1520: 4691, 1521: 4630, 1522: 4587, 1523: 4567, 1524: 4594, 1525: 4680, 1526: 4627, 1527: 4594, 1528: 4591, 1529: 4600, 1530: 4635, 1531: 4575, 1532: 4595, 1533: 4636, 1534: 4552, 1535: 4571, 1536: 4549, 1537: 4604, 1538: 4561, 1539: 4611, 1540: 4516, 1541: 4607, 1542: 4524, 1543: 4632, 1544: 4567, 1545: 4524, 1546: 4501, 1547: 4562, 1548: 4546, 1549: 4491, 1550: 4567, 1551: 4532, 1552: 4571, 1553: 4567, 1554: 4530, 1555: 4526, 1556: 4491, 1557: 4529, 1558: 4481, 1559: 4552, 1560: 4545, 1561: 4493, 1562: 4491, 1563: 4516, 1564: 4462, 1565: 4425, 1566: 4497, 1567: 4465, 1568: 4493, 1569: 4422, 1570: 4454, 1571: 4453, 1572: 4394, 1573: 4464, 1574: 4491, 1575: 4456, 1576: 4394, 1577: 4506, 1578: 4463, 1579: 4418, 1580: 4440, 1581: 4424, 1582: 4472, 1583: 4420, 1584: 4453, 1585: 4449, 1586: 4422, 1587: 4374, 1588: 4425, 1589: 4449, 1590: 4417, 1591: 4399, 1592: 4437, 1593: 4457, 1594: 4399, 1595: 4371, 1596: 4426, 1597: 4394, 1598: 4347, 1599: 4328, 1600: 4360, 1601: 4430, 1602: 4394, 1603: 4425, 1604: 4386, 1605: 4316, 1606: 4316, 1607: 4403, 1608: 4336, 1609: 4335, 1610: 4325, 1611: 4423, 1612: 4374, 1613: 4368, 1614: 4394, 1615: 4389, 1616: 4411, 1617: 4359, 1618: 4328, 1619: 4358, 1620: 4312, 1621: 4306, 1622: 4305, 1623: 4316, 1624: 4320, 1625: 4345, 1626: 4305, 1627: 4324, 1628: 4346, 1629: 4295, 1630: 4324, 1631: 4316, 1632: 4328, 1633: 4311, 1634: 4280, 1635: 4277, 1636: 4324, 1637: 4324, 1638: 4311, 1639: 4339, 1640: 4366, 1641: 4327, 1642: 4347, 1643: 4303, 1644: 4256, 1645: 4291, 1646: 4325, 1647: 4314, 1648: 4290, 1649: 4321, 1650: 4303, 1651: 4258, 1652: 4258, 1653: 4258, 1654: 4221, 1655: 4278, 1656: 4246, 1657: 4256, 1658: 4238, 1659: 4257, 1660: 4202, 1661: 4287, 1662: 4241, 1663: 4261, 1664: 4244, 1665: 4273, 1666: 4306, 1667: 4244, 1668: 4267, 1669: 4224, 1670: 4224, 1671: 4238, 1672: 4242, 1673: 4238, 1674: 4238, 1675: 4207, 1676: 4283, 1677: 4226, 1678: 4182, 1679: 4241, 1680: 4227, 1681: 4265, 1682: 4267, 1683: 4176, 1684: 4235, 1685: 4263, 1686: 4202, 1687: 4233, 1688: 4250, 1689: 4223, 1690: 4207, 1691: 4172, 1692: 4202, 1693: 4190, 1694: 4193, 1695: 4175, 1696: 4166, 1697: 4203, 1698: 4156, 1699: 4195, 1700: 4222, 1701: 4113, 1702: 4177, 1703: 4155, 1704: 4226, 1705: 4203, 1706: 4252, 1707: 4178, 1708: 4175, 1709: 4185, 1710: 4248, 1711: 4174, 1712: 4193, 1713: 4172, 1714: 4090, 1715: 4202, 1716: 4129, 1717: 4189, 1718: 4185, 1719: 4197, 1720: 4142, 1721: 4201, 1722: 4138, 1723: 4142, 1724: 4098, 1725: 4155, 1726: 4186, 1727: 4138, 1728: 4180, 1729: 4132, 1730: 4165, 1731: 4183, 1732: 4107, 1733: 4217, 1734: 4079, 1735: 4079, 1736: 4107, 1737: 4189, 1738: 4056, 1739: 4079, 1740: 4154, 1741: 4079, 1742: 4083, 1743: 4117, 1744: 4059, 1745: 4056, 1746: 4132, 1747: 4077, 1748: 4054, 1749: 4079, 1750: 4075, 1751: 4075, 1752: 4057, 1753: 4100, 1754: 4125, 1755: 4079, 1756: 4092, 1757: 4056, 1758: 4005, 1759: 4058, 1760: 4054, 1761: 4079, 1762: 4079, 1763: 4056, 1764: 4045, 1765: 4020, 1766: 4026, 1767: 4005, 1768: 4054, 1769: 4068, 1770: 4026, 1771: 3959, 1772: 4007, 1773: 4015, 1774: 4026, 1775: 4018, 1776: 3962, 1777: 3980, 1778: 4086, 1779: 4026, 1780: 4009, 1781: 3983, 1782: 4014, 1783: 4008, 1784: 4015, 1785: 3961, 1786: 4010, 1787: 3997, 1788: 4020, 1789: 4068, 1790: 3984, 1791: 3959, 1792: 3962, 1793: 3980, 1794: 4018, 1795: 4007, 1796: 3959, 1797: 3986, 1798: 3962, 1799: 3966, 1800: 3985, 1801: 3976, 1802: 3976, 1803: 3962, 1804: 3959, 1805: 3982, 1806: 3959, 1807: 3959, 1808: 3986, 1809: 3959, 1810: 3959, 1811: 3931, 1812: 3962, 1813: 3958, 1814: 3962, 1815: 3959, 1816: 3910, 1817: 3966, 1818: 3959, 1819: 3930, 1820: 3981, 1821: 3980, 1822: 3982, 1823: 3903, 1824: 3958, 1825: 3982, 1826: 3972, 1827: 3931, 1828: 3938, 1829: 3931, 1830: 3967, 1831: 3934, 1832: 3944, 1833: 3863, 1834: 3863, 1835: 3937, 1836: 3973, 1837: 3910, 1838: 3882, 1839: 3844, 1840: 3933, 1841: 3931, 1842: 3890, 1843: 3844, 1844: 3895, 1845: 3871, 1846: 3904, 1847: 3863, 1848: 3822, 1849: 3837, 1850: 3888, 1851: 3844, 1852: 3874, 1853: 3844, 1854: 3863, 1855: 3853, 1856: 3863, 1857: 3914, 1858: 3841, 1859: 3878, 1860: 3862, 1861: 3822, 1862: 3841, 1863: 3841, 1864: 3884, 1865: 3822, 1866: 3866, 1867: 3866, 1868: 3818, 1869: 3803, 1870: 3830, 1871: 3873, 1872: 3844, 1873: 3888, 1874: 3895, 1875: 3779, 1876: 3886, 1877: 3821, 1878: 3822, 1879: 3822, 1880: 3862, 1881: 3844, 1882: 3844, 1883: 3811, 1884: 3822, 1885: 3821, 1886: 3803, 1887: 3801, 1888: 3822, 1889: 3779, 1890: 3795, 1891: 3836, 1892: 3762, 1893: 3850, 1894: 3818, 1895: 3865, 1896: 3802, 1897: 3764, 1898: 3795, 1899: 3764, 1900: 3737, 1901: 3822, 1902: 3737, 1903: 3777, 1904: 3805, 1905: 3782, 1906: 3778, 1907: 3724, 1908: 3737, 1909: 3754, 1910: 3805, 1911: 3742, 1912: 3749, 1913: 3783, 1914: 3754, 1915: 3755, 1916: 3724, 1917: 3754, 1918: 3788, 1919: 3823, 1920: 3740, 1921: 3724, 1922: 3743, 1923: 3698, 1924: 3724, 1925: 3765, 1926: 3717, 1927: 3756, 1928: 3751, 1929: 3709, 1930: 3759, 1931: 3773, 1932: 3698, 1933: 3788, 1934: 3735, 1935: 3745, 1936: 3752, 1937: 3737, 1938: 3709, 1939: 3709, 1940: 3711, 1941: 3697, 1942: 3695, 1943: 3712, 1944: 3718, 1945: 3742, 1946: 3698, 1947: 3756, 1948: 3759, 1949: 3739, 1950: 3723, 1951: 3698, 1952: 3683, 1953: 3719, 1954: 3670, 1955: 3721, 1956: 3716, 1957: 3641, 1958: 3673, 1959: 3715, 1960: 3670, 1961: 3716, 1962: 3688, 1963: 3667, 1964: 3642, 1965: 3644, 1966: 3658, 1967: 3750, 1968: 3641, 1969: 3641, 1970: 3723, 1971: 3641, 1972: 3624, 1973: 3672, 1974: 3641, 1975: 3665, 1976: 3602, 1977: 3669, 1978: 3623, 1979: 3624, 1980: 3665, 1981: 3603, 1982: 3674, 1983: 3641, 1984: 3621, 1985: 3587, 1986: 3587, 1987: 3568, 1988: 3603, 1989: 3629, 1990: 3593, 1991: 3595, 1992: 3642, 1993: 3575, 1994: 3587, 1995: 3575, 1996: 3579, 1997: 3604, 1998: 3564, 1999: 3572, 2000: 3559, 2001: 3595, 2002: 3579, 2003: 3575, 2004: 3543, 2005: 3587, 2006: 3600, 2007: 3605, 2008: 3519, 2009: 3621, 2010: 3543, 2011: 3623, 2012: 3587, 2013: 3575, 2014: 3587, 2015: 3604, 2016: 3566, 2017: 3518, 2018: 3559, 2019: 3560, 2020: 3540, 2021: 3518, 2022: 3504, 2023: 3517, 2024: 3568, 2025: 3544, 2026: 3526, 2027: 3540, 2028: 3523, 2029: 3517, 2030: 3483, 2031: 3487, 2032: 3536, 2033: 3505, 2034: 3504, 2035: 3483, 2036: 3539, 2037: 3442, 2038: 3495, 2039: 3458, 2040: 3570, 2041: 3489, 2042: 3503, 2043: 3491, 2044: 3493, 2045: 3487, 2046: 3442, 2047: 3520, 2048: 3479, 2049: 3519, 2050: 3503, 2051: 3487, 2052: 3503, 2053: 3427, 2054: 3427, 2055: 3523, 2056: 3403, 2057: 3402, 2058: 3407, 2059: 3440, 2060: 3439, 2061: 3419, 2062: 3440, 2063: 3408, 2064: 3411, 2065: 3466, 2066: 3440, 2067: 3382, 2068: 3411, 2069: 3463, 2070: 3403, 2071: 3387, 2072: 3482, 2073: 3415, 2074: 3402, 2075: 3454, 2076: 3429, 2077: 3364, 2078: 3340, 2079: 3485, 2080: 3440, 2081: 3341, 2082: 3375, 2083: 3383, 2084: 3398, 2085: 3326, 2086: 3364, 2087: 3407, 2088: 3360, 2089: 3365, 2090: 3403, 2091: 3328, 2092: 3357, 2093: 3372, 2094: 3312, 2095: 3342, 2096: 3340, 2097: 3377, 2098: 3340, 2099: 3295, 2100: 3331, 2101: 3322, 2102: 3350, 2103: 3380, 2104: 3340, 2105: 3315, 2106: 3334, 2107: 3312, 2108: 3295, 2109: 3290, 2110: 3329, 2111: 3326, 2112: 3327, 2113: 3344, 2114: 3308, 2115: 3326, 2116: 3323, 2117: 3288, 2118: 3306, 2119: 3293, 2120: 3288, 2121: 3311, 2122: 3299, 2123: 3283, 2124: 3267, 2125: 3311, 2126: 3314, 2127: 3287, 2128: 3294, 2129: 3324, 2130: 3297, 2131: 3267, 2132: 3274, 2133: 3293, 2134: 3307, 2135: 3325, 2136: 3313, 2137: 3273, 2138: 3295, 2139: 3296, 2140: 3301, 2141: 3311, 2142: 3288, 2143: 3274, 2144: 3266, 2145: 3259, 2146: 3272, 2147: 3273, 2148: 3273, 2149: 3256, 2150: 3245, 2151: 3252, 2152: 3216, 2153: 3270, 2154: 3191, 2155: 3273, 2156: 3240, 2157: 3245, 2158: 3215, 2159: 3192, 2160: 3259, 2161: 3195, 2162: 3285, 2163: 3248, 2164: 3260, 2165: 3236, 2166: 3242, 2167: 3213, 2168: 3237, 2169: 3252, 2170: 3143, 2171: 3191, 2172: 3209, 2173: 3216, 2174: 3138, 2175: 3191, 2176: 3237, 2177: 3175, 2178: 3213, 2179: 3172, 2180: 3204, 2181: 3138, 2182: 3119, 2183: 3201, 2184: 3119, 2185: 3276, 2186: 3119, 2187: 3191, 2188: 3132, 2189: 3165, 2190: 3192, 2191: 3116, 2192: 3119, 2193: 3132, 2194: 3140, 2195: 3091, 2196: 3119, 2197: 3143, 2198: 3119, 2199: 3116, 2200: 3110, 2201: 3116, 2202: 3155, 2203: 3104, 2204: 3094, 2205: 3118, 2206: 3107, 2207: 3050, 2208: 3159, 2209: 3115, 2210: 3050, 2211: 3069, 2212: 3072, 2213: 3131, 2214: 3095, 2215: 3097, 2216: 3165, 2217: 3104, 2218: 3038, 2219: 3050, 2220: 3059, 2221: 3134, 2222: 3112, 2223: 3072, 2224: 3118, 2225: 3050, 2226: 3060, 2227: 3035, 2228: 3085, 2229: 3095, 2230: 3069, 2231: 3041, 2232: 3020, 2233: 3016, 2234: 3016, 2235: 3035, 2236: 3035, 2237: 3026, 2238: 3034, 2239: 3050, 2240: 3072, 2241: 3037, 2242: 3089, 2243: 3065, 2244: 3023, 2245: 3030, 2246: 3059, 2247: 3020, 2248: 3041, 2249: 3016, 2250: 3050, 2251: 3020, 2252: 3035, 2253: 3022, 2254: 3031, 2255: 3016, 2256: 3019, 2257: 3016, 2258: 3016, 2259: 3016, 2260: 3035, 2261: 3035, 2262: 3045, 2263: 3033, 2264: 3016, 2265: 3013, 2266: 3004, 2267: 3013, 2268: 2996, 2269: 3016, 2270: 3021, 2271: 3030, 2272: 2970, 2273: 2969, 2274: 3035, 2275: 2970, 2276: 3016, 2277: 2970, 2278: 2978, 2279: 2970, 2280: 2983, 2281: 2981, 2282: 3053, 2283: 3013, 2284: 2986, 2285: 3014, 2286: 2972, 2287: 2983, 2288: 2925, 2289: 3015, 2290: 2943, 2291: 3017, 2292: 2987, 2293: 3019, 2294: 2947, 2295: 3027, 2296: 2969, 2297: 2943, 2298: 2978, 2299: 2932, 2300: 2970, 2301: 2968, 2302: 2942, 2303: 2915, 2304: 2943, 2305: 2957, 2306: 2920, 2307: 2943, 2308: 2923, 2309: 2943, 2310: 2924, 2311: 2943, 2312: 2970, 2313: 2927, 2314: 2898, 2315: 2898, 2316: 2901, 2317: 2898, 2318: 2915, 2319: 2920, 2320: 2898, 2321: 2875, 2322: 2892, 2323: 2884, 2324: 2878, 2325: 2919, 2326: 2872, 2327: 2875, 2328: 2892, 2329: 2866, 2330: 2919, 2331: 2942, 2332: 2883, 2333: 2888, 2334: 2883, 2335: 2897, 2336: 2893, 2337: 2872, 2338: 2855, 2339: 2865, 2340: 2880, 2341: 2875, 2342: 2872, 2343: 2818, 2344: 2883, 2345: 2820, 2346: 2912, 2347: 2829, 2348: 2803, 2349: 2848, 2350: 2813, 2351: 2848, 2352: 2872, 2353: 2818, 2354: 2879, 2355: 2803, 2356: 2872, 2357: 2845, 2358: 2803, 2359: 2818, 2360: 2814, 2361: 2818, 2362: 2838, 2363: 2818, 2364: 2803, 2365: 2803, 2366: 2755, 2367: 2805, 2368: 2848, 2369: 2804, 2370: 2795, 2371: 2785, 2372: 2850, 2373: 2803, 2374: 2861, 2375: 2803, 2376: 2819, 2377: 2755, 2378: 2803, 2379: 2800, 2380: 2810, 2381: 2816, 2382: 2779, 2383: 2740, 2384: 2747, 2385: 2803, 2386: 2796, 2387: 2803, 2388: 2808, 2389: 2755, 2390: 2742, 2391: 2755, 2392: 2781, 2393: 2740, 2394: 2822, 2395: 2758, 2396: 2762, 2397: 2701, 2398: 2747, 2399: 2747, 2400: 2753, 2401: 2664, 2402: 2664, 2403: 2631, 2404: 2740, 2405: 2742, 2406: 2740, 2407: 2738, 2408: 2645, 2409: 2725, 2410: 2725, 2411: 2647, 2412: 2652, 2413: 2725, 2414: 2638, 2415: 2626, 2416: 2745, 2417: 2662, 2418: 2656, 2419: 2623, 2420: 2593, 2421: 2605, 2422: 2641, 2423: 2626, 2424: 2634, 2425: 2634, 2426: 2632, 2427: 2623, 2428: 2670, 2429: 2574, 2430: 2622, 2431: 2628, 2432: 2567, 2433: 2641, 2434: 2626, 2435: 2610, 2436: 2609, 2437: 2575, 2438: 2651, 2439: 2595, 2440: 2613, 2441: 2628, 2442: 2571, 2443: 2621, 2444: 2645, 2445: 2603, 2446: 2540, 2447: 2596, 2448: 2628, 2449: 2570, 2450: 2610, 2451: 2611, 2452: 2505, 2453: 2628, 2454: 2557, 2455: 2605, 2456: 2527, 2457: 2546, 2458: 2518, 2459: 2575, 2460: 2567, 2461: 2527, 2462: 2522, 2463: 2510, 2464: 2525, 2465: 2526, 2466: 2511, 2467: 2541, 2468: 2510, 2469: 2592, 2470: 2505, 2471: 2505, 2472: 2480, 2473: 2584, 2474: 2567, 2475: 2508, 2476: 2538, 2477: 2517, 2478: 2482, 2479: 2497, 2480: 2547, 2481: 2481, 2482: 2478, 2483: 2508, 2484: 2506, 2485: 2501, 2486: 2522, 2487: 2481, 2488: 2494, 2489: 2484, 2490: 2516, 2491: 2484, 2492: 2478, 2493: 2495, 2494: 2501, 2495: 2548, 2496: 2481, 2497: 2517, 2498: 2433, 2499: 2478, 2500: 2453, 2501: 2446, 2502: 2457, 2503: 2458, 2504: 2454, 2505: 2411, 2506: 2438, 2507: 2458, 2508: 2531, 2509: 2448, 2510: 2398, 2511: 2411, 2512: 2481, 2513: 2493, 2514: 2414, 2515: 2391, 2516: 2456, 2517: 2481, 2518: 2419, 2519: 2457, 2520: 2438, 2521: 2431, 2522: 2404, 2523: 2461, 2524: 2431, 2525: 2385, 2526: 2367, 2527: 2398, 2528: 2438, 2529: 2421, 2530: 2366, 2531: 2366, 2532: 2391, 2533: 2389, 2534: 2390, 2535: 2397, 2536: 2393, 2537: 2426, 2538: 2392, 2539: 2392, 2540: 2367, 2541: 2382, 2542: 2366, 2543: 2389, 2544: 2366, 2545: 2350, 2546: 2369, 2547: 2393, 2548: 2376, 2549: 2366, 2550: 2381, 2551: 2379, 2552: 2398, 2553: 2373, 2554: 2373, 2555: 2367, 2556: 2367, 2557: 2357, 2558: 2341, 2559: 2375, 2560: 2355, 2561: 2355, 2562: 2337, 2563: 2342, 2564: 2352, 2565: 2366, 2566: 2366, 2567: 2366, 2568: 2333, 2569: 2319, 2570: 2350, 2571: 2319, 2572: 2319, 2573: 2319, 2574: 2319, 2575: 2297, 2576: 2336, 2577: 2263, 2578: 2327, 2579: 2252, 2580: 2357, 2581: 2375, 2582: 2350, 2583: 2302, 2584: 2325, 2585: 2327, 2586: 2297, 2587: 2319, 2588: 2334, 2589: 2315, 2590: 2280, 2591: 2287, 2592: 2296, 2593: 2297, 2594: 2270, 2595: 2237, 2596: 2267, 2597: 2302, 2598: 2257, 2599: 2252, 2600: 2252, 2601: 2275, 2602: 2238, 2603: 2248, 2604: 2270, 2605: 2237, 2606: 2242, 2607: 2257, 2608: 2255, 2609: 2252, 2610: 2224, 2611: 2227, 2612: 2224, 2613: 2210, 2614: 2252, 2615: 2248, 2616: 2225, 2617: 2240, 2618: 2215, 2619: 2227, 2620: 2225, 2621: 2238, 2622: 2262, 2623: 2224, 2624: 2238, 2625: 2238, 2626: 2231, 2627: 2258, 2628: 2226, 2629: 2179, 2630: 2166, 2631: 2177, 2632: 2235, 2633: 2182, 2634: 2213, 2635: 2210, 2636: 2227, 2637: 2233, 2638: 2166, 2639: 2206, 2640: 2210, 2641: 2188, 2642: 2194, 2643: 2195, 2644: 2188, 2645: 2226, 2646: 2235, 2647: 2208, 2648: 2206, 2649: 2151, 2650: 2179, 2651: 2154, 2652: 2176, 2653: 2168, 2654: 2166, 2655: 2153, 2656: 2179, 2657: 2174, 2658: 2207, 2659: 2199, 2660: 2179, 2661: 2179, 2662: 2165, 2663: 2174, 2664: 2145, 2665: 2169, 2666: 2188, 2667: 2215, 2668: 2166, 2669: 2181, 2670: 2145, 2671: 2175, 2672: 2138, 2673: 2183, 2674: 2164, 2675: 2152, 2676: 2171, 2677: 2152, 2678: 2149, 2679: 2138, 2680: 2147, 2681: 2169, 2682: 2143, 2683: 2103, 2684: 2166, 2685: 2138, 2686: 2133, 2687: 2166, 2688: 2143, 2689: 2097, 2690: 2117, 2691: 2102, 2692: 2091, 2693: 2138, 2694: 2136, 2695: 2116, 2696: 2066, 2697: 2076, 2698: 2082, 2699: 2078, 2700: 2089, 2701: 2148, 2702: 2066, 2703: 2063, 2704: 2109, 2705: 2084, 2706: 2032, 2707: 2060, 2708: 2084, 2709: 2063, 2710: 2032, 2711: 2096, 2712: 2052, 2713: 2013, 2714: 2039, 2715: 2063, 2716: 2060, 2717: 1996, 2718: 2059, 2719: 2047, 2720: 2041, 2721: 2049, 2722: 2050, 2723: 1997, 2724: 2032, 2725: 2051, 2726: 2047, 2727: 2009, 2728: 1997, 2729: 2032, 2730: 2023, 2731: 1993, 2732: 2017, 2733: 1958, 2734: 2077, 2735: 2013, 2736: 2040, 2737: 2008, 2738: 1979, 2739: 2041, 2740: 2013, 2741: 2029, 2742: 1990, 2743: 1968, 2744: 2010, 2745: 2002, 2746: 2013, 2747: 2008, 2748: 1920, 2749: 1976, 2750: 1919, 2751: 1950, 2752: 1995, 2753: 1949, 2754: 1967, 2755: 1907, 2756: 1935, 2757: 1994, 2758: 1949, 2759: 1931, 2760: 1935, 2761: 1975, 2762: 1951, 2763: 1931, 2764: 1883, 2765: 1907, 2766: 1940, 2767: 1902, 2768: 1899, 2769: 1939, 2770: 1938, 2771: 1907, 2772: 1940, 2773: 1966, 2774: 1913, 2775: 1953, 2776: 1945, 2777: 1876, 2778: 1907, 2779: 1926, 2780: 1914, 2781: 1901, 2782: 1878, 2783: 1899, 2784: 1917, 2785: 1880, 2786: 1877, 2787: 1858, 2788: 1843, 2789: 1879, 2790: 1910, 2791: 1861, 2792: 1856, 2793: 1923, 2794: 1916, 2795: 1864, 2796: 1858, 2797: 1855, 2798: 1877, 2799: 1854, 2800: 1878, 2801: 1858, 2802: 1836, 2803: 1890, 2804: 1820, 2805: 1922, 2806: 1858, 2807: 1818, 2808: 1846, 2809: 1869, 2810: 1820, 2811: 1807, 2812: 1807, 2813: 1818, 2814: 1857, 2815: 1844, 2816: 1857, 2817: 1818, 2818: 1846, 2819: 1810, 2820: 1804, 2821: 1801, 2822: 1842, 2823: 1820, 2824: 1800, 2825: 1818, 2826: 1818, 2827: 1786, 2828: 1820, 2829: 1773, 2830: 1809, 2831: 1773, 2832: 1773, 2833: 1818, 2834: 1804, 2835: 1813, 2836: 1809, 2837: 1773, 2838: 1807, 2839: 1804, 2840: 1770, 2841: 1807, 2842: 1795, 2843: 1773, 2844: 1778, 2845: 1782, 2846: 1773, 2847: 1789, 2848: 1817, 2849: 1801, 2850: 1770, 2851: 1766, 2852: 1757, 2853: 1773, 2854: 1804, 2855: 1782, 2856: 1795, 2857: 1786, 2858: 1745, 2859: 1757, 2860: 1744, 2861: 1782, 2862: 1782, 2863: 1744, 2864: 1799, 2865: 1770, 2866: 1742, 2867: 1731, 2868: 1779, 2869: 1744, 2870: 1744, 2871: 1760, 2872: 1757, 2873: 1737, 2874: 1742, 2875: 1741, 2876: 1784, 2877: 1804, 2878: 1773, 2879: 1774, 2880: 1744, 2881: 1758, 2882: 1731, 2883: 1750, 2884: 1714, 2885: 1740, 2886: 1701, 2887: 1745, 2888: 1701, 2889: 1699, 2890: 1706, 2891: 1712, 2892: 1714, 2893: 1725, 2894: 1712, 2895: 1714, 2896: 1730, 2897: 1708, 2898: 1719, 2899: 1724, 2900: 1719, 2901: 1723, 2902: 1714, 2903: 1701, 2904: 1686, 2905: 1761, 2906: 1714, 2907: 1699, 2908: 1703, 2909: 1700, 2910: 1692, 2911: 1686, 2912: 1693, 2913: 1700, 2914: 1701, 2915: 1706, 2916: 1702, 2917: 1727, 2918: 1706, 2919: 1701, 2920: 1716, 2921: 1686, 2922: 1712, 2923: 1702, 2924: 1663, 2925: 1686, 2926: 1687, 2927: 1693, 2928: 1671, 2929: 1679, 2930: 1701, 2931: 1697, 2932: 1688, 2933: 1654, 2934: 1669, 2935: 1714, 2936: 1679, 2937: 1686, 2938: 1686, 2939: 1677, 2940: 1678, 2941: 1686, 2942: 1623, 2943: 1655, 2944: 1667, 2945: 1655, 2946: 1622, 2947: 1631, 2948: 1663, 2949: 1619, 2950: 1659, 2951: 1651, 2952: 1678, 2953: 1669, 2954: 1654, 2955: 1660, 2956: 1638, 2957: 1623, 2958: 1670, 2959: 1642, 2960: 1623, 2961: 1619, 2962: 1654, 2963: 1639, 2964: 1663, 2965: 1596, 2966: 1617, 2967: 1618, 2968: 1617, 2969: 1579, 2970: 1578, 2971: 1584, 2972: 1592, 2973: 1567, 2974: 1596, 2975: 1556, 2976: 1596, 2977: 1603, 2978: 1597, 2979: 1596, 2980: 1556, 2981: 1546, 2982: 1561, 2983: 1556, 2984: 1624, 2985: 1530, 2986: 1568, 2987: 1546, 2988: 1556, 2989: 1559, 2990: 1529, 2991: 1546, 2992: 1547, 2993: 1553, 2994: 1541, 2995: 1534, 2996: 1589, 2997: 1541, 2998: 1543, 2999: 1545, 3000: 1519, 3001: 1553, 3002: 1548, 3003: 1553, 3004: 1587, 3005: 1516, 3006: 1530, 3007: 1519, 3008: 1531, 3009: 1528, 3010: 1540, 3011: 1481, 3012: 1515, 3013: 1513, 3014: 1573, 3015: 1541, 3016: 1522, 3017: 1566, 3018: 1518, 3019: 1488, 3020: 1530, 3021: 1510, 3022: 1541, 3023: 1498, 3024: 1519, 3025: 1519, 3026: 1530, 3027: 1522, 3028: 1528, 3029: 1541, 3030: 1544, 3031: 1493, 3032: 1519, 3033: 1541, 3034: 1516, 3035: 1513, 3036: 1513, 3037: 1524, 3038: 1493, 3039: 1487, 3040: 1496, 3041: 1466, 3042: 1487, 3043: 1484, 3044: 1461, 3045: 1511, 3046: 1454, 3047: 1522, 3048: 1487, 3049: 1510, 3050: 1470, 3051: 1465, 3052: 1490, 3053: 1483, 3054: 1508, 3055: 1494, 3056: 1486, 3057: 1455, 3058: 1484, 3059: 1459, 3060: 1502, 3061: 1455, 3062: 1480, 3063: 1430, 3064: 1442, 3065: 1430, 3066: 1454, 3067: 1434, 3068: 1460, 3069: 1425, 3070: 1437, 3071: 1427, 3072: 1453, 3073: 1451, 3074: 1430, 3075: 1453, 3076: 1443, 3077: 1423, 3078: 1463, 3079: 1454, 3080: 1468, 3081: 1442, 3082: 1446, 3083: 1460, 3084: 1430, 3085: 1426, 3086: 1439, 3087: 1425, 3088: 1404, 3089: 1429, 3090: 1428, 3091: 1425, 3092: 1378, 3093: 1449, 3094: 1438, 3095: 1425, 3096: 1425, 3097: 1426, 3098: 1401, 3099: 1423, 3100: 1426, 3101: 1406, 3102: 1402, 3103: 1436, 3104: 1425, 3105: 1402, 3106: 1402, 3107: 1437, 3108: 1379, 3109: 1411, 3110: 1409, 3111: 1390, 3112: 1424, 3113: 1374, 3114: 1404, 3115: 1402, 3116: 1401, 3117: 1375, 3118: 1429, 3119: 1430, 3120: 1388, 3121: 1370, 3122: 1351, 3123: 1397, 3124: 1365, 3125: 1348, 3126: 1408, 3127: 1377, 3128: 1378, 3129: 1347, 3130: 1353, 3131: 1385, 3132: 1363, 3133: 1361, 3134: 1367, 3135: 1365, 3136: 1335, 3137: 1377, 3138: 1392, 3139: 1403, 3140: 1365, 3141: 1343, 3142: 1349, 3143: 1331, 3144: 1356, 3145: 1331, 3146: 1344, 3147: 1372, 3148: 1342, 3149: 1331, 3150: 1322, 3151: 1322, 3152: 1342, 3153: 1355, 3154: 1364, 3155: 1351, 3156: 1354, 3157: 1359, 3158: 1331, 3159: 1327, 3160: 1334, 3161: 1349, 3162: 1301, 3163: 1290, 3164: 1330, 3165: 1356, 3166: 1269, 3167: 1322, 3168: 1290, 3169: 1316, 3170: 1301, 3171: 1242, 3172: 1324, 3173: 1335, 3174: 1290, 3175: 1290, 3176: 1290, 3177: 1300, 3178: 1310, 3179: 1294, 3180: 1253, 3181: 1246, 3182: 1301, 3183: 1242, 3184: 1290, 3185: 1323, 3186: 1270, 3187: 1308, 3188: 1246, 3189: 1257, 3190: 1295, 3191: 1279, 3192: 1301, 3193: 1319, 3194: 1257, 3195: 1235, 3196: 1273, 3197: 1246, 3198: 1252, 3199: 1257, 3200: 1264, 3201: 1266, 3202: 1231, 3203: 1245, 3204: 1265, 3205: 1253, 3206: 1250, 3207: 1241, 3208: 1250, 3209: 1227, 3210: 1212, 3211: 1227, 3212: 1246, 3213: 1242, 3214: 1250, 3215: 1250, 3216: 1212, 3217: 1277, 3218: 1240, 3219: 1253, 3220: 1246, 3221: 1224, 3222: 1233, 3223: 1217, 3224: 1228, 3225: 1267, 3226: 1250, 3227: 1223, 3228: 1212, 3229: 1232, 3230: 1231, 3231: 1233, 3232: 1240, 3233: 1187, 3234: 1220, 3235: 1194, 3236: 1256, 3237: 1175, 3238: 1173, 3239: 1170, 3240: 1170, 3241: 1170, 3242: 1171, 3243: 1160, 3244: 1212, 3245: 1152, 3246: 1159, 3247: 1178, 3248: 1181, 3249: 1153, 3250: 1182, 3251: 1209, 3252: 1134, 3253: 1178, 3254: 1143, 3255: 1186, 3256: 1145, 3257: 1168, 3258: 1153, 3259: 1163, 3260: 1147, 3261: 1156, 3262: 1163, 3263: 1134, 3264: 1162, 3265: 1131, 3266: 1171, 3267: 1168, 3268: 1134, 3269: 1141, 3270: 1162, 3271: 1145, 3272: 1136, 3273: 1139, 3274: 1131, 3275: 1150, 3276: 1163, 3277: 1175, 3278: 1128, 3279: 1134, 3280: 1154, 3281: 1132, 3282: 1116, 3283: 1110, 3284: 1110, 3285: 1156, 3286: 1106, 3287: 1152, 3288: 1137, 3289: 1131, 3290: 1128, 3291: 1146, 3292: 1148, 3293: 1121, 3294: 1132, 3295: 1129, 3296: 1132, 3297: 1162, 3298: 1139, 3299: 1128, 3300: 1108, 3301: 1121, 3302: 1093, 3303: 1117, 3304: 1110, 3305: 1097, 3306: 1093, 3307: 1131, 3308: 1091, 3309: 1073, 3310: 1099, 3311: 1101, 3312: 1115, 3313: 1115, 3314: 1093, 3315: 1092, 3316: 1117, 3317: 1068, 3318: 1068, 3319: 1131, 3320: 1106, 3321: 1104, 3322: 1079, 3323: 1067, 3324: 1072, 3325: 1076, 3326: 1079, 3327: 1092, 3328: 1091, 3329: 1107, 3330: 1073, 3331: 1045, 3332: 1099, 3333: 1067, 3334: 1040, 3335: 1072, 3336: 1046, 3337: 1064, 3338: 1043, 3339: 1052, 3340: 1088, 3341: 1078, 3342: 1038, 3343: 1075, 3344: 1034, 3345: 1067, 3346: 1069, 3347: 1046, 3348: 1045, 3349: 1038, 3350: 1045, 3351: 1040, 3352: 1073, 3353: 1037, 3354: 1031, 3355: 1037, 3356: 1037, 3357: 1045, 3358: 1025, 3359: 1027, 3360: 1031, 3361: 1032, 3362: 1015, 3363: 1007, 3364: 1000, 3365: 1016, 3366: 1001, 3367: 1041, 3368: 1023, 3369: 1027, 3370: 984, 3371: 984, 3372: 1000, 3373: 998, 3374: 1044, 3375: 1000, 3376: 999, 3377: 1008, 3378: 1006, 3379: 1000, 3380: 998, 3381: 1009, 3382: 1038, 3383: 999, 3384: 1033, 3385: 1027, 3386: 1013, 3387: 993, 3388: 994, 3389: 986, 3390: 963, 3391: 1017, 3392: 998, 3393: 971, 3394: 978, 3395: 985, 3396: 977, 3397: 986, 3398: 992, 3399: 971, 3400: 976, 3401: 953, 3402: 987, 3403: 988, 3404: 940, 3405: 976, 3406: 992, 3407: 980, 3408: 1004, 3409: 956, 3410: 1001, 3411: 937, 3412: 990, 3413: 971, 3414: 975, 3415: 963, 3416: 971, 3417: 972, 3418: 940, 3419: 930, 3420: 930, 3421: 951, 3422: 987, 3423: 943, 3424: 950, 3425: 948, 3426: 925, 3427: 922, 3428: 943, 3429: 922, 3430: 940, 3431: 919, 3432: 948, 3433: 933, 3434: 922, 3435: 951, 3436: 928, 3437: 922, 3438: 917, 3439: 916, 3440: 920, 3441: 918, 3442: 920, 3443: 918, 3444: 928, 3445: 919, 3446: 918, 3447: 948, 3448: 920, 3449: 918, 3450: 923, 3451: 918, 3452: 917, 3453: 919, 3454: 926, 3455: 925, 3456: 917, 3457: 917, 3458: 924, 3459: 929, 3460: 925, 3461: 916, 3462: 917, 3463: 937, 3464: 939, 3465: 895, 3466: 937, 3467: 896, 3468: 920, 3469: 907, 3470: 905, 3471: 895, 3472: 944, 3473: 903, 3474: 904, 3475: 903, 3476: 916, 3477: 927, 3478: 920, 3479: 898, 3480: 892, 3481: 905, 3482: 904, 3483: 916, 3484: 904, 3485: 898, 3486: 897, 3487: 905, 3488: 885, 3489: 903, 3490: 898, 3491: 907, 3492: 929, 3493: 905, 3494: 894, 3495: 898, 3496: 914, 3497: 901, 3498: 898, 3499: 895, 3500: 908, 3501: 894, 3502: 901, 3503: 902, 3504: 886, 3505: 898, 3506: 901, 3507: 885, 3508: 904, 3509: 883, 3510: 874, 3511: 890, 3512: 861, 3513: 864, 3514: 901, 3515: 892, 3516: 923, 3517: 877, 3518: 871, 3519: 918, 3520: 911, 3521: 868, 3522: 872, 3523: 903, 3524: 868, 3525: 876, 3526: 867, 3527: 901, 3528: 865, 3529: 869, 3530: 869, 3531: 866, 3532: 876, 3533: 869, 3534: 857, 3535: 855, 3536: 855, 3537: 849, 3538: 833, 3539: 866, 3540: 850, 3541: 861, 3542: 848, 3543: 857, 3544: 861, 3545: 879, 3546: 868, 3547: 881, 3548: 850, 3549: 841, 3550: 845, 3551: 833, 3552: 832, 3553: 848, 3554: 859, 3555: 852, 3556: 842, 3557: 865, 3558: 855, 3559: 848, 3560: 856, 3561: 854, 3562: 822, 3563: 835, 3564: 842, 3565: 818, 3566: 825, 3567: 853, 3568: 847, 3569: 874, 3570: 841, 3571: 818, 3572: 821, 3573: 843, 3574: 835, 3575: 845, 3576: 818, 3577: 830, 3578: 818, 3579: 820, 3580: 790, 3581: 840, 3582: 779, 3583: 843, 3584: 783, 3585: 779, 3586: 751, 3587: 767, 3588: 798, 3589: 751, 3590: 752, 3591: 782, 3592: 764, 3593: 751, 3594: 751, 3595: 784, 3596: 752, 3597: 751, 3598: 752, 3599: 751, 3600: 752, 3601: 773, 3602: 752, 3603: 783, 3604: 771, 3605: 781, 3606: 750, 3607: 740, 3608: 743, 3609: 767, 3610: 746, 3611: 742, 3612: 752, 3613: 740, 3614: 740, 3615: 743, 3616: 741, 3617: 751, 3618: 745, 3619: 735, 3620: 732, 3621: 746, 3622: 740, 3623: 738, 3624: 758, 3625: 732, 3626: 720, 3627: 720, 3628: 747, 3629: 731, 3630: 710, 3631: 731, 3632: 687, 3633: 704, 3634: 719, 3635: 717, 3636: 726, 3637: 698, 3638: 710, 3639: 691, 3640: 722, 3641: 731, 3642: 704, 3643: 688, 3644: 710, 3645: 696, 3646: 670, 3647: 715, 3648: 726, 3649: 666, 3650: 727, 3651: 689, 3652: 671, 3653: 673, 3654: 687, 3655: 703, 3656: 680, 3657: 690, 3658: 657, 3659: 678, 3660: 694, 3661: 718, 3662: 673, 3663: 659, 3664: 678, 3665: 652, 3666: 667, 3667: 659, 3668: 676, 3669: 670, 3670: 671, 3671: 694, 3672: 675, 3673: 675, 3674: 665, 3675: 666, 3676: 655, 3677: 686, 3678: 643, 3679: 681, 3680: 669, 3681: 673, 3682: 651, 3683: 646, 3684: 675, 3685: 647, 3686: 646, 3687: 643, 3688: 668, 3689: 685, 3690: 643, 3691: 650, 3692: 641, 3693: 634, 3694: 641, 3695: 643, 3696: 631, 3697: 647, 3698: 639, 3699: 651, 3700: 642, 3701: 631, 3702: 626, 3703: 641, 3704: 629, 3705: 634, 3706: 645, 3707: 624, 3708: 638, 3709: 637, 3710: 652, 3711: 655, 3712: 627, 3713: 627, 3714: 624, 3715: 638, 3716: 625, 3717: 628, 3718: 653, 3719: 643, 3720: 626, 3721: 620, 3722: 603, 3723: 603, 3724: 625, 3725: 600, 3726: 606, 3727: 621, 3728: 620, 3729: 617, 3730: 633, 3731: 606, 3732: 607, 3733: 605, 3734: 613, 3735: 592, 3736: 604, 3737: 591, 3738: 603, 3739: 629, 3740: 616, 3741: 602, 3742: 599, 3743: 591, 3744: 603, 3745: 634, 3746: 599, 3747: 579, 3748: 596, 3749: 592, 3750: 600, 3751: 584, 3752: 591, 3753: 580, 3754: 577, 3755: 592, 3756: 581, 3757: 606, 3758: 581, 3759: 567, 3760: 581, 3761: 579, 3762: 585, 3763: 588, 3764: 592, 3765: 605, 3766: 574, 3767: 577, 3768: 568, 3769: 594, 3770: 575, 3771: 572, 3772: 575, 3773: 579, 3774: 567, 3775: 567, 3776: 579, 3777: 576, 3778: 578, 3779: 564, 3780: 571, 3781: 572, 3782: 572, 3783: 564, 3784: 564, 3785: 547, 3786: 565, 3787: 548, 3788: 554, 3789: 568, 3790: 565, 3791: 574, 3792: 581, 3793: 540, 3794: 541, 3795: 571, 3796: 532, 3797: 571, 3798: 542, 3799: 559, 3800: 540, 3801: 521, 3802: 544, 3803: 534, 3804: 538, 3805: 536, 3806: 526, 3807: 547, 3808: 526, 3809: 535, 3810: 531, 3811: 530, 3812: 519, 3813: 546, 3814: 525, 3815: 542, 3816: 557, 3817: 534, 3818: 525, 3819: 545, 3820: 541, 3821: 541, 3822: 540, 3823: 523, 3824: 549, 3825: 497, 3826: 522, 3827: 496, 3828: 516, 3829: 510, 3830: 501, 3831: 517, 3832: 508, 3833: 510, 3834: 509, 3835: 530, 3836: 492, 3837: 526, 3838: 515, 3839: 501, 3840: 513, 3841: 525, 3842: 522, 3843: 496, 3844: 503, 3845: 508, 3846: 503, 3847: 508, 3848: 512, 3849: 491, 3850: 509, 3851: 517, 3852: 514, 3853: 492, 3854: 509, 3855: 517, 3856: 500, 3857: 522, 3858: 486, 3859: 528, 3860: 495, 3861: 501, 3862: 475, 3863: 504, 3864: 493, 3865: 479, 3866: 476, 3867: 498, 3868: 497, 3869: 493, 3870: 492, 3871: 479, 3872: 484, 3873: 476, 3874: 479, 3875: 480, 3876: 496, 3877: 496, 3878: 488, 3879: 479, 3880: 482, 3881: 480, 3882: 486, 3883: 488, 3884: 504, 3885: 496, 3886: 480, 3887: 484, 3888: 472, 3889: 474, 3890: 465, 3891: 490, 3892: 465, 3893: 466, 3894: 472, 3895: 483, 3896: 496, 3897: 474, 3898: 478, 3899: 459, 3900: 464, 3901: 474, 3902: 462, 3903: 473, 3904: 477, 3905: 472, 3906: 472, 3907: 491, 3908: 475, 3909: 485, 3910: 465, 3911: 456, 3912: 465, 3913: 480, 3914: 468, 3915: 474, 3916: 479, 3917: 450, 3918: 471, 3919: 465, 3920: 464, 3921: 475, 3922: 460, 3923: 451, 3924: 464, 3925: 456, 3926: 466, 3927: 453, 3928: 465, 3929: 447, 3930: 462, 3931: 464, 3932: 462, 3933: 478, 3934: 444, 3935: 459, 3936: 459, 3937: 466, 3938: 466, 3939: 431, 3940: 460, 3941: 454, 3942: 468, 3943: 454, 3944: 453, 3945: 453, 3946: 436, 3947: 437, 3948: 447, 3949: 431, 3950: 451, 3951: 437, 3952: 447, 3953: 442, 3954: 434, 3955: 428, 3956: 451, 3957: 467, 3958: 409, 3959: 445, 3960: 419, 3961: 425, 3962: 422, 3963: 410, 3964: 445, 3965: 438, 3966: 423, 3967: 423, 3968: 425, 3969: 422, 3970: 453, 3971: 423, 3972: 423, 3973: 425, 3974: 409, 3975: 462, 3976: 417, 3977: 437, 3978: 437, 3979: 428, 3980: 428, 3981: 426, 3982: 411, 3983: 424, 3984: 418, 3985: 420, 3986: 429, 3987: 402, 3988: 419, 3989: 398, 3990: 403, 3991: 395, 3992: 403, 3993: 398, 3994: 414, 3995: 402, 3996: 407, 3997: 409, 3998: 401, 3999: 377, 4000: 400, 4001: 349, 4002: 361, 4003: 359, 4004: 398, 4005: 410, 4006: 344, 4007: 398, 4008: 398, 4009: 398, 4010: 395, 4011: 412, 4012: 398, 4013: 394, 4014: 391, 4015: 403, 4016: 362, 4017: 370, 4018: 335, 4019: 336, 4020: 360, 4021: 364, 4022: 362, 4023: 346, 4024: 353, 4025: 370, 4026: 346, 4027: 346, 4028: 360, 4029: 352, 4030: 335, 4031: 365, 4032: 331, 4033: 331, 4034: 322, 4035: 330, 4036: 347, 4037: 333, 4038: 340, 4039: 339, 4040: 330, 4041: 330, 4042: 316, 4043: 331, 4044: 331, 4045: 331, 4046: 322, 4047: 331, 4048: 315, 4049: 334, 4050: 314, 4051: 302, 4052: 310, 4053: 334, 4054: 333, 4055: 329, 4056: 332, 4057: 297, 4058: 332, 4059: 306, 4060: 289, 4061: 316, 4062: 301, 4063: 322, 4064: 317, 4065: 307, 4066: 331, 4067: 323, 4068: 297, 4069: 298, 4070: 310, 4071: 307, 4072: 316, 4073: 302, 4074: 296, 4075: 306, 4076: 317, 4077: 315, 4078: 295, 4079: 298, 4080: 306, 4081: 296, 4082: 289, 4083: 306, 4084: 303, 4085: 302, 4086: 297, 4087: 310, 4088: 303, 4089: 311, 4090: 293, 4091: 284, 4092: 311, 4093: 316, 4094: 304, 4095: 273, 4096: 284, 4097: 303, 4098: 299, 4099: 298, 4100: 286, 4101: 294, 4102: 285, 4103: 289, 4104: 278, 4105: 298, 4106: 294, 4107: 302, 4108: 296, 4109: 278, 4110: 271, 4111: 281, 4112: 273, 4113: 275, 4114: 262, 4115: 285, 4116: 271, 4117: 276, 4118: 267, 4119: 267, 4120: 283, 4121: 274, 4122: 272, 4123: 275, 4124: 255, 4125: 267, 4126: 265, 4127: 260, 4128: 272, 4129: 259, 4130: 272, 4131: 271, 4132: 272, 4133: 269, 4134: 266, 4135: 260, 4136: 260, 4137: 273, 4138: 255, 4139: 266, 4140: 275, 4141: 255, 4142: 264, 4143: 277, 4144: 258, 4145: 272, 4146: 255, 4147: 260, 4148: 255, 4149: 250, 4150: 259, 4151: 255, 4152: 260, 4153: 256, 4154: 257, 4155: 266, 4156: 265, 4157: 256, 4158: 243, 4159: 243, 4160: 250, 4161: 242, 4162: 261, 4163: 256, 4164: 245, 4165: 248, 4166: 244, 4167: 252, 4168: 252, 4169: 255, 4170: 254, 4171: 233, 4172: 260, 4173: 248, 4174: 232, 4175: 249, 4176: 237, 4177: 235, 4178: 247, 4179: 238, 4180: 235, 4181: 242, 4182: 237, 4183: 236, 4184: 232, 4185: 244, 4186: 228, 4187: 223, 4188: 235, 4189: 232, 4190: 231, 4191: 226, 4192: 224, 4193: 225, 4194: 229, 4195: 226, 4196: 229, 4197: 224, 4198: 224, 4199: 234, 4200: 228, 4201: 233, 4202: 228, 4203: 227, 4204: 227, 4205: 224, 4206: 224, 4207: 229, 4208: 227, 4209: 221, 4210: 227, 4211: 224, 4212: 227, 4213: 224, 4214: 219, 4215: 228, 4216: 227, 4217: 214, 4218: 226, 4219: 232, 4220: 221, 4221: 218, 4222: 221, 4223: 234, 4224: 220, 4225: 221, 4226: 224, 4227: 221, 4228: 221, 4229: 214, 4230: 220, 4231: 219, 4232: 222, 4233: 220, 4234: 229, 4235: 221, 4236: 219, 4237: 219, 4238: 225, 4239: 233, 4240: 215, 4241: 214, 4242: 220, 4243: 214, 4244: 214, 4245: 219, 4246: 217, 4247: 219, 4248: 213, 4249: 217, 4250: 209, 4251: 196, 4252: 220, 4253: 201, 4254: 213, 4255: 203, 4256: 222, 4257: 214, 4258: 203, 4259: 214, 4260: 211, 4261: 213, 4262: 226, 4263: 199, 4264: 206, 4265: 211, 4266: 208, 4267: 196, 4268: 196, 4269: 199, 4270: 210, 4271: 204, 4272: 204, 4273: 201, 4274: 213, 4275: 203, 4276: 199, 4277: 213, 4278: 199, 4279: 194, 4280: 201, 4281: 196, 4282: 199, 4283: 201, 4284: 204, 4285: 193, 4286: 195, 4287: 223, 4288: 205, 4289: 190, 4290: 194, 4291: 182, 4292: 193, 4293: 181, 4294: 197, 4295: 190, 4296: 183, 4297: 183, 4298: 181, 4299: 180, 4300: 194, 4301: 194, 4302: 185, 4303: 192, 4304: 183, 4305: 181, 4306: 179, 4307: 180, 4308: 181, 4309: 178, 4310: 178, 4311: 186, 4312: 181, 4313: 201, 4314: 177, 4315: 189, 4316: 185, 4317: 180, 4318: 169, 4319: 181, 4320: 182, 4321: 180, 4322: 167, 4323: 180, 4324: 181, 4325: 180, 4326: 173, 4327: 166, 4328: 176, 4329: 178, 4330: 180, 4331: 157, 4332: 168, 4333: 158, 4334: 157, 4335: 167, 4336: 163, 4337: 182, 4338: 168, 4339: 166, 4340: 157, 4341: 167, 4342: 152, 4343: 161, 4344: 156, 4345: 157, 4346: 170, 4347: 167, 4348: 161, 4349: 170, 4350: 165, 4351: 163, 4352: 160, 4353: 152, 4354: 133, 4355: 162, 4356: 165, 4357: 134, 4358: 158, 4359: 166, 4360: 140, 4361: 125, 4362: 154, 4363: 157, 4364: 139, 4365: 157, 4366: 137, 4367: 132, 4368: 126, 4369: 134, 4370: 131, 4371: 128, 4372: 158, 4373: 128, 4374: 125, 4375: 129, 4376: 125, 4377: 125, 4378: 147, 4379: 118, 4380: 126, 4381: 134, 4382: 116, 4383: 117, 4384: 116, 4385: 132, 4386: 128, 4387: 130, 4388: 125, 4389: 133, 4390: 130, 4391: 122, 4392: 113, 4393: 119, 4394: 119, 4395: 113, 4396: 131, 4397: 118, 4398: 119, 4399: 116, 4400: 114, 4401: 113, 4402: 109, 4403: 115, 4404: 127, 4405: 125, 4406: 116, 4407: 115, 4408: 113, 4409: 107, 4410: 112, 4411: 122, 4412: 108, 4413: 107, 4414: 106, 4415: 109, 4416: 101, 4417: 106, 4418: 104, 4419: 109, 4420: 106, 4421: 107, 4422: 104, 4423: 94, 4424: 108, 4425: 110, 4426: 103, 4427: 106, 4428: 97, 4429: 107, 4430: 101, 4431: 94, 4432: 113, 4433: 112, 4434: 94, 4435: 103, 4436: 104, 4437: 95, 4438: 106, 4439: 104, 4440: 94, 4441: 93, 4442: 94, 4443: 93, 4444: 96, 4445: 97, 4446: 103, 4447: 106, 4448: 101, 4449: 103, 4450: 97, 4451: 97, 4452: 96, 4453: 100, 4454: 105, 4455: 97, 4456: 98, 4457: 97, 4458: 95, 4459: 99, 4460: 93, 4461: 95, 4462: 98, 4463: 93, 4464: 93, 4465: 97, 4466: 94, 4467: 100, 4468: 99, 4469: 94, 4470: 98, 4471: 92, 4472: 89, 4473: 97, 4474: 99, 4475: 88, 4476: 93, 4477: 97, 4478: 92, 4479: 93, 4480: 93, 4481: 93, 4482: 96, 4483: 93, 4484: 97, 4485: 95, 4486: 93, 4487: 89, 4488: 88, 4489: 89, 4490: 91, 4491: 84, 4492: 102, 4493: 89, 4494: 91, 4495: 95, 4496: 97, 4497: 93, 4498: 90, 4499: 88, 4500: 89, 4501: 83, 4502: 83, 4503: 83, 4504: 84, 4505: 83, 4506: 76, 4507: 88, 4508: 88, 4509: 82, 4510: 84, 4511: 76, 4512: 84, 4513: 88, 4514: 83, 4515: 75, 4516: 85, 4517: 76, 4518: 79, 4519: 82, 4520: 70, 4521: 71, 4522: 75, 4523: 69, 4524: 81, 4525: 70, 4526: 82, 4527: 73, 4528: 66, 4529: 66, 4530: 70, 4531: 76, 4532: 71, 4533: 69, 4534: 71, 4535: 75, 4536: 74, 4537: 70, 4538: 74, 4539: 77, 4540: 71, 4541: 63, 4542: 79, 4543: 83, 4544: 76, 4545: 75, 4546: 68, 4547: 65, 4548: 67, 4549: 64, 4550: 75, 4551: 69, 4552: 68, 4553: 69, 4554: 65, 4555: 65, 4556: 63, 4557: 63, 4558: 71, 4559: 64, 4560: 63, 4561: 63, 4562: 66, 4563: 64, 4564: 64, 4565: 62, 4566: 56, 4567: 61, 4568: 62, 4569: 64, 4570: 62, 4571: 57, 4572: 57, 4573: 67, 4574: 58, 4575: 67, 4576: 56, 4577: 63, 4578: 62, 4579: 64, 4580: 56, 4581: 66, 4582: 57, 4583: 61, 4584: 54, 4585: 59, 4586: 52, 4587: 54, 4588: 57, 4589: 57, 4590: 55, 4591: 54, 4592: 56, 4593: 53, 4594: 53, 4595: 54, 4596: 55, 4597: 51, 4598: 65, 4599: 56, 4600: 54, 4601: 53, 4602: 52, 4603: 53, 4604: 53, 4605: 55, 4606: 53, 4607: 54, 4608: 51, 4609: 52, 4610: 56, 4611: 52, 4612: 54, 4613: 53, 4614: 55, 4615: 52, 4616: 53, 4617: 50, 4618: 52, 4619: 52, 4620: 53, 4621: 53, 4622: 55, 4623: 52, 4624: 57, 4625: 55, 4626: 52, 4627: 52, 4628: 57, 4629: 54, 4630: 44, 4631: 50, 4632: 48, 4633: 50, 4634: 37, 4635: 60, 4636: 51, 4637: 51, 4638: 59, 4639: 49, 4640: 54, 4641: 51, 4642: 52, 4643: 48, 4644: 48, 4645: 52, 4646: 51, 4647: 43, 4648: 38, 4649: 51, 4650: 50, 4651: 56, 4652: 52, 4653: 49, 4654: 37, 4655: 40, 4656: 36, 4657: 38, 4658: 36, 4659: 48, 4660: 37, 4661: 49, 4662: 48, 4663: 51, 4664: 36, 4665: 47, 4666: 44, 4667: 37, 4668: 43, 4669: 36, 4670: 37, 4671: 38, 4672: 37, 4673: 38, 4674: 36, 4675: 36, 4676: 35, 4677: 39, 4678: 39, 4679: 37, 4680: 32, 4681: 34, 4682: 32, 4683: 31, 4684: 31, 4685: 41, 4686: 36, 4687: 32, 4688: 33, 4689: 34, 4690: 37, 4691: 34, 4692: 31, 4693: 32, 4694: 33, 4695: 35, 4696: 29, 4697: 31, 4698: 37, 4699: 36, 4700: 31, 4701: 26, 4702: 30, 4703: 27, 4704: 26, 4705: 26, 4706: 26, 4707: 34, 4708: 27, 4709: 26, 4710: 26, 4711: 27, 4712: 26, 4713: 31, 4714: 26, 4715: 26, 4716: 26, 4717: 28, 4718: 27, 4719: 26, 4720: 32, 4721: 25, 4722: 29, 4723: 25, 4724: 25, 4725: 27, 4726: 26, 4727: 26, 4728: 25, 4729: 25, 4730: 26, 4731: 28, 4732: 25, 4733: 23, 4734: 25, 4735: 25, 4736: 26, 4737: 24, 4738: 20, 4739: 33, 4740: 21, 4741: 24, 4742: 24, 4743: 25, 4744: 25, 4745: 29, 4746: 25, 4747: 26, 4748: 19, 4749: 24, 4750: 26, 4751: 18, 4752: 24, 4753: 24, 4754: 19, 4755: 24, 4756: 15, 4757: 24, 4758: 24, 4759: 19, 4760: 22, 4761: 15, 4762: 15, 4763: 15, 4764: 17, 4765: 16, 4766: 18, 4767: 19, 4768: 27, 4769: 15, 4770: 19, 4771: 21, 4772: 18, 4773: 18, 4774: 16, 4775: 18, 4776: 15, 4777: 18, 4778: 14, 4779: 20, 4780: 17, 4781: 19, 4782: 15, 4783: 15, 4784: 14, 4785: 16, 4786: 15, 4787: 14, 4788: 15, 4789: 14, 4790: 15, 4791: 15, 4792: 14, 4793: 15, 4794: 17, 4795: 15, 4796: 15, 4797: 16, 4798: 15, 4799: 15, 4800: 15, 4801: 14, 4802: 14, 4803: 15, 4804: 14, 4805: 14, 4806: 17, 4807: 15, 4808: 16, 4809: 20, 4810: 16, 4811: 16, 4812: 16, 4813: 15, 4814: 17, 4815: 17, 4816: 14, 4817: 15, 4818: 15, 4819: 13, 4820: 16, 4821: 15, 4822: 15, 4823: 15, 4824: 14, 4825: 14, 4826: 14, 4827: 16, 4828: 14, 4829: 17, 4830: 14, 4831: 12, 4832: 14, 4833: 17, 4834: 15, 4835: 15, 4836: 13, 4837: 15, 4838: 15, 4839: 15, 4840: 13, 4841: 14, 4842: 17, 4843: 10, 4844: 15, 4845: 12, 4846: 13, 4847: 15, 4848: 9, 4849: 14, 4850: 10, 4851: 13, 4852: 14, 4853: 13, 4854: 12, 4855: 10, 4856: 14, 4857: 10, 4858: 15, 4859: 17, 4860: 11, 4861: 11, 4862: 11, 4863: 11, 4864: 13, 4865: 9, 4866: 9, 4867: 12, 4868: 9, 4869: 10, 4870: 10, 4871: 9, 4872: 12, 4873: 9, 4874: 10, 4875: 9, 4876: 9, 4877: 10, 4878: 10, 4879: 10, 4880: 11, 4881: 10, 4882: 10, 4883: 10, 4884: 14, 4885: 10, 4886: 12, 4887: 13, 4888: 8, 4889: 7, 4890: 12, 4891: 10, 4892: 8, 4893: 10, 4894: 9, 4895: 13, 4896: 11, 4897: 9, 4898: 8, 4899: 13, 4900: 7, 4901: 9, 4902: 10, 4903: 6, 4904: 10, 4905: 10, 4906: 8, 4907: 8, 4908: 8, 4909: 9, 4910: 7, 4911: 7, 4912: 11, 4913: 8, 4914: 9, 4915: 10, 4916: 8, 4917: 9, 4918: 9, 4919: 6, 4920: 8, 4921: 8, 4922: 8, 4923: 10, 4924: 8, 4925: 7, 4926: 9, 4927: 7, 4928: 7, 4929: 9, 4930: 9, 4931: 7, 4932: 7, 4933: 9, 4934: 8, 4935: 7, 4936: 11, 4937: 7, 4938: 8, 4939: 6, 4940: 8, 4941: 6, 4942: 6, 4943: 6, 4944: 7, 4945: 6, 4946: 10, 4947: 7, 4948: 6, 4949: 6, 4950: 6, 4951: 6, 4952: 7, 4953: 5, 4954: 5, 4955: 7, 4956: 7, 4957: 6, 4958: 7, 4959: 7, 4960: 7, 4961: 5, 4962: 7, 4963: 5, 4964: 5, 4965: 6, 4966: 4, 4967: 9, 4968: 7, 4969: 6, 4970: 5, 4971: 5, 4972: 6, 4973: 5, 4974: 6, 4975: 3, 4976: 5, 4977: 5, 4978: 6, 4979: 3, 4980: 6, 4981: 4, 4982: 4, 4983: 8, 4984: 5, 4985: 6, 4986: 6, 4987: 6, 4988: 8, 4989: 6, 4990: 5, 4991: 5, 4992: 6, 4993: 3, 4994: 5, 4995: 6, 4996: 6, 4997: 5, 4998: 4, 4999: 6, 5000: 5, 5001: 3, 5002: 5, 5003: 5, 5004: 5, 5005: 4, 5006: 5, 5007: 6, 5008: 5, 5009: 3, 5010: 3, 5011: 3, 5012: 6, 5013: 3, 5014: 3, 5015: 3, 5016: 6, 5017: 4, 5018: 6, 5019: 3, 5020: 4, 5021: 3, 5022: 5, 5023: 4, 5024: 3, 5025: 4, 5026: 4, 5027: 3, 5028: 4, 5029: 5, 5030: 4, 5031: 4, 5032: 4, 5033: 3, 5034: 2, 5035: 3, 5036: 4, 5037: 5, 5038: 4, 5039: 4, 5040: 3, 5041: 3, 5042: 3, 5043: 3, 5044: 4, 5045: 3, 5046: 3, 5047: 3, 5048: 4, 5049: 2, 5050: 4, 5051: 4, 5052: 4, 5053: 4, 5054: 3, 5055: 4, 5056: 4, 5057: 3, 5058: 3, 5059: 3, 5060: 3, 5061: 3, 5062: 3, 5063: 3, 5064: 2, 5065: 3, 5066: 3, 5067: 4, 5068: 3, 5069: 4, 5070: 3, 5071: 3, 5072: 3, 5073: 4, 5074: 3, 5075: 3, 5076: 3, 5077: 2, 5078: 3, 5079: 2, 5080: 2, 5081: 3, 5082: 3, 5083: 4, 5084: 6, 5085: 3, 5086: 4, 5087: 3, 5088: 4, 5089: 2, 5090: 3, 5091: 4, 5092: 4, 5093: 3, 5094: 4, 5095: 3, 5096: 4, 5097: 4, 5098: 3, 5099: 3, 5100: 3, 5101: 3, 5102: 3, 5103: 4, 5104: 3, 5105: 3, 5106: 3, 5107: 3, 5108: 2, 5109: 3, 5110: 4, 5111: 3, 5112: 2, 5113: 3, 5114: 3, 5115: 2, 5116: 2, 5117: 4, 5118: 2, 5119: 3, 5120: 3, 5121: 3, 5122: 3, 5123: 3, 5124: 3, 5125: 2, 5126: 2, 5127: 2, 5128: 3, 5129: 3, 5130: 3, 5131: 2, 5132: 3, 5133: 2, 5134: 3, 5135: 3, 5136: 1, 5137: 3, 5138: 3, 5139: 3, 5140: 3, 5141: 3, 5142: 3, 5143: 2, 5144: 2, 5145: 4, 5146: 2, 5147: 3, 5148: 2, 5149: 2, 5150: 2, 5151: 3, 5152: 3, 5153: 3, 5154: 3, 5155: 3, 5156: 3, 5157: 2, 5158: 3, 5159: 2, 5160: 2, 5161: 2, 5162: 2, 5163: 2, 5164: 3, 5165: 3, 5166: 1, 5167: 2, 5168: 3, 5169: 2, 5170: 3, 5171: 2, 5172: 3, 5173: 3, 5174: 3, 5175: 1, 5176: 2, 5177: 2, 5178: 1, 5179: 2, 5180: 3, 5181: 2, 5182: 1, 5183: 1, 5184: 2, 5185: 3, 5186: 0}\n"
     ]
    }
   ],
   "source": [
    "print(fitnesses)"
   ]
  },
  {
   "cell_type": "code",
   "execution_count": 96,
   "metadata": {
    "executionInfo": {
     "elapsed": 19,
     "status": "ok",
     "timestamp": 1639937917311,
     "user": {
      "displayName": "Ikram Inf",
      "photoUrl": "https://lh3.googleusercontent.com/a-/AOh14Gj6pKU84qBPjl2btIGgEanDIWoTGOpazGJjyY8MWA=s64",
      "userId": "11802072329520947006"
     },
     "user_tz": -360
    },
    "id": "XgtYiIY4pRKT"
   },
   "outputs": [],
   "source": [
    "from matplotlib import pyplot as plt"
   ]
  },
  {
   "cell_type": "code",
   "execution_count": 97,
   "metadata": {
    "colab": {
     "base_uri": "https://localhost:8080/"
    },
    "executionInfo": {
     "elapsed": 20,
     "status": "ok",
     "timestamp": 1639937917312,
     "user": {
      "displayName": "Ikram Inf",
      "photoUrl": "https://lh3.googleusercontent.com/a-/AOh14Gj6pKU84qBPjl2btIGgEanDIWoTGOpazGJjyY8MWA=s64",
      "userId": "11802072329520947006"
     },
     "user_tz": -360
    },
    "id": "UKh3GDCJuo-k",
    "outputId": "f98fe4a6-b381-4457-c72b-cfa70553cf0a"
   },
   "outputs": [
    {
     "name": "stdout",
     "output_type": "stream",
     "text": [
      "(2, 48823) (5186, 0) (2123, 3282.452757423833)\n"
     ]
    }
   ],
   "source": [
    "maximum = max(fitnesses.items(), key=lambda x:x[1])\n",
    "minimum = min(fitnesses.items(), key=lambda x:x[1])\n",
    "mean = sum(fitnesses.values()) / len(fitnesses)\n",
    "d = {k : abs(v-mean) for k, v in fitnesses.items()}\n",
    "mean_key = min(d, key=d.get)\n",
    "\n",
    "print(maximum, minimum, (mean_key, mean))"
   ]
  },
  {
   "cell_type": "code",
   "execution_count": 98,
   "metadata": {
    "colab": {
     "base_uri": "https://localhost:8080/",
     "height": 530
    },
    "executionInfo": {
     "elapsed": 842,
     "status": "ok",
     "timestamp": 1639937918146,
     "user": {
      "displayName": "Ikram Inf",
      "photoUrl": "https://lh3.googleusercontent.com/a-/AOh14Gj6pKU84qBPjl2btIGgEanDIWoTGOpazGJjyY8MWA=s64",
      "userId": "11802072329520947006"
     },
     "user_tz": -360
    },
    "id": "0LDfGXI2pRNt",
    "outputId": "a258c51d-d300-4a70-e13e-f12535722372"
   },
   "outputs": [
    {
     "data": {
      "text/plain": [
       "Text(0.5, 1.0, 'Fitness Vs Iterations')"
      ]
     },
     "execution_count": 98,
     "metadata": {},
     "output_type": "execute_result"
    },
    {
     "data": {
      "image/png": "[encoded data removed]",
      "text/plain": [
       "<Figure size 864x576 with 1 Axes>"
      ]
     },
     "metadata": {
      "needs_background": "light"
     },
     "output_type": "display_data"
    }
   ],
   "source": [
    "plt.figure(figsize=(12,8))\n",
    "plt.plot(list(fitnesses.keys()), list(fitnesses.values()), color='black')\n",
    "plt.scatter(maximum[0], maximum[1], color='red', linewidths=10)\n",
    "plt.text(maximum[0], maximum[1], \"Maximum\", fontsize='x-large')\n",
    "plt.scatter(minimum[0], minimum[1], color='green', linewidths=10)\n",
    "plt.text(minimum[0], minimum[1], \"Minimum\", fontsize='x-large')\n",
    "plt.scatter(mean_key, mean, color='blue', linewidths=10)\n",
    "plt.text(mean_key, mean, \"Mean\", fontsize='x-large')\n",
    "plt.xlabel(\"Iterations\")\n",
    "plt.ylabel(\"Fitness score\")\n",
    "plt.title(\"Fitness Vs Iterations\")\n"
   ]
  },
  {
   "cell_type": "code",
   "execution_count": 98,
   "metadata": {
    "executionInfo": {
     "elapsed": 12,
     "status": "ok",
     "timestamp": 1639937918147,
     "user": {
      "displayName": "Ikram Inf",
      "photoUrl": "https://lh3.googleusercontent.com/a-/AOh14Gj6pKU84qBPjl2btIGgEanDIWoTGOpazGJjyY8MWA=s64",
      "userId": "11802072329520947006"
     },
     "user_tz": -360
    },
    "id": "0dIj9UGCZ-sL"
   },
   "outputs": [],
   "source": []
  }
 ],
 "metadata": {
  "colab": {
   "authorship_tag": "ABX9TyMXPBSA3ECQXLVF8/B/eaN7",
   "collapsed_sections": [],
   "name": "PythonHomework.ipynb",
   "provenance": []
  },
  "kernelspec": {
   "display_name": "Python 3 (ipykernel)",
   "language": "python",
   "name": "python3"
  },
  "language_info": {
   "codemirror_mode": {
    "name": "ipython",
    "version": 3
   },
   "file_extension": ".py",
   "mimetype": "text/x-python",
   "name": "python",
   "nbconvert_exporter": "python",
   "pygments_lexer": "ipython3",
   "version": "3.12.7"
  }
 },
 "nbformat": 4,
 "nbformat_minor": 4
}
