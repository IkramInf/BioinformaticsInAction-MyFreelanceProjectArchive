{
 "cells": [
  {
   "cell_type": "markdown",
   "metadata": {},
   "source": [
    "# Please for each question, provide:\n",
    "- a callable function that returns the requested result\n",
    "- a second function that tests the behaviour of the first function (that answers the question), by running the first function on a simple testcase, and using an assertion or raising an error if the test fails. "
   ]
  },
  {
   "cell_type": "markdown",
   "metadata": {},
   "source": [
    "# Question regarding center of mass in a volume\n",
    "\n",
    "\n",
    "Write a function to find the center of mass of the provided 3d volume.\n",
    "\n",
    "The code bellow loads volume, and displays its projections,\n",
    "Use a scipy's center of mass function (or a function of your own!) to find the center of mass of the provided volume."
   ]
  },
  {
   "cell_type": "code",
   "execution_count": 1,
   "metadata": {},
   "outputs": [
    {
     "data": {
      "image/png": "[encoded data removed]",
      "text/plain": [
       "<Figure size 432x288 with 2 Axes>"
      ]
     },
     "metadata": {
      "needs_background": "light"
     },
     "output_type": "display_data"
    }
   ],
   "source": [
    "import numpy as np\n",
    "import matplotlib.pyplot as plt\n",
    "\n",
    "def load_volume_data(\n",
    "    filename: str = \"1CS4.npz\",\n",
    "    arrayname: str = \"map_1CS4\"):\n",
    "    # load the 3d volume as a numpy array\n",
    "    volume = np.load(filename)[arrayname]\n",
    "    return volume\n",
    "\n",
    "def plot_volume_projection(\n",
    "    volume: np.array):\n",
    "    fig, axes = plt.subplots(1,2)\n",
    "    # display the center slice of the volume\n",
    "    axes[0].imshow(volume[15])\n",
    "    # display the x-axis projection of the volume\n",
    "    axes[1].imshow(volume.sum(axis=0))\n",
    "    plt.show()\n",
    "\n",
    "volume = load_volume_data()\n",
    "plot_volume_projection(volume)\n",
    "\n",
    "#testcase hint (what does centre of mass return if provided with an array containing only zeros, and a one at a specific index?)"
   ]
  },
  {
   "cell_type": "code",
   "execution_count": 2,
   "metadata": {},
   "outputs": [],
   "source": [
    "# import center_of_mass function from scipy\n",
    "from scipy.ndimage.measurements import center_of_mass\n",
    "\n",
    "# calculate center of mass for nD volume\n",
    "def centerofmass(volume):\n",
    "    cm = center_of_mass(volume)\n",
    "    return cm"
   ]
  },
  {
   "cell_type": "code",
   "execution_count": 3,
   "metadata": {},
   "outputs": [],
   "source": [
    "# test the function\n",
    "def test_centerofmass():\n",
    "    arr = np.array(([0,0,0,0], [0,1,1,0], [0,1,1,0], [0,1,1,0]))\n",
    "    assert center_of_mass(arr) == (2.0, 1.5), \"Wrong output!!!\"\n",
    "    \n",
    "test_centerofmass()"
   ]
  },
  {
   "cell_type": "code",
   "execution_count": null,
   "metadata": {},
   "outputs": [],
   "source": []
  },
  {
   "cell_type": "markdown",
   "metadata": {},
   "source": [
    "# Question regarding finding motifs, distribution\n",
    "\n",
    "You are provided with a list of motifs, and a clustal file containing aligned protein sequences.\n",
    "\n",
    "Write a function that, using a pandas dataframe (or a formatted data structure, e.g. a dict of dicts), store the number of times each motif appear in a given sequence, and return that dataframe.\n",
    "\n",
    "**Only write a test for this function, not the next one**\n",
    "\n",
    "Write a separate function that computes the average number of occurrences of the motif in the provided file."
   ]
  },
  {
   "cell_type": "code",
   "execution_count": 4,
   "metadata": {},
   "outputs": [],
   "source": [
    "motifs = [\"LL\", \"EE\", \"W\"]\n",
    "aligned_filename = \"hAPP.clustal\""
   ]
  },
  {
   "cell_type": "code",
   "execution_count": 5,
   "metadata": {},
   "outputs": [
    {
     "data": {
      "text/html": [
       "<div>\n",
       "<style scoped>\n",
       "    .dataframe tbody tr th:only-of-type {\n",
       "        vertical-align: middle;\n",
       "    }\n",
       "\n",
       "    .dataframe tbody tr th {\n",
       "        vertical-align: top;\n",
       "    }\n",
       "\n",
       "    .dataframe thead th {\n",
       "        text-align: right;\n",
       "    }\n",
       "</style>\n",
       "<table border=\"1\" class=\"dataframe\">\n",
       "  <thead>\n",
       "    <tr style=\"text-align: right;\">\n",
       "      <th></th>\n",
       "      <th>LL</th>\n",
       "      <th>EE</th>\n",
       "      <th>W</th>\n",
       "    </tr>\n",
       "  </thead>\n",
       "  <tbody>\n",
       "    <tr>\n",
       "      <th>--MLPGLALLLLAAWTARALEVPTDGNAGLLAEPQIAMFCGRLNMHMNVQNGKWDSDPSG</th>\n",
       "      <td>36</td>\n",
       "      <td>0</td>\n",
       "      <td>18</td>\n",
       "    </tr>\n",
       "    <tr>\n",
       "      <th>--MLPGLALLLLAAWTARAL----------------------------------------</th>\n",
       "      <td>0</td>\n",
       "      <td>0</td>\n",
       "      <td>0</td>\n",
       "    </tr>\n",
       "    <tr>\n",
       "      <th>MDQLEDLLVL-------FINYVPTDGNAGLLAEPQIAMFCGRLNMHMNVQNGKWDSDPSG</th>\n",
       "      <td>0</td>\n",
       "      <td>0</td>\n",
       "      <td>0</td>\n",
       "    </tr>\n",
       "    <tr>\n",
       "      <th>TKTCIDTKEGILQYCQEVYPELQITNVVEANQPVTIQNWCKRGRKQCKTHPHFVIPYRCL</th>\n",
       "      <td>0</td>\n",
       "      <td>0</td>\n",
       "      <td>10</td>\n",
       "    </tr>\n",
       "    <tr>\n",
       "      <th>----------------EVYPELQITNVVEANQPVTIQNWCKRGRKQCKTHPHFVIPYRCL</th>\n",
       "      <td>0</td>\n",
       "      <td>0</td>\n",
       "      <td>0</td>\n",
       "    </tr>\n",
       "  </tbody>\n",
       "</table>\n",
       "</div>"
      ],
      "text/plain": [
       "                                                    LL  EE   W\n",
       "--MLPGLALLLLAAWTARALEVPTDGNAGLLAEPQIAMFCGRLNMHM...  36   0  18\n",
       "--MLPGLALLLLAAWTARAL---------------------------...   0   0   0\n",
       "MDQLEDLLVL-------FINYVPTDGNAGLLAEPQIAMFCGRLNMHM...   0   0   0\n",
       "TKTCIDTKEGILQYCQEVYPELQITNVVEANQPVTIQNWCKRGRKQC...   0   0  10\n",
       "----------------EVYPELQITNVVEANQPVTIQNWCKRGRKQC...   0   0   0"
      ]
     },
     "execution_count": 5,
     "metadata": {},
     "output_type": "execute_result"
    }
   ],
   "source": [
    "import pandas as pd\n",
    "from collections import defaultdict\n",
    "\n",
    "# generate list of kmers from a given sequence\n",
    "def kmer(seq, k):\n",
    "    return [seq[i:i+k] for i in range(len(seq)-k+1)]\n",
    "\n",
    "# count motif in each aligned protein sequence\n",
    "def count_motifs(aligned_filename, motifs):\n",
    "    with open(aligned_filename, \"r\") as f:\n",
    "        # declare dict of dicts object\n",
    "        counts = defaultdict(dict)\n",
    "        # iterate over each line\n",
    "        for line in f:\n",
    "            # don't consider the first line and the empty lines\n",
    "            if line.strip() and (\"CLUSTAL\" not in line.strip().upper()):\n",
    "                # extract seq from line\n",
    "                seq = line.strip().split()[1]\n",
    "                # iterate over each motif\n",
    "                for motif in motifs:\n",
    "                    k = len(motif)\n",
    "                    # generate kmers for seq\n",
    "                    kmers = kmer(seq, k)\n",
    "                    # count motifs\n",
    "                    try:\n",
    "                        counts[seq][motif] += kmers.count(motif)\n",
    "                    except KeyError:\n",
    "                        counts[seq][motif] = 0\n",
    "    # return motif counts as pandas dataframe\n",
    "    return pd.DataFrame(counts).T\n",
    "\n",
    "# call the function and view results\n",
    "df = count_motifs(aligned_filename, motifs)\n",
    "df.head()"
   ]
  },
  {
   "cell_type": "code",
   "execution_count": 6,
   "metadata": {},
   "outputs": [],
   "source": [
    "#Hint for the testcase: look at a slice of the first few characters in the sequence\n",
    "def test_count_motifs(aligned_filename, motifs):\n",
    "    df = count_motifs(aligned_filename, motifs)\n",
    "    assert df.index[0] == \"--MLPGLALLLLAAWTARALEVPTDGNAGLLAEPQIAMFCGRLNMHMNVQNGKWDSDPSG\", \"Wrong answer!!!\"\n",
    "    \n",
    "test_count_motifs(aligned_filename, motifs)"
   ]
  },
  {
   "cell_type": "code",
   "execution_count": null,
   "metadata": {},
   "outputs": [],
   "source": []
  },
  {
   "cell_type": "markdown",
   "metadata": {},
   "source": [
    "# Question regarding database and pandas\n",
    "\n",
    "You are provided with a SQLite database, `emdb.db`, containing a table `entries` with the emdb id, title, and date of deposition of various EMDB entries.\n",
    "\n",
    "Write a function that takes the database and a search term as an input and:\n",
    "- select the data from the database\n",
    "- discard the entries whose title do not match the search term\n",
    "- create and return a dataframe (or a formatted data structure, e.g. a list of lists) with the content from the database, sorted by descending order of deposition (newest first, oldest last)"
   ]
  },
  {
   "cell_type": "code",
   "execution_count": 7,
   "metadata": {},
   "outputs": [],
   "source": [
    "# The code below is a reference for the construction of the emdb databse\n",
    "\n",
    "import sqlite3\n",
    "import requests\n",
    "\n",
    "con = sqlite3.connect(\"emdb.db\")\n",
    "cur = con.cursor()\n",
    "cur.execute(\"CREATE TABLE IF NOT EXISTS entries(id, title, date)\")\n",
    "res = cur.execute(\"SELECT name FROM sqlite_master\")\n",
    "res.fetchone()\n",
    "\n",
    "emdb_api = \"https://www.ebi.ac.uk/emdb/api\"\n",
    "search_term = \"virus\"\n",
    "search_request = f\"{emdb_api}/search/{search_term}\"\n",
    "\n",
    "r = requests.get(search_request)\n",
    "entries_json = r.json()\n",
    "\n",
    "data = [(e['emdb_id'], e['admin']['title'], e['admin']['key_dates']['deposition']) for e in entries_json]\n",
    "cur.executemany(\"INSERT INTO entries VALUES(?, ?, ?)\", data)\n",
    "con.commit()"
   ]
  },
  {
   "cell_type": "code",
   "execution_count": 8,
   "metadata": {},
   "outputs": [],
   "source": [
    "database_name = \"emdb.db\"\n",
    "# example search term, should work for any search term!\n",
    "search_term = \"Life\"\n",
    "\n",
    "def get_info(database_name, search_term):\n",
    "    con = sqlite3.connect(database_name)\n",
    "    cur = con.cursor()\n",
    "    cur.execute(\"CREATE TABLE IF NOT EXISTS entries(id, title, date)\")\n",
    "    res = cur.execute(\"SELECT name FROM sqlite_master\")\n",
    "    res.fetchone()\n",
    "\n",
    "    emdb_api = \"https://www.ebi.ac.uk/emdb/api\"\n",
    "    search_request = f\"{emdb_api}/search/{search_term}\"\n",
    "\n",
    "    r = requests.get(search_request)\n",
    "    entries_json = r.json()\n",
    "\n",
    "    data = [(e['emdb_id'], e['admin']['title'], e['admin']['key_dates']['deposition']) for e in entries_json]\n",
    "    cur.executemany(\"INSERT INTO entries VALUES(?, ?, ?)\", data)\n",
    "    con.commit()\n",
    "    # sort the data in descending order according to deposition\n",
    "    data = sorted(data, key=lambda x:x[2], reverse=True)\n",
    "    return data"
   ]
  },
  {
   "cell_type": "code",
   "execution_count": 9,
   "metadata": {},
   "outputs": [],
   "source": [
    "#testcasehint: How many entries would you expect to get for the search term \"ZZZZXYZ\"? for \"\" ?\n",
    "def test_get_info():\n",
    "    assert len(get_info(\"emdb.db\", \"ZZZZXYZ\"))==0, \"Wtong output!!!\"\n",
    "    \n",
    "test_get_info()"
   ]
  },
  {
   "cell_type": "code",
   "execution_count": null,
   "metadata": {},
   "outputs": [],
   "source": []
  }
 ],
 "metadata": {
  "kernelspec": {
   "display_name": "Python 3 (ipykernel)",
   "language": "python",
   "name": "python3"
  },
  "language_info": {
   "codemirror_mode": {
    "name": "ipython",
    "version": 3
   },
   "file_extension": ".py",
   "mimetype": "text/x-python",
   "name": "python",
   "nbconvert_exporter": "python",
   "pygments_lexer": "ipython3",
   "version": "3.12.2"
  }
 },
 "nbformat": 4,
 "nbformat_minor": 4
}
